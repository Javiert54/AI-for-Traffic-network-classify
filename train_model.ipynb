{
 "cells": [
  {
   "cell_type": "markdown",
   "metadata": {},
   "source": [
    "## Importación de librerías"
   ]
  },
  {
   "cell_type": "code",
   "execution_count": 1,
   "metadata": {},
   "outputs": [],
   "source": [
    "import pandas as pd\n",
    "import json\n",
    "import numpy as np\n",
    "from sklearn.model_selection import train_test_split\n",
    "import torch\n",
    "import torch.nn as nn\n",
    "from sklearn.preprocessing import StandardScaler\n",
    "import matplotlib.pyplot as plt\n",
    "from sklearn.metrics import confusion_matrix\n",
    "import seaborn as sns\n",
    "from torch.utils.data import TensorDataset, DataLoader"
   ]
  },
  {
   "cell_type": "markdown",
   "metadata": {},
   "source": [
    "## Configuración de variables globales"
   ]
  },
  {
   "cell_type": "code",
   "execution_count": 2,
   "metadata": {},
   "outputs": [],
   "source": [
    "with open('setup.json', 'r') as f:\n",
    "    SETUP_JSON = json.load(f)\n",
    "OUTPUT_PARQUET = SETUP_JSON['dataset_parquet']\n",
    "LEARNING_RATE = SETUP_JSON['learning_rate']\n",
    "EPOCHS = SETUP_JSON['epochs']"
   ]
  },
  {
   "cell_type": "markdown",
   "metadata": {},
   "source": [
    "## Cargar el dataset"
   ]
  },
  {
   "cell_type": "code",
   "execution_count": 3,
   "metadata": {},
   "outputs": [
    {
     "data": {
      "text/plain": [
       "(8247888, 81)"
      ]
     },
     "execution_count": 3,
     "metadata": {},
     "output_type": "execute_result"
    }
   ],
   "source": [
    "df = pd.read_parquet(OUTPUT_PARQUET) # Leer dataset limpio\n",
    "df.shape"
   ]
  },
  {
   "cell_type": "code",
   "execution_count": 4,
   "metadata": {},
   "outputs": [
    {
     "data": {
      "text/plain": [
       "{0: 'Benign',\n",
       " 1: 'FTP-BruteForce',\n",
       " 2: 'SSH-Bruteforce',\n",
       " 3: 'DoS attacks-GoldenEye',\n",
       " 4: 'DoS attacks-Slowloris',\n",
       " 5: 'DoS attacks-SlowHTTPTest',\n",
       " 6: 'DoS attacks-Hulk',\n",
       " 7: 'DDOS attack-LOIC-UDP',\n",
       " 8: 'DDOS attack-HOIC',\n",
       " 9: 'Brute Force -Web',\n",
       " 10: 'Brute Force -XSS',\n",
       " 11: 'SQL Injection',\n",
       " 12: 'Infilteration',\n",
       " 13: 'Bot'}"
      ]
     },
     "execution_count": 4,
     "metadata": {},
     "output_type": "execute_result"
    }
   ],
   "source": [
    "# Mapeo de etiquetas\n",
    "labels = df['Label'].unique()\n",
    "labels_codes = df['Label Code'].unique()\n",
    "label_mapping = {int(label_code): label for label_code, label in zip(labels_codes, labels)}\n",
    "label_mapping"
   ]
  },
  {
   "cell_type": "markdown",
   "metadata": {},
   "source": [
    "## Extracción de secuencias de paquetes"
   ]
  },
  {
   "cell_type": "markdown",
   "metadata": {},
   "source": [
    "Obtener todas las secuencias de paquetes presentes en el dataset."
   ]
  },
  {
   "cell_type": "code",
   "execution_count": 30,
   "metadata": {},
   "outputs": [],
   "source": [
    "# Crear una copia del DataFrame original para no modificarlo directamente.\n",
    "df_temp = df.copy()\n",
    "\n",
    "# Cada vez que el valor de 'label' cambia, se incrementa el contador acumulativo.\n",
    "df_temp['Sequence'] = (df_temp['Label'] != df_temp['Label'].shift()).cumsum()\n",
    "\n",
    "# Agrupar el DataFrame por la columna 'sequence' y crear una lista de DataFrames.\n",
    "sequences = []\n",
    "\n",
    "# Tamaños de las secuencias\n",
    "sequence_sizes = []"
   ]
  },
  {
   "cell_type": "code",
   "execution_count": 31,
   "metadata": {},
   "outputs": [],
   "source": [
    "for sequence in df_temp.groupby('Sequence'):  # Iterar sobre cada DataFrame en la lista de secuencias.\n",
    "    # Obtener el DataFrame correspondiente a la secuencia.\n",
    "    sequence_df = sequence[1]  \n",
    "    # Eliminar la columna 'sequence' de cada DataFrame, ya que solo se usó para agrupar.\n",
    "    sequence_df.drop(columns='Sequence', inplace=True)  \n",
    "    # Reiniciar los índices de cada DataFrame para que comiencen desde 0.\n",
    "    sequence_df.reset_index(drop=True, inplace=True)\n",
    "    # Agregar el DataFrame a la lista de secuencias.\n",
    "    sequences.append(sequence_df)\n",
    "    # Guardar el tamaño de cada secuencia.\n",
    "    sequence_sizes.append(len(sequence_df)) "
   ]
  },
  {
   "cell_type": "markdown",
   "metadata": {},
   "source": [
    "## Análisis de las secuencias"
   ]
  },
  {
   "cell_type": "code",
   "execution_count": 32,
   "metadata": {},
   "outputs": [
    {
     "data": {
      "text/html": [
       "<div>\n",
       "<style scoped>\n",
       "    .dataframe tbody tr th:only-of-type {\n",
       "        vertical-align: middle;\n",
       "    }\n",
       "\n",
       "    .dataframe tbody tr th {\n",
       "        vertical-align: top;\n",
       "    }\n",
       "\n",
       "    .dataframe thead th {\n",
       "        text-align: right;\n",
       "    }\n",
       "</style>\n",
       "<table border=\"1\" class=\"dataframe\">\n",
       "  <thead>\n",
       "    <tr style=\"text-align: right;\">\n",
       "      <th></th>\n",
       "      <th>Dst Port</th>\n",
       "      <th>Protocol</th>\n",
       "      <th>Timestamp</th>\n",
       "      <th>Flow Duration</th>\n",
       "      <th>Tot Fwd Pkts</th>\n",
       "      <th>Tot Bwd Pkts</th>\n",
       "      <th>TotLen Fwd Pkts</th>\n",
       "      <th>TotLen Bwd Pkts</th>\n",
       "      <th>Fwd Pkt Len Max</th>\n",
       "      <th>Fwd Pkt Len Min</th>\n",
       "      <th>...</th>\n",
       "      <th>Active Mean</th>\n",
       "      <th>Active Std</th>\n",
       "      <th>Active Max</th>\n",
       "      <th>Active Min</th>\n",
       "      <th>Idle Mean</th>\n",
       "      <th>Idle Std</th>\n",
       "      <th>Idle Max</th>\n",
       "      <th>Idle Min</th>\n",
       "      <th>Label</th>\n",
       "      <th>Label Code</th>\n",
       "    </tr>\n",
       "  </thead>\n",
       "  <tbody>\n",
       "    <tr>\n",
       "      <th>0</th>\n",
       "      <td>0</td>\n",
       "      <td>0</td>\n",
       "      <td>0.866025</td>\n",
       "      <td>112641719.0</td>\n",
       "      <td>3.0</td>\n",
       "      <td>0.0</td>\n",
       "      <td>0.0</td>\n",
       "      <td>0.0</td>\n",
       "      <td>0.0</td>\n",
       "      <td>0.0</td>\n",
       "      <td>...</td>\n",
       "      <td>0.0</td>\n",
       "      <td>0.0</td>\n",
       "      <td>0.0</td>\n",
       "      <td>0.0</td>\n",
       "      <td>56320859.5</td>\n",
       "      <td>139.300036</td>\n",
       "      <td>56320958.0</td>\n",
       "      <td>56320761.0</td>\n",
       "      <td>Benign</td>\n",
       "      <td>0</td>\n",
       "    </tr>\n",
       "    <tr>\n",
       "      <th>1</th>\n",
       "      <td>0</td>\n",
       "      <td>0</td>\n",
       "      <td>0.866025</td>\n",
       "      <td>112641466.0</td>\n",
       "      <td>3.0</td>\n",
       "      <td>0.0</td>\n",
       "      <td>0.0</td>\n",
       "      <td>0.0</td>\n",
       "      <td>0.0</td>\n",
       "      <td>0.0</td>\n",
       "      <td>...</td>\n",
       "      <td>0.0</td>\n",
       "      <td>0.0</td>\n",
       "      <td>0.0</td>\n",
       "      <td>0.0</td>\n",
       "      <td>56320733.0</td>\n",
       "      <td>114.551299</td>\n",
       "      <td>56320814.0</td>\n",
       "      <td>56320652.0</td>\n",
       "      <td>Benign</td>\n",
       "      <td>0</td>\n",
       "    </tr>\n",
       "    <tr>\n",
       "      <th>2</th>\n",
       "      <td>0</td>\n",
       "      <td>0</td>\n",
       "      <td>0.866025</td>\n",
       "      <td>112638623.0</td>\n",
       "      <td>3.0</td>\n",
       "      <td>0.0</td>\n",
       "      <td>0.0</td>\n",
       "      <td>0.0</td>\n",
       "      <td>0.0</td>\n",
       "      <td>0.0</td>\n",
       "      <td>...</td>\n",
       "      <td>0.0</td>\n",
       "      <td>0.0</td>\n",
       "      <td>0.0</td>\n",
       "      <td>0.0</td>\n",
       "      <td>56319311.5</td>\n",
       "      <td>301.934596</td>\n",
       "      <td>56319525.0</td>\n",
       "      <td>56319098.0</td>\n",
       "      <td>Benign</td>\n",
       "      <td>0</td>\n",
       "    </tr>\n",
       "    <tr>\n",
       "      <th>3</th>\n",
       "      <td>22</td>\n",
       "      <td>6</td>\n",
       "      <td>0.866025</td>\n",
       "      <td>6453966.0</td>\n",
       "      <td>15.0</td>\n",
       "      <td>10.0</td>\n",
       "      <td>1239.0</td>\n",
       "      <td>2273.0</td>\n",
       "      <td>744.0</td>\n",
       "      <td>0.0</td>\n",
       "      <td>...</td>\n",
       "      <td>0.0</td>\n",
       "      <td>0.0</td>\n",
       "      <td>0.0</td>\n",
       "      <td>0.0</td>\n",
       "      <td>0.0</td>\n",
       "      <td>0.000000</td>\n",
       "      <td>0.0</td>\n",
       "      <td>0.0</td>\n",
       "      <td>Benign</td>\n",
       "      <td>0</td>\n",
       "    </tr>\n",
       "    <tr>\n",
       "      <th>4</th>\n",
       "      <td>22</td>\n",
       "      <td>6</td>\n",
       "      <td>0.866025</td>\n",
       "      <td>8804066.0</td>\n",
       "      <td>14.0</td>\n",
       "      <td>11.0</td>\n",
       "      <td>1143.0</td>\n",
       "      <td>2209.0</td>\n",
       "      <td>744.0</td>\n",
       "      <td>0.0</td>\n",
       "      <td>...</td>\n",
       "      <td>0.0</td>\n",
       "      <td>0.0</td>\n",
       "      <td>0.0</td>\n",
       "      <td>0.0</td>\n",
       "      <td>0.0</td>\n",
       "      <td>0.000000</td>\n",
       "      <td>0.0</td>\n",
       "      <td>0.0</td>\n",
       "      <td>Benign</td>\n",
       "      <td>0</td>\n",
       "    </tr>\n",
       "  </tbody>\n",
       "</table>\n",
       "<p>5 rows × 81 columns</p>\n",
       "</div>"
      ],
      "text/plain": [
       "   Dst Port  Protocol  Timestamp  Flow Duration  Tot Fwd Pkts  Tot Bwd Pkts  \\\n",
       "0         0         0   0.866025    112641719.0           3.0           0.0   \n",
       "1         0         0   0.866025    112641466.0           3.0           0.0   \n",
       "2         0         0   0.866025    112638623.0           3.0           0.0   \n",
       "3        22         6   0.866025      6453966.0          15.0          10.0   \n",
       "4        22         6   0.866025      8804066.0          14.0          11.0   \n",
       "\n",
       "   TotLen Fwd Pkts  TotLen Bwd Pkts  Fwd Pkt Len Max  Fwd Pkt Len Min  ...  \\\n",
       "0              0.0              0.0              0.0              0.0  ...   \n",
       "1              0.0              0.0              0.0              0.0  ...   \n",
       "2              0.0              0.0              0.0              0.0  ...   \n",
       "3           1239.0           2273.0            744.0              0.0  ...   \n",
       "4           1143.0           2209.0            744.0              0.0  ...   \n",
       "\n",
       "   Active Mean  Active Std  Active Max  Active Min   Idle Mean    Idle Std  \\\n",
       "0          0.0         0.0         0.0         0.0  56320859.5  139.300036   \n",
       "1          0.0         0.0         0.0         0.0  56320733.0  114.551299   \n",
       "2          0.0         0.0         0.0         0.0  56319311.5  301.934596   \n",
       "3          0.0         0.0         0.0         0.0         0.0    0.000000   \n",
       "4          0.0         0.0         0.0         0.0         0.0    0.000000   \n",
       "\n",
       "     Idle Max    Idle Min   Label  Label Code  \n",
       "0  56320958.0  56320761.0  Benign           0  \n",
       "1  56320814.0  56320652.0  Benign           0  \n",
       "2  56319525.0  56319098.0  Benign           0  \n",
       "3         0.0         0.0  Benign           0  \n",
       "4         0.0         0.0  Benign           0  \n",
       "\n",
       "[5 rows x 81 columns]"
      ]
     },
     "execution_count": 32,
     "metadata": {},
     "output_type": "execute_result"
    }
   ],
   "source": [
    "sequences[0].head()"
   ]
  },
  {
   "cell_type": "code",
   "execution_count": 33,
   "metadata": {},
   "outputs": [
    {
     "data": {
      "text/html": [
       "<div>\n",
       "<style scoped>\n",
       "    .dataframe tbody tr th:only-of-type {\n",
       "        vertical-align: middle;\n",
       "    }\n",
       "\n",
       "    .dataframe tbody tr th {\n",
       "        vertical-align: top;\n",
       "    }\n",
       "\n",
       "    .dataframe thead th {\n",
       "        text-align: right;\n",
       "    }\n",
       "</style>\n",
       "<table border=\"1\" class=\"dataframe\">\n",
       "  <thead>\n",
       "    <tr style=\"text-align: right;\">\n",
       "      <th></th>\n",
       "      <th>Dst Port</th>\n",
       "      <th>Protocol</th>\n",
       "      <th>Timestamp</th>\n",
       "      <th>Flow Duration</th>\n",
       "      <th>Tot Fwd Pkts</th>\n",
       "      <th>Tot Bwd Pkts</th>\n",
       "      <th>TotLen Fwd Pkts</th>\n",
       "      <th>TotLen Bwd Pkts</th>\n",
       "      <th>Fwd Pkt Len Max</th>\n",
       "      <th>Fwd Pkt Len Min</th>\n",
       "      <th>...</th>\n",
       "      <th>Active Mean</th>\n",
       "      <th>Active Std</th>\n",
       "      <th>Active Max</th>\n",
       "      <th>Active Min</th>\n",
       "      <th>Idle Mean</th>\n",
       "      <th>Idle Std</th>\n",
       "      <th>Idle Max</th>\n",
       "      <th>Idle Min</th>\n",
       "      <th>Label</th>\n",
       "      <th>Label Code</th>\n",
       "    </tr>\n",
       "  </thead>\n",
       "  <tbody>\n",
       "    <tr>\n",
       "      <th>0</th>\n",
       "      <td>53</td>\n",
       "      <td>17</td>\n",
       "      <td>0.707107</td>\n",
       "      <td>985.0</td>\n",
       "      <td>1.0</td>\n",
       "      <td>1.0</td>\n",
       "      <td>44.0</td>\n",
       "      <td>252.0</td>\n",
       "      <td>44.0</td>\n",
       "      <td>44.0</td>\n",
       "      <td>...</td>\n",
       "      <td>0.0</td>\n",
       "      <td>0.0</td>\n",
       "      <td>0.0</td>\n",
       "      <td>0.0</td>\n",
       "      <td>0.0</td>\n",
       "      <td>0.0</td>\n",
       "      <td>0.0</td>\n",
       "      <td>0.0</td>\n",
       "      <td>Benign</td>\n",
       "      <td>0</td>\n",
       "    </tr>\n",
       "    <tr>\n",
       "      <th>1</th>\n",
       "      <td>53</td>\n",
       "      <td>17</td>\n",
       "      <td>0.707107</td>\n",
       "      <td>1804.0</td>\n",
       "      <td>2.0</td>\n",
       "      <td>2.0</td>\n",
       "      <td>96.0</td>\n",
       "      <td>610.0</td>\n",
       "      <td>48.0</td>\n",
       "      <td>48.0</td>\n",
       "      <td>...</td>\n",
       "      <td>0.0</td>\n",
       "      <td>0.0</td>\n",
       "      <td>0.0</td>\n",
       "      <td>0.0</td>\n",
       "      <td>0.0</td>\n",
       "      <td>0.0</td>\n",
       "      <td>0.0</td>\n",
       "      <td>0.0</td>\n",
       "      <td>Benign</td>\n",
       "      <td>0</td>\n",
       "    </tr>\n",
       "    <tr>\n",
       "      <th>2</th>\n",
       "      <td>3389</td>\n",
       "      <td>6</td>\n",
       "      <td>0.500000</td>\n",
       "      <td>1695463.0</td>\n",
       "      <td>8.0</td>\n",
       "      <td>7.0</td>\n",
       "      <td>1144.0</td>\n",
       "      <td>1581.0</td>\n",
       "      <td>677.0</td>\n",
       "      <td>0.0</td>\n",
       "      <td>...</td>\n",
       "      <td>0.0</td>\n",
       "      <td>0.0</td>\n",
       "      <td>0.0</td>\n",
       "      <td>0.0</td>\n",
       "      <td>0.0</td>\n",
       "      <td>0.0</td>\n",
       "      <td>0.0</td>\n",
       "      <td>0.0</td>\n",
       "      <td>Benign</td>\n",
       "      <td>0</td>\n",
       "    </tr>\n",
       "    <tr>\n",
       "      <th>3</th>\n",
       "      <td>50461</td>\n",
       "      <td>6</td>\n",
       "      <td>0.707107</td>\n",
       "      <td>6.0</td>\n",
       "      <td>1.0</td>\n",
       "      <td>1.0</td>\n",
       "      <td>0.0</td>\n",
       "      <td>0.0</td>\n",
       "      <td>0.0</td>\n",
       "      <td>0.0</td>\n",
       "      <td>...</td>\n",
       "      <td>0.0</td>\n",
       "      <td>0.0</td>\n",
       "      <td>0.0</td>\n",
       "      <td>0.0</td>\n",
       "      <td>0.0</td>\n",
       "      <td>0.0</td>\n",
       "      <td>0.0</td>\n",
       "      <td>0.0</td>\n",
       "      <td>Benign</td>\n",
       "      <td>0</td>\n",
       "    </tr>\n",
       "    <tr>\n",
       "      <th>4</th>\n",
       "      <td>3389</td>\n",
       "      <td>6</td>\n",
       "      <td>0.707107</td>\n",
       "      <td>1578949.0</td>\n",
       "      <td>8.0</td>\n",
       "      <td>7.0</td>\n",
       "      <td>1128.0</td>\n",
       "      <td>1581.0</td>\n",
       "      <td>661.0</td>\n",
       "      <td>0.0</td>\n",
       "      <td>...</td>\n",
       "      <td>0.0</td>\n",
       "      <td>0.0</td>\n",
       "      <td>0.0</td>\n",
       "      <td>0.0</td>\n",
       "      <td>0.0</td>\n",
       "      <td>0.0</td>\n",
       "      <td>0.0</td>\n",
       "      <td>0.0</td>\n",
       "      <td>Benign</td>\n",
       "      <td>0</td>\n",
       "    </tr>\n",
       "  </tbody>\n",
       "</table>\n",
       "<p>5 rows × 81 columns</p>\n",
       "</div>"
      ],
      "text/plain": [
       "   Dst Port  Protocol  Timestamp  Flow Duration  Tot Fwd Pkts  Tot Bwd Pkts  \\\n",
       "0        53        17   0.707107          985.0           1.0           1.0   \n",
       "1        53        17   0.707107         1804.0           2.0           2.0   \n",
       "2      3389         6   0.500000      1695463.0           8.0           7.0   \n",
       "3     50461         6   0.707107            6.0           1.0           1.0   \n",
       "4      3389         6   0.707107      1578949.0           8.0           7.0   \n",
       "\n",
       "   TotLen Fwd Pkts  TotLen Bwd Pkts  Fwd Pkt Len Max  Fwd Pkt Len Min  ...  \\\n",
       "0             44.0            252.0             44.0             44.0  ...   \n",
       "1             96.0            610.0             48.0             48.0  ...   \n",
       "2           1144.0           1581.0            677.0              0.0  ...   \n",
       "3              0.0              0.0              0.0              0.0  ...   \n",
       "4           1128.0           1581.0            661.0              0.0  ...   \n",
       "\n",
       "   Active Mean  Active Std  Active Max  Active Min  Idle Mean  Idle Std  \\\n",
       "0          0.0         0.0         0.0         0.0        0.0       0.0   \n",
       "1          0.0         0.0         0.0         0.0        0.0       0.0   \n",
       "2          0.0         0.0         0.0         0.0        0.0       0.0   \n",
       "3          0.0         0.0         0.0         0.0        0.0       0.0   \n",
       "4          0.0         0.0         0.0         0.0        0.0       0.0   \n",
       "\n",
       "   Idle Max  Idle Min   Label  Label Code  \n",
       "0       0.0       0.0  Benign           0  \n",
       "1       0.0       0.0  Benign           0  \n",
       "2       0.0       0.0  Benign           0  \n",
       "3       0.0       0.0  Benign           0  \n",
       "4       0.0       0.0  Benign           0  \n",
       "\n",
       "[5 rows x 81 columns]"
      ]
     },
     "execution_count": 33,
     "metadata": {},
     "output_type": "execute_result"
    }
   ],
   "source": [
    "sequences[-1].head()"
   ]
  },
  {
   "cell_type": "markdown",
   "metadata": {},
   "source": [
    "Análisis estadístico de las secuencias"
   ]
  },
  {
   "cell_type": "code",
   "execution_count": 35,
   "metadata": {},
   "outputs": [
    {
     "name": "stdout",
     "output_type": "stream",
     "text": [
      "Número de características por secuencia: 79\n",
      "Número total de secuencias: 939866\n",
      "Número promedio de paquetes por secuencia: 8.77559992594689\n",
      "Mediana de paquetes: 1.0\n",
      "Desviación estándar (muestral): 2310.1073395536337\n",
      "Secuencia más corta: 1 paquetes\n",
      "Secuencia más larga: 1418708 paquetes\n"
     ]
    }
   ],
   "source": [
    "# Número de características de cada secuencia\n",
    "num_features = sequences[0].shape[1] - 2  # Restar 2 por 'Label' y 'Label Code'\n",
    "\n",
    "# Obtener el número de secuencias\n",
    "num_sequences = len(sequences)\n",
    "\n",
    "# Obtener la media de paquetes por secuencia\n",
    "mean = np.mean(sequence_sizes)\n",
    "\n",
    "# Obtener la mediana de paquetes\n",
    "median = np.median(sequence_sizes)\n",
    "\n",
    "# Obtener la desviación estándar muestral (por defecto ddof=1)\n",
    "deviation = np.std(sequence_sizes)\n",
    "\n",
    "# Obtener la desviación estándar muestral (por defecto ddof=1)\n",
    "shortest = min(sequence_sizes)\n",
    "\n",
    "# Obtener la desviación estándar muestral (por defecto ddof=1)\n",
    "longest = max(sequence_sizes)\n",
    "\n",
    "print(f\"Número de características por secuencia: {num_features}\")\n",
    "print(f\"Número total de secuencias: {num_sequences}\")\n",
    "print(f\"Número promedio de paquetes por secuencia: {mean}\")\n",
    "print(f\"Mediana de paquetes: {median}\")\n",
    "print(f\"Desviación estándar (muestral): {deviation}\")\n",
    "print(f\"Secuencia más corta: {shortest} paquetes\")\n",
    "print(f\"Secuencia más larga: {longest} paquetes\")"
   ]
  },
  {
   "cell_type": "markdown",
   "metadata": {},
   "source": [
    "## Separación de datos"
   ]
  },
  {
   "cell_type": "code",
   "execution_count": 39,
   "metadata": {},
   "outputs": [],
   "source": [
    "X = []\n",
    "y = []\n",
    "\n",
    "sequence_length = int(mean)  # Longitud de la secuencia\n",
    "\n",
    "for seq in sequences:\n",
    "    sequence_X = seq.drop(columns=['Label', 'Label Code']) # Obtener las características\n",
    "    sequence_Y = seq['Label Code'].iloc[0] # Obtener la etiqueta\n",
    "\n",
    "    if len(sequence_X) < sequence_length:\n",
    "        # Rellenar con ceros\n",
    "        pad_width = sequence_length - len(sequence_X)\n",
    "        sequence_X = np.pad(sequence_X, ((0, pad_width), (0, 0)), mode='constant')\n",
    "    else:\n",
    "        # Recortar\n",
    "        sequence_X = sequence_X.iloc[:sequence_length]\n",
    "        \n",
    "    X.append(sequence_X)\n",
    "    y.append(sequence_Y)\n",
    "\n",
    "X = np.array(X)\n",
    "y = np.array(y)"
   ]
  },
  {
   "cell_type": "code",
   "execution_count": 40,
   "metadata": {},
   "outputs": [
    {
     "name": "stdout",
     "output_type": "stream",
     "text": [
      "(939866, 8, 79)\n",
      "(939866,)\n"
     ]
    }
   ],
   "source": [
    "print(X.shape)\n",
    "print(y.shape)"
   ]
  },
  {
   "cell_type": "markdown",
   "metadata": {},
   "source": [
    "## Normalización"
   ]
  },
  {
   "cell_type": "markdown",
   "metadata": {},
   "source": [
    "Escalamiento de características"
   ]
  },
  {
   "cell_type": "code",
   "execution_count": 42,
   "metadata": {},
   "outputs": [],
   "source": [
    "scaler = StandardScaler()\n",
    "X_scaled = scaler.fit_transform(X.reshape(-1, num_features)).reshape(num_sequences, sequence_length, num_features)"
   ]
  },
  {
   "cell_type": "code",
   "execution_count": 43,
   "metadata": {},
   "outputs": [
    {
     "data": {
      "text/plain": [
       "array([-3.34893621e-01, -5.05856528e-01,  4.27309706e+00,  1.90391386e+01,\n",
       "       -1.31035328e-02, -1.77540958e-02, -1.60787955e-02, -2.83747310e-03,\n",
       "       -3.37921269e-01, -7.60402909e-02, -3.44252478e-01, -3.40766281e-01,\n",
       "       -3.07754455e-01, -9.50559677e-02, -3.30285883e-01, -3.26493721e-01,\n",
       "       -6.53409767e-02, -6.22485912e-02,  4.66123142e+01, -1.18278059e-01,\n",
       "        1.76161709e+01,  5.33368562e+01,  1.91024557e+01,  3.62935324e+01,\n",
       "       -1.31684659e-01,  1.76548318e+01,  4.04755286e+01, -5.73594512e-02,\n",
       "       -4.59006964e-02, -5.29933556e-02, -5.46300700e-02, -2.73702994e-02,\n",
       "       -2.69992463e-02,  0.00000000e+00, -2.98511711e-03,  0.00000000e+00,\n",
       "       -1.59358552e-02, -2.32749894e-02, -6.10495080e-02, -5.81089215e-02,\n",
       "       -7.73866609e-02, -3.42466675e-01, -3.52650036e-01, -3.47415370e-01,\n",
       "       -1.66767913e-01, -1.86986661e-02, -2.69992463e-02, -2.39818990e-01,\n",
       "       -2.55523322e-01, -4.32756881e-01, -8.35219102e-02, -2.98511711e-03,\n",
       "       -2.39819300e-01, -1.39993460e-01, -3.55534206e-01, -3.44252478e-01,\n",
       "       -3.30285883e-01,  0.00000000e+00,  0.00000000e+00,  0.00000000e+00,\n",
       "        0.00000000e+00,  0.00000000e+00,  0.00000000e+00, -1.31035328e-02,\n",
       "       -1.60787955e-02, -1.77540958e-02, -2.83719895e-03, -3.21071174e-01,\n",
       "       -2.28782668e-01, -1.43967086e-02, -5.20870169e-01, -2.08706513e-02,\n",
       "       -1.51460973e-02, -2.14398987e-02, -1.73540947e-02,  2.03609657e+01,\n",
       "       -3.14246428e-02,  1.83628360e+01,  2.10419332e+01])"
      ]
     },
     "execution_count": 43,
     "metadata": {},
     "output_type": "execute_result"
    }
   ],
   "source": [
    "X_scaled[0][0]"
   ]
  },
  {
   "cell_type": "code",
   "execution_count": 44,
   "metadata": {},
   "outputs": [
    {
     "data": {
      "text/plain": [
       "((939866, 8, 79), (939866,))"
      ]
     },
     "execution_count": 44,
     "metadata": {},
     "output_type": "execute_result"
    }
   ],
   "source": [
    "X_scaled.shape, y.shape"
   ]
  },
  {
   "cell_type": "markdown",
   "metadata": {},
   "source": [
    "## Separar secuencias en entrenamiento, validación y prueba"
   ]
  },
  {
   "cell_type": "markdown",
   "metadata": {},
   "source": [
    "Separación de datos"
   ]
  },
  {
   "cell_type": "code",
   "execution_count": 45,
   "metadata": {},
   "outputs": [],
   "source": [
    "# Separar en conjuntos de entrenamiento, validación y prueba\n",
    "X_train, X_test, y_train, y_test = train_test_split(X_scaled, y, test_size=0.2, stratify=y)\n",
    "X_train, X_val, y_train, y_val = train_test_split(X_train, y_train, test_size=0.2, stratify=y_train)"
   ]
  },
  {
   "cell_type": "code",
   "execution_count": 46,
   "metadata": {},
   "outputs": [
    {
     "name": "stdout",
     "output_type": "stream",
     "text": [
      "(601513, 8, 79) (601513,)\n",
      "(150379, 8, 79) (150379,)\n",
      "(187974, 8, 79) (187974,)\n"
     ]
    }
   ],
   "source": [
    "print(X_train.shape, y_train.shape)\n",
    "print(X_val.shape, y_val.shape)\n",
    "print(X_test.shape, y_test.shape)"
   ]
  },
  {
   "cell_type": "code",
   "execution_count": 47,
   "metadata": {},
   "outputs": [],
   "source": [
    "# Convertir a tensores\n",
    "X_train_tensor = torch.tensor(X_train, dtype=torch.float32)\n",
    "y_train_tensor = torch.tensor(y_train, dtype=torch.long)\n",
    "X_val_tensor = torch.tensor(X_val, dtype=torch.float32)\n",
    "y_val_tensor = torch.tensor(y_val, dtype=torch.long)\n",
    "X_test_tensor = torch.tensor(X_test, dtype=torch.float32)\n",
    "y_test_tensor = torch.tensor(y_test, dtype=torch.long)"
   ]
  },
  {
   "cell_type": "code",
   "execution_count": 48,
   "metadata": {},
   "outputs": [],
   "source": [
    "# Crea dataset y dataloader con batches\n",
    "train_dataset = TensorDataset(X_train_tensor, y_train_tensor)\n",
    "train_loader = DataLoader(train_dataset, batch_size=64, shuffle=True)"
   ]
  },
  {
   "cell_type": "markdown",
   "metadata": {},
   "source": [
    "## Inicialización del modelo"
   ]
  },
  {
   "cell_type": "code",
   "execution_count": 49,
   "metadata": {},
   "outputs": [],
   "source": [
    "# Modelo LSTM\n",
    "class NetFlowLSTM(nn.Module):\n",
    "    def __init__(self, input_dim, hidden_dim, output_dim):\n",
    "        super().__init__()\n",
    "        self.lstm = nn.LSTM(input_dim, hidden_dim, batch_first=True)\n",
    "        self.classifier = nn.Linear(hidden_dim, output_dim)\n",
    "\n",
    "    def forward(self, x):\n",
    "        _, (h_n, _) = self.lstm(x)         # h_n shape: (1, batch, hidden)\n",
    "        return self.classifier(h_n[-1])    # usar último estado oculto\n",
    "\n",
    "model = NetFlowLSTM(input_dim=num_features, hidden_dim=32, output_dim=len(labels))"
   ]
  },
  {
   "cell_type": "markdown",
   "metadata": {},
   "source": [
    "## Entrenamiento"
   ]
  },
  {
   "cell_type": "code",
   "execution_count": 50,
   "metadata": {},
   "outputs": [],
   "source": [
    "# Configurar entrenamiento\n",
    "criterion = nn.CrossEntropyLoss()\n",
    "optimizer = torch.optim.Adam(model.parameters(), lr=LEARNING_RATE)"
   ]
  },
  {
   "cell_type": "code",
   "execution_count": 51,
   "metadata": {},
   "outputs": [],
   "source": [
    "# Función de predicción\n",
    "def predict(model, X_tensor):\n",
    "    model.eval()\n",
    "    with torch.no_grad():\n",
    "        outputs = model(X_tensor)\n",
    "    return outputs"
   ]
  },
  {
   "cell_type": "code",
   "execution_count": 52,
   "metadata": {},
   "outputs": [],
   "source": [
    "# Función de evaluación\n",
    "def evaluate_model(pred, y_tensor):\n",
    "    loss = criterion(pred, y_tensor)\n",
    "    pred = torch.argmax(pred, dim=1)\n",
    "    acc = (pred == y_tensor).float().mean()\n",
    "    return loss.item(), acc.item()"
   ]
  },
  {
   "cell_type": "code",
   "execution_count": null,
   "metadata": {},
   "outputs": [],
   "source": [
    "# Entrenamiento del modelo\n",
    "val_losses, val_accuracies = [], []\n",
    "\n",
    "for epoch in range(EPOCHS):\n",
    "    model.train()\n",
    "    for X_batch, y_batch in train_loader:\n",
    "        optimizer.zero_grad()\n",
    "        outputs = model(X_batch)\n",
    "        loss = criterion(outputs, y_batch)\n",
    "        loss.backward()\n",
    "        optimizer.step()\n",
    "\n",
    "    val_pred = predict(model, X_val_tensor) # Predicción\n",
    "    val_loss, val_acc = evaluate_model(val_pred, y_val_tensor) # Evaluación\n",
    "\n",
    "    val_losses.append(val_loss)\n",
    "    val_accuracies.append(val_acc)\n",
    "\n",
    "    print(f\"Epoch {epoch+1:02d} | Val Loss: {val_loss:.4f} | Val Acc: {val_acc:.2f}\")"
   ]
  },
  {
   "cell_type": "markdown",
   "metadata": {},
   "source": [
    "## Gráfica del entrenamiento"
   ]
  },
  {
   "cell_type": "code",
   "execution_count": 60,
   "metadata": {},
   "outputs": [
    {
     "data": {
      "image/png": "[encoded data removed]",
      "text/plain": [
       "<Figure size 1200x500 with 2 Axes>"
      ]
     },
     "metadata": {},
     "output_type": "display_data"
    }
   ],
   "source": [
    "epochs_range = range(1, EPOCHS + 1)\n",
    "\n",
    "plt.figure(figsize=(12, 5))\n",
    "\n",
    "# Pérdidas\n",
    "plt.subplot(1, 2, 1)\n",
    "plt.plot(epochs_range, val_losses, color='red')\n",
    "plt.xlabel(\"Época\")\n",
    "plt.ylabel(\"Pérdida\")\n",
    "plt.title(\"Pérdida durante el entrenamiento\")\n",
    "\n",
    "# Precisión\n",
    "plt.subplot(1, 2, 2)\n",
    "plt.plot(epochs_range, val_accuracies, color='green')\n",
    "plt.xlabel(\"Época\")\n",
    "plt.ylabel(\"Precisión\")\n",
    "plt.title(\"Precisión de validación\")\n",
    "\n",
    "plt.tight_layout()\n",
    "plt.show()"
   ]
  },
  {
   "cell_type": "markdown",
   "metadata": {},
   "source": [
    "## Evaluación"
   ]
  },
  {
   "cell_type": "markdown",
   "metadata": {},
   "source": [
    "Evaluación en el conjunto de test"
   ]
  },
  {
   "cell_type": "code",
   "execution_count": 63,
   "metadata": {},
   "outputs": [
    {
     "name": "stdout",
     "output_type": "stream",
     "text": [
      "\n",
      "🔍 Evaluación final en test:\n",
      "Pérdida en test: 0.0222\n",
      "Precisión en test: 0.99\n"
     ]
    }
   ],
   "source": [
    "test_pred = predict(model, X_test_tensor) # Predicción\n",
    "test_loss, test_acc = evaluate_model(test_pred, y_test_tensor) # Evaluación\n",
    "\n",
    "print(f\"\\n🔍 Evaluación final en test:\")\n",
    "print(f\"Pérdida en test: {test_loss:.4f}\")\n",
    "print(f\"Precisión en test: {test_acc:.2f}\")"
   ]
  },
  {
   "cell_type": "markdown",
   "metadata": {},
   "source": [
    "Matriz de confusión de la predicción obtenida"
   ]
  },
  {
   "cell_type": "code",
   "execution_count": null,
   "metadata": {},
   "outputs": [],
   "source": [
    "pred = torch.argmax(test_pred, dim=1).numpy()\n",
    "pred_names = [label_mapping[y] for y in pred]\n",
    "y_test_names = [label_mapping[y] for y in y_test]\n",
    "\n",
    "# Calcular matriz de confusión\n",
    "cm = confusion_matrix(y_test_names, pred_names)\n",
    "\n",
    "# Visualizar\n",
    "plt.figure(figsize=(12, 10))\n",
    "sns.heatmap(cm, annot=True, fmt='d', cmap='Blues', xticklabels=pred_names, yticklabels=y_test_names)\n",
    "plt.xlabel(\"Predicción\")\n",
    "plt.ylabel(\"Real\")\n",
    "plt.title(\"Matriz de Confusión\")\n",
    "plt.show()"
   ]
  },
  {
   "cell_type": "markdown",
   "metadata": {},
   "source": [
    "## Evaluación por clase"
   ]
  },
  {
   "cell_type": "markdown",
   "metadata": {},
   "source": [
    "Evaluación por cada clase en el conjunto de test"
   ]
  },
  {
   "cell_type": "code",
   "execution_count": 50,
   "metadata": {},
   "outputs": [],
   "source": [
    "# Diccionario para almacenar los datos de test por clase\n",
    "test_data_by_class = {}\n",
    "\n",
    "# Asegúrate de que X_test_tensor y y_test_tensor estén alineados\n",
    "for class_label in torch.unique(y_test_tensor):\n",
    "    mask = y_test_tensor == class_label\n",
    "    class_name = label_mapping[class_label.item()]\n",
    "    test_data_by_class[class_name] = {\n",
    "        'X': X_test_tensor[mask],\n",
    "        'y': y_test_tensor[mask]\n",
    "    }"
   ]
  },
  {
   "cell_type": "code",
   "execution_count": 51,
   "metadata": {},
   "outputs": [
    {
     "name": "stdout",
     "output_type": "stream",
     "text": [
      "Clase: Benign, Pérdida: 0.0162, Precisión: 0.99\n",
      "Clase: FTP-BruteForce, Pérdida: 0.0048, Precisión: 1.00\n",
      "Clase: SSH-Bruteforce, Pérdida: 0.0430, Precisión: 0.99\n",
      "Clase: DoS attacks-GoldenEye, Pérdida: 0.0711, Precisión: 0.98\n",
      "Clase: DoS attacks-Slowloris, Pérdida: 0.0634, Precisión: 0.99\n",
      "Clase: DoS attacks-SlowHTTPTest, Pérdida: 0.0065, Precisión: 1.00\n",
      "Clase: DoS attacks-Hulk, Pérdida: 0.0005, Precisión: 1.00\n",
      "Clase: DDOS attack-LOIC-UDP, Pérdida: 0.0012, Precisión: 1.00\n",
      "Clase: DDOS attack-HOIC, Pérdida: 0.0002, Precisión: 1.00\n",
      "Clase: Brute Force -Web, Pérdida: 1.3901, Precisión: 0.80\n",
      "Clase: Brute Force -XSS, Pérdida: 1.3981, Precisión: 0.86\n",
      "Clase: SQL Injection, Pérdida: 7.3095, Precisión: 0.00\n",
      "Clase: Infilteration, Pérdida: 0.4007, Precisión: 0.93\n",
      "Clase: Bot, Pérdida: 0.0248, Precisión: 0.99\n"
     ]
    }
   ],
   "source": [
    "for cls, data in test_data_by_class.items():\n",
    "    X_cls, y_cls = data['X'], data['y']\n",
    "    cls_pred = predict(model, X_cls) # Predicción\n",
    "    cls_loss, cls_acc = evaluate_model(cls_pred, y_cls) # Evaluación\n",
    "    print(f\"Clase: {cls}, Pérdida: {cls_loss:.4f}, Precisión: {cls_acc:.2f}\")"
   ]
  }
 ],
 "metadata": {
  "kernelspec": {
   "display_name": "Python 3",
   "language": "python",
   "name": "python3"
  },
  "language_info": {
   "codemirror_mode": {
    "name": "ipython",
    "version": 3
   },
   "file_extension": ".py",
   "mimetype": "text/x-python",
   "name": "python",
   "nbconvert_exporter": "python",
   "pygments_lexer": "ipython3",
   "version": "3.11.9"
  }
 },
 "nbformat": 4,
 "nbformat_minor": 2
}

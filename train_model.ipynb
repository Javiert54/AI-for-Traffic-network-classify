{
 "cells": [
  {
   "cell_type": "markdown",
   "metadata": {},
   "source": [
    "## Importación de librerías"
   ]
  },
  {
   "cell_type": "code",
   "execution_count": 30,
   "metadata": {},
   "outputs": [],
   "source": [
    "import pandas as pd\n",
    "import json\n",
    "import numpy as np\n",
    "from sklearn.model_selection import train_test_split\n",
    "import torch\n",
    "import torch.nn as nn\n",
    "from sklearn.preprocessing import StandardScaler\n",
    "import matplotlib.pyplot as plt\n",
    "from sklearn.metrics import confusion_matrix\n",
    "from collections import defaultdict\n",
    "import random\n",
    "import joblib\n",
    "import seaborn as sns"
   ]
  },
  {
   "cell_type": "markdown",
   "metadata": {},
   "source": [
    "## Configuración de variables globales"
   ]
  },
  {
   "cell_type": "code",
   "execution_count": 31,
   "metadata": {},
   "outputs": [],
   "source": [
    "with open('setup.json', 'r') as f:\n",
    "    SETUP_JSON = json.load(f)\n",
    "FINAL_DATASET = SETUP_JSON['final_dataset']\n",
    "LEARNING_RATE = SETUP_JSON['learning_rate']\n",
    "EPOCHS = SETUP_JSON['epochs']"
   ]
  },
  {
   "cell_type": "markdown",
   "metadata": {},
   "source": [
    "## Cargar el dataset"
   ]
  },
  {
   "cell_type": "code",
   "execution_count": 32,
   "metadata": {},
   "outputs": [
    {
     "data": {
      "text/plain": [
       "(8247888, 34)"
      ]
     },
     "execution_count": 32,
     "metadata": {},
     "output_type": "execute_result"
    }
   ],
   "source": [
    "df = pd.read_parquet(FINAL_DATASET) # Leer dataset final\n",
    "df.shape"
   ]
  },
  {
   "cell_type": "code",
   "execution_count": 33,
   "metadata": {},
   "outputs": [
    {
     "data": {
      "text/html": [
       "<div>\n",
       "<style scoped>\n",
       "    .dataframe tbody tr th:only-of-type {\n",
       "        vertical-align: middle;\n",
       "    }\n",
       "\n",
       "    .dataframe tbody tr th {\n",
       "        vertical-align: top;\n",
       "    }\n",
       "\n",
       "    .dataframe thead th {\n",
       "        text-align: right;\n",
       "    }\n",
       "</style>\n",
       "<table border=\"1\" class=\"dataframe\">\n",
       "  <thead>\n",
       "    <tr style=\"text-align: right;\">\n",
       "      <th></th>\n",
       "      <th>Timestamp</th>\n",
       "      <th>Dst Port</th>\n",
       "      <th>Protocol</th>\n",
       "      <th>Tot Fwd Pkts</th>\n",
       "      <th>TotLen Fwd Pkts</th>\n",
       "      <th>Fwd Pkt Len Max</th>\n",
       "      <th>Fwd Pkt Len Mean</th>\n",
       "      <th>Bwd Pkt Len Max</th>\n",
       "      <th>Bwd Pkt Len Min</th>\n",
       "      <th>Bwd Pkt Len Mean</th>\n",
       "      <th>...</th>\n",
       "      <th>Fwd Seg Size Avg</th>\n",
       "      <th>Bwd Seg Size Avg</th>\n",
       "      <th>Subflow Fwd Pkts</th>\n",
       "      <th>Subflow Fwd Byts</th>\n",
       "      <th>Init Fwd Win Byts</th>\n",
       "      <th>Fwd Act Data Pkts</th>\n",
       "      <th>Fwd Seg Size Min</th>\n",
       "      <th>Label</th>\n",
       "      <th>Label Code</th>\n",
       "      <th>Sequence ID</th>\n",
       "    </tr>\n",
       "  </thead>\n",
       "  <tbody>\n",
       "    <tr>\n",
       "      <th>0</th>\n",
       "      <td>0.866025</td>\n",
       "      <td>0</td>\n",
       "      <td>0</td>\n",
       "      <td>3.0</td>\n",
       "      <td>0.0</td>\n",
       "      <td>0.0</td>\n",
       "      <td>0.000000</td>\n",
       "      <td>0.0</td>\n",
       "      <td>0.0</td>\n",
       "      <td>0.000000</td>\n",
       "      <td>...</td>\n",
       "      <td>0.000000</td>\n",
       "      <td>0.000000</td>\n",
       "      <td>3.0</td>\n",
       "      <td>0.0</td>\n",
       "      <td>-1.0</td>\n",
       "      <td>0.0</td>\n",
       "      <td>0.0</td>\n",
       "      <td>Benign</td>\n",
       "      <td>0</td>\n",
       "      <td>1</td>\n",
       "    </tr>\n",
       "    <tr>\n",
       "      <th>1</th>\n",
       "      <td>0.866025</td>\n",
       "      <td>0</td>\n",
       "      <td>0</td>\n",
       "      <td>3.0</td>\n",
       "      <td>0.0</td>\n",
       "      <td>0.0</td>\n",
       "      <td>0.000000</td>\n",
       "      <td>0.0</td>\n",
       "      <td>0.0</td>\n",
       "      <td>0.000000</td>\n",
       "      <td>...</td>\n",
       "      <td>0.000000</td>\n",
       "      <td>0.000000</td>\n",
       "      <td>3.0</td>\n",
       "      <td>0.0</td>\n",
       "      <td>-1.0</td>\n",
       "      <td>0.0</td>\n",
       "      <td>0.0</td>\n",
       "      <td>Benign</td>\n",
       "      <td>0</td>\n",
       "      <td>1</td>\n",
       "    </tr>\n",
       "    <tr>\n",
       "      <th>2</th>\n",
       "      <td>0.866025</td>\n",
       "      <td>0</td>\n",
       "      <td>0</td>\n",
       "      <td>3.0</td>\n",
       "      <td>0.0</td>\n",
       "      <td>0.0</td>\n",
       "      <td>0.000000</td>\n",
       "      <td>0.0</td>\n",
       "      <td>0.0</td>\n",
       "      <td>0.000000</td>\n",
       "      <td>...</td>\n",
       "      <td>0.000000</td>\n",
       "      <td>0.000000</td>\n",
       "      <td>3.0</td>\n",
       "      <td>0.0</td>\n",
       "      <td>-1.0</td>\n",
       "      <td>0.0</td>\n",
       "      <td>0.0</td>\n",
       "      <td>Benign</td>\n",
       "      <td>0</td>\n",
       "      <td>1</td>\n",
       "    </tr>\n",
       "    <tr>\n",
       "      <th>3</th>\n",
       "      <td>0.866025</td>\n",
       "      <td>22</td>\n",
       "      <td>6</td>\n",
       "      <td>15.0</td>\n",
       "      <td>1239.0</td>\n",
       "      <td>744.0</td>\n",
       "      <td>82.600000</td>\n",
       "      <td>976.0</td>\n",
       "      <td>0.0</td>\n",
       "      <td>227.300000</td>\n",
       "      <td>...</td>\n",
       "      <td>82.600000</td>\n",
       "      <td>227.300000</td>\n",
       "      <td>15.0</td>\n",
       "      <td>1239.0</td>\n",
       "      <td>65535.0</td>\n",
       "      <td>6.0</td>\n",
       "      <td>32.0</td>\n",
       "      <td>Benign</td>\n",
       "      <td>0</td>\n",
       "      <td>1</td>\n",
       "    </tr>\n",
       "    <tr>\n",
       "      <th>4</th>\n",
       "      <td>0.866025</td>\n",
       "      <td>22</td>\n",
       "      <td>6</td>\n",
       "      <td>14.0</td>\n",
       "      <td>1143.0</td>\n",
       "      <td>744.0</td>\n",
       "      <td>81.642857</td>\n",
       "      <td>976.0</td>\n",
       "      <td>0.0</td>\n",
       "      <td>200.818182</td>\n",
       "      <td>...</td>\n",
       "      <td>81.642857</td>\n",
       "      <td>200.818182</td>\n",
       "      <td>14.0</td>\n",
       "      <td>1143.0</td>\n",
       "      <td>5808.0</td>\n",
       "      <td>6.0</td>\n",
       "      <td>32.0</td>\n",
       "      <td>Benign</td>\n",
       "      <td>0</td>\n",
       "      <td>1</td>\n",
       "    </tr>\n",
       "  </tbody>\n",
       "</table>\n",
       "<p>5 rows × 34 columns</p>\n",
       "</div>"
      ],
      "text/plain": [
       "   Timestamp  Dst Port  Protocol  Tot Fwd Pkts  TotLen Fwd Pkts  \\\n",
       "0   0.866025         0         0           3.0              0.0   \n",
       "1   0.866025         0         0           3.0              0.0   \n",
       "2   0.866025         0         0           3.0              0.0   \n",
       "3   0.866025        22         6          15.0           1239.0   \n",
       "4   0.866025        22         6          14.0           1143.0   \n",
       "\n",
       "   Fwd Pkt Len Max  Fwd Pkt Len Mean  Bwd Pkt Len Max  Bwd Pkt Len Min  \\\n",
       "0              0.0          0.000000              0.0              0.0   \n",
       "1              0.0          0.000000              0.0              0.0   \n",
       "2              0.0          0.000000              0.0              0.0   \n",
       "3            744.0         82.600000            976.0              0.0   \n",
       "4            744.0         81.642857            976.0              0.0   \n",
       "\n",
       "   Bwd Pkt Len Mean  ...  Fwd Seg Size Avg  Bwd Seg Size Avg  \\\n",
       "0          0.000000  ...          0.000000          0.000000   \n",
       "1          0.000000  ...          0.000000          0.000000   \n",
       "2          0.000000  ...          0.000000          0.000000   \n",
       "3        227.300000  ...         82.600000        227.300000   \n",
       "4        200.818182  ...         81.642857        200.818182   \n",
       "\n",
       "   Subflow Fwd Pkts  Subflow Fwd Byts  Init Fwd Win Byts  Fwd Act Data Pkts  \\\n",
       "0               3.0               0.0               -1.0                0.0   \n",
       "1               3.0               0.0               -1.0                0.0   \n",
       "2               3.0               0.0               -1.0                0.0   \n",
       "3              15.0            1239.0            65535.0                6.0   \n",
       "4              14.0            1143.0             5808.0                6.0   \n",
       "\n",
       "   Fwd Seg Size Min   Label  Label Code  Sequence ID  \n",
       "0               0.0  Benign           0            1  \n",
       "1               0.0  Benign           0            1  \n",
       "2               0.0  Benign           0            1  \n",
       "3              32.0  Benign           0            1  \n",
       "4              32.0  Benign           0            1  \n",
       "\n",
       "[5 rows x 34 columns]"
      ]
     },
     "execution_count": 33,
     "metadata": {},
     "output_type": "execute_result"
    }
   ],
   "source": [
    "df.head()"
   ]
  },
  {
   "cell_type": "markdown",
   "metadata": {},
   "source": [
    "## Invertir el mapeo de etiquetas"
   ]
  },
  {
   "cell_type": "code",
   "execution_count": 34,
   "metadata": {},
   "outputs": [
    {
     "data": {
      "text/plain": [
       "{0: 'Benign',\n",
       " 1: 'FTP-BruteForce',\n",
       " 2: 'SSH-Bruteforce',\n",
       " 3: 'DoS attacks-GoldenEye',\n",
       " 4: 'DoS attacks-Slowloris',\n",
       " 5: 'DoS attacks-SlowHTTPTest',\n",
       " 6: 'DoS attacks-Hulk',\n",
       " 7: 'DDOS attack-LOIC-UDP',\n",
       " 8: 'DDOS attack-HOIC',\n",
       " 9: 'Brute Force -Web',\n",
       " 10: 'Brute Force -XSS',\n",
       " 11: 'SQL Injection',\n",
       " 12: 'Infilteration',\n",
       " 13: 'Bot'}"
      ]
     },
     "execution_count": 34,
     "metadata": {},
     "output_type": "execute_result"
    }
   ],
   "source": [
    "# Mapeo de etiquetas\n",
    "labels = df['Label'].unique()\n",
    "labels_codes = df['Label Code'].unique()\n",
    "label_mapping = {int(label_code): label for label_code, label in zip(labels_codes, labels)}\n",
    "label_mapping"
   ]
  },
  {
   "cell_type": "markdown",
   "metadata": {},
   "source": [
    "## Extracción de secuencias de paquetes"
   ]
  },
  {
   "cell_type": "code",
   "execution_count": 35,
   "metadata": {},
   "outputs": [
    {
     "name": "stdout",
     "output_type": "stream",
     "text": [
      "Total de secuencias: 939866\n"
     ]
    }
   ],
   "source": [
    "# Obtener una lista de DataFrames de secuencias\n",
    "sequences = [group_df for _, group_df in df.groupby('Sequence ID')] # Modificado para mantener 'Sequence ID'\n",
    "print(f\"Total de secuencias: {len(sequences)}\")"
   ]
  },
  {
   "cell_type": "code",
   "execution_count": 36,
   "metadata": {},
   "outputs": [
    {
     "data": {
      "text/html": [
       "<div>\n",
       "<style scoped>\n",
       "    .dataframe tbody tr th:only-of-type {\n",
       "        vertical-align: middle;\n",
       "    }\n",
       "\n",
       "    .dataframe tbody tr th {\n",
       "        vertical-align: top;\n",
       "    }\n",
       "\n",
       "    .dataframe thead th {\n",
       "        text-align: right;\n",
       "    }\n",
       "</style>\n",
       "<table border=\"1\" class=\"dataframe\">\n",
       "  <thead>\n",
       "    <tr style=\"text-align: right;\">\n",
       "      <th></th>\n",
       "      <th>Timestamp</th>\n",
       "      <th>Dst Port</th>\n",
       "      <th>Protocol</th>\n",
       "      <th>Tot Fwd Pkts</th>\n",
       "      <th>TotLen Fwd Pkts</th>\n",
       "      <th>Fwd Pkt Len Max</th>\n",
       "      <th>Fwd Pkt Len Mean</th>\n",
       "      <th>Bwd Pkt Len Max</th>\n",
       "      <th>Bwd Pkt Len Min</th>\n",
       "      <th>Bwd Pkt Len Mean</th>\n",
       "      <th>...</th>\n",
       "      <th>Fwd Seg Size Avg</th>\n",
       "      <th>Bwd Seg Size Avg</th>\n",
       "      <th>Subflow Fwd Pkts</th>\n",
       "      <th>Subflow Fwd Byts</th>\n",
       "      <th>Init Fwd Win Byts</th>\n",
       "      <th>Fwd Act Data Pkts</th>\n",
       "      <th>Fwd Seg Size Min</th>\n",
       "      <th>Label</th>\n",
       "      <th>Label Code</th>\n",
       "      <th>Sequence ID</th>\n",
       "    </tr>\n",
       "  </thead>\n",
       "  <tbody>\n",
       "    <tr>\n",
       "      <th>0</th>\n",
       "      <td>0.866025</td>\n",
       "      <td>0</td>\n",
       "      <td>0</td>\n",
       "      <td>3.0</td>\n",
       "      <td>0.0</td>\n",
       "      <td>0.0</td>\n",
       "      <td>0.000000</td>\n",
       "      <td>0.0</td>\n",
       "      <td>0.0</td>\n",
       "      <td>0.000000</td>\n",
       "      <td>...</td>\n",
       "      <td>0.000000</td>\n",
       "      <td>0.000000</td>\n",
       "      <td>3.0</td>\n",
       "      <td>0.0</td>\n",
       "      <td>-1.0</td>\n",
       "      <td>0.0</td>\n",
       "      <td>0.0</td>\n",
       "      <td>Benign</td>\n",
       "      <td>0</td>\n",
       "      <td>1</td>\n",
       "    </tr>\n",
       "    <tr>\n",
       "      <th>1</th>\n",
       "      <td>0.866025</td>\n",
       "      <td>0</td>\n",
       "      <td>0</td>\n",
       "      <td>3.0</td>\n",
       "      <td>0.0</td>\n",
       "      <td>0.0</td>\n",
       "      <td>0.000000</td>\n",
       "      <td>0.0</td>\n",
       "      <td>0.0</td>\n",
       "      <td>0.000000</td>\n",
       "      <td>...</td>\n",
       "      <td>0.000000</td>\n",
       "      <td>0.000000</td>\n",
       "      <td>3.0</td>\n",
       "      <td>0.0</td>\n",
       "      <td>-1.0</td>\n",
       "      <td>0.0</td>\n",
       "      <td>0.0</td>\n",
       "      <td>Benign</td>\n",
       "      <td>0</td>\n",
       "      <td>1</td>\n",
       "    </tr>\n",
       "    <tr>\n",
       "      <th>2</th>\n",
       "      <td>0.866025</td>\n",
       "      <td>0</td>\n",
       "      <td>0</td>\n",
       "      <td>3.0</td>\n",
       "      <td>0.0</td>\n",
       "      <td>0.0</td>\n",
       "      <td>0.000000</td>\n",
       "      <td>0.0</td>\n",
       "      <td>0.0</td>\n",
       "      <td>0.000000</td>\n",
       "      <td>...</td>\n",
       "      <td>0.000000</td>\n",
       "      <td>0.000000</td>\n",
       "      <td>3.0</td>\n",
       "      <td>0.0</td>\n",
       "      <td>-1.0</td>\n",
       "      <td>0.0</td>\n",
       "      <td>0.0</td>\n",
       "      <td>Benign</td>\n",
       "      <td>0</td>\n",
       "      <td>1</td>\n",
       "    </tr>\n",
       "    <tr>\n",
       "      <th>3</th>\n",
       "      <td>0.866025</td>\n",
       "      <td>22</td>\n",
       "      <td>6</td>\n",
       "      <td>15.0</td>\n",
       "      <td>1239.0</td>\n",
       "      <td>744.0</td>\n",
       "      <td>82.600000</td>\n",
       "      <td>976.0</td>\n",
       "      <td>0.0</td>\n",
       "      <td>227.300000</td>\n",
       "      <td>...</td>\n",
       "      <td>82.600000</td>\n",
       "      <td>227.300000</td>\n",
       "      <td>15.0</td>\n",
       "      <td>1239.0</td>\n",
       "      <td>65535.0</td>\n",
       "      <td>6.0</td>\n",
       "      <td>32.0</td>\n",
       "      <td>Benign</td>\n",
       "      <td>0</td>\n",
       "      <td>1</td>\n",
       "    </tr>\n",
       "    <tr>\n",
       "      <th>4</th>\n",
       "      <td>0.866025</td>\n",
       "      <td>22</td>\n",
       "      <td>6</td>\n",
       "      <td>14.0</td>\n",
       "      <td>1143.0</td>\n",
       "      <td>744.0</td>\n",
       "      <td>81.642857</td>\n",
       "      <td>976.0</td>\n",
       "      <td>0.0</td>\n",
       "      <td>200.818182</td>\n",
       "      <td>...</td>\n",
       "      <td>81.642857</td>\n",
       "      <td>200.818182</td>\n",
       "      <td>14.0</td>\n",
       "      <td>1143.0</td>\n",
       "      <td>5808.0</td>\n",
       "      <td>6.0</td>\n",
       "      <td>32.0</td>\n",
       "      <td>Benign</td>\n",
       "      <td>0</td>\n",
       "      <td>1</td>\n",
       "    </tr>\n",
       "  </tbody>\n",
       "</table>\n",
       "<p>5 rows × 34 columns</p>\n",
       "</div>"
      ],
      "text/plain": [
       "   Timestamp  Dst Port  Protocol  Tot Fwd Pkts  TotLen Fwd Pkts  \\\n",
       "0   0.866025         0         0           3.0              0.0   \n",
       "1   0.866025         0         0           3.0              0.0   \n",
       "2   0.866025         0         0           3.0              0.0   \n",
       "3   0.866025        22         6          15.0           1239.0   \n",
       "4   0.866025        22         6          14.0           1143.0   \n",
       "\n",
       "   Fwd Pkt Len Max  Fwd Pkt Len Mean  Bwd Pkt Len Max  Bwd Pkt Len Min  \\\n",
       "0              0.0          0.000000              0.0              0.0   \n",
       "1              0.0          0.000000              0.0              0.0   \n",
       "2              0.0          0.000000              0.0              0.0   \n",
       "3            744.0         82.600000            976.0              0.0   \n",
       "4            744.0         81.642857            976.0              0.0   \n",
       "\n",
       "   Bwd Pkt Len Mean  ...  Fwd Seg Size Avg  Bwd Seg Size Avg  \\\n",
       "0          0.000000  ...          0.000000          0.000000   \n",
       "1          0.000000  ...          0.000000          0.000000   \n",
       "2          0.000000  ...          0.000000          0.000000   \n",
       "3        227.300000  ...         82.600000        227.300000   \n",
       "4        200.818182  ...         81.642857        200.818182   \n",
       "\n",
       "   Subflow Fwd Pkts  Subflow Fwd Byts  Init Fwd Win Byts  Fwd Act Data Pkts  \\\n",
       "0               3.0               0.0               -1.0                0.0   \n",
       "1               3.0               0.0               -1.0                0.0   \n",
       "2               3.0               0.0               -1.0                0.0   \n",
       "3              15.0            1239.0            65535.0                6.0   \n",
       "4              14.0            1143.0             5808.0                6.0   \n",
       "\n",
       "   Fwd Seg Size Min   Label  Label Code  Sequence ID  \n",
       "0               0.0  Benign           0            1  \n",
       "1               0.0  Benign           0            1  \n",
       "2               0.0  Benign           0            1  \n",
       "3              32.0  Benign           0            1  \n",
       "4              32.0  Benign           0            1  \n",
       "\n",
       "[5 rows x 34 columns]"
      ]
     },
     "execution_count": 36,
     "metadata": {},
     "output_type": "execute_result"
    }
   ],
   "source": [
    "sequences[0].head()"
   ]
  },
  {
   "cell_type": "markdown",
   "metadata": {},
   "source": [
    "## Balanceo de clases"
   ]
  },
  {
   "cell_type": "markdown",
   "metadata": {},
   "source": [
    "Vemos que las clases están desbalanceadas"
   ]
  },
  {
   "cell_type": "code",
   "execution_count": null,
   "metadata": {},
   "outputs": [],
   "source": [
    "sequences_df = pd.DataFrame({\n",
    "    'Clase': [seq['Label'].iloc[0] for seq in sequences]\n",
    "})\n",
    "sequences_df['Clase'].value_counts()"
   ]
  },
  {
   "cell_type": "markdown",
   "metadata": {},
   "source": [
    "Establecer la mediana como número máximo de secuencias por cada clase"
   ]
  },
  {
   "cell_type": "code",
   "execution_count": null,
   "metadata": {},
   "outputs": [
    {
     "name": "stdout",
     "output_type": "stream",
     "text": [
      "Número máximo de secuencias: 5881\n"
     ]
    }
   ],
   "source": [
    "max_sequences = int(sequences_df['Clase'].value_counts().median())\n",
    "print(f\"Número máximo de secuencias: {max_sequences}\")"
   ]
  },
  {
   "cell_type": "markdown",
   "metadata": {},
   "source": [
    "Agrupar secuencias por clase"
   ]
  },
  {
   "cell_type": "code",
   "execution_count": null,
   "metadata": {},
   "outputs": [],
   "source": [
    "# Agrupar secuencias por ID de secuencia (en lugar de clase)\n",
    "sequences_by_id = defaultdict(list)\n",
    "for seq_df in sequences:\n",
    "    sequence_id_val = seq_df['Sequence ID'].iloc[0]  # Obtener el ID de la secuencia\n",
    "    sequences_by_id[sequence_id_val].append(seq_df)  # Agrupar por ID de secuencia"
   ]
  },
  {
   "cell_type": "markdown",
   "metadata": {},
   "source": [
    "Aplicar submuestreo aleatorio para las clases con más secuencias"
   ]
  },
  {
   "cell_type": "code",
   "execution_count": null,
   "metadata": {},
   "outputs": [
    {
     "name": "stdout",
     "output_type": "stream",
     "text": [
      "Total de secuencias: 939866\n"
     ]
    }
   ],
   "source": [
    "balanced_sequences_list = []\n",
    "# Recorrer cada ID de secuencia y su lista de DataFrames (que contendrá un solo DataFrame)\n",
    "for id_val, sequence_list in sequences_by_id.items(): # Modificado desde sequences_by_class.values()\n",
    "    # La lógica de submuestreo original se basaba en tener múltiples secuencias (flujos) por CLASE.\n",
    "    # Ahora, cada grupo (por ID de secuencia) tiene solo una secuencia (un DataFrame).\n",
    "    # len(sequence_list) será 1.\n",
    "    # La condición `if len(sequence_list) > max_sequences:` (es decir, `if 1 > max_sequences`)\n",
    "    # significa que el submuestreo original no se aplicará a menos que max_sequences sea 0.\n",
    "    # Esto efectivamente elimina el balanceo de clases si max_sequences >= 1.\n",
    "    if len(sequence_list) > max_sequences:\n",
    "        sequence_list = random.sample(sequence_list, max_sequences)\n",
    "    balanced_sequences_list.extend(sequence_list)\n",
    "\n",
    "sequences = balanced_sequences_list # Actualizar la variable sequences\n",
    "\n",
    "# Mostrar cuántas secuencias se obtuvieron en total tras el cambio en la agrupación\n",
    "print(f\"Total de secuencias: {len(sequences)}\")"
   ]
  },
  {
   "cell_type": "markdown",
   "metadata": {},
   "source": [
    "Vemos que ahora las clases están más balanceadas"
   ]
  },
  {
   "cell_type": "code",
   "execution_count": null,
   "metadata": {},
   "outputs": [
    {
     "data": {
      "text/plain": [
       "Clase\n",
       "Benign                      458797\n",
       "DoS attacks-Hulk            246538\n",
       "DDOS attack-HOIC            172030\n",
       "Infilteration                29269\n",
       "SSH-Bruteforce                8342\n",
       "FTP-BruteForce                7557\n",
       "Bot                           6737\n",
       "DoS attacks-GoldenEye         5026\n",
       "DoS attacks-Slowloris         4668\n",
       "DDOS attack-LOIC-UDP           635\n",
       "Brute Force -XSS               109\n",
       "Brute Force -Web                73\n",
       "DoS attacks-SlowHTTPTest        53\n",
       "SQL Injection                   32\n",
       "Name: count, dtype: int64"
      ]
     },
     "execution_count": 12,
     "metadata": {},
     "output_type": "execute_result"
    }
   ],
   "source": [
    "sequence_df = pd.DataFrame({\n",
    "    'Clase': [seq['Label'].iloc[0] for seq in sequences],\n",
    "    'Longitud': [len(seq) for seq in sequences]\n",
    "})\n",
    "sequence_df['Clase'].value_counts()"
   ]
  },
  {
   "cell_type": "markdown",
   "metadata": {},
   "source": [
    "## Separación de datos"
   ]
  },
  {
   "cell_type": "markdown",
   "metadata": {},
   "source": [
    "Definir la longitud promedio como longitud fija para cada secuencia"
   ]
  },
  {
   "cell_type": "code",
   "execution_count": null,
   "metadata": {},
   "outputs": [
    {
     "name": "stdout",
     "output_type": "stream",
     "text": [
      "Longitud promedio de secuencia: 8\n"
     ]
    }
   ],
   "source": [
    "# Definir la longitud media como longitud fija de cada secuencia\n",
    "sequence_length = int(np.mean(sequence_df['Longitud']))\n",
    "print(f\"Longitud promedio de secuencia: {sequence_length}\")"
   ]
  },
  {
   "cell_type": "markdown",
   "metadata": {},
   "source": [
    "Forzamos la longitud obtenida para secuencia y separamos las secuencias en X e y"
   ]
  },
  {
   "cell_type": "code",
   "execution_count": null,
   "metadata": {},
   "outputs": [
    {
     "data": {
      "text/plain": [
       "((939866, 8, 31), (939866,))"
      ]
     },
     "execution_count": 14,
     "metadata": {},
     "output_type": "execute_result"
    }
   ],
   "source": [
    "# Definir las columnas de características y el número de características\n",
    "# Esto se hace aquí porque 'sequences[0]' ahora contiene 'Sequence ID'\n",
    "# Primero, eliminamos explícitamente 'Sequence ID' de cada DataFrame en la lista 'sequences'\n",
    "# ya que no se utilizará como característica para el modelo.\n",
    "sequences_for_features = []\n",
    "if sequences: # Asegurarse de que la lista 'sequences' no esté vacía\n",
    "    for seq_df_item in sequences:\n",
    "        sequences_for_features.append(seq_df_item.drop(columns=['Sequence ID'], errors='ignore'))\n",
    "\n",
    "# Definir las columnas de características y el número de características.\n",
    "# 'Sequence ID' ya ha sido eliminada de los DataFrames en 'sequences_for_features'.\n",
    "if sequences_for_features:\n",
    "    feature_columns = [col for col in sequences_for_features[0].columns if col not in ['Label', 'Label Code']]\n",
    "else:\n",
    "    feature_columns = [] # Manejar el caso de lista vacía, aunque no debería ocurrir.\n",
    "num_features = len(feature_columns)\n",
    "X_list = []\n",
    "y_list = []\n",
    "\n",
    "for seq_df in sequences_for_features: # Iterar sobre las secuencias ya procesadas\n",
    "    sequence_X_data = seq_df[feature_columns].to_numpy() # Obtener las características como numpy array\n",
    "    sequence_Y_data = seq_df['Label Code'].iloc[0] # Obtener el código de la etiqueta\n",
    "\n",
    "    # Ajustar longitud fija para cada secuencia\n",
    "    current_len = sequence_X_data.shape[0]\n",
    "    if current_len < sequence_length:\n",
    "        # Rellenar con ceros\n",
    "        pad_width_rows = sequence_length - current_len\n",
    "        sequence_X_padded = np.pad(sequence_X_data, ((0, pad_width_rows), (0, 0)), mode='constant')\n",
    "\n",
    "    else:\n",
    "        # Recortar\n",
    "        sequence_X_padded = sequence_X_data[:sequence_length, :]\n",
    "        \n",
    "    X_list.append(sequence_X_padded)\n",
    "    y_list.append(sequence_Y_data)\n",
    "\n",
    "\n",
    "X = np.array(X_list)\n",
    "y = np.array(y_list)\n",
    "X.shape, y.shape"
   ]
  },
  {
   "cell_type": "markdown",
   "metadata": {},
   "source": [
    "Escalamiento de características"
   ]
  },
  {
   "cell_type": "code",
   "execution_count": null,
   "metadata": {},
   "outputs": [],
   "source": [
    "# num_features ahora se define en la celda anterior a partir de feature_columns\n",
    "scaler = StandardScaler()\n",
    "X_reshaped = X.reshape(-1, num_features) # num_features viene de la celda anterior\n",
    "X_scaled_reshaped = scaler.fit_transform(X_reshaped)\n",
    "X = X_scaled_reshaped.reshape(len(y), sequence_length, num_features)"
   ]
  },
  {
   "cell_type": "code",
   "execution_count": null,
   "metadata": {},
   "outputs": [
    {
     "data": {
      "text/plain": [
       "array([ 4.27309706, -0.33489362, -0.50585653, -0.01310353, -0.0160788 ,\n",
       "       -0.33792127, -0.34425248, -0.30775445, -0.09505597, -0.33028588,\n",
       "       -0.06224859, -0.0459007 , -0.05463007, -0.0273703 , -0.01593586,\n",
       "       -0.06104951, -0.05810892, -0.34246668, -0.35265004, -0.34741537,\n",
       "       -0.25552332, -0.43275688, -0.08352191, -0.35553421, -0.34425248,\n",
       "       -0.33028588, -0.01310353, -0.0160788 , -0.32107117, -0.01439671,\n",
       "       -0.52087017])"
      ]
     },
     "execution_count": 16,
     "metadata": {},
     "output_type": "execute_result"
    }
   ],
   "source": [
    "X[0][0]"
   ]
  },
  {
   "cell_type": "markdown",
   "metadata": {},
   "source": [
    "## Separar secuencias en entrenamiento, validación y prueba"
   ]
  },
  {
   "cell_type": "markdown",
   "metadata": {},
   "source": [
    "Separación de datos"
   ]
  },
  {
   "cell_type": "code",
   "execution_count": null,
   "metadata": {},
   "outputs": [
    {
     "name": "stdout",
     "output_type": "stream",
     "text": [
      "Conjunto de entrenamiento: (601513, 8, 31), (601513,)\n",
      "Conjunto de validación: (150379, 8, 31), (150379,)\n",
      "Conjunto de prueba: (187974, 8, 31), (187974,)\n"
     ]
    }
   ],
   "source": [
    "# Separar en conjuntos de entrenamiento, validación y prueba\n",
    "X_train, X_test, y_train, y_test = train_test_split(X, y, test_size=0.2, stratify=y)\n",
    "X_train, X_val, y_train, y_val = train_test_split(X_train, y_train, test_size=0.2, stratify=y_train)\n",
    "\n",
    "print(f\"Conjunto de entrenamiento: {X_train.shape}, {y_train.shape}\")\n",
    "print(f\"Conjunto de validación: {X_val.shape}, {y_val.shape}\")\n",
    "print(f\"Conjunto de prueba: {X_test.shape}, {y_test.shape}\")"
   ]
  },
  {
   "cell_type": "markdown",
   "metadata": {},
   "source": [
    "Convertir a formato adecuado de entrada para el modelo"
   ]
  },
  {
   "cell_type": "code",
   "execution_count": null,
   "metadata": {},
   "outputs": [],
   "source": [
    "# Convertir a tensores\n",
    "X_train_tensor = torch.tensor(X_train, dtype=torch.float32)\n",
    "y_train_tensor = torch.tensor(y_train, dtype=torch.long)\n",
    "X_val_tensor = torch.tensor(X_val, dtype=torch.float32)\n",
    "y_val_tensor = torch.tensor(y_val, dtype=torch.long)\n",
    "X_test_tensor = torch.tensor(X_test, dtype=torch.float32)\n",
    "y_test_tensor = torch.tensor(y_test, dtype=torch.long)"
   ]
  },
  {
   "cell_type": "markdown",
   "metadata": {},
   "source": [
    "## Inicialización del modelo"
   ]
  },
  {
   "cell_type": "code",
   "execution_count": null,
   "metadata": {},
   "outputs": [],
   "source": [
    "# Modelo LSTM\n",
    "class NetFlowLSTM(nn.Module):\n",
    "    def __init__(self, input_dim, hidden_dim, output_dim):\n",
    "        super().__init__()\n",
    "        self.lstm = nn.LSTM(input_dim, hidden_dim, batch_first=True)\n",
    "        self.classifier = nn.Linear(hidden_dim, output_dim)\n",
    "\n",
    "    def forward(self, x):\n",
    "        _, (h_n, _) = self.lstm(x)         # h_n shape: (1, batch, hidden)\n",
    "        return self.classifier(h_n[-1])    # usar último estado oculto\n",
    "\n",
    "model = NetFlowLSTM(input_dim=num_features, hidden_dim=32, output_dim=len(labels))"
   ]
  },
  {
   "cell_type": "markdown",
   "metadata": {},
   "source": [
    "## Entrenamiento"
   ]
  },
  {
   "cell_type": "markdown",
   "metadata": {},
   "source": [
    "Configuración del entrenamiento"
   ]
  },
  {
   "cell_type": "code",
   "execution_count": null,
   "metadata": {},
   "outputs": [],
   "source": [
    "\"\"\"# Configurar entrenamiento\n",
    "weights = torch.tensor([0.3] + [1.0] * (len(labels) - 1))  # clase 0 = benigno, clase 1 = ataque\"\"\"\n",
    "criterion = nn.CrossEntropyLoss()\n",
    "optimizer = torch.optim.Adam(model.parameters(), lr=LEARNING_RATE)"
   ]
  },
  {
   "cell_type": "code",
   "execution_count": null,
   "metadata": {},
   "outputs": [],
   "source": [
    "# Función de predicción\n",
    "def predict(model, X_tensor):\n",
    "    model.eval()\n",
    "    with torch.no_grad():\n",
    "        outputs = model(X_tensor)\n",
    "    return outputs"
   ]
  },
  {
   "cell_type": "code",
   "execution_count": null,
   "metadata": {},
   "outputs": [],
   "source": [
    "# Función de evaluación\n",
    "def evaluate_model(pred, y_tensor):\n",
    "    loss = criterion(pred, y_tensor)\n",
    "    pred = torch.argmax(pred, dim=1)\n",
    "    acc = (pred == y_tensor).float().mean()\n",
    "    return loss.item(), acc.item()"
   ]
  },
  {
   "cell_type": "markdown",
   "metadata": {},
   "source": [
    "Entrenamiento del modelo"
   ]
  },
  {
   "cell_type": "code",
   "execution_count": null,
   "metadata": {},
   "outputs": [
    {
     "name": "stdout",
     "output_type": "stream",
     "text": [
      "Epoch 10 | Loss: 1.3420 | Val Loss: 1.3259 | Val Acc: 0.48\n",
      "Epoch 20 | Loss: 1.1893 | Val Loss: 1.1642 | Val Acc: 0.49\n",
      "Epoch 30 | Loss: 0.9316 | Val Loss: 0.8927 | Val Acc: 0.76\n",
      "Epoch 40 | Loss: 0.5989 | Val Loss: 0.5741 | Val Acc: 0.85\n",
      "Epoch 50 | Loss: 0.3794 | Val Loss: 0.3639 | Val Acc: 0.93\n",
      "Epoch 60 | Loss: 0.2712 | Val Loss: 0.2624 | Val Acc: 0.93\n",
      "Epoch 70 | Loss: 0.1852 | Val Loss: 0.1779 | Val Acc: 0.94\n",
      "Epoch 80 | Loss: 0.1414 | Val Loss: 0.1359 | Val Acc: 0.96\n",
      "Epoch 90 | Loss: 0.1131 | Val Loss: 0.1093 | Val Acc: 0.97\n",
      "Epoch 100 | Loss: 0.0921 | Val Loss: 0.0890 | Val Acc: 0.98\n"
     ]
    }
   ],
   "source": [
    "val_losses, val_accuracies = [], []\n",
    "\n",
    "for epoch in range(EPOCHS):\n",
    "    # Entrenamiento\n",
    "    model.train()\n",
    "    optimizer.zero_grad()\n",
    "    outputs = model(X_train_tensor)\n",
    "    loss = criterion(outputs, y_train_tensor)\n",
    "    loss.backward()\n",
    "    optimizer.step()\n",
    "\n",
    "    val_pred = predict(model, X_val_tensor) # Predicción\n",
    "    val_loss, val_acc = evaluate_model(val_pred, y_val_tensor) # Evaluación\n",
    "\n",
    "    val_losses.append(val_loss)\n",
    "    val_accuracies.append(val_acc)\n",
    "\n",
    "    if (epoch + 1) % 10 == 0:\n",
    "        print(f\"Epoch {epoch+1:02d} | Loss: {loss.item():.4f} | Val Loss: {val_loss:.4f} | Val Acc: {val_acc:.2f}\")"
   ]
  },
  {
   "cell_type": "markdown",
   "metadata": {},
   "source": [
    "## Gráfica del entrenamiento"
   ]
  },
  {
   "cell_type": "code",
   "execution_count": null,
   "metadata": {},
   "outputs": [
    {
     "data": {
      "image/png": "[encoded data removed]",
      "text/plain": [
       "<Figure size 1200x500 with 2 Axes>"
      ]
     },
     "metadata": {},
     "output_type": "display_data"
    }
   ],
   "source": [
    "epochs_range = range(1, EPOCHS + 1)\n",
    "\n",
    "plt.figure(figsize=(12, 5))\n",
    "\n",
    "# Pérdidas\n",
    "plt.subplot(1, 2, 1)\n",
    "plt.plot(epochs_range, val_losses, color='red')\n",
    "plt.xlabel(\"Época\")\n",
    "plt.ylabel(\"Pérdida\")\n",
    "plt.title(\"Pérdida durante el entrenamiento\")\n",
    "\n",
    "# Precisión\n",
    "plt.subplot(1, 2, 2)\n",
    "plt.plot(epochs_range, val_accuracies, color='green')\n",
    "plt.xlabel(\"Época\")\n",
    "plt.ylabel(\"Precisión\")\n",
    "plt.title(\"Precisión de validación\")\n",
    "\n",
    "plt.tight_layout()\n",
    "plt.show()"
   ]
  },
  {
   "cell_type": "markdown",
   "metadata": {},
   "source": [
    "## Evaluación"
   ]
  },
  {
   "cell_type": "markdown",
   "metadata": {},
   "source": [
    "Evaluación en el conjunto de test"
   ]
  },
  {
   "cell_type": "code",
   "execution_count": null,
   "metadata": {},
   "outputs": [
    {
     "name": "stdout",
     "output_type": "stream",
     "text": [
      "\n",
      "🔍 Evaluación final en test:\n",
      "Pérdida en test: 0.0891\n",
      "Precisión en test: 0.98\n"
     ]
    }
   ],
   "source": [
    "test_pred = predict(model, X_test_tensor) # Predicción\n",
    "test_loss, test_acc = evaluate_model(test_pred, y_test_tensor) # Evaluación\n",
    "\n",
    "print(f\"\\n🔍 Evaluación final en test:\")\n",
    "print(f\"Pérdida en test: {test_loss:.4f}\")\n",
    "print(f\"Precisión en test: {test_acc:.2f}\")"
   ]
  },
  {
   "cell_type": "markdown",
   "metadata": {},
   "source": [
    "Matriz de confusión de la predicción obtenida"
   ]
  },
  {
   "cell_type": "code",
   "execution_count": null,
   "metadata": {},
   "outputs": [
    {
     "data": {
      "image/png": "[encoded data removed]",
      "text/plain": [
       "<Figure size 1200x1000 with 2 Axes>"
      ]
     },
     "metadata": {},
     "output_type": "display_data"
    }
   ],
   "source": [
    "pred = torch.argmax(test_pred, dim=1).numpy()\n",
    "pred_names = np.array([label_mapping[y] for y in pred])\n",
    "y_test_names = np.array([label_mapping[y] for y in y_test])\n",
    "\n",
    "# Calcular matriz de confusión\n",
    "cm = confusion_matrix(y_test_names, pred_names)\n",
    "\n",
    "# Visualizar\n",
    "plt.figure(figsize=(12, 10))\n",
    "sns.heatmap(\n",
    "\tcm,\n",
    "\tannot=True,\n",
    "\tfmt='d',\n",
    "\tcmap='Blues',\n",
    "\txticklabels=labels,\n",
    "\tyticklabels=labels\n",
    ")\n",
    "plt.xlabel(\"Predicción\")\n",
    "plt.ylabel(\"Real\")\n",
    "plt.title(\"Matriz de Confusión\")\n",
    "plt.show()"
   ]
  },
  {
   "cell_type": "markdown",
   "metadata": {},
   "source": [
    "## Evaluación por clase"
   ]
  },
  {
   "cell_type": "markdown",
   "metadata": {},
   "source": [
    "Evaluación por cada clase en el conjunto de test"
   ]
  },
  {
   "cell_type": "code",
   "execution_count": null,
   "metadata": {},
   "outputs": [
    {
     "name": "stdout",
     "output_type": "stream",
     "text": [
      "Clase: Benign, Pérdida: 0.0450, Precisión: 0.98\n",
      "Clase: FTP-BruteForce, Pérdida: 0.5142, Precisión: 0.99\n",
      "Clase: SSH-Bruteforce, Pérdida: 0.5810, Precisión: 0.94\n",
      "Clase: DoS attacks-GoldenEye, Pérdida: 1.8334, Precisión: 0.24\n",
      "Clase: DoS attacks-Slowloris, Pérdida: 1.2039, Precisión: 0.90\n",
      "Clase: DoS attacks-SlowHTTPTest, Pérdida: 2.9768, Precisión: 0.00\n",
      "Clase: DoS attacks-Hulk, Pérdida: 0.0207, Precisión: 1.00\n",
      "Clase: DDOS attack-LOIC-UDP, Pérdida: 4.0821, Precisión: 0.00\n",
      "Clase: DDOS attack-HOIC, Pérdida: 0.0129, Precisión: 1.00\n",
      "Clase: Brute Force -Web, Pérdida: 7.9294, Precisión: 0.00\n",
      "Clase: Brute Force -XSS, Pérdida: 6.3565, Precisión: 0.00\n",
      "Clase: SQL Injection, Pérdida: 6.6187, Precisión: 0.00\n",
      "Clase: Infilteration, Pérdida: 0.8786, Precisión: 0.67\n",
      "Clase: Bot, Pérdida: 0.3318, Precisión: 0.96\n"
     ]
    }
   ],
   "source": [
    "# Diccionario para almacenar los datos de test por clase\n",
    "test_data_by_class = {}\n",
    "\n",
    "# Almacenar los datos de test por clase\n",
    "for class_label in torch.unique(y_test_tensor):\n",
    "    mask = y_test_tensor == class_label\n",
    "    class_name = label_mapping[class_label.item()]\n",
    "    test_data_by_class[class_name] = {\n",
    "        'X': X_test_tensor[mask],\n",
    "        'y': y_test_tensor[mask]\n",
    "    }\n",
    "\n",
    "for cls, data in test_data_by_class.items():\n",
    "    X_cls, y_cls = data['X'], data['y']\n",
    "    cls_pred = predict(model, X_cls) # Predicción\n",
    "    cls_loss, cls_acc = evaluate_model(cls_pred, y_cls) # Evaluación\n",
    "    print(f\"Clase: {cls}, Pérdida: {cls_loss:.4f}, Precisión: {cls_acc:.2f}\")"
   ]
  },
  {
   "cell_type": "markdown",
   "metadata": {},
   "source": [
    "## Despliegue"
   ]
  },
  {
   "cell_type": "code",
   "execution_count": null,
   "metadata": {},
   "outputs": [],
   "source": [
    "# --- Guardar el Diccionario de Estado del Modelo ---\n",
    "model_save_path = 'flask-csv-api\\\\netflow_lstm_model_state_dict.pth'\n",
    "torch.save(model.state_dict(), model_save_path)\n",
    "\n",
    "# --- Guardar el Escalador ---\n",
    "scaler_save_path = 'flask-csv-api\\\\scaler.joblib'\n",
    "joblib.dump(scaler, scaler_save_path)\n",
    "\n",
    "# --- Guardar el Mapeo de Etiquetas ---\n",
    "label_mapping_save_path = 'flask-csv-api\\\\label_mapping.json'\n",
    "with open(label_mapping_save_path, 'w') as f:\n",
    "    json.dump(label_mapping, f, indent=4)\n",
    "\n",
    "# --- Guardar Parámetros del Modelo (sequence_length, num_features, feature_columns) ---\n",
    "feature_columns = [col for col in sequences[0].columns if col not in ['Label', 'Label Code']]\n",
    "sequence_length = X_train_tensor[0].shape[0]\n",
    "\n",
    "model_params = {\n",
    "    'sequence_length': sequence_length,\n",
    "    'num_features': num_features,\n",
    "    'hidden_dim': model.lstm.hidden_size, # Obtener hidden_dim de la instancia del modelo\n",
    "    'output_dim': model.classifier.out_features, # Obtener output_dim de la instancia del modelo\n",
    "    'feature_columns': feature_columns # Guardar el orden de las columnas de características\n",
    "}\n",
    "\n",
    "# --- Exportar los Parámetros del Modelo ---\n",
    "model_params_save_path = 'flask-csv-api\\\\model_params.json'\n",
    "with open(model_params_save_path, 'w') as f:\n",
    "    json.dump(model_params, f, indent=4)"
   ]
  },
  {
   "cell_type": "code",
   "execution_count": null,
   "metadata": {},
   "outputs": [
    {
     "name": "stdout",
     "output_type": "stream",
     "text": [
      "\n",
      "--- Artefactos para producción: ---\n",
      "1. Diccionario de estado del modelo: flask-csv-api\\netflow_lstm_model_state_dict.pth\n",
      "2. Escalador: flask-csv-api\\scaler.joblib\n",
      "3. Mapeo de etiquetas: flask-csv-api\\label_mapping.json\n",
      "4. Parámetros del modelo (incluyendo orden de características): flask-csv-api\\model_params.json\n",
      "5. La definición de la clase NetFlowLSTM (necesaria para reconstruir el modelo).\n"
     ]
    }
   ],
   "source": [
    "print(\"\\n--- Artefactos para producción: ---\")\n",
    "print(f\"1. Diccionario de estado del modelo: {model_save_path}\")\n",
    "print(f\"2. Escalador: {scaler_save_path}\")\n",
    "print(f\"3. Mapeo de etiquetas: {label_mapping_save_path}\")\n",
    "print(f\"4. Parámetros del modelo (incluyendo orden de características): {model_params_save_path}\")\n",
    "print(f\"5. La definición de la clase NetFlowLSTM (necesaria para reconstruir el modelo).\")"
   ]
  }
 ],
 "metadata": {
  "kernelspec": {
   "display_name": "Python 3",
   "language": "python",
   "name": "python3"
  },
  "language_info": {
   "codemirror_mode": {
    "name": "ipython",
    "version": 3
   },
   "file_extension": ".py",
   "mimetype": "text/x-python",
   "name": "python",
   "nbconvert_exporter": "python",
   "pygments_lexer": "ipython3",
   "version": "3.11.9"
  }
 },
 "nbformat": 4,
 "nbformat_minor": 2
}

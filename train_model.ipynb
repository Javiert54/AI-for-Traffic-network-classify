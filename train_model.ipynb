{
 "cells": [
  {
   "cell_type": "markdown",
   "metadata": {},
   "source": [
    "## Importación de librerías"
   ]
  },
  {
   "cell_type": "code",
   "execution_count": 1,
   "metadata": {},
   "outputs": [],
   "source": [
    "import pandas as pd\n",
    "import json\n",
    "import numpy as np\n",
    "from sklearn.model_selection import train_test_split\n",
    "import torch\n",
    "import torch.nn as nn\n",
    "from sklearn.preprocessing import StandardScaler\n",
    "import matplotlib.pyplot as plt\n",
    "from sklearn.metrics import confusion_matrix\n",
    "import seaborn as sns\n",
    "from torch.utils.data import TensorDataset, DataLoader\n",
    "import joblib"
   ]
  },
  {
   "cell_type": "markdown",
   "metadata": {},
   "source": [
    "## Configuración de variables globales"
   ]
  },
  {
   "cell_type": "code",
   "execution_count": 2,
   "metadata": {},
   "outputs": [],
   "source": [
    "with open('setup.json', 'r') as f:\n",
    "    SETUP_JSON = json.load(f)\n",
    "FINAL_DATASET = SETUP_JSON['final_dataset']\n",
    "LEARNING_RATE = SETUP_JSON['learning_rate']\n",
    "EPOCHS = SETUP_JSON['epochs']"
   ]
  },
  {
   "cell_type": "markdown",
   "metadata": {},
   "source": [
    "## Cargar el dataset"
   ]
  },
  {
   "cell_type": "code",
   "execution_count": 3,
   "metadata": {},
   "outputs": [
    {
     "data": {
      "text/plain": [
       "(8247888, 34)"
      ]
     },
     "execution_count": 3,
     "metadata": {},
     "output_type": "execute_result"
    }
   ],
   "source": [
    "df = pd.read_parquet(FINAL_DATASET) # Leer dataset final\n",
    "df.shape"
   ]
  },
  {
   "cell_type": "code",
   "execution_count": 4,
   "metadata": {},
   "outputs": [
    {
     "data": {
      "text/html": [
       "<div>\n",
       "<style scoped>\n",
       "    .dataframe tbody tr th:only-of-type {\n",
       "        vertical-align: middle;\n",
       "    }\n",
       "\n",
       "    .dataframe tbody tr th {\n",
       "        vertical-align: top;\n",
       "    }\n",
       "\n",
       "    .dataframe thead th {\n",
       "        text-align: right;\n",
       "    }\n",
       "</style>\n",
       "<table border=\"1\" class=\"dataframe\">\n",
       "  <thead>\n",
       "    <tr style=\"text-align: right;\">\n",
       "      <th></th>\n",
       "      <th>Timestamp</th>\n",
       "      <th>Dst Port</th>\n",
       "      <th>Protocol</th>\n",
       "      <th>Tot Fwd Pkts</th>\n",
       "      <th>TotLen Fwd Pkts</th>\n",
       "      <th>Fwd Pkt Len Max</th>\n",
       "      <th>Fwd Pkt Len Mean</th>\n",
       "      <th>Bwd Pkt Len Max</th>\n",
       "      <th>Bwd Pkt Len Min</th>\n",
       "      <th>Bwd Pkt Len Mean</th>\n",
       "      <th>...</th>\n",
       "      <th>Fwd Seg Size Avg</th>\n",
       "      <th>Bwd Seg Size Avg</th>\n",
       "      <th>Subflow Fwd Pkts</th>\n",
       "      <th>Subflow Fwd Byts</th>\n",
       "      <th>Init Fwd Win Byts</th>\n",
       "      <th>Fwd Act Data Pkts</th>\n",
       "      <th>Fwd Seg Size Min</th>\n",
       "      <th>Label</th>\n",
       "      <th>Label Code</th>\n",
       "      <th>Sequence ID</th>\n",
       "    </tr>\n",
       "  </thead>\n",
       "  <tbody>\n",
       "    <tr>\n",
       "      <th>0</th>\n",
       "      <td>0.866025</td>\n",
       "      <td>0</td>\n",
       "      <td>0</td>\n",
       "      <td>3.0</td>\n",
       "      <td>0.0</td>\n",
       "      <td>0.0</td>\n",
       "      <td>0.000000</td>\n",
       "      <td>0.0</td>\n",
       "      <td>0.0</td>\n",
       "      <td>0.000000</td>\n",
       "      <td>...</td>\n",
       "      <td>0.000000</td>\n",
       "      <td>0.000000</td>\n",
       "      <td>3.0</td>\n",
       "      <td>0.0</td>\n",
       "      <td>-1.0</td>\n",
       "      <td>0.0</td>\n",
       "      <td>0.0</td>\n",
       "      <td>Benign</td>\n",
       "      <td>0</td>\n",
       "      <td>1</td>\n",
       "    </tr>\n",
       "    <tr>\n",
       "      <th>1</th>\n",
       "      <td>0.866025</td>\n",
       "      <td>0</td>\n",
       "      <td>0</td>\n",
       "      <td>3.0</td>\n",
       "      <td>0.0</td>\n",
       "      <td>0.0</td>\n",
       "      <td>0.000000</td>\n",
       "      <td>0.0</td>\n",
       "      <td>0.0</td>\n",
       "      <td>0.000000</td>\n",
       "      <td>...</td>\n",
       "      <td>0.000000</td>\n",
       "      <td>0.000000</td>\n",
       "      <td>3.0</td>\n",
       "      <td>0.0</td>\n",
       "      <td>-1.0</td>\n",
       "      <td>0.0</td>\n",
       "      <td>0.0</td>\n",
       "      <td>Benign</td>\n",
       "      <td>0</td>\n",
       "      <td>1</td>\n",
       "    </tr>\n",
       "    <tr>\n",
       "      <th>2</th>\n",
       "      <td>0.866025</td>\n",
       "      <td>0</td>\n",
       "      <td>0</td>\n",
       "      <td>3.0</td>\n",
       "      <td>0.0</td>\n",
       "      <td>0.0</td>\n",
       "      <td>0.000000</td>\n",
       "      <td>0.0</td>\n",
       "      <td>0.0</td>\n",
       "      <td>0.000000</td>\n",
       "      <td>...</td>\n",
       "      <td>0.000000</td>\n",
       "      <td>0.000000</td>\n",
       "      <td>3.0</td>\n",
       "      <td>0.0</td>\n",
       "      <td>-1.0</td>\n",
       "      <td>0.0</td>\n",
       "      <td>0.0</td>\n",
       "      <td>Benign</td>\n",
       "      <td>0</td>\n",
       "      <td>1</td>\n",
       "    </tr>\n",
       "    <tr>\n",
       "      <th>3</th>\n",
       "      <td>0.866025</td>\n",
       "      <td>22</td>\n",
       "      <td>6</td>\n",
       "      <td>15.0</td>\n",
       "      <td>1239.0</td>\n",
       "      <td>744.0</td>\n",
       "      <td>82.600000</td>\n",
       "      <td>976.0</td>\n",
       "      <td>0.0</td>\n",
       "      <td>227.300000</td>\n",
       "      <td>...</td>\n",
       "      <td>82.600000</td>\n",
       "      <td>227.300000</td>\n",
       "      <td>15.0</td>\n",
       "      <td>1239.0</td>\n",
       "      <td>65535.0</td>\n",
       "      <td>6.0</td>\n",
       "      <td>32.0</td>\n",
       "      <td>Benign</td>\n",
       "      <td>0</td>\n",
       "      <td>1</td>\n",
       "    </tr>\n",
       "    <tr>\n",
       "      <th>4</th>\n",
       "      <td>0.866025</td>\n",
       "      <td>22</td>\n",
       "      <td>6</td>\n",
       "      <td>14.0</td>\n",
       "      <td>1143.0</td>\n",
       "      <td>744.0</td>\n",
       "      <td>81.642857</td>\n",
       "      <td>976.0</td>\n",
       "      <td>0.0</td>\n",
       "      <td>200.818182</td>\n",
       "      <td>...</td>\n",
       "      <td>81.642857</td>\n",
       "      <td>200.818182</td>\n",
       "      <td>14.0</td>\n",
       "      <td>1143.0</td>\n",
       "      <td>5808.0</td>\n",
       "      <td>6.0</td>\n",
       "      <td>32.0</td>\n",
       "      <td>Benign</td>\n",
       "      <td>0</td>\n",
       "      <td>1</td>\n",
       "    </tr>\n",
       "  </tbody>\n",
       "</table>\n",
       "<p>5 rows × 34 columns</p>\n",
       "</div>"
      ],
      "text/plain": [
       "   Timestamp  Dst Port  Protocol  Tot Fwd Pkts  TotLen Fwd Pkts  \\\n",
       "0   0.866025         0         0           3.0              0.0   \n",
       "1   0.866025         0         0           3.0              0.0   \n",
       "2   0.866025         0         0           3.0              0.0   \n",
       "3   0.866025        22         6          15.0           1239.0   \n",
       "4   0.866025        22         6          14.0           1143.0   \n",
       "\n",
       "   Fwd Pkt Len Max  Fwd Pkt Len Mean  Bwd Pkt Len Max  Bwd Pkt Len Min  \\\n",
       "0              0.0          0.000000              0.0              0.0   \n",
       "1              0.0          0.000000              0.0              0.0   \n",
       "2              0.0          0.000000              0.0              0.0   \n",
       "3            744.0         82.600000            976.0              0.0   \n",
       "4            744.0         81.642857            976.0              0.0   \n",
       "\n",
       "   Bwd Pkt Len Mean  ...  Fwd Seg Size Avg  Bwd Seg Size Avg  \\\n",
       "0          0.000000  ...          0.000000          0.000000   \n",
       "1          0.000000  ...          0.000000          0.000000   \n",
       "2          0.000000  ...          0.000000          0.000000   \n",
       "3        227.300000  ...         82.600000        227.300000   \n",
       "4        200.818182  ...         81.642857        200.818182   \n",
       "\n",
       "   Subflow Fwd Pkts  Subflow Fwd Byts  Init Fwd Win Byts  Fwd Act Data Pkts  \\\n",
       "0               3.0               0.0               -1.0                0.0   \n",
       "1               3.0               0.0               -1.0                0.0   \n",
       "2               3.0               0.0               -1.0                0.0   \n",
       "3              15.0            1239.0            65535.0                6.0   \n",
       "4              14.0            1143.0             5808.0                6.0   \n",
       "\n",
       "   Fwd Seg Size Min   Label  Label Code  Sequence ID  \n",
       "0               0.0  Benign           0            1  \n",
       "1               0.0  Benign           0            1  \n",
       "2               0.0  Benign           0            1  \n",
       "3              32.0  Benign           0            1  \n",
       "4              32.0  Benign           0            1  \n",
       "\n",
       "[5 rows x 34 columns]"
      ]
     },
     "execution_count": 4,
     "metadata": {},
     "output_type": "execute_result"
    }
   ],
   "source": [
    "df.head()"
   ]
  },
  {
   "cell_type": "markdown",
   "metadata": {},
   "source": [
    "## Análisis de las clases"
   ]
  },
  {
   "cell_type": "code",
   "execution_count": 5,
   "metadata": {},
   "outputs": [
    {
     "data": {
      "text/plain": [
       "{0: 'Benign',\n",
       " 1: 'FTP-BruteForce',\n",
       " 2: 'SSH-Bruteforce',\n",
       " 3: 'DoS attacks-GoldenEye',\n",
       " 4: 'DoS attacks-Slowloris',\n",
       " 5: 'DoS attacks-SlowHTTPTest',\n",
       " 6: 'DoS attacks-Hulk',\n",
       " 7: 'DDOS attack-LOIC-UDP',\n",
       " 8: 'DDOS attack-HOIC',\n",
       " 9: 'Brute Force -Web',\n",
       " 10: 'Brute Force -XSS',\n",
       " 11: 'SQL Injection',\n",
       " 12: 'Infilteration',\n",
       " 13: 'Bot'}"
      ]
     },
     "execution_count": 5,
     "metadata": {},
     "output_type": "execute_result"
    }
   ],
   "source": [
    "# Mapeo de etiquetas\n",
    "labels = df['Label'].unique()\n",
    "labels_codes = df['Label Code'].unique()\n",
    "label_mapping = {int(label_code): label for label_code, label in zip(labels_codes, labels)}\n",
    "label_mapping"
   ]
  },
  {
   "cell_type": "markdown",
   "metadata": {},
   "source": [
    "## Extracción de secuencias de paquetes"
   ]
  },
  {
   "cell_type": "code",
   "execution_count": 6,
   "metadata": {},
   "outputs": [
    {
     "name": "stdout",
     "output_type": "stream",
     "text": [
      "Total de secuencias: 939866\n"
     ]
    }
   ],
   "source": [
    "sequences = []\n",
    "\n",
    "# Obtener una lista de DataFrames de secuencias\n",
    "sequences = [seq[1].drop(columns=['Sequence ID']) for seq in df.groupby('Sequence ID')]\n",
    "print(f\"Total de secuencias: {len(sequences)}\")"
   ]
  },
  {
   "cell_type": "code",
   "execution_count": 7,
   "metadata": {},
   "outputs": [
    {
     "data": {
      "text/html": [
       "<div>\n",
       "<style scoped>\n",
       "    .dataframe tbody tr th:only-of-type {\n",
       "        vertical-align: middle;\n",
       "    }\n",
       "\n",
       "    .dataframe tbody tr th {\n",
       "        vertical-align: top;\n",
       "    }\n",
       "\n",
       "    .dataframe thead th {\n",
       "        text-align: right;\n",
       "    }\n",
       "</style>\n",
       "<table border=\"1\" class=\"dataframe\">\n",
       "  <thead>\n",
       "    <tr style=\"text-align: right;\">\n",
       "      <th></th>\n",
       "      <th>Timestamp</th>\n",
       "      <th>Dst Port</th>\n",
       "      <th>Protocol</th>\n",
       "      <th>Tot Fwd Pkts</th>\n",
       "      <th>TotLen Fwd Pkts</th>\n",
       "      <th>Fwd Pkt Len Max</th>\n",
       "      <th>Fwd Pkt Len Mean</th>\n",
       "      <th>Bwd Pkt Len Max</th>\n",
       "      <th>Bwd Pkt Len Min</th>\n",
       "      <th>Bwd Pkt Len Mean</th>\n",
       "      <th>...</th>\n",
       "      <th>Pkt Size Avg</th>\n",
       "      <th>Fwd Seg Size Avg</th>\n",
       "      <th>Bwd Seg Size Avg</th>\n",
       "      <th>Subflow Fwd Pkts</th>\n",
       "      <th>Subflow Fwd Byts</th>\n",
       "      <th>Init Fwd Win Byts</th>\n",
       "      <th>Fwd Act Data Pkts</th>\n",
       "      <th>Fwd Seg Size Min</th>\n",
       "      <th>Label</th>\n",
       "      <th>Label Code</th>\n",
       "    </tr>\n",
       "  </thead>\n",
       "  <tbody>\n",
       "    <tr>\n",
       "      <th>0</th>\n",
       "      <td>0.866025</td>\n",
       "      <td>0</td>\n",
       "      <td>0</td>\n",
       "      <td>3.0</td>\n",
       "      <td>0.0</td>\n",
       "      <td>0.0</td>\n",
       "      <td>0.000000</td>\n",
       "      <td>0.0</td>\n",
       "      <td>0.0</td>\n",
       "      <td>0.000000</td>\n",
       "      <td>...</td>\n",
       "      <td>0.00</td>\n",
       "      <td>0.000000</td>\n",
       "      <td>0.000000</td>\n",
       "      <td>3.0</td>\n",
       "      <td>0.0</td>\n",
       "      <td>-1.0</td>\n",
       "      <td>0.0</td>\n",
       "      <td>0.0</td>\n",
       "      <td>Benign</td>\n",
       "      <td>0</td>\n",
       "    </tr>\n",
       "    <tr>\n",
       "      <th>1</th>\n",
       "      <td>0.866025</td>\n",
       "      <td>0</td>\n",
       "      <td>0</td>\n",
       "      <td>3.0</td>\n",
       "      <td>0.0</td>\n",
       "      <td>0.0</td>\n",
       "      <td>0.000000</td>\n",
       "      <td>0.0</td>\n",
       "      <td>0.0</td>\n",
       "      <td>0.000000</td>\n",
       "      <td>...</td>\n",
       "      <td>0.00</td>\n",
       "      <td>0.000000</td>\n",
       "      <td>0.000000</td>\n",
       "      <td>3.0</td>\n",
       "      <td>0.0</td>\n",
       "      <td>-1.0</td>\n",
       "      <td>0.0</td>\n",
       "      <td>0.0</td>\n",
       "      <td>Benign</td>\n",
       "      <td>0</td>\n",
       "    </tr>\n",
       "    <tr>\n",
       "      <th>2</th>\n",
       "      <td>0.866025</td>\n",
       "      <td>0</td>\n",
       "      <td>0</td>\n",
       "      <td>3.0</td>\n",
       "      <td>0.0</td>\n",
       "      <td>0.0</td>\n",
       "      <td>0.000000</td>\n",
       "      <td>0.0</td>\n",
       "      <td>0.0</td>\n",
       "      <td>0.000000</td>\n",
       "      <td>...</td>\n",
       "      <td>0.00</td>\n",
       "      <td>0.000000</td>\n",
       "      <td>0.000000</td>\n",
       "      <td>3.0</td>\n",
       "      <td>0.0</td>\n",
       "      <td>-1.0</td>\n",
       "      <td>0.0</td>\n",
       "      <td>0.0</td>\n",
       "      <td>Benign</td>\n",
       "      <td>0</td>\n",
       "    </tr>\n",
       "    <tr>\n",
       "      <th>3</th>\n",
       "      <td>0.866025</td>\n",
       "      <td>22</td>\n",
       "      <td>6</td>\n",
       "      <td>15.0</td>\n",
       "      <td>1239.0</td>\n",
       "      <td>744.0</td>\n",
       "      <td>82.600000</td>\n",
       "      <td>976.0</td>\n",
       "      <td>0.0</td>\n",
       "      <td>227.300000</td>\n",
       "      <td>...</td>\n",
       "      <td>140.48</td>\n",
       "      <td>82.600000</td>\n",
       "      <td>227.300000</td>\n",
       "      <td>15.0</td>\n",
       "      <td>1239.0</td>\n",
       "      <td>65535.0</td>\n",
       "      <td>6.0</td>\n",
       "      <td>32.0</td>\n",
       "      <td>Benign</td>\n",
       "      <td>0</td>\n",
       "    </tr>\n",
       "    <tr>\n",
       "      <th>4</th>\n",
       "      <td>0.866025</td>\n",
       "      <td>22</td>\n",
       "      <td>6</td>\n",
       "      <td>14.0</td>\n",
       "      <td>1143.0</td>\n",
       "      <td>744.0</td>\n",
       "      <td>81.642857</td>\n",
       "      <td>976.0</td>\n",
       "      <td>0.0</td>\n",
       "      <td>200.818182</td>\n",
       "      <td>...</td>\n",
       "      <td>134.08</td>\n",
       "      <td>81.642857</td>\n",
       "      <td>200.818182</td>\n",
       "      <td>14.0</td>\n",
       "      <td>1143.0</td>\n",
       "      <td>5808.0</td>\n",
       "      <td>6.0</td>\n",
       "      <td>32.0</td>\n",
       "      <td>Benign</td>\n",
       "      <td>0</td>\n",
       "    </tr>\n",
       "  </tbody>\n",
       "</table>\n",
       "<p>5 rows × 33 columns</p>\n",
       "</div>"
      ],
      "text/plain": [
       "   Timestamp  Dst Port  Protocol  Tot Fwd Pkts  TotLen Fwd Pkts  \\\n",
       "0   0.866025         0         0           3.0              0.0   \n",
       "1   0.866025         0         0           3.0              0.0   \n",
       "2   0.866025         0         0           3.0              0.0   \n",
       "3   0.866025        22         6          15.0           1239.0   \n",
       "4   0.866025        22         6          14.0           1143.0   \n",
       "\n",
       "   Fwd Pkt Len Max  Fwd Pkt Len Mean  Bwd Pkt Len Max  Bwd Pkt Len Min  \\\n",
       "0              0.0          0.000000              0.0              0.0   \n",
       "1              0.0          0.000000              0.0              0.0   \n",
       "2              0.0          0.000000              0.0              0.0   \n",
       "3            744.0         82.600000            976.0              0.0   \n",
       "4            744.0         81.642857            976.0              0.0   \n",
       "\n",
       "   Bwd Pkt Len Mean  ...  Pkt Size Avg  Fwd Seg Size Avg  Bwd Seg Size Avg  \\\n",
       "0          0.000000  ...          0.00          0.000000          0.000000   \n",
       "1          0.000000  ...          0.00          0.000000          0.000000   \n",
       "2          0.000000  ...          0.00          0.000000          0.000000   \n",
       "3        227.300000  ...        140.48         82.600000        227.300000   \n",
       "4        200.818182  ...        134.08         81.642857        200.818182   \n",
       "\n",
       "   Subflow Fwd Pkts  Subflow Fwd Byts  Init Fwd Win Byts  Fwd Act Data Pkts  \\\n",
       "0               3.0               0.0               -1.0                0.0   \n",
       "1               3.0               0.0               -1.0                0.0   \n",
       "2               3.0               0.0               -1.0                0.0   \n",
       "3              15.0            1239.0            65535.0                6.0   \n",
       "4              14.0            1143.0             5808.0                6.0   \n",
       "\n",
       "   Fwd Seg Size Min   Label  Label Code  \n",
       "0               0.0  Benign           0  \n",
       "1               0.0  Benign           0  \n",
       "2               0.0  Benign           0  \n",
       "3              32.0  Benign           0  \n",
       "4              32.0  Benign           0  \n",
       "\n",
       "[5 rows x 33 columns]"
      ]
     },
     "execution_count": 7,
     "metadata": {},
     "output_type": "execute_result"
    }
   ],
   "source": [
    "sequences[0].head()"
   ]
  },
  {
   "cell_type": "code",
   "execution_count": 8,
   "metadata": {},
   "outputs": [
    {
     "data": {
      "text/html": [
       "<div>\n",
       "<style scoped>\n",
       "    .dataframe tbody tr th:only-of-type {\n",
       "        vertical-align: middle;\n",
       "    }\n",
       "\n",
       "    .dataframe tbody tr th {\n",
       "        vertical-align: top;\n",
       "    }\n",
       "\n",
       "    .dataframe thead th {\n",
       "        text-align: right;\n",
       "    }\n",
       "</style>\n",
       "<table border=\"1\" class=\"dataframe\">\n",
       "  <thead>\n",
       "    <tr style=\"text-align: right;\">\n",
       "      <th></th>\n",
       "      <th>Timestamp</th>\n",
       "      <th>Dst Port</th>\n",
       "      <th>Protocol</th>\n",
       "      <th>Tot Fwd Pkts</th>\n",
       "      <th>TotLen Fwd Pkts</th>\n",
       "      <th>Fwd Pkt Len Max</th>\n",
       "      <th>Fwd Pkt Len Mean</th>\n",
       "      <th>Bwd Pkt Len Max</th>\n",
       "      <th>Bwd Pkt Len Min</th>\n",
       "      <th>Bwd Pkt Len Mean</th>\n",
       "      <th>...</th>\n",
       "      <th>Pkt Size Avg</th>\n",
       "      <th>Fwd Seg Size Avg</th>\n",
       "      <th>Bwd Seg Size Avg</th>\n",
       "      <th>Subflow Fwd Pkts</th>\n",
       "      <th>Subflow Fwd Byts</th>\n",
       "      <th>Init Fwd Win Byts</th>\n",
       "      <th>Fwd Act Data Pkts</th>\n",
       "      <th>Fwd Seg Size Min</th>\n",
       "      <th>Label</th>\n",
       "      <th>Label Code</th>\n",
       "    </tr>\n",
       "  </thead>\n",
       "  <tbody>\n",
       "    <tr>\n",
       "      <th>8247883</th>\n",
       "      <td>0.5</td>\n",
       "      <td>3389</td>\n",
       "      <td>6</td>\n",
       "      <td>14.0</td>\n",
       "      <td>1442.0</td>\n",
       "      <td>725.0</td>\n",
       "      <td>103.000000</td>\n",
       "      <td>1179.0</td>\n",
       "      <td>0.0</td>\n",
       "      <td>216.375</td>\n",
       "      <td>...</td>\n",
       "      <td>144.227273</td>\n",
       "      <td>103.000000</td>\n",
       "      <td>216.375</td>\n",
       "      <td>14.0</td>\n",
       "      <td>1442.0</td>\n",
       "      <td>8192.0</td>\n",
       "      <td>7.0</td>\n",
       "      <td>20.0</td>\n",
       "      <td>Benign</td>\n",
       "      <td>0</td>\n",
       "    </tr>\n",
       "    <tr>\n",
       "      <th>8247884</th>\n",
       "      <td>0.5</td>\n",
       "      <td>3389</td>\n",
       "      <td>6</td>\n",
       "      <td>14.0</td>\n",
       "      <td>1440.0</td>\n",
       "      <td>725.0</td>\n",
       "      <td>102.857143</td>\n",
       "      <td>1179.0</td>\n",
       "      <td>0.0</td>\n",
       "      <td>216.375</td>\n",
       "      <td>...</td>\n",
       "      <td>144.136364</td>\n",
       "      <td>102.857143</td>\n",
       "      <td>216.375</td>\n",
       "      <td>14.0</td>\n",
       "      <td>1440.0</td>\n",
       "      <td>8192.0</td>\n",
       "      <td>7.0</td>\n",
       "      <td>20.0</td>\n",
       "      <td>Benign</td>\n",
       "      <td>0</td>\n",
       "    </tr>\n",
       "    <tr>\n",
       "      <th>8247885</th>\n",
       "      <td>0.5</td>\n",
       "      <td>3389</td>\n",
       "      <td>6</td>\n",
       "      <td>14.0</td>\n",
       "      <td>1459.0</td>\n",
       "      <td>741.0</td>\n",
       "      <td>104.214286</td>\n",
       "      <td>1179.0</td>\n",
       "      <td>0.0</td>\n",
       "      <td>216.375</td>\n",
       "      <td>...</td>\n",
       "      <td>145.000000</td>\n",
       "      <td>104.214286</td>\n",
       "      <td>216.375</td>\n",
       "      <td>14.0</td>\n",
       "      <td>1459.0</td>\n",
       "      <td>8192.0</td>\n",
       "      <td>7.0</td>\n",
       "      <td>20.0</td>\n",
       "      <td>Benign</td>\n",
       "      <td>0</td>\n",
       "    </tr>\n",
       "    <tr>\n",
       "      <th>8247886</th>\n",
       "      <td>0.5</td>\n",
       "      <td>3389</td>\n",
       "      <td>6</td>\n",
       "      <td>14.0</td>\n",
       "      <td>1459.0</td>\n",
       "      <td>741.0</td>\n",
       "      <td>104.214286</td>\n",
       "      <td>1179.0</td>\n",
       "      <td>0.0</td>\n",
       "      <td>216.375</td>\n",
       "      <td>...</td>\n",
       "      <td>145.000000</td>\n",
       "      <td>104.214286</td>\n",
       "      <td>216.375</td>\n",
       "      <td>14.0</td>\n",
       "      <td>1459.0</td>\n",
       "      <td>8192.0</td>\n",
       "      <td>7.0</td>\n",
       "      <td>20.0</td>\n",
       "      <td>Benign</td>\n",
       "      <td>0</td>\n",
       "    </tr>\n",
       "    <tr>\n",
       "      <th>8247887</th>\n",
       "      <td>0.5</td>\n",
       "      <td>3389</td>\n",
       "      <td>6</td>\n",
       "      <td>14.0</td>\n",
       "      <td>1439.0</td>\n",
       "      <td>725.0</td>\n",
       "      <td>102.785714</td>\n",
       "      <td>1179.0</td>\n",
       "      <td>0.0</td>\n",
       "      <td>216.375</td>\n",
       "      <td>...</td>\n",
       "      <td>144.090909</td>\n",
       "      <td>102.785714</td>\n",
       "      <td>216.375</td>\n",
       "      <td>14.0</td>\n",
       "      <td>1439.0</td>\n",
       "      <td>8192.0</td>\n",
       "      <td>7.0</td>\n",
       "      <td>20.0</td>\n",
       "      <td>Benign</td>\n",
       "      <td>0</td>\n",
       "    </tr>\n",
       "  </tbody>\n",
       "</table>\n",
       "<p>5 rows × 33 columns</p>\n",
       "</div>"
      ],
      "text/plain": [
       "         Timestamp  Dst Port  Protocol  Tot Fwd Pkts  TotLen Fwd Pkts  \\\n",
       "8247883        0.5      3389         6          14.0           1442.0   \n",
       "8247884        0.5      3389         6          14.0           1440.0   \n",
       "8247885        0.5      3389         6          14.0           1459.0   \n",
       "8247886        0.5      3389         6          14.0           1459.0   \n",
       "8247887        0.5      3389         6          14.0           1439.0   \n",
       "\n",
       "         Fwd Pkt Len Max  Fwd Pkt Len Mean  Bwd Pkt Len Max  Bwd Pkt Len Min  \\\n",
       "8247883            725.0        103.000000           1179.0              0.0   \n",
       "8247884            725.0        102.857143           1179.0              0.0   \n",
       "8247885            741.0        104.214286           1179.0              0.0   \n",
       "8247886            741.0        104.214286           1179.0              0.0   \n",
       "8247887            725.0        102.785714           1179.0              0.0   \n",
       "\n",
       "         Bwd Pkt Len Mean  ...  Pkt Size Avg  Fwd Seg Size Avg  \\\n",
       "8247883           216.375  ...    144.227273        103.000000   \n",
       "8247884           216.375  ...    144.136364        102.857143   \n",
       "8247885           216.375  ...    145.000000        104.214286   \n",
       "8247886           216.375  ...    145.000000        104.214286   \n",
       "8247887           216.375  ...    144.090909        102.785714   \n",
       "\n",
       "         Bwd Seg Size Avg  Subflow Fwd Pkts  Subflow Fwd Byts  \\\n",
       "8247883           216.375              14.0            1442.0   \n",
       "8247884           216.375              14.0            1440.0   \n",
       "8247885           216.375              14.0            1459.0   \n",
       "8247886           216.375              14.0            1459.0   \n",
       "8247887           216.375              14.0            1439.0   \n",
       "\n",
       "         Init Fwd Win Byts  Fwd Act Data Pkts  Fwd Seg Size Min   Label  \\\n",
       "8247883             8192.0                7.0              20.0  Benign   \n",
       "8247884             8192.0                7.0              20.0  Benign   \n",
       "8247885             8192.0                7.0              20.0  Benign   \n",
       "8247886             8192.0                7.0              20.0  Benign   \n",
       "8247887             8192.0                7.0              20.0  Benign   \n",
       "\n",
       "         Label Code  \n",
       "8247883           0  \n",
       "8247884           0  \n",
       "8247885           0  \n",
       "8247886           0  \n",
       "8247887           0  \n",
       "\n",
       "[5 rows x 33 columns]"
      ]
     },
     "execution_count": 8,
     "metadata": {},
     "output_type": "execute_result"
    }
   ],
   "source": [
    "sequences[-1].tail()"
   ]
  },
  {
   "cell_type": "markdown",
   "metadata": {},
   "source": [
    "## Análisis de las secuencias"
   ]
  },
  {
   "cell_type": "markdown",
   "metadata": {},
   "source": [
    "Análisis estadístico de las secuencias"
   ]
  },
  {
   "cell_type": "code",
   "execution_count": 9,
   "metadata": {},
   "outputs": [],
   "source": [
    "sequences_df = pd.DataFrame({\n",
    "    'Longitud': [len(seq) for seq in sequences],\n",
    "    'Clase': [seq['Label'].iloc[0] for seq in sequences]\n",
    "})"
   ]
  },
  {
   "cell_type": "code",
   "execution_count": 10,
   "metadata": {},
   "outputs": [
    {
     "data": {
      "text/html": [
       "<div>\n",
       "<style scoped>\n",
       "    .dataframe tbody tr th:only-of-type {\n",
       "        vertical-align: middle;\n",
       "    }\n",
       "\n",
       "    .dataframe tbody tr th {\n",
       "        vertical-align: top;\n",
       "    }\n",
       "\n",
       "    .dataframe thead th {\n",
       "        text-align: right;\n",
       "    }\n",
       "</style>\n",
       "<table border=\"1\" class=\"dataframe\">\n",
       "  <thead>\n",
       "    <tr style=\"text-align: right;\">\n",
       "      <th></th>\n",
       "      <th>Longitud</th>\n",
       "      <th>Clase</th>\n",
       "    </tr>\n",
       "  </thead>\n",
       "  <tbody>\n",
       "    <tr>\n",
       "      <th>0</th>\n",
       "      <td>94</td>\n",
       "      <td>Benign</td>\n",
       "    </tr>\n",
       "    <tr>\n",
       "      <th>1</th>\n",
       "      <td>64</td>\n",
       "      <td>FTP-BruteForce</td>\n",
       "    </tr>\n",
       "    <tr>\n",
       "      <th>2</th>\n",
       "      <td>1</td>\n",
       "      <td>Benign</td>\n",
       "    </tr>\n",
       "    <tr>\n",
       "      <th>3</th>\n",
       "      <td>5610</td>\n",
       "      <td>FTP-BruteForce</td>\n",
       "    </tr>\n",
       "    <tr>\n",
       "      <th>4</th>\n",
       "      <td>1</td>\n",
       "      <td>Benign</td>\n",
       "    </tr>\n",
       "  </tbody>\n",
       "</table>\n",
       "</div>"
      ],
      "text/plain": [
       "   Longitud           Clase\n",
       "0        94          Benign\n",
       "1        64  FTP-BruteForce\n",
       "2         1          Benign\n",
       "3      5610  FTP-BruteForce\n",
       "4         1          Benign"
      ]
     },
     "execution_count": 10,
     "metadata": {},
     "output_type": "execute_result"
    }
   ],
   "source": [
    "sequences_df.head()"
   ]
  },
  {
   "cell_type": "markdown",
   "metadata": {},
   "source": [
    "Ver número de secuencias por clase"
   ]
  },
  {
   "cell_type": "code",
   "execution_count": 11,
   "metadata": {},
   "outputs": [
    {
     "data": {
      "text/plain": [
       "Clase\n",
       "Benign                      458797\n",
       "DoS attacks-Hulk            246538\n",
       "DDOS attack-HOIC            172030\n",
       "Infilteration                29269\n",
       "SSH-Bruteforce                8342\n",
       "FTP-BruteForce                7557\n",
       "Bot                           6737\n",
       "DoS attacks-GoldenEye         5026\n",
       "DoS attacks-Slowloris         4668\n",
       "DDOS attack-LOIC-UDP           635\n",
       "Brute Force -XSS               109\n",
       "Brute Force -Web                73\n",
       "DoS attacks-SlowHTTPTest        53\n",
       "SQL Injection                   32\n",
       "Name: count, dtype: int64"
      ]
     },
     "execution_count": 11,
     "metadata": {},
     "output_type": "execute_result"
    }
   ],
   "source": [
    "sequences_df['Clase'].value_counts()"
   ]
  },
  {
   "cell_type": "markdown",
   "metadata": {},
   "source": [
    "## Preparación de las secuencias"
   ]
  },
  {
   "cell_type": "markdown",
   "metadata": {},
   "source": [
    "Seleccionar las secuencias con más de 1 paquete"
   ]
  },
  {
   "cell_type": "code",
   "execution_count": 12,
   "metadata": {},
   "outputs": [
    {
     "data": {
      "text/plain": [
       "373576"
      ]
     },
     "execution_count": 12,
     "metadata": {},
     "output_type": "execute_result"
    }
   ],
   "source": [
    "sequences = [seq for seq in sequences if len(seq) > 1]\n",
    "len(sequences)"
   ]
  },
  {
   "cell_type": "markdown",
   "metadata": {},
   "source": [
    "Asegurar que el dataset esté balanceado (establecer un número adecuado de secuencias por clase) "
   ]
  },
  {
   "cell_type": "code",
   "execution_count": 13,
   "metadata": {},
   "outputs": [
    {
     "data": {
      "text/plain": [
       "26684"
      ]
     },
     "execution_count": 13,
     "metadata": {},
     "output_type": "execute_result"
    }
   ],
   "source": [
    "sequence_label_df = pd.DataFrame({\n",
    "    'Clase': [seq['Label'].iloc[0] for seq in sequences]\n",
    "})\n",
    "\n",
    "# Obtener número medio de secuencias por clase\n",
    "mean_num_sequences_by_label = sequence_label_df['Clase'].value_counts().mean()\n",
    "int(mean_num_sequences_by_label)"
   ]
  },
  {
   "cell_type": "code",
   "execution_count": 14,
   "metadata": {},
   "outputs": [],
   "source": [
    "# Fijar la media como número de las secuencias para las clases con más secuencias que la media\n"
   ]
  },
  {
   "cell_type": "code",
   "execution_count": 15,
   "metadata": {},
   "outputs": [
    {
     "data": {
      "text/plain": [
       "Clase\n",
       "Benign                      185205\n",
       "DDOS attack-HOIC             98019\n",
       "DoS attacks-Hulk             60729\n",
       "Infilteration                 9608\n",
       "Bot                           6633\n",
       "SSH-Bruteforce                4423\n",
       "FTP-BruteForce                3638\n",
       "DoS attacks-GoldenEye         3149\n",
       "DoS attacks-Slowloris         1545\n",
       "DDOS attack-LOIC-UDP           382\n",
       "Brute Force -XSS               105\n",
       "Brute Force -Web                69\n",
       "DoS attacks-SlowHTTPTest        53\n",
       "SQL Injection                   18\n",
       "Name: count, dtype: int64"
      ]
     },
     "execution_count": 15,
     "metadata": {},
     "output_type": "execute_result"
    }
   ],
   "source": [
    "sequence_label_df = pd.DataFrame({\n",
    "    'Clase': [seq['Label'].iloc[0] for seq in sequences]\n",
    "})\n",
    "\n",
    "sequence_label_df['Clase'].value_counts()"
   ]
  },
  {
   "cell_type": "markdown",
   "metadata": {},
   "source": [
    "## Separación de datos"
   ]
  },
  {
   "cell_type": "code",
   "execution_count": 16,
   "metadata": {},
   "outputs": [
    {
     "data": {
      "text/plain": [
       "2"
      ]
     },
     "execution_count": 16,
     "metadata": {},
     "output_type": "execute_result"
    }
   ],
   "source": [
    "# Definir el tamaño de la secuencia\n",
    "sequence_size = int(np.median(pd.DataFrame({'Longitud': [len(seq) for seq in sequences],})['Longitud']))\n",
    "sequence_size"
   ]
  },
  {
   "cell_type": "code",
   "execution_count": 17,
   "metadata": {},
   "outputs": [],
   "source": [
    "X = []\n",
    "y = []\n",
    "\n",
    "for seq in sequences:\n",
    "    sequence_X = seq.drop(columns=['Label', 'Label Code']) # Obtener las características\n",
    "    sequence_Y = seq['Label Code'].iloc[0] # Obtener la etiqueta\n",
    "\n",
    "    if len(sequence_X) < sequence_size:\n",
    "        # Rellenar con ceros\n",
    "        pad_width = sequence_size - len(sequence_X)\n",
    "        sequence_X = np.pad(sequence_X, ((0, pad_width), (0, 0)), mode='constant')\n",
    "    else:\n",
    "        # Recortar\n",
    "        sequence_X = sequence_X.iloc[:sequence_size]\n",
    "        \n",
    "    X.append(sequence_X)\n",
    "    y.append(sequence_Y)\n",
    "\n",
    "X = np.array(X)\n",
    "y = np.array(y)"
   ]
  },
  {
   "cell_type": "code",
   "execution_count": 18,
   "metadata": {},
   "outputs": [
    {
     "data": {
      "text/plain": [
       "((373576, 2, 31), (373576,))"
      ]
     },
     "execution_count": 18,
     "metadata": {},
     "output_type": "execute_result"
    }
   ],
   "source": [
    "X.shape, y.shape"
   ]
  },
  {
   "cell_type": "markdown",
   "metadata": {},
   "source": [
    "Escalamiento de características"
   ]
  },
  {
   "cell_type": "code",
   "execution_count": 19,
   "metadata": {},
   "outputs": [],
   "source": [
    "num_features = sequences[0].shape[1] - 2  # Restar 2 por 'Label' y 'Label Code'\n",
    "scaler = StandardScaler()\n",
    "X = scaler.fit_transform(X.reshape(-1, num_features)).reshape(len(y), sequence_size, num_features)"
   ]
  },
  {
   "cell_type": "markdown",
   "metadata": {},
   "source": [
    "## Separar secuencias en entrenamiento, validación y prueba"
   ]
  },
  {
   "cell_type": "markdown",
   "metadata": {},
   "source": [
    "Separación de datos"
   ]
  },
  {
   "cell_type": "code",
   "execution_count": 20,
   "metadata": {},
   "outputs": [],
   "source": [
    "# Separar en conjuntos de entrenamiento, validación y prueba\n",
    "X_train, X_test, y_train, y_test = train_test_split(X, y, test_size=0.2, stratify=y)\n",
    "X_train, X_val, y_train, y_val = train_test_split(X_train, y_train, test_size=0.2, stratify=y_train)"
   ]
  },
  {
   "cell_type": "code",
   "execution_count": 21,
   "metadata": {},
   "outputs": [],
   "source": [
    "def concatenate_sequences(sequences):\n",
    "    \"\"\"\n",
    "    Concatenate a list of sequences into a single 2D array.\n",
    "    \"\"\"\n",
    "    return np.concatenate(sequences, axis=0)"
   ]
  },
  {
   "cell_type": "code",
   "execution_count": 22,
   "metadata": {},
   "outputs": [
    {
     "name": "stdout",
     "output_type": "stream",
     "text": [
      "[[[ 0.55490168  1.37249562 -0.21925532 ...  1.45220816 -0.03103278\n",
      "   -0.57581558]\n",
      "  [ 0.55490168  1.21584723 -0.21925532 ...  1.45220816 -0.03103278\n",
      "   -0.57581558]]\n",
      "\n",
      " [[-1.02390232 -0.89617564 -0.21925532 ... -0.9898685  -0.03129328\n",
      "    1.15264212]\n",
      "  [-1.02390232 -0.89617564 -0.21925532 ... -0.9898685  -0.03129328\n",
      "    1.15264212]]\n",
      "\n",
      " [[-1.02390232 -0.88259795 -0.21925532 ... -0.69196581 -0.03051177\n",
      "   -0.57581558]\n",
      "  [-1.02390232 -0.88259795 -0.21925532 ... -0.98863456 -0.03103278\n",
      "   -0.57581558]]\n",
      "\n",
      " ...\n",
      "\n",
      " [[-1.02390232  0.90647786 -0.21925532 ... -0.99009285 -0.03103278\n",
      "    1.15264212]\n",
      "  [-1.02390232  0.90655267 -0.21925532 ... -0.99009285 -0.03103278\n",
      "    1.15264212]]\n",
      "\n",
      " [[-1.02390232 -0.89617564 -0.21925532 ... -0.9898685  -0.03129328\n",
      "    1.15264212]\n",
      "  [-1.02390232 -0.89617564 -0.21925532 ... -0.9898685  -0.03129328\n",
      "    1.15264212]]\n",
      "\n",
      " [[ 0.55490168 -0.89617564 -0.21925532 ...  0.22586016 -0.03129328\n",
      "   -0.57581558]\n",
      "  [ 0.55490168 -0.89617564 -0.21925532 ...  0.22586016 -0.03129328\n",
      "   -0.57581558]]]\n"
     ]
    }
   ],
   "source": [
    "print(X_train)\n",
    "# print(X_val.shape, y_val.shape)\n",
    "# print(X_test.shape, y_test.shape)"
   ]
  },
  {
   "cell_type": "code",
   "execution_count": 23,
   "metadata": {},
   "outputs": [],
   "source": [
    "# Convertir a tensores\n",
    "X_train_tensor = torch.tensor(X_train, dtype=torch.float32)\n",
    "y_train_tensor = torch.tensor(y_train, dtype=torch.long)\n",
    "X_val_tensor = torch.tensor(X_val, dtype=torch.float32)\n",
    "y_val_tensor = torch.tensor(y_val, dtype=torch.long)\n",
    "X_test_tensor = torch.tensor(X_test, dtype=torch.float32)\n",
    "y_test_tensor = torch.tensor(y_test, dtype=torch.long)"
   ]
  },
  {
   "cell_type": "code",
   "execution_count": 24,
   "metadata": {},
   "outputs": [],
   "source": [
    "# Crea dataset y dataloader con batches\n",
    "train_dataset = TensorDataset(X_train_tensor, y_train_tensor)\n",
    "train_loader = DataLoader(train_dataset, batch_size=64, shuffle=True)"
   ]
  },
  {
   "cell_type": "markdown",
   "metadata": {},
   "source": [
    "## Inicialización del modelo"
   ]
  },
  {
   "cell_type": "code",
   "execution_count": 25,
   "metadata": {},
   "outputs": [],
   "source": [
    "# Modelo LSTM\n",
    "class NetFlowLSTM(nn.Module):\n",
    "    def __init__(self, input_dim, hidden_dim, output_dim):\n",
    "        super().__init__()\n",
    "        self.lstm = nn.LSTM(input_dim, hidden_dim, batch_first=True)\n",
    "        self.classifier = nn.Linear(hidden_dim, output_dim)\n",
    "\n",
    "    def forward(self, x):\n",
    "        _, (h_n, _) = self.lstm(x)         # h_n shape: (1, batch, hidden)\n",
    "        return self.classifier(h_n[-1])    # usar último estado oculto\n",
    "\n",
    "model = NetFlowLSTM(input_dim=num_features, hidden_dim=32, output_dim=len(labels))"
   ]
  },
  {
   "cell_type": "markdown",
   "metadata": {},
   "source": [
    "## Entrenamiento"
   ]
  },
  {
   "cell_type": "code",
   "execution_count": 27,
   "metadata": {},
   "outputs": [
    {
     "data": {
      "text/plain": [
       "tensor([0.3000, 1.0000, 1.0000, 1.0000, 1.0000, 1.0000, 1.0000, 1.0000, 1.0000,\n",
       "        1.0000, 1.0000, 1.0000, 1.0000, 1.0000])"
      ]
     },
     "execution_count": 27,
     "metadata": {},
     "output_type": "execute_result"
    }
   ],
   "source": [
    "# Ejemplo: pesos manuales, menor peso a clase 0 (benigno)\n",
    "weights = torch.tensor([0.3] + [1.0] * (len(labels) - 1))  # clase 0 = benigno, clase 1 = ataque\n",
    "weights"
   ]
  },
  {
   "cell_type": "code",
   "execution_count": 28,
   "metadata": {},
   "outputs": [],
   "source": [
    "# Configurar entrenamiento\n",
    "criterion = nn.CrossEntropyLoss(weight=weights)\n",
    "optimizer = torch.optim.Adam(model.parameters(), lr=LEARNING_RATE)"
   ]
  },
  {
   "cell_type": "code",
   "execution_count": 29,
   "metadata": {},
   "outputs": [],
   "source": [
    "# Función de predicción\n",
    "def predict(model, X_tensor):\n",
    "    model.eval()\n",
    "    with torch.no_grad():\n",
    "        outputs = model(X_tensor)\n",
    "    return outputs"
   ]
  },
  {
   "cell_type": "code",
   "execution_count": 30,
   "metadata": {},
   "outputs": [],
   "source": [
    "# Función de evaluación\n",
    "def evaluate_model(pred, y_tensor):\n",
    "    loss = criterion(pred, y_tensor)\n",
    "    pred = torch.argmax(pred, dim=1)\n",
    "    acc = (pred == y_tensor).float().mean()\n",
    "    return loss.item(), acc.item()"
   ]
  },
  {
   "cell_type": "code",
   "execution_count": 31,
   "metadata": {},
   "outputs": [
    {
     "name": "stdout",
     "output_type": "stream",
     "text": [
      "Epoch 01 | Val Loss: 0.0162 | Val Acc: 0.99\n",
      "Epoch 02 | Val Loss: 0.0163 | Val Acc: 0.99\n",
      "Epoch 03 | Val Loss: 0.0183 | Val Acc: 0.99\n",
      "Epoch 04 | Val Loss: 0.0151 | Val Acc: 0.99\n",
      "Epoch 05 | Val Loss: 0.0145 | Val Acc: 0.99\n",
      "Epoch 06 | Val Loss: 0.0146 | Val Acc: 0.99\n",
      "Epoch 07 | Val Loss: 0.0151 | Val Acc: 0.99\n",
      "Epoch 08 | Val Loss: 0.0145 | Val Acc: 0.99\n",
      "Epoch 09 | Val Loss: 0.0140 | Val Acc: 0.99\n",
      "Epoch 10 | Val Loss: 0.0139 | Val Acc: 0.99\n"
     ]
    }
   ],
   "source": [
    "# Entrenamiento del modelo\n",
    "val_losses, val_accuracies = [], []\n",
    "\n",
    "for epoch in range(EPOCHS):\n",
    "    model.train()\n",
    "    for X_batch, y_batch in train_loader:\n",
    "        optimizer.zero_grad()\n",
    "        outputs = model(X_batch)\n",
    "        loss = criterion(outputs, y_batch)\n",
    "        loss.backward()\n",
    "        optimizer.step()\n",
    "\n",
    "    val_pred = predict(model, X_val_tensor) # Predicción\n",
    "    val_loss, val_acc = evaluate_model(val_pred, y_val_tensor) # Evaluación\n",
    "\n",
    "    val_losses.append(val_loss)\n",
    "    val_accuracies.append(val_acc)\n",
    "\n",
    "    print(f\"Epoch {epoch+1:02d} | Val Loss: {val_loss:.4f} | Val Acc: {val_acc:.2f}\")"
   ]
  },
  {
   "cell_type": "markdown",
   "metadata": {},
   "source": [
    "## Gráfica del entrenamiento"
   ]
  },
  {
   "cell_type": "code",
   "execution_count": 32,
   "metadata": {},
   "outputs": [
    {
     "data": {
      "image/png": "[encoded data removed]",
      "text/plain": [
       "<Figure size 1200x500 with 2 Axes>"
      ]
     },
     "metadata": {},
     "output_type": "display_data"
    }
   ],
   "source": [
    "epochs_range = range(1, EPOCHS + 1)\n",
    "\n",
    "plt.figure(figsize=(12, 5))\n",
    "\n",
    "# Pérdidas\n",
    "plt.subplot(1, 2, 1)\n",
    "plt.plot(epochs_range, val_losses, color='red')\n",
    "plt.xlabel(\"Época\")\n",
    "plt.ylabel(\"Pérdida\")\n",
    "plt.title(\"Pérdida durante el entrenamiento\")\n",
    "\n",
    "# Precisión\n",
    "plt.subplot(1, 2, 2)\n",
    "plt.plot(epochs_range, val_accuracies, color='green')\n",
    "plt.xlabel(\"Época\")\n",
    "plt.ylabel(\"Precisión\")\n",
    "plt.title(\"Precisión de validación\")\n",
    "\n",
    "plt.tight_layout()\n",
    "plt.show()"
   ]
  },
  {
   "cell_type": "markdown",
   "metadata": {},
   "source": [
    "## Evaluación"
   ]
  },
  {
   "cell_type": "markdown",
   "metadata": {},
   "source": [
    "Evaluación en el conjunto de test"
   ]
  },
  {
   "cell_type": "code",
   "execution_count": 33,
   "metadata": {},
   "outputs": [
    {
     "name": "stdout",
     "output_type": "stream",
     "text": [
      "\n",
      "🔍 Evaluación final en test:\n",
      "Pérdida en test: 0.0131\n",
      "Precisión en test: 0.99\n"
     ]
    }
   ],
   "source": [
    "test_pred = predict(model, X_test_tensor) # Predicción\n",
    "test_loss, test_acc = evaluate_model(test_pred, y_test_tensor) # Evaluación\n",
    "\n",
    "print(f\"\\n🔍 Evaluación final en test:\")\n",
    "print(f\"Pérdida en test: {test_loss:.4f}\")\n",
    "print(f\"Precisión en test: {test_acc:.2f}\")"
   ]
  },
  {
   "cell_type": "markdown",
   "metadata": {},
   "source": [
    "Matriz de confusión de la predicción obtenida"
   ]
  },
  {
   "cell_type": "code",
   "execution_count": 35,
   "metadata": {},
   "outputs": [
    {
     "data": {
      "image/png": "[encoded data removed]",
      "text/plain": [
       "<Figure size 1200x1000 with 2 Axes>"
      ]
     },
     "metadata": {},
     "output_type": "display_data"
    }
   ],
   "source": [
    "pred = torch.argmax(test_pred, dim=1).numpy()\n",
    "pred_names = np.array([label_mapping[y] for y in pred])\n",
    "y_test_names = np.array([label_mapping[y] for y in y_test])\n",
    "\n",
    "# Calcular matriz de confusión\n",
    "cm = confusion_matrix(y_test_names, pred_names)\n",
    "\n",
    "# Visualizar\n",
    "plt.figure(figsize=(12, 10))\n",
    "sns.heatmap(\n",
    "\tcm,\n",
    "\tannot=True,\n",
    "\tfmt='d',\n",
    "\tcmap='Blues',\n",
    "\txticklabels=np.unique(pred_names),\n",
    "\tyticklabels=np.unique(y_test_names)\n",
    ")\n",
    "plt.xlabel(\"Predicción\")\n",
    "plt.ylabel(\"Real\")\n",
    "plt.title(\"Matriz de Confusión\")\n",
    "plt.show()"
   ]
  },
  {
   "cell_type": "markdown",
   "metadata": {},
   "source": [
    "## Evaluación por clase"
   ]
  },
  {
   "cell_type": "markdown",
   "metadata": {},
   "source": [
    "Evaluación por cada clase en el conjunto de test"
   ]
  },
  {
   "cell_type": "code",
   "execution_count": 36,
   "metadata": {},
   "outputs": [],
   "source": [
    "# Diccionario para almacenar los datos de test por clase\n",
    "test_data_by_class = {}\n",
    "\n",
    "# Asegúrate de que X_test_tensor y y_test_tensor estén alineados\n",
    "for class_label in torch.unique(y_test_tensor):\n",
    "    mask = y_test_tensor == class_label\n",
    "    class_name = label_mapping[class_label.item()]\n",
    "    test_data_by_class[class_name] = {\n",
    "        'X': X_test_tensor[mask],\n",
    "        'y': y_test_tensor[mask]\n",
    "    }"
   ]
  },
  {
   "cell_type": "code",
   "execution_count": 37,
   "metadata": {},
   "outputs": [
    {
     "name": "stdout",
     "output_type": "stream",
     "text": [
      "Clase: Benign, Pérdida: 0.0328, Precisión: 0.99\n",
      "Clase: FTP-BruteForce, Pérdida: 0.0061, Precisión: 1.00\n",
      "Clase: SSH-Bruteforce, Pérdida: 0.0000, Precisión: 1.00\n",
      "Clase: DoS attacks-GoldenEye, Pérdida: 0.0002, Precisión: 1.00\n",
      "Clase: DoS attacks-Slowloris, Pérdida: 0.0453, Precisión: 0.99\n",
      "Clase: DoS attacks-SlowHTTPTest, Pérdida: 0.0241, Precisión: 1.00\n",
      "Clase: DoS attacks-Hulk, Pérdida: 0.0006, Precisión: 1.00\n",
      "Clase: DDOS attack-LOIC-UDP, Pérdida: 0.0000, Precisión: 1.00\n",
      "Clase: DDOS attack-HOIC, Pérdida: 0.0000, Precisión: 1.00\n",
      "Clase: Brute Force -Web, Pérdida: 0.0680, Precisión: 1.00\n",
      "Clase: Brute Force -XSS, Pérdida: 0.0024, Precisión: 1.00\n",
      "Clase: SQL Injection, Pérdida: 1.3776, Precisión: 0.67\n",
      "Clase: Infilteration, Pérdida: 0.1263, Precisión: 0.97\n",
      "Clase: Bot, Pérdida: 0.0002, Precisión: 1.00\n"
     ]
    }
   ],
   "source": [
    "for cls, data in test_data_by_class.items():\n",
    "    X_cls, y_cls = data['X'], data['y']\n",
    "    cls_pred = predict(model, X_cls) # Predicción\n",
    "    cls_loss, cls_acc = evaluate_model(cls_pred, y_cls) # Evaluación\n",
    "    print(f\"Clase: {cls}, Pérdida: {cls_loss:.4f}, Precisión: {cls_acc:.2f}\")"
   ]
  },
  {
   "cell_type": "markdown",
   "metadata": {},
   "source": [
    "## Despliegue"
   ]
  },
  {
   "cell_type": "code",
   "execution_count": 38,
   "metadata": {},
   "outputs": [
    {
     "name": "stdout",
     "output_type": "stream",
     "text": [
      "Diccionario de estado del modelo guardado en flask-csv-api\\app\\netflow_lstm_model_state_dict.pth\n"
     ]
    }
   ],
   "source": [
    "# --- Guardar el Diccionario de Estado del Modelo ---\n",
    "model_save_path = 'flask-csv-api\\\\app\\\\netflow_lstm_model_state_dict.pth'\n",
    "torch.save(model.state_dict(), model_save_path)\n",
    "print(f\"Diccionario de estado del modelo guardado en {model_save_path}\")"
   ]
  },
  {
   "cell_type": "code",
   "execution_count": 39,
   "metadata": {},
   "outputs": [],
   "source": [
    "# Obtener las columnas de características (columnas originales antes de escalar, excluyendo etiquetas)\n",
    "# Esto asume que 'sequences' está disponible y contiene la estructura antes de dividir en secuencias\n",
    "if 'sequences' in locals() and len(sequences) > 0:\n",
    "    # sequences[0] es un DataFrame de la primera secuencia procesada\n",
    "    feature_columns = [col for col in sequences[0].columns if col not in ['Label', 'Label Code']]\n",
    "else:\n",
    "    # Fallback, asumiendo que df está disponible y tiene la estructura original.\n",
    "    # Esto podría ser menos fiable si df fue modificado extensamente.\n",
    "    print(\"Advertencia: 'sequences' no encontrado, intentando obtener feature_columns desde 'df'.\")\n",
    "    print(\"Asegúrate de que 'df' tenga la estructura correcta previa a la división en secuencias.\")\n",
    "    feature_columns = [col for col in df.columns if col not in ['Label', 'Label Code']]"
   ]
  },
  {
   "cell_type": "code",
   "execution_count": 40,
   "metadata": {},
   "outputs": [
    {
     "data": {
      "text/plain": [
       "['flask-csv-api\\\\app\\\\scaler.joblib']"
      ]
     },
     "execution_count": 40,
     "metadata": {},
     "output_type": "execute_result"
    }
   ],
   "source": [
    "# --- Guardar el Escalador ---\n",
    "scaler_save_path = 'flask-csv-api\\\\app\\\\scaler.joblib'\n",
    "joblib.dump(scaler, scaler_save_path)"
   ]
  },
  {
   "cell_type": "code",
   "execution_count": 44,
   "metadata": {},
   "outputs": [],
   "source": [
    "# --- Guardar el Mapeo de Etiquetas ---\n",
    "# json.dump convertirá las claves enteras a cadenas. Las convertiremos de nuevo a enteros al cargar.\n",
    "label_mapping_save_path = 'flask-csv-api\\\\app\\\\label_mapping.json'\n",
    "with open(label_mapping_save_path, 'w') as f:\n",
    "    json.dump(label_mapping, f, indent=4)"
   ]
  },
  {
   "cell_type": "code",
   "execution_count": 45,
   "metadata": {},
   "outputs": [],
   "source": [
    "# --- Guardar Parámetros del Modelo (sequence_length, num_features, feature_columns) ---\n",
    "actual_sequence_length = X_train_tensor.shape[1] # Esta es la sequence_length usada para padding/truncating\n",
    "actual_num_features = X_train_tensor.shape[2]   # Esta es num_features"
   ]
  },
  {
   "cell_type": "code",
   "execution_count": 46,
   "metadata": {},
   "outputs": [],
   "source": [
    "model_params = {\n",
    "    'sequence_length': actual_sequence_length,\n",
    "    'num_features': actual_num_features,\n",
    "    'hidden_dim': model.lstm.hidden_size, # Obtener hidden_dim de la instancia del modelo\n",
    "    'output_dim': model.classifier.out_features, # Obtener output_dim de la instancia del modelo\n",
    "    'feature_columns': feature_columns # Guardar el orden de las columnas de características\n",
    "}\n",
    "model_params_save_path = 'model_params.json'\n",
    "with open(model_params_save_path, 'w') as f:\n",
    "    json.dump(model_params, f, indent=4)"
   ]
  },
  {
   "cell_type": "code",
   "execution_count": 47,
   "metadata": {},
   "outputs": [
    {
     "name": "stdout",
     "output_type": "stream",
     "text": [
      "\n",
      "--- Artefactos para producción: ---\n",
      "1. Diccionario de estado del modelo: flask-csv-api\\app\\netflow_lstm_model_state_dict.pth\n",
      "2. Escalador: flask-csv-api\\app\\scaler.joblib\n",
      "3. Mapeo de etiquetas: flask-csv-api\\app\\label_mapping.json\n",
      "4. Parámetros del modelo (incluyendo orden de características): model_params.json\n",
      "5. La definición de la clase NetFlowLSTM (necesaria para reconstruir el modelo).\n"
     ]
    }
   ],
   "source": [
    "print(\"\\n--- Artefactos para producción: ---\")\n",
    "print(f\"1. Diccionario de estado del modelo: {model_save_path}\")\n",
    "print(f\"2. Escalador: {scaler_save_path}\")\n",
    "print(f\"3. Mapeo de etiquetas: {label_mapping_save_path}\")\n",
    "print(f\"4. Parámetros del modelo (incluyendo orden de características): {model_params_save_path}\")\n",
    "print(f\"5. La definición de la clase NetFlowLSTM (necesaria para reconstruir el modelo).\")"
   ]
  }
 ],
 "metadata": {
  "kernelspec": {
   "display_name": "Python 3",
   "language": "python",
   "name": "python3"
  },
  "language_info": {
   "codemirror_mode": {
    "name": "ipython",
    "version": 3
   },
   "file_extension": ".py",
   "mimetype": "text/x-python",
   "name": "python",
   "nbconvert_exporter": "python",
   "pygments_lexer": "ipython3",
   "version": "3.11.9"
  }
 },
 "nbformat": 4,
 "nbformat_minor": 2
}

{
 "cells": [
  {
   "cell_type": "markdown",
   "metadata": {},
   "source": [
    "## Importación de librerías"
   ]
  },
  {
   "cell_type": "code",
   "execution_count": 402,
   "metadata": {},
   "outputs": [],
   "source": [
    "import pandas as pd\n",
    "import json\n",
    "import numpy as np\n",
    "from sklearn.model_selection import train_test_split\n",
    "import torch\n",
    "import torch.nn as nn\n",
    "from sklearn.preprocessing import StandardScaler\n",
    "import matplotlib.pyplot as plt\n",
    "from sklearn.metrics import confusion_matrix\n",
    "import seaborn as sns"
   ]
  },
  {
   "cell_type": "markdown",
   "metadata": {},
   "source": [
    "## Configuración de variables globales"
   ]
  },
  {
   "cell_type": "code",
   "execution_count": 403,
   "metadata": {},
   "outputs": [],
   "source": [
    "with open('setup.json', 'r') as f:\n",
    "    SETUP_JSON = json.load(f)\n",
    "with open('labels.json', 'r') as f:\n",
    "    LABELS_JSON = json.load(f)\n",
    "OUTPUT_PARQUET = SETUP_JSON['dataset_parquet'] # Output Parquet file"
   ]
  },
  {
   "cell_type": "markdown",
   "metadata": {},
   "source": [
    "## Cargar el dataset"
   ]
  },
  {
   "cell_type": "code",
   "execution_count": 404,
   "metadata": {},
   "outputs": [
    {
     "data": {
      "text/plain": [
       "(196459, 81)"
      ]
     },
     "execution_count": 404,
     "metadata": {},
     "output_type": "execute_result"
    }
   ],
   "source": [
    "df = pd.read_parquet(OUTPUT_PARQUET) # Leer Parquet\n",
    "df.shape"
   ]
  },
  {
   "cell_type": "markdown",
   "metadata": {},
   "source": [
    "## Extracción de secuencias de paquetes"
   ]
  },
  {
   "cell_type": "markdown",
   "metadata": {},
   "source": [
    "Obtener todas las secuencias de paquetes presentes en el dataset."
   ]
  },
  {
   "cell_type": "code",
   "execution_count": 405,
   "metadata": {},
   "outputs": [],
   "source": [
    "# Crear una copia del DataFrame original para no modificarlo directamente.\n",
    "df_temp = df.copy()\n",
    "\n",
    "# Cada vez que el valor de 'label' cambia, se incrementa el contador acumulativo.\n",
    "df_temp['Sequence'] = (df_temp['Label'] != df_temp['Label'].shift()).cumsum()\n",
    "\n",
    "# Agrupar el DataFrame por la columna 'sequence' y crear una lista de DataFrames.\n",
    "sequences = [sequence for _, sequence in df_temp.groupby('Sequence')]  \n",
    "\n",
    "for sequence_df in sequences:  # Iterar sobre cada DataFrame en la lista de secuencias.\n",
    "    # Eliminar la columna 'sequence' de cada DataFrame, ya que solo se usó para agrupar.\n",
    "    sequence_df.drop(columns='Sequence', inplace=True)  \n",
    "    # Reiniciar los índices de cada DataFrame para que comiencen desde 0.\n",
    "    sequence_df.reset_index(drop=True, inplace=True)"
   ]
  },
  {
   "cell_type": "markdown",
   "metadata": {},
   "source": [
    "## Análisis de las secuencias"
   ]
  },
  {
   "cell_type": "code",
   "execution_count": 406,
   "metadata": {},
   "outputs": [
    {
     "name": "stdout",
     "output_type": "stream",
     "text": [
      "Total de secuencias de paquetes encontradas: 1531\n"
     ]
    }
   ],
   "source": [
    "print(f\"Total de secuencias de paquetes encontradas: {len(sequences)}\")"
   ]
  },
  {
   "cell_type": "code",
   "execution_count": 407,
   "metadata": {},
   "outputs": [
    {
     "name": "stdout",
     "output_type": "stream",
     "text": [
      "Primera secuencia: ['Benign']\n",
      "Número de paquetes de la primera secuencia: 94\n"
     ]
    }
   ],
   "source": [
    "print(f\"Primera secuencia: {sequences[0]['Label'].unique()}\")\n",
    "print(f\"Número de paquetes de la primera secuencia: {sequences[0].shape[0]}\")"
   ]
  },
  {
   "cell_type": "code",
   "execution_count": 408,
   "metadata": {},
   "outputs": [
    {
     "name": "stdout",
     "output_type": "stream",
     "text": [
      "Última secuencia: ['Bot']\n",
      "Número de paquetes de la última secuencia: 10000\n"
     ]
    }
   ],
   "source": [
    "print(f\"Última secuencia: {sequences[-1]['Label'].unique()}\")\n",
    "print(f\"Número de paquetes de la última secuencia: {sequences[-1].shape[0]}\")"
   ]
  },
  {
   "cell_type": "code",
   "execution_count": 409,
   "metadata": {},
   "outputs": [],
   "source": [
    "sequences_df = pd.DataFrame({\n",
    "    'Sequence Size': [sequence.shape[0] for sequence in sequences],\n",
    "    'Sequence Label': [sequence['Label'].unique()[0] for sequence in sequences]\n",
    "})"
   ]
  },
  {
   "cell_type": "code",
   "execution_count": 410,
   "metadata": {},
   "outputs": [
    {
     "name": "stdout",
     "output_type": "stream",
     "text": [
      "<class 'pandas.core.frame.DataFrame'>\n",
      "RangeIndex: 1531 entries, 0 to 1530\n",
      "Data columns (total 2 columns):\n",
      " #   Column          Non-Null Count  Dtype \n",
      "---  ------          --------------  ----- \n",
      " 0   Sequence Size   1531 non-null   int64 \n",
      " 1   Sequence Label  1531 non-null   object\n",
      "dtypes: int64(1), object(1)\n",
      "memory usage: 24.1+ KB\n"
     ]
    }
   ],
   "source": [
    "sequences_df.info()"
   ]
  },
  {
   "cell_type": "code",
   "execution_count": 411,
   "metadata": {},
   "outputs": [
    {
     "data": {
      "text/html": [
       "<div>\n",
       "<style scoped>\n",
       "    .dataframe tbody tr th:only-of-type {\n",
       "        vertical-align: middle;\n",
       "    }\n",
       "\n",
       "    .dataframe tbody tr th {\n",
       "        vertical-align: top;\n",
       "    }\n",
       "\n",
       "    .dataframe thead th {\n",
       "        text-align: right;\n",
       "    }\n",
       "</style>\n",
       "<table border=\"1\" class=\"dataframe\">\n",
       "  <thead>\n",
       "    <tr style=\"text-align: right;\">\n",
       "      <th></th>\n",
       "      <th>Sequence Size</th>\n",
       "      <th>Sequence Label</th>\n",
       "    </tr>\n",
       "  </thead>\n",
       "  <tbody>\n",
       "    <tr>\n",
       "      <th>0</th>\n",
       "      <td>94</td>\n",
       "      <td>Benign</td>\n",
       "    </tr>\n",
       "    <tr>\n",
       "      <th>1</th>\n",
       "      <td>64</td>\n",
       "      <td>FTP-BruteForce</td>\n",
       "    </tr>\n",
       "    <tr>\n",
       "      <th>2</th>\n",
       "      <td>1</td>\n",
       "      <td>Benign</td>\n",
       "    </tr>\n",
       "    <tr>\n",
       "      <th>3</th>\n",
       "      <td>5610</td>\n",
       "      <td>FTP-BruteForce</td>\n",
       "    </tr>\n",
       "    <tr>\n",
       "      <th>4</th>\n",
       "      <td>1</td>\n",
       "      <td>Benign</td>\n",
       "    </tr>\n",
       "  </tbody>\n",
       "</table>\n",
       "</div>"
      ],
      "text/plain": [
       "   Sequence Size  Sequence Label\n",
       "0             94          Benign\n",
       "1             64  FTP-BruteForce\n",
       "2              1          Benign\n",
       "3           5610  FTP-BruteForce\n",
       "4              1          Benign"
      ]
     },
     "execution_count": 411,
     "metadata": {},
     "output_type": "execute_result"
    }
   ],
   "source": [
    "sequences_df.head()"
   ]
  },
  {
   "cell_type": "code",
   "execution_count": 412,
   "metadata": {},
   "outputs": [
    {
     "name": "stdout",
     "output_type": "stream",
     "text": [
      "Análisis estadístico de las secuencias\n",
      "count     1531.000000\n",
      "mean       128.320705\n",
      "std        830.432399\n",
      "min          1.000000\n",
      "25%          1.000000\n",
      "50%          2.000000\n",
      "75%          6.000000\n",
      "max      20000.000000\n",
      "Name: Sequence Size, dtype: float64\n"
     ]
    }
   ],
   "source": [
    "print(\"Análisis estadístico de las secuencias\")\n",
    "print(f\"{sequences_df['Sequence Size'].describe()}\")"
   ]
  },
  {
   "cell_type": "markdown",
   "metadata": {},
   "source": [
    "Obtener media y desviación estándar del número de paquetes."
   ]
  },
  {
   "cell_type": "code",
   "execution_count": 413,
   "metadata": {},
   "outputs": [
    {
     "name": "stdout",
     "output_type": "stream",
     "text": [
      "Número promedio de paquetes por secuencia: 128.32070542129327\n",
      "Desviación estándar (muestral): 830.4323991932329\n"
     ]
    }
   ],
   "source": [
    "# Obtener la media de paquetes por secuencia\n",
    "mean = sequences_df['Sequence Size'].mean()\n",
    "\n",
    "# Obtener la desviación estándar muestral (por defecto ddof=1)\n",
    "deviation = sequences_df['Sequence Size'].std()\n",
    "\n",
    "print(f\"Número promedio de paquetes por secuencia: {mean}\")\n",
    "print(f\"Desviación estándar (muestral): {deviation}\")"
   ]
  },
  {
   "cell_type": "markdown",
   "metadata": {},
   "source": [
    "Obtener número de secuencias asociadas a cada etiqueta"
   ]
  },
  {
   "cell_type": "code",
   "execution_count": 414,
   "metadata": {},
   "outputs": [
    {
     "data": {
      "text/plain": [
       "Sequence Label\n",
       "Benign                      765\n",
       "SSH-Bruteforce              275\n",
       "DDOS attack-LOIC-UDP        253\n",
       "Brute Force -XSS            109\n",
       "Brute Force -Web             73\n",
       "DoS attacks-Slowloris        23\n",
       "FTP-BruteForce               14\n",
       "DoS attacks-GoldenEye         6\n",
       "SQL Injection                 6\n",
       "DoS attacks-SlowHTTPTest      2\n",
       "Infilteration                 2\n",
       "DoS attacks-Hulk              1\n",
       "DDOS attack-HOIC              1\n",
       "Bot                           1\n",
       "Name: count, dtype: int64"
      ]
     },
     "execution_count": 414,
     "metadata": {},
     "output_type": "execute_result"
    }
   ],
   "source": [
    "sequences_df[\"Sequence Label\"].value_counts()  # Contar la cantidad de secuencias por etiqueta"
   ]
  },
  {
   "cell_type": "code",
   "execution_count": 415,
   "metadata": {},
   "outputs": [],
   "source": [
    "# Número de características de cada secuencia\n",
    "num_features = sequences[0].shape[1] - 2\n",
    "# Número de etiquetas únicas\n",
    "num_labels = len(sequences_df[\"Sequence Label\"].unique())\n",
    "# Número de secuencias\n",
    "num_sequences = len(sequences)\n",
    "# Media de paquetes por secuencia como longitud fija\n",
    "sequence_length = int(mean)"
   ]
  },
  {
   "cell_type": "code",
   "execution_count": 416,
   "metadata": {},
   "outputs": [
    {
     "name": "stdout",
     "output_type": "stream",
     "text": [
      "Número de características: 79\n",
      "Número de secuencias: 1531\n",
      "Número de etiquetas únicas: 14\n",
      "Longitud de cada secuencia: 128\n"
     ]
    }
   ],
   "source": [
    "print(f\"Número de características: {num_features}\")\n",
    "print(f\"Número de secuencias: {num_sequences}\")\n",
    "print(f\"Número de etiquetas únicas: {num_labels}\")\n",
    "print(f\"Longitud de cada secuencia: {sequence_length}\")"
   ]
  },
  {
   "cell_type": "markdown",
   "metadata": {},
   "source": [
    "## Separación de datos"
   ]
  },
  {
   "cell_type": "code",
   "execution_count": 417,
   "metadata": {},
   "outputs": [],
   "source": [
    "X = []\n",
    "y = []\n",
    "\n",
    "for seq in sequences:\n",
    "    sequence_X = seq.drop(columns=['Label', 'Label Code']) # Obtener las características\n",
    "    sequence_Y = seq['Label Code'].iloc[0] # Obtener la etiqueta\n",
    "\n",
    "    if len(sequence_X) < sequence_length:\n",
    "        # Rellenar con ceros\n",
    "        pad_width = sequence_length - len(sequence_X)\n",
    "        sequence_X = np.pad(sequence_X, ((0, pad_width), (0, 0)), mode='constant')\n",
    "    else:\n",
    "        # Recortar\n",
    "        sequence_X = sequence_X.iloc[:sequence_length]\n",
    "        \n",
    "    X.append(sequence_X)\n",
    "    y.append(sequence_Y)\n",
    "\n",
    "X = np.array(X)\n",
    "y = np.array(y)"
   ]
  },
  {
   "cell_type": "code",
   "execution_count": 418,
   "metadata": {},
   "outputs": [
    {
     "name": "stdout",
     "output_type": "stream",
     "text": [
      "(1531, 128, 79)\n",
      "(1531,)\n"
     ]
    }
   ],
   "source": [
    "print(X.shape)\n",
    "print(y.shape)"
   ]
  },
  {
   "cell_type": "markdown",
   "metadata": {},
   "source": [
    "Escalamiento de características"
   ]
  },
  {
   "cell_type": "code",
   "execution_count": 419,
   "metadata": {},
   "outputs": [
    {
     "ename": "ValueError",
     "evalue": "Input X contains infinity or a value too large for dtype('float64').",
     "output_type": "error",
     "traceback": [
      "\u001b[31m---------------------------------------------------------------------------\u001b[39m",
      "\u001b[31mValueError\u001b[39m                                Traceback (most recent call last)",
      "\u001b[36mCell\u001b[39m\u001b[36m \u001b[39m\u001b[32mIn[419]\u001b[39m\u001b[32m, line 2\u001b[39m\n\u001b[32m      1\u001b[39m scaler = StandardScaler()\n\u001b[32m----> \u001b[39m\u001b[32m2\u001b[39m X_scaled = \u001b[43mscaler\u001b[49m\u001b[43m.\u001b[49m\u001b[43mfit_transform\u001b[49m\u001b[43m(\u001b[49m\u001b[43mX\u001b[49m\u001b[43m.\u001b[49m\u001b[43mreshape\u001b[49m\u001b[43m(\u001b[49m\u001b[43m-\u001b[49m\u001b[32;43m1\u001b[39;49m\u001b[43m,\u001b[49m\u001b[43m \u001b[49m\u001b[43mnum_features\u001b[49m\u001b[43m)\u001b[49m\u001b[43m)\u001b[49m.reshape(num_sequences, sequence_length, num_features)\n",
      "\u001b[36mFile \u001b[39m\u001b[32mc:\\Program Files\\Python311\\Lib\\site-packages\\sklearn\\utils\\_set_output.py:319\u001b[39m, in \u001b[36m_wrap_method_output.<locals>.wrapped\u001b[39m\u001b[34m(self, X, *args, **kwargs)\u001b[39m\n\u001b[32m    317\u001b[39m \u001b[38;5;129m@wraps\u001b[39m(f)\n\u001b[32m    318\u001b[39m \u001b[38;5;28;01mdef\u001b[39;00m\u001b[38;5;250m \u001b[39m\u001b[34mwrapped\u001b[39m(\u001b[38;5;28mself\u001b[39m, X, *args, **kwargs):\n\u001b[32m--> \u001b[39m\u001b[32m319\u001b[39m     data_to_wrap = \u001b[43mf\u001b[49m\u001b[43m(\u001b[49m\u001b[38;5;28;43mself\u001b[39;49m\u001b[43m,\u001b[49m\u001b[43m \u001b[49m\u001b[43mX\u001b[49m\u001b[43m,\u001b[49m\u001b[43m \u001b[49m\u001b[43m*\u001b[49m\u001b[43margs\u001b[49m\u001b[43m,\u001b[49m\u001b[43m \u001b[49m\u001b[43m*\u001b[49m\u001b[43m*\u001b[49m\u001b[43mkwargs\u001b[49m\u001b[43m)\u001b[49m\n\u001b[32m    320\u001b[39m     \u001b[38;5;28;01mif\u001b[39;00m \u001b[38;5;28misinstance\u001b[39m(data_to_wrap, \u001b[38;5;28mtuple\u001b[39m):\n\u001b[32m    321\u001b[39m         \u001b[38;5;66;03m# only wrap the first output for cross decomposition\u001b[39;00m\n\u001b[32m    322\u001b[39m         return_tuple = (\n\u001b[32m    323\u001b[39m             _wrap_data_with_container(method, data_to_wrap[\u001b[32m0\u001b[39m], X, \u001b[38;5;28mself\u001b[39m),\n\u001b[32m    324\u001b[39m             *data_to_wrap[\u001b[32m1\u001b[39m:],\n\u001b[32m    325\u001b[39m         )\n",
      "\u001b[36mFile \u001b[39m\u001b[32mc:\\Program Files\\Python311\\Lib\\site-packages\\sklearn\\base.py:918\u001b[39m, in \u001b[36mTransformerMixin.fit_transform\u001b[39m\u001b[34m(self, X, y, **fit_params)\u001b[39m\n\u001b[32m    903\u001b[39m         warnings.warn(\n\u001b[32m    904\u001b[39m             (\n\u001b[32m    905\u001b[39m                 \u001b[33mf\u001b[39m\u001b[33m\"\u001b[39m\u001b[33mThis object (\u001b[39m\u001b[38;5;132;01m{\u001b[39;00m\u001b[38;5;28mself\u001b[39m.\u001b[34m__class__\u001b[39m.\u001b[34m__name__\u001b[39m\u001b[38;5;132;01m}\u001b[39;00m\u001b[33m) has a `transform`\u001b[39m\u001b[33m\"\u001b[39m\n\u001b[32m   (...)\u001b[39m\u001b[32m    913\u001b[39m             \u001b[38;5;167;01mUserWarning\u001b[39;00m,\n\u001b[32m    914\u001b[39m         )\n\u001b[32m    916\u001b[39m \u001b[38;5;28;01mif\u001b[39;00m y \u001b[38;5;129;01mis\u001b[39;00m \u001b[38;5;28;01mNone\u001b[39;00m:\n\u001b[32m    917\u001b[39m     \u001b[38;5;66;03m# fit method of arity 1 (unsupervised transformation)\u001b[39;00m\n\u001b[32m--> \u001b[39m\u001b[32m918\u001b[39m     \u001b[38;5;28;01mreturn\u001b[39;00m \u001b[38;5;28;43mself\u001b[39;49m\u001b[43m.\u001b[49m\u001b[43mfit\u001b[49m\u001b[43m(\u001b[49m\u001b[43mX\u001b[49m\u001b[43m,\u001b[49m\u001b[43m \u001b[49m\u001b[43m*\u001b[49m\u001b[43m*\u001b[49m\u001b[43mfit_params\u001b[49m\u001b[43m)\u001b[49m.transform(X)\n\u001b[32m    919\u001b[39m \u001b[38;5;28;01melse\u001b[39;00m:\n\u001b[32m    920\u001b[39m     \u001b[38;5;66;03m# fit method of arity 2 (supervised transformation)\u001b[39;00m\n\u001b[32m    921\u001b[39m     \u001b[38;5;28;01mreturn\u001b[39;00m \u001b[38;5;28mself\u001b[39m.fit(X, y, **fit_params).transform(X)\n",
      "\u001b[36mFile \u001b[39m\u001b[32mc:\\Program Files\\Python311\\Lib\\site-packages\\sklearn\\preprocessing\\_data.py:894\u001b[39m, in \u001b[36mStandardScaler.fit\u001b[39m\u001b[34m(self, X, y, sample_weight)\u001b[39m\n\u001b[32m    892\u001b[39m \u001b[38;5;66;03m# Reset internal state before fitting\u001b[39;00m\n\u001b[32m    893\u001b[39m \u001b[38;5;28mself\u001b[39m._reset()\n\u001b[32m--> \u001b[39m\u001b[32m894\u001b[39m \u001b[38;5;28;01mreturn\u001b[39;00m \u001b[38;5;28;43mself\u001b[39;49m\u001b[43m.\u001b[49m\u001b[43mpartial_fit\u001b[49m\u001b[43m(\u001b[49m\u001b[43mX\u001b[49m\u001b[43m,\u001b[49m\u001b[43m \u001b[49m\u001b[43my\u001b[49m\u001b[43m,\u001b[49m\u001b[43m \u001b[49m\u001b[43msample_weight\u001b[49m\u001b[43m)\u001b[49m\n",
      "\u001b[36mFile \u001b[39m\u001b[32mc:\\Program Files\\Python311\\Lib\\site-packages\\sklearn\\base.py:1389\u001b[39m, in \u001b[36m_fit_context.<locals>.decorator.<locals>.wrapper\u001b[39m\u001b[34m(estimator, *args, **kwargs)\u001b[39m\n\u001b[32m   1382\u001b[39m     estimator._validate_params()\n\u001b[32m   1384\u001b[39m \u001b[38;5;28;01mwith\u001b[39;00m config_context(\n\u001b[32m   1385\u001b[39m     skip_parameter_validation=(\n\u001b[32m   1386\u001b[39m         prefer_skip_nested_validation \u001b[38;5;129;01mor\u001b[39;00m global_skip_validation\n\u001b[32m   1387\u001b[39m     )\n\u001b[32m   1388\u001b[39m ):\n\u001b[32m-> \u001b[39m\u001b[32m1389\u001b[39m     \u001b[38;5;28;01mreturn\u001b[39;00m \u001b[43mfit_method\u001b[49m\u001b[43m(\u001b[49m\u001b[43mestimator\u001b[49m\u001b[43m,\u001b[49m\u001b[43m \u001b[49m\u001b[43m*\u001b[49m\u001b[43margs\u001b[49m\u001b[43m,\u001b[49m\u001b[43m \u001b[49m\u001b[43m*\u001b[49m\u001b[43m*\u001b[49m\u001b[43mkwargs\u001b[49m\u001b[43m)\u001b[49m\n",
      "\u001b[36mFile \u001b[39m\u001b[32mc:\\Program Files\\Python311\\Lib\\site-packages\\sklearn\\preprocessing\\_data.py:930\u001b[39m, in \u001b[36mStandardScaler.partial_fit\u001b[39m\u001b[34m(self, X, y, sample_weight)\u001b[39m\n\u001b[32m    898\u001b[39m \u001b[38;5;250m\u001b[39m\u001b[33;03m\"\"\"Online computation of mean and std on X for later scaling.\u001b[39;00m\n\u001b[32m    899\u001b[39m \n\u001b[32m    900\u001b[39m \u001b[33;03mAll of X is processed as a single batch. This is intended for cases\u001b[39;00m\n\u001b[32m   (...)\u001b[39m\u001b[32m    927\u001b[39m \u001b[33;03m    Fitted scaler.\u001b[39;00m\n\u001b[32m    928\u001b[39m \u001b[33;03m\"\"\"\u001b[39;00m\n\u001b[32m    929\u001b[39m first_call = \u001b[38;5;129;01mnot\u001b[39;00m \u001b[38;5;28mhasattr\u001b[39m(\u001b[38;5;28mself\u001b[39m, \u001b[33m\"\u001b[39m\u001b[33mn_samples_seen_\u001b[39m\u001b[33m\"\u001b[39m)\n\u001b[32m--> \u001b[39m\u001b[32m930\u001b[39m X = \u001b[43mvalidate_data\u001b[49m\u001b[43m(\u001b[49m\n\u001b[32m    931\u001b[39m \u001b[43m    \u001b[49m\u001b[38;5;28;43mself\u001b[39;49m\u001b[43m,\u001b[49m\n\u001b[32m    932\u001b[39m \u001b[43m    \u001b[49m\u001b[43mX\u001b[49m\u001b[43m,\u001b[49m\n\u001b[32m    933\u001b[39m \u001b[43m    \u001b[49m\u001b[43maccept_sparse\u001b[49m\u001b[43m=\u001b[49m\u001b[43m(\u001b[49m\u001b[33;43m\"\u001b[39;49m\u001b[33;43mcsr\u001b[39;49m\u001b[33;43m\"\u001b[39;49m\u001b[43m,\u001b[49m\u001b[43m \u001b[49m\u001b[33;43m\"\u001b[39;49m\u001b[33;43mcsc\u001b[39;49m\u001b[33;43m\"\u001b[39;49m\u001b[43m)\u001b[49m\u001b[43m,\u001b[49m\n\u001b[32m    934\u001b[39m \u001b[43m    \u001b[49m\u001b[43mdtype\u001b[49m\u001b[43m=\u001b[49m\u001b[43mFLOAT_DTYPES\u001b[49m\u001b[43m,\u001b[49m\n\u001b[32m    935\u001b[39m \u001b[43m    \u001b[49m\u001b[43mensure_all_finite\u001b[49m\u001b[43m=\u001b[49m\u001b[33;43m\"\u001b[39;49m\u001b[33;43mallow-nan\u001b[39;49m\u001b[33;43m\"\u001b[39;49m\u001b[43m,\u001b[49m\n\u001b[32m    936\u001b[39m \u001b[43m    \u001b[49m\u001b[43mreset\u001b[49m\u001b[43m=\u001b[49m\u001b[43mfirst_call\u001b[49m\u001b[43m,\u001b[49m\n\u001b[32m    937\u001b[39m \u001b[43m\u001b[49m\u001b[43m)\u001b[49m\n\u001b[32m    938\u001b[39m n_features = X.shape[\u001b[32m1\u001b[39m]\n\u001b[32m    940\u001b[39m \u001b[38;5;28;01mif\u001b[39;00m sample_weight \u001b[38;5;129;01mis\u001b[39;00m \u001b[38;5;129;01mnot\u001b[39;00m \u001b[38;5;28;01mNone\u001b[39;00m:\n",
      "\u001b[36mFile \u001b[39m\u001b[32mc:\\Program Files\\Python311\\Lib\\site-packages\\sklearn\\utils\\validation.py:2944\u001b[39m, in \u001b[36mvalidate_data\u001b[39m\u001b[34m(_estimator, X, y, reset, validate_separately, skip_check_array, **check_params)\u001b[39m\n\u001b[32m   2942\u001b[39m         out = X, y\n\u001b[32m   2943\u001b[39m \u001b[38;5;28;01melif\u001b[39;00m \u001b[38;5;129;01mnot\u001b[39;00m no_val_X \u001b[38;5;129;01mand\u001b[39;00m no_val_y:\n\u001b[32m-> \u001b[39m\u001b[32m2944\u001b[39m     out = \u001b[43mcheck_array\u001b[49m\u001b[43m(\u001b[49m\u001b[43mX\u001b[49m\u001b[43m,\u001b[49m\u001b[43m \u001b[49m\u001b[43minput_name\u001b[49m\u001b[43m=\u001b[49m\u001b[33;43m\"\u001b[39;49m\u001b[33;43mX\u001b[39;49m\u001b[33;43m\"\u001b[39;49m\u001b[43m,\u001b[49m\u001b[43m \u001b[49m\u001b[43m*\u001b[49m\u001b[43m*\u001b[49m\u001b[43mcheck_params\u001b[49m\u001b[43m)\u001b[49m\n\u001b[32m   2945\u001b[39m \u001b[38;5;28;01melif\u001b[39;00m no_val_X \u001b[38;5;129;01mand\u001b[39;00m \u001b[38;5;129;01mnot\u001b[39;00m no_val_y:\n\u001b[32m   2946\u001b[39m     out = _check_y(y, **check_params)\n",
      "\u001b[36mFile \u001b[39m\u001b[32mc:\\Program Files\\Python311\\Lib\\site-packages\\sklearn\\utils\\validation.py:1107\u001b[39m, in \u001b[36mcheck_array\u001b[39m\u001b[34m(array, accept_sparse, accept_large_sparse, dtype, order, copy, force_writeable, force_all_finite, ensure_all_finite, ensure_non_negative, ensure_2d, allow_nd, ensure_min_samples, ensure_min_features, estimator, input_name)\u001b[39m\n\u001b[32m   1101\u001b[39m     \u001b[38;5;28;01mraise\u001b[39;00m \u001b[38;5;167;01mValueError\u001b[39;00m(\n\u001b[32m   1102\u001b[39m         \u001b[33m\"\u001b[39m\u001b[33mFound array with dim \u001b[39m\u001b[38;5;132;01m%d\u001b[39;00m\u001b[33m. \u001b[39m\u001b[38;5;132;01m%s\u001b[39;00m\u001b[33m expected <= 2.\u001b[39m\u001b[33m\"\u001b[39m\n\u001b[32m   1103\u001b[39m         % (array.ndim, estimator_name)\n\u001b[32m   1104\u001b[39m     )\n\u001b[32m   1106\u001b[39m \u001b[38;5;28;01mif\u001b[39;00m ensure_all_finite:\n\u001b[32m-> \u001b[39m\u001b[32m1107\u001b[39m     \u001b[43m_assert_all_finite\u001b[49m\u001b[43m(\u001b[49m\n\u001b[32m   1108\u001b[39m \u001b[43m        \u001b[49m\u001b[43marray\u001b[49m\u001b[43m,\u001b[49m\n\u001b[32m   1109\u001b[39m \u001b[43m        \u001b[49m\u001b[43minput_name\u001b[49m\u001b[43m=\u001b[49m\u001b[43minput_name\u001b[49m\u001b[43m,\u001b[49m\n\u001b[32m   1110\u001b[39m \u001b[43m        \u001b[49m\u001b[43mestimator_name\u001b[49m\u001b[43m=\u001b[49m\u001b[43mestimator_name\u001b[49m\u001b[43m,\u001b[49m\n\u001b[32m   1111\u001b[39m \u001b[43m        \u001b[49m\u001b[43mallow_nan\u001b[49m\u001b[43m=\u001b[49m\u001b[43mensure_all_finite\u001b[49m\u001b[43m \u001b[49m\u001b[43m==\u001b[49m\u001b[43m \u001b[49m\u001b[33;43m\"\u001b[39;49m\u001b[33;43mallow-nan\u001b[39;49m\u001b[33;43m\"\u001b[39;49m\u001b[43m,\u001b[49m\n\u001b[32m   1112\u001b[39m \u001b[43m    \u001b[49m\u001b[43m)\u001b[49m\n\u001b[32m   1114\u001b[39m \u001b[38;5;28;01mif\u001b[39;00m copy:\n\u001b[32m   1115\u001b[39m     \u001b[38;5;28;01mif\u001b[39;00m _is_numpy_namespace(xp):\n\u001b[32m   1116\u001b[39m         \u001b[38;5;66;03m# only make a copy if `array` and `array_orig` may share memory`\u001b[39;00m\n",
      "\u001b[36mFile \u001b[39m\u001b[32mc:\\Program Files\\Python311\\Lib\\site-packages\\sklearn\\utils\\validation.py:120\u001b[39m, in \u001b[36m_assert_all_finite\u001b[39m\u001b[34m(X, allow_nan, msg_dtype, estimator_name, input_name)\u001b[39m\n\u001b[32m    117\u001b[39m \u001b[38;5;28;01mif\u001b[39;00m first_pass_isfinite:\n\u001b[32m    118\u001b[39m     \u001b[38;5;28;01mreturn\u001b[39;00m\n\u001b[32m--> \u001b[39m\u001b[32m120\u001b[39m \u001b[43m_assert_all_finite_element_wise\u001b[49m\u001b[43m(\u001b[49m\n\u001b[32m    121\u001b[39m \u001b[43m    \u001b[49m\u001b[43mX\u001b[49m\u001b[43m,\u001b[49m\n\u001b[32m    122\u001b[39m \u001b[43m    \u001b[49m\u001b[43mxp\u001b[49m\u001b[43m=\u001b[49m\u001b[43mxp\u001b[49m\u001b[43m,\u001b[49m\n\u001b[32m    123\u001b[39m \u001b[43m    \u001b[49m\u001b[43mallow_nan\u001b[49m\u001b[43m=\u001b[49m\u001b[43mallow_nan\u001b[49m\u001b[43m,\u001b[49m\n\u001b[32m    124\u001b[39m \u001b[43m    \u001b[49m\u001b[43mmsg_dtype\u001b[49m\u001b[43m=\u001b[49m\u001b[43mmsg_dtype\u001b[49m\u001b[43m,\u001b[49m\n\u001b[32m    125\u001b[39m \u001b[43m    \u001b[49m\u001b[43mestimator_name\u001b[49m\u001b[43m=\u001b[49m\u001b[43mestimator_name\u001b[49m\u001b[43m,\u001b[49m\n\u001b[32m    126\u001b[39m \u001b[43m    \u001b[49m\u001b[43minput_name\u001b[49m\u001b[43m=\u001b[49m\u001b[43minput_name\u001b[49m\u001b[43m,\u001b[49m\n\u001b[32m    127\u001b[39m \u001b[43m\u001b[49m\u001b[43m)\u001b[49m\n",
      "\u001b[36mFile \u001b[39m\u001b[32mc:\\Program Files\\Python311\\Lib\\site-packages\\sklearn\\utils\\validation.py:169\u001b[39m, in \u001b[36m_assert_all_finite_element_wise\u001b[39m\u001b[34m(X, xp, allow_nan, msg_dtype, estimator_name, input_name)\u001b[39m\n\u001b[32m    152\u001b[39m \u001b[38;5;28;01mif\u001b[39;00m estimator_name \u001b[38;5;129;01mand\u001b[39;00m input_name == \u001b[33m\"\u001b[39m\u001b[33mX\u001b[39m\u001b[33m\"\u001b[39m \u001b[38;5;129;01mand\u001b[39;00m has_nan_error:\n\u001b[32m    153\u001b[39m     \u001b[38;5;66;03m# Improve the error message on how to handle missing values in\u001b[39;00m\n\u001b[32m    154\u001b[39m     \u001b[38;5;66;03m# scikit-learn.\u001b[39;00m\n\u001b[32m    155\u001b[39m     msg_err += (\n\u001b[32m    156\u001b[39m         \u001b[33mf\u001b[39m\u001b[33m\"\u001b[39m\u001b[38;5;130;01m\\n\u001b[39;00m\u001b[38;5;132;01m{\u001b[39;00mestimator_name\u001b[38;5;132;01m}\u001b[39;00m\u001b[33m does not accept missing values\u001b[39m\u001b[33m\"\u001b[39m\n\u001b[32m    157\u001b[39m         \u001b[33m\"\u001b[39m\u001b[33m encoded as NaN natively. For supervised learning, you might want\u001b[39m\u001b[33m\"\u001b[39m\n\u001b[32m   (...)\u001b[39m\u001b[32m    167\u001b[39m         \u001b[33m\"\u001b[39m\u001b[33m#estimators-that-handle-nan-values\u001b[39m\u001b[33m\"\u001b[39m\n\u001b[32m    168\u001b[39m     )\n\u001b[32m--> \u001b[39m\u001b[32m169\u001b[39m \u001b[38;5;28;01mraise\u001b[39;00m \u001b[38;5;167;01mValueError\u001b[39;00m(msg_err)\n",
      "\u001b[31mValueError\u001b[39m: Input X contains infinity or a value too large for dtype('float64')."
     ]
    }
   ],
   "source": [
    "scaler = StandardScaler()\n",
    "X_scaled = scaler.fit_transform(X.reshape(-1, num_features)).reshape(num_sequences, sequence_length, num_features)"
   ]
  },
  {
   "cell_type": "markdown",
   "metadata": {},
   "source": [
    "## Separar secuencias en entrenamiento, validación y prueba"
   ]
  },
  {
   "cell_type": "markdown",
   "metadata": {},
   "source": [
    "Eliminar clases con menos de 2 ejemplos"
   ]
  },
  {
   "cell_type": "code",
   "execution_count": null,
   "metadata": {},
   "outputs": [],
   "source": [
    "# Contar ejemplos por clase\n",
    "unique, counts = np.unique(y, return_counts=True)\n",
    "class_counts = dict(zip(unique, counts))\n",
    "\n",
    "# Filtrar clases con al menos 2 instancias\n",
    "valid_classes = [cls for cls, count in class_counts.items() if count >= 2]\n",
    "\n",
    "# Filtrar datos\n",
    "mask = np.isin(y, valid_classes)\n",
    "X_filtered = X_scaled[mask]\n",
    "y_filtered = y[mask]"
   ]
  },
  {
   "cell_type": "code",
   "execution_count": null,
   "metadata": {},
   "outputs": [
    {
     "data": {
      "text/plain": [
       "((4224, 31, 79), (4224,))"
      ]
     },
     "execution_count": 370,
     "metadata": {},
     "output_type": "execute_result"
    }
   ],
   "source": [
    "X_filtered.shape, y_filtered.shape"
   ]
  },
  {
   "cell_type": "markdown",
   "metadata": {},
   "source": [
    "Separación de datos"
   ]
  },
  {
   "cell_type": "code",
   "execution_count": null,
   "metadata": {},
   "outputs": [],
   "source": [
    "# Separar en conjuntos de entrenamiento, validación y prueba\n",
    "X_train, X_test, y_train, y_test = train_test_split(X_filtered, y_filtered, test_size=0.2, stratify=y_filtered)\n",
    "X_train, X_val, y_train, y_val = train_test_split(X_train, y_train, test_size=0.2, stratify=y_train)"
   ]
  },
  {
   "cell_type": "code",
   "execution_count": null,
   "metadata": {},
   "outputs": [
    {
     "name": "stdout",
     "output_type": "stream",
     "text": [
      "(2703, 31, 79) (2703,)\n",
      "(676, 31, 79) (676,)\n",
      "(845, 31, 79) (845,)\n"
     ]
    }
   ],
   "source": [
    "print(X_train.shape, y_train.shape)\n",
    "print(X_val.shape, y_val.shape)\n",
    "print(X_test.shape, y_test.shape)"
   ]
  },
  {
   "cell_type": "markdown",
   "metadata": {},
   "source": [
    "Convertir los arrays a tensores"
   ]
  },
  {
   "cell_type": "code",
   "execution_count": null,
   "metadata": {},
   "outputs": [],
   "source": [
    "# Convertir a tensores\n",
    "X_train_tensor = torch.tensor(X_train, dtype=torch.float32)\n",
    "y_train_tensor = torch.tensor(y_train, dtype=torch.long)\n",
    "X_val_tensor = torch.tensor(X_val, dtype=torch.float32)\n",
    "y_val_tensor = torch.tensor(y_val, dtype=torch.long)\n",
    "X_test_tensor = torch.tensor(X_test, dtype=torch.float32)\n",
    "y_test_tensor = torch.tensor(y_test, dtype=torch.long)"
   ]
  },
  {
   "cell_type": "markdown",
   "metadata": {},
   "source": [
    "## Inicialización del modelo"
   ]
  },
  {
   "cell_type": "code",
   "execution_count": null,
   "metadata": {},
   "outputs": [],
   "source": [
    "# Modelo LSTM\n",
    "class NetFlowLSTM(nn.Module):\n",
    "    def __init__(self, input_dim, hidden_dim, output_dim):\n",
    "        super().__init__()\n",
    "        self.lstm = nn.LSTM(input_dim, hidden_dim, batch_first=True)\n",
    "        self.classifier = nn.Linear(hidden_dim, output_dim)\n",
    "\n",
    "    def forward(self, x):\n",
    "        _, (h_n, _) = self.lstm(x)         # h_n shape: (1, batch, hidden)\n",
    "        return self.classifier(h_n[-1])    # usar último estado oculto\n",
    "\n",
    "model = NetFlowLSTM(input_dim=num_features, hidden_dim=32, output_dim=num_labels)"
   ]
  },
  {
   "cell_type": "markdown",
   "metadata": {},
   "source": [
    "## Entrenamiento"
   ]
  },
  {
   "cell_type": "code",
   "execution_count": null,
   "metadata": {},
   "outputs": [],
   "source": [
    "# Configurar entrenamiento\n",
    "criterion = nn.CrossEntropyLoss()\n",
    "optimizer = torch.optim.Adam(model.parameters(), lr=0.01)\n",
    "epochs = 200"
   ]
  },
  {
   "cell_type": "code",
   "execution_count": null,
   "metadata": {},
   "outputs": [],
   "source": [
    "# Función de evaluación\n",
    "def evaluate_model(model, X_tensor, y_tensor):\n",
    "    with torch.no_grad():\n",
    "        outputs = model(X_tensor)\n",
    "        loss = criterion(outputs, y_tensor)\n",
    "        pred = torch.argmax(outputs, dim=1)\n",
    "        acc = (pred == y_tensor).float().mean().item()\n",
    "    return loss, acc"
   ]
  },
  {
   "cell_type": "code",
   "execution_count": null,
   "metadata": {},
   "outputs": [
    {
     "name": "stdout",
     "output_type": "stream",
     "text": [
      "\n",
      "Epoch 10 | Loss: 1.4042 | Train Accuracy: 0.52 | Test Accuracy: 0.52\n",
      "Accuracy Clase 0 (Benign) (Test): 0.98\n",
      "Accuracy Clase 1 (FTP-BruteForce) (Test): 1.00\n",
      "Accuracy Clase 2 (SSH-Bruteforce) (Test): 0.00\n",
      "Accuracy Clase 4 (DoS attacks-Slowloris) (Test): 0.02\n",
      "Accuracy Clase 7 (DDOS attack-LOIC-UDP) (Test): 0.00\n",
      "Accuracy Clase 9 (Brute Force -Web) (Test): 0.00\n",
      "Accuracy Clase 10 (Brute Force -XSS) (Test): 0.00\n",
      "Accuracy Clase 11 (SQL Injection) (Test): 0.00\n",
      "Accuracy Clase 13 (Bot) (Test): 0.42\n",
      "--------------------------------------------------------------------------------\n",
      "\n",
      "Epoch 20 | Loss: 1.2928 | Train Accuracy: 0.53 | Test Accuracy: 0.53\n",
      "Accuracy Clase 0 (Benign) (Test): 0.98\n",
      "Accuracy Clase 1 (FTP-BruteForce) (Test): 1.00\n",
      "Accuracy Clase 2 (SSH-Bruteforce) (Test): 0.00\n",
      "Accuracy Clase 4 (DoS attacks-Slowloris) (Test): 0.02\n",
      "Accuracy Clase 7 (DDOS attack-LOIC-UDP) (Test): 0.00\n",
      "Accuracy Clase 9 (Brute Force -Web) (Test): 0.00\n",
      "Accuracy Clase 10 (Brute Force -XSS) (Test): 0.00\n",
      "Accuracy Clase 11 (SQL Injection) (Test): 0.00\n",
      "Accuracy Clase 13 (Bot) (Test): 0.46\n",
      "--------------------------------------------------------------------------------\n",
      "\n",
      "Epoch 30 | Loss: 1.2604 | Train Accuracy: 0.53 | Test Accuracy: 0.53\n",
      "Accuracy Clase 0 (Benign) (Test): 0.98\n",
      "Accuracy Clase 1 (FTP-BruteForce) (Test): 1.00\n",
      "Accuracy Clase 2 (SSH-Bruteforce) (Test): 0.00\n",
      "Accuracy Clase 4 (DoS attacks-Slowloris) (Test): 0.02\n",
      "Accuracy Clase 7 (DDOS attack-LOIC-UDP) (Test): 0.00\n",
      "Accuracy Clase 9 (Brute Force -Web) (Test): 0.00\n",
      "Accuracy Clase 10 (Brute Force -XSS) (Test): 0.00\n",
      "Accuracy Clase 11 (SQL Injection) (Test): 0.00\n",
      "Accuracy Clase 13 (Bot) (Test): 0.46\n",
      "--------------------------------------------------------------------------------\n",
      "\n",
      "Epoch 40 | Loss: 1.1661 | Train Accuracy: 0.54 | Test Accuracy: 0.54\n",
      "Accuracy Clase 0 (Benign) (Test): 0.99\n",
      "Accuracy Clase 1 (FTP-BruteForce) (Test): 1.00\n",
      "Accuracy Clase 2 (SSH-Bruteforce) (Test): 0.00\n",
      "Accuracy Clase 4 (DoS attacks-Slowloris) (Test): 0.02\n",
      "Accuracy Clase 7 (DDOS attack-LOIC-UDP) (Test): 0.00\n",
      "Accuracy Clase 9 (Brute Force -Web) (Test): 0.00\n",
      "Accuracy Clase 10 (Brute Force -XSS) (Test): 0.00\n",
      "Accuracy Clase 11 (SQL Injection) (Test): 0.00\n",
      "Accuracy Clase 13 (Bot) (Test): 0.62\n",
      "--------------------------------------------------------------------------------\n",
      "\n",
      "Epoch 50 | Loss: 1.0310 | Train Accuracy: 0.57 | Test Accuracy: 0.56\n",
      "Accuracy Clase 0 (Benign) (Test): 0.99\n",
      "Accuracy Clase 1 (FTP-BruteForce) (Test): 1.00\n",
      "Accuracy Clase 2 (SSH-Bruteforce) (Test): 0.00\n",
      "Accuracy Clase 4 (DoS attacks-Slowloris) (Test): 0.02\n",
      "Accuracy Clase 7 (DDOS attack-LOIC-UDP) (Test): 0.00\n",
      "Accuracy Clase 9 (Brute Force -Web) (Test): 0.00\n",
      "Accuracy Clase 10 (Brute Force -XSS) (Test): 0.00\n",
      "Accuracy Clase 11 (SQL Injection) (Test): 0.00\n",
      "Accuracy Clase 13 (Bot) (Test): 1.00\n",
      "--------------------------------------------------------------------------------\n",
      "\n",
      "Epoch 60 | Loss: 0.8572 | Train Accuracy: 0.70 | Test Accuracy: 0.70\n",
      "Accuracy Clase 0 (Benign) (Test): 0.99\n",
      "Accuracy Clase 1 (FTP-BruteForce) (Test): 1.00\n",
      "Accuracy Clase 2 (SSH-Bruteforce) (Test): 0.00\n",
      "Accuracy Clase 4 (DoS attacks-Slowloris) (Test): 0.02\n",
      "Accuracy Clase 7 (DDOS attack-LOIC-UDP) (Test): 1.00\n",
      "Accuracy Clase 9 (Brute Force -Web) (Test): 0.00\n",
      "Accuracy Clase 10 (Brute Force -XSS) (Test): 0.00\n",
      "Accuracy Clase 11 (SQL Injection) (Test): 0.00\n",
      "Accuracy Clase 13 (Bot) (Test): 1.00\n",
      "--------------------------------------------------------------------------------\n",
      "\n",
      "Epoch 70 | Loss: 0.7405 | Train Accuracy: 0.70 | Test Accuracy: 0.70\n",
      "Accuracy Clase 0 (Benign) (Test): 0.99\n",
      "Accuracy Clase 1 (FTP-BruteForce) (Test): 1.00\n",
      "Accuracy Clase 2 (SSH-Bruteforce) (Test): 0.00\n",
      "Accuracy Clase 4 (DoS attacks-Slowloris) (Test): 0.02\n",
      "Accuracy Clase 7 (DDOS attack-LOIC-UDP) (Test): 1.00\n",
      "Accuracy Clase 9 (Brute Force -Web) (Test): 0.00\n",
      "Accuracy Clase 10 (Brute Force -XSS) (Test): 0.00\n",
      "Accuracy Clase 11 (SQL Injection) (Test): 0.00\n",
      "Accuracy Clase 13 (Bot) (Test): 1.00\n",
      "--------------------------------------------------------------------------------\n",
      "\n",
      "Epoch 80 | Loss: 0.6165 | Train Accuracy: 0.73 | Test Accuracy: 0.73\n",
      "Accuracy Clase 0 (Benign) (Test): 1.00\n",
      "Accuracy Clase 1 (FTP-BruteForce) (Test): 1.00\n",
      "Accuracy Clase 2 (SSH-Bruteforce) (Test): 0.00\n",
      "Accuracy Clase 4 (DoS attacks-Slowloris) (Test): 0.02\n",
      "Accuracy Clase 7 (DDOS attack-LOIC-UDP) (Test): 0.99\n",
      "Accuracy Clase 9 (Brute Force -Web) (Test): 0.00\n",
      "Accuracy Clase 10 (Brute Force -XSS) (Test): 0.95\n",
      "Accuracy Clase 11 (SQL Injection) (Test): 0.00\n",
      "Accuracy Clase 13 (Bot) (Test): 1.00\n",
      "--------------------------------------------------------------------------------\n",
      "\n",
      "Epoch 90 | Loss: 0.5701 | Train Accuracy: 0.73 | Test Accuracy: 0.73\n",
      "Accuracy Clase 0 (Benign) (Test): 1.00\n",
      "Accuracy Clase 1 (FTP-BruteForce) (Test): 1.00\n",
      "Accuracy Clase 2 (SSH-Bruteforce) (Test): 0.00\n",
      "Accuracy Clase 4 (DoS attacks-Slowloris) (Test): 0.02\n",
      "Accuracy Clase 7 (DDOS attack-LOIC-UDP) (Test): 1.00\n",
      "Accuracy Clase 9 (Brute Force -Web) (Test): 0.00\n",
      "Accuracy Clase 10 (Brute Force -XSS) (Test): 0.95\n",
      "Accuracy Clase 11 (SQL Injection) (Test): 0.00\n",
      "Accuracy Clase 13 (Bot) (Test): 1.00\n",
      "--------------------------------------------------------------------------------\n",
      "\n",
      "Epoch 100 | Loss: 0.5060 | Train Accuracy: 0.74 | Test Accuracy: 0.74\n",
      "Accuracy Clase 0 (Benign) (Test): 1.00\n",
      "Accuracy Clase 1 (FTP-BruteForce) (Test): 1.00\n",
      "Accuracy Clase 2 (SSH-Bruteforce) (Test): 0.00\n",
      "Accuracy Clase 4 (DoS attacks-Slowloris) (Test): 0.05\n",
      "Accuracy Clase 7 (DDOS attack-LOIC-UDP) (Test): 0.99\n",
      "Accuracy Clase 9 (Brute Force -Web) (Test): 0.00\n",
      "Accuracy Clase 10 (Brute Force -XSS) (Test): 0.95\n",
      "Accuracy Clase 11 (SQL Injection) (Test): 0.00\n",
      "Accuracy Clase 13 (Bot) (Test): 1.00\n",
      "--------------------------------------------------------------------------------\n",
      "\n",
      "Epoch 110 | Loss: 0.2576 | Train Accuracy: 0.93 | Test Accuracy: 0.93\n",
      "Accuracy Clase 0 (Benign) (Test): 0.99\n",
      "Accuracy Clase 1 (FTP-BruteForce) (Test): 1.00\n",
      "Accuracy Clase 2 (SSH-Bruteforce) (Test): 0.00\n",
      "Accuracy Clase 4 (DoS attacks-Slowloris) (Test): 0.88\n",
      "Accuracy Clase 7 (DDOS attack-LOIC-UDP) (Test): 0.99\n",
      "Accuracy Clase 9 (Brute Force -Web) (Test): 0.00\n",
      "Accuracy Clase 10 (Brute Force -XSS) (Test): 0.95\n",
      "Accuracy Clase 11 (SQL Injection) (Test): 0.00\n",
      "Accuracy Clase 13 (Bot) (Test): 1.00\n",
      "--------------------------------------------------------------------------------\n",
      "\n",
      "Epoch 120 | Loss: 0.1273 | Train Accuracy: 0.98 | Test Accuracy: 0.98\n",
      "Accuracy Clase 0 (Benign) (Test): 0.99\n",
      "Accuracy Clase 1 (FTP-BruteForce) (Test): 1.00\n",
      "Accuracy Clase 2 (SSH-Bruteforce) (Test): 0.00\n",
      "Accuracy Clase 4 (DoS attacks-Slowloris) (Test): 1.00\n",
      "Accuracy Clase 7 (DDOS attack-LOIC-UDP) (Test): 0.99\n",
      "Accuracy Clase 9 (Brute Force -Web) (Test): 0.80\n",
      "Accuracy Clase 10 (Brute Force -XSS) (Test): 0.95\n",
      "Accuracy Clase 11 (SQL Injection) (Test): 0.00\n",
      "Accuracy Clase 13 (Bot) (Test): 1.00\n",
      "--------------------------------------------------------------------------------\n",
      "\n",
      "Epoch 130 | Loss: 0.1035 | Train Accuracy: 0.97 | Test Accuracy: 0.97\n",
      "Accuracy Clase 0 (Benign) (Test): 0.99\n",
      "Accuracy Clase 1 (FTP-BruteForce) (Test): 1.00\n",
      "Accuracy Clase 2 (SSH-Bruteforce) (Test): 0.00\n",
      "Accuracy Clase 4 (DoS attacks-Slowloris) (Test): 1.00\n",
      "Accuracy Clase 7 (DDOS attack-LOIC-UDP) (Test): 0.99\n",
      "Accuracy Clase 9 (Brute Force -Web) (Test): 0.00\n",
      "Accuracy Clase 10 (Brute Force -XSS) (Test): 0.95\n",
      "Accuracy Clase 11 (SQL Injection) (Test): 0.00\n",
      "Accuracy Clase 13 (Bot) (Test): 1.00\n",
      "--------------------------------------------------------------------------------\n",
      "\n",
      "Epoch 140 | Loss: 0.1019 | Train Accuracy: 0.98 | Test Accuracy: 0.97\n",
      "Accuracy Clase 0 (Benign) (Test): 1.00\n",
      "Accuracy Clase 1 (FTP-BruteForce) (Test): 1.00\n",
      "Accuracy Clase 2 (SSH-Bruteforce) (Test): 0.00\n",
      "Accuracy Clase 4 (DoS attacks-Slowloris) (Test): 1.00\n",
      "Accuracy Clase 7 (DDOS attack-LOIC-UDP) (Test): 0.99\n",
      "Accuracy Clase 9 (Brute Force -Web) (Test): 0.07\n",
      "Accuracy Clase 10 (Brute Force -XSS) (Test): 0.95\n",
      "Accuracy Clase 11 (SQL Injection) (Test): 0.00\n",
      "Accuracy Clase 13 (Bot) (Test): 1.00\n",
      "--------------------------------------------------------------------------------\n",
      "\n",
      "Epoch 150 | Loss: 0.0869 | Train Accuracy: 0.98 | Test Accuracy: 0.98\n",
      "Accuracy Clase 0 (Benign) (Test): 0.99\n",
      "Accuracy Clase 1 (FTP-BruteForce) (Test): 1.00\n",
      "Accuracy Clase 2 (SSH-Bruteforce) (Test): 0.00\n",
      "Accuracy Clase 4 (DoS attacks-Slowloris) (Test): 1.00\n",
      "Accuracy Clase 7 (DDOS attack-LOIC-UDP) (Test): 0.99\n",
      "Accuracy Clase 9 (Brute Force -Web) (Test): 0.87\n",
      "Accuracy Clase 10 (Brute Force -XSS) (Test): 0.95\n",
      "Accuracy Clase 11 (SQL Injection) (Test): 0.00\n",
      "Accuracy Clase 13 (Bot) (Test): 1.00\n",
      "--------------------------------------------------------------------------------\n",
      "\n",
      "Epoch 160 | Loss: 0.0760 | Train Accuracy: 0.99 | Test Accuracy: 0.98\n",
      "Accuracy Clase 0 (Benign) (Test): 1.00\n",
      "Accuracy Clase 1 (FTP-BruteForce) (Test): 1.00\n",
      "Accuracy Clase 2 (SSH-Bruteforce) (Test): 0.00\n",
      "Accuracy Clase 4 (DoS attacks-Slowloris) (Test): 1.00\n",
      "Accuracy Clase 7 (DDOS attack-LOIC-UDP) (Test): 0.99\n",
      "Accuracy Clase 9 (Brute Force -Web) (Test): 0.73\n",
      "Accuracy Clase 10 (Brute Force -XSS) (Test): 0.95\n",
      "Accuracy Clase 11 (SQL Injection) (Test): 0.00\n",
      "Accuracy Clase 13 (Bot) (Test): 1.00\n",
      "--------------------------------------------------------------------------------\n",
      "\n",
      "Epoch 170 | Loss: 0.0665 | Train Accuracy: 0.99 | Test Accuracy: 0.98\n",
      "Accuracy Clase 0 (Benign) (Test): 1.00\n",
      "Accuracy Clase 1 (FTP-BruteForce) (Test): 0.50\n",
      "Accuracy Clase 2 (SSH-Bruteforce) (Test): 0.00\n",
      "Accuracy Clase 4 (DoS attacks-Slowloris) (Test): 1.00\n",
      "Accuracy Clase 7 (DDOS attack-LOIC-UDP) (Test): 0.99\n",
      "Accuracy Clase 9 (Brute Force -Web) (Test): 0.87\n",
      "Accuracy Clase 10 (Brute Force -XSS) (Test): 0.95\n",
      "Accuracy Clase 11 (SQL Injection) (Test): 0.00\n",
      "Accuracy Clase 13 (Bot) (Test): 1.00\n",
      "--------------------------------------------------------------------------------\n",
      "\n",
      "Epoch 180 | Loss: 0.0600 | Train Accuracy: 0.99 | Test Accuracy: 0.98\n",
      "Accuracy Clase 0 (Benign) (Test): 1.00\n",
      "Accuracy Clase 1 (FTP-BruteForce) (Test): 0.50\n",
      "Accuracy Clase 2 (SSH-Bruteforce) (Test): 0.00\n",
      "Accuracy Clase 4 (DoS attacks-Slowloris) (Test): 1.00\n",
      "Accuracy Clase 7 (DDOS attack-LOIC-UDP) (Test): 0.99\n",
      "Accuracy Clase 9 (Brute Force -Web) (Test): 0.93\n",
      "Accuracy Clase 10 (Brute Force -XSS) (Test): 0.95\n",
      "Accuracy Clase 11 (SQL Injection) (Test): 0.00\n",
      "Accuracy Clase 13 (Bot) (Test): 1.00\n",
      "--------------------------------------------------------------------------------\n",
      "\n",
      "Epoch 190 | Loss: 0.0517 | Train Accuracy: 0.99 | Test Accuracy: 0.98\n",
      "Accuracy Clase 0 (Benign) (Test): 1.00\n",
      "Accuracy Clase 1 (FTP-BruteForce) (Test): 0.50\n",
      "Accuracy Clase 2 (SSH-Bruteforce) (Test): 0.00\n",
      "Accuracy Clase 4 (DoS attacks-Slowloris) (Test): 1.00\n",
      "Accuracy Clase 7 (DDOS attack-LOIC-UDP) (Test): 0.99\n",
      "Accuracy Clase 9 (Brute Force -Web) (Test): 0.93\n",
      "Accuracy Clase 10 (Brute Force -XSS) (Test): 0.95\n",
      "Accuracy Clase 11 (SQL Injection) (Test): 0.00\n",
      "Accuracy Clase 13 (Bot) (Test): 1.00\n",
      "--------------------------------------------------------------------------------\n",
      "\n",
      "Epoch 200 | Loss: 0.0427 | Train Accuracy: 0.99 | Test Accuracy: 0.98\n",
      "Accuracy Clase 0 (Benign) (Test): 1.00\n",
      "Accuracy Clase 1 (FTP-BruteForce) (Test): 0.50\n",
      "Accuracy Clase 2 (SSH-Bruteforce) (Test): 0.00\n",
      "Accuracy Clase 4 (DoS attacks-Slowloris) (Test): 1.00\n",
      "Accuracy Clase 7 (DDOS attack-LOIC-UDP) (Test): 0.99\n",
      "Accuracy Clase 9 (Brute Force -Web) (Test): 0.87\n",
      "Accuracy Clase 10 (Brute Force -XSS) (Test): 0.95\n",
      "Accuracy Clase 11 (SQL Injection) (Test): 0.33\n",
      "Accuracy Clase 13 (Bot) (Test): 1.00\n",
      "--------------------------------------------------------------------------------\n"
     ]
    }
   ],
   "source": [
    "train_losses = []\n",
    "val_losses = []\n",
    "val_accuracies = []\n",
    "\n",
    "# Entrenar el modelo\n",
    "for epoch in range(epochs):\n",
    "    model.train()\n",
    "    optimizer.zero_grad()\n",
    "    outputs = model(X_train_tensor)\n",
    "    loss = criterion(outputs, y_train_tensor)\n",
    "    loss.backward()\n",
    "    optimizer.step()\n",
    "    train_losses.append(loss.item())  # Guarda la pérdida de entrenamiento\n",
    "\n",
    "    # --- VALIDACIÓN ---\n",
    "    model.eval()\n",
    "\n",
    "    with torch.no_grad():\n",
    "        train_preds = torch.argmax(outputs, dim=1)\n",
    "        train_acc = (train_preds == y_train_tensor).float().mean().item()\n",
    "\n",
    "        test_outputs = model(X_test_tensor)\n",
    "        test_preds = torch.argmax(test_outputs, dim=1)\n",
    "        test_acc = (test_preds == y_test_tensor).float().mean().item()\n",
    "\n",
    "        # Calcular accuracy por clase en test\n",
    "        class_acc = {}\n",
    "        for class_label in torch.unique(y_test_tensor):\n",
    "            mask = y_test_tensor == class_label\n",
    "            acc = (test_preds[mask] == y_test_tensor[mask]).float().mean().item()\n",
    "            class_acc[class_label.item()] = acc\n",
    "            \n",
    "    val_loss, val_acc = evaluate_model(model, X_val_tensor, y_val_tensor)\n",
    "    val_losses.append(val_loss.item())  # Guarda pérdida validación\n",
    "    val_accuracies.append(val_acc)      # Guarda precisión validación\n",
    "    \n",
    "    # Mostrar resultados\n",
    "    if (epoch + 1) % 10 == 0:\n",
    "        print(f\"\\nEpoch {epoch+1:02d} | Loss: {loss.item():.4f} | Train Accuracy: {train_acc:.2f} | Test Accuracy: {test_acc:.2f}\")\n",
    "        for cls, acc in class_acc.items():\n",
    "            print(f\"Accuracy Clase {cls} ({LABELS_JSON[str(cls)]}) (Test): {acc:.2f}\")\n",
    "        print(\"-\"*80)\n",
    "        "
   ]
  },
  {
   "cell_type": "code",
   "execution_count": null,
   "metadata": {},
   "outputs": [
    {
     "data": {
      "image/png": "[encoded data removed]",
      "text/plain": [
       "<Figure size 1200x500 with 2 Axes>"
      ]
     },
     "metadata": {},
     "output_type": "display_data"
    }
   ],
   "source": [
    "epochs_range = range(1, epochs + 1)\n",
    "\n",
    "plt.figure(figsize=(12, 5))\n",
    "\n",
    "# Pérdidas\n",
    "plt.subplot(1, 2, 1)\n",
    "plt.plot(epochs_range, train_losses, label='Entrenamiento')\n",
    "plt.plot(epochs_range, val_losses, label='Validación')\n",
    "plt.xlabel(\"Época\")\n",
    "plt.ylabel(\"Pérdida\")\n",
    "plt.title(\"Pérdida durante el entrenamiento\")\n",
    "plt.legend()\n",
    "\n",
    "# Precisión\n",
    "plt.subplot(1, 2, 2)\n",
    "plt.plot(epochs_range, val_accuracies, color='green')\n",
    "plt.xlabel(\"Época\")\n",
    "plt.ylabel(\"Precisión\")\n",
    "plt.title(\"Precisión de validación\")\n",
    "\n",
    "plt.tight_layout()\n",
    "plt.show()\n"
   ]
  },
  {
   "cell_type": "markdown",
   "metadata": {},
   "source": [
    "## Evaluación"
   ]
  },
  {
   "cell_type": "code",
   "execution_count": null,
   "metadata": {},
   "outputs": [
    {
     "name": "stdout",
     "output_type": "stream",
     "text": [
      "\n",
      "🔍 Evaluación final en test:\n",
      "Pérdida en test: 0.0797\n",
      "Precisión en test: 0.98\n"
     ]
    }
   ],
   "source": [
    "model.eval()\n",
    "test_loss, test_acc = evaluate_model(model, X_test_tensor, y_test_tensor)\n",
    "\n",
    "print(f\"\\n🔍 Evaluación final en test:\")\n",
    "print(f\"Pérdida en test: {test_loss.item():.4f}\")\n",
    "print(f\"Precisión en test: {test_acc:.2f}\")"
   ]
  },
  {
   "cell_type": "markdown",
   "metadata": {},
   "source": [
    "## Visualización de la predicción"
   ]
  },
  {
   "cell_type": "code",
   "execution_count": null,
   "metadata": {},
   "outputs": [
    {
     "data": {
      "image/png": "[encoded data removed]",
      "text/plain": [
       "<Figure size 600x500 with 2 Axes>"
      ]
     },
     "metadata": {},
     "output_type": "display_data"
    }
   ],
   "source": [
    "# Obtener predicciones del modelo\n",
    "model.eval()\n",
    "with torch.no_grad():\n",
    "    outputs = model(X_test_tensor)\n",
    "    preds = torch.argmax(outputs, dim=1)\n",
    "\n",
    "# Convertir tensores a NumPy (si es necesario)\n",
    "y_true = y_test_tensor.numpy()\n",
    "y_pred = preds.numpy()\n",
    "\n",
    "# Calcular matriz de confusión\n",
    "cm = confusion_matrix(y_true, y_pred)\n",
    "\n",
    "# Visualizar\n",
    "plt.figure(figsize=(6, 5))\n",
    "sns.heatmap(cm, annot=True, fmt='d', cmap='Blues', xticklabels=True, yticklabels=True)\n",
    "plt.xlabel(\"Predicción\")\n",
    "plt.ylabel(\"Real\")\n",
    "plt.title(\"Matriz de Confusión\")\n",
    "plt.show()"
   ]
  },
  {
   "cell_type": "code",
   "execution_count": null,
   "metadata": {},
   "outputs": [
    {
     "data": {
      "text/plain": [
       "'# Asignar la columna \\'ID\\' dentro de cada DataFrame en train\\nfor i, sequence in enumerate(train[\"Sequence\"]):\\n    sequence[\"ID\"] = train.iloc[i][\"ID\"]\\n# Asignar la columna \\'ID\\' dentro de cada DataFrame en train\\nfor i, sequence in enumerate(test[\"Sequence\"]):\\n    sequence[\"ID\"] = test.iloc[i][\"ID\"]\\n\\n\\n# Concatenar manteniendo la columna \\'ID\\'\\ntrain_concatenado = pd.concat(train[\"Sequence\"].tolist(), ignore_index=True)\\n# Concatenar manteniendo la columna \\'ID\\'\\ntest_concatenado = pd.concat(test[\"Sequence\"].tolist(), ignore_index=True)'"
      ]
     },
     "execution_count": 381,
     "metadata": {},
     "output_type": "execute_result"
    }
   ],
   "source": [
    "\"\"\"# Asignar la columna 'ID' dentro de cada DataFrame en train\n",
    "for i, sequence in enumerate(train[\"Sequence\"]):\n",
    "    sequence[\"ID\"] = train.iloc[i][\"ID\"]\n",
    "# Asignar la columna 'ID' dentro de cada DataFrame en train\n",
    "for i, sequence in enumerate(test[\"Sequence\"]):\n",
    "    sequence[\"ID\"] = test.iloc[i][\"ID\"]\n",
    "\n",
    "\n",
    "# Concatenar manteniendo la columna 'ID'\n",
    "train_concatenado = pd.concat(train[\"Sequence\"].tolist(), ignore_index=True)\n",
    "# Concatenar manteniendo la columna 'ID'\n",
    "test_concatenado = pd.concat(test[\"Sequence\"].tolist(), ignore_index=True)\"\"\""
   ]
  },
  {
   "cell_type": "code",
   "execution_count": null,
   "metadata": {},
   "outputs": [
    {
     "data": {
      "text/plain": [
       "'# Dividir los DataFrames en características (X) y etiquetas (y)\\nx_train = train_concatenado.drop(columns=[\\'Label\\', \\'ID\\'])\\ny_train = train_concatenado[[\\'Label\\', \\'ID\\']]\\n# Crear la nueva columna basada en el mapeo\\ny_train[\\'Label_Mapped\\'] = y_train[\\'Label\\'].map(LABELS)\\n\\nx_test = test_concatenado.drop(columns=[\\'Label\\', \\'ID\\'])\\ny_test = test_concatenado[[\\'Label\\', \\'ID\\']]\\n# Crear la nueva columna basada en el mapeo\\ny_test[\\'Label_Mapped\\'] = y_test[\\'Label\\'].map(LABELS)\\n\\nprint(f\"Dimensiones de x_train: {x_train.shape}\")\\nprint(y_train[[\\'Label\\']].value_counts()) \\ny_train.head() # Muestra los primeros 5 paquetes del dataframe de entrenamiento'"
      ]
     },
     "execution_count": 382,
     "metadata": {},
     "output_type": "execute_result"
    }
   ],
   "source": [
    "\"\"\"# Dividir los DataFrames en características (X) y etiquetas (y)\n",
    "x_train = train_concatenado.drop(columns=['Label', 'ID'])\n",
    "y_train = train_concatenado[['Label', 'ID']]\n",
    "# Crear la nueva columna basada en el mapeo\n",
    "y_train['Label_Mapped'] = y_train['Label'].map(LABELS)\n",
    "\n",
    "x_test = test_concatenado.drop(columns=['Label', 'ID'])\n",
    "y_test = test_concatenado[['Label', 'ID']]\n",
    "# Crear la nueva columna basada en el mapeo\n",
    "y_test['Label_Mapped'] = y_test['Label'].map(LABELS)\n",
    "\n",
    "print(f\"Dimensiones de x_train: {x_train.shape}\")\n",
    "print(y_train[['Label']].value_counts()) \n",
    "y_train.head() # Muestra los primeros 5 paquetes del dataframe de entrenamiento\"\"\""
   ]
  },
  {
   "cell_type": "code",
   "execution_count": null,
   "metadata": {},
   "outputs": [
    {
     "data": {
      "text/plain": [
       "\"original_labels = le.inverse_transform(sequences[-1]['Label'])\\nprint(original_labels)\\nprint(len(original_labels))\""
      ]
     },
     "execution_count": 383,
     "metadata": {},
     "output_type": "execute_result"
    }
   ],
   "source": [
    "# Cambiar etiquetas a su estado original\n",
    "\"\"\"original_labels = le.inverse_transform(sequences[-1]['Label'])\n",
    "print(original_labels)\n",
    "print(len(original_labels))\"\"\""
   ]
  }
 ],
 "metadata": {
  "kernelspec": {
   "display_name": "Python 3",
   "language": "python",
   "name": "python3"
  },
  "language_info": {
   "codemirror_mode": {
    "name": "ipython",
    "version": 3
   },
   "file_extension": ".py",
   "mimetype": "text/x-python",
   "name": "python",
   "nbconvert_exporter": "python",
   "pygments_lexer": "ipython3",
   "version": "3.11.9"
  }
 },
 "nbformat": 4,
 "nbformat_minor": 2
}

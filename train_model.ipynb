{
 "cells": [
  {
   "cell_type": "markdown",
   "metadata": {},
   "source": [
    "## Importación de librerías"
   ]
  },
  {
   "cell_type": "code",
   "execution_count": 65,
   "metadata": {},
   "outputs": [],
   "source": [
    "import pandas as pd\n",
    "import json\n",
    "import numpy as np\n",
    "from sklearn.model_selection import train_test_split"
   ]
  },
  {
   "cell_type": "markdown",
   "metadata": {},
   "source": [
    "## Configuración de variables globales"
   ]
  },
  {
   "cell_type": "code",
   "execution_count": null,
   "metadata": {},
   "outputs": [],
   "source": [
    "with open('setup.json', 'r') as f:\n",
    "    SETUP_JSON = json.load(f)\n",
    "OUTPUT_CSV = SETUP_JSON['dataset_csv'] # Output CSV file\n",
    "OUTPUT_PARQUET = SETUP_JSON['dataset_parquet'] # Output CSV file"
   ]
  },
  {
   "cell_type": "markdown",
   "metadata": {},
   "source": [
    "## Cargar el dataset"
   ]
  },
  {
   "cell_type": "code",
   "execution_count": 54,
   "metadata": {},
   "outputs": [],
   "source": [
    "df = pd.read_csv(OUTPUT_CSV) # Leer csv"
   ]
  },
  {
   "cell_type": "markdown",
   "metadata": {},
   "source": [
    "## Extracción de secuencias de paquetes"
   ]
  },
  {
   "cell_type": "markdown",
   "metadata": {},
   "source": [
    "Obtener todas las secuencias de paquetes presentes en el dataset."
   ]
  },
  {
   "cell_type": "code",
   "execution_count": 55,
   "metadata": {},
   "outputs": [],
   "source": [
    "# Crear una copia del DataFrame original para no modificarlo directamente.\n",
    "df_temp = df.copy()\n",
    "\n",
    "# Cada vez que el valor de 'label' cambia, se incrementa el contador acumulativo.\n",
    "df_temp['sequence'] = (df_temp['Label'] != df_temp['Label'].shift()).cumsum()\n",
    "\n",
    "# Agrupar el DataFrame por la columna 'sequence' y crear una lista de DataFrames.\n",
    "sequences = [sequence for _, sequence in df_temp.groupby('sequence')]  \n",
    "\n",
    "for sequence_df in sequences:  # Iterar sobre cada DataFrame en la lista de secuencias.\n",
    "    # Eliminar la columna 'sequence' de cada DataFrame, ya que solo se usó para agrupar.\n",
    "    sequence_df.drop(columns='sequence', inplace=True)  \n",
    "    # Reiniciar los índices de cada DataFrame para que comiencen desde 0.\n",
    "    sequence_df.reset_index(drop=True, inplace=True)"
   ]
  },
  {
   "cell_type": "markdown",
   "metadata": {},
   "source": [
    "## Análisis de las secuencias"
   ]
  },
  {
   "cell_type": "code",
   "execution_count": 56,
   "metadata": {},
   "outputs": [
    {
     "name": "stdout",
     "output_type": "stream",
     "text": [
      "Total de secuencias de paquetes encontradas: 15947\n"
     ]
    }
   ],
   "source": [
    "print(f\"Total de secuencias de paquetes encontradas: {len(sequences)}\")"
   ]
  },
  {
   "cell_type": "code",
   "execution_count": 57,
   "metadata": {},
   "outputs": [
    {
     "name": "stdout",
     "output_type": "stream",
     "text": [
      "Primera secuencia: [0]\n",
      "Número de paquetes de la primera secuencia: 94\n"
     ]
    }
   ],
   "source": [
    "print(f\"Primera secuencia: {sequences[0]['Label'].unique()}\")\n",
    "print(f\"Número de paquetes de la primera secuencia: {sequences[0].shape[0]}\")"
   ]
  },
  {
   "cell_type": "code",
   "execution_count": 58,
   "metadata": {},
   "outputs": [
    {
     "name": "stdout",
     "output_type": "stream",
     "text": [
      "Última secuencia: [1]\n",
      "Número de paquetes de la última secuencia: 17\n"
     ]
    }
   ],
   "source": [
    "print(f\"Última secuencia: {sequences[-1]['Label'].unique()}\")\n",
    "print(f\"Número de paquetes de la última secuencia: {sequences[-1].shape[0]}\")"
   ]
  },
  {
   "cell_type": "code",
   "execution_count": 59,
   "metadata": {},
   "outputs": [],
   "source": [
    "# Almacenar los tamaños de las secuencias y las secuencias en un DataFrame.\n",
    "sequences_df = pd.DataFrame({\n",
    "    'Size': [sequence.shape[0] for sequence in sequences],\n",
    "    'Sequence': sequences,\n",
    "    'ID': range(1, len(sequences) + 1),  # Asigna un número único a cada secuencia\n",
    "    'Label': [sequence['Label'].unique()[0] for sequence in sequences],\n",
    "})"
   ]
  },
  {
   "cell_type": "code",
   "execution_count": 60,
   "metadata": {},
   "outputs": [
    {
     "name": "stdout",
     "output_type": "stream",
     "text": [
      "<class 'pandas.core.frame.DataFrame'>\n",
      "RangeIndex: 15947 entries, 0 to 15946\n",
      "Data columns (total 4 columns):\n",
      " #   Column    Non-Null Count  Dtype \n",
      "---  ------    --------------  ----- \n",
      " 0   Size      15947 non-null  int64 \n",
      " 1   Sequence  15947 non-null  object\n",
      " 2   ID        15947 non-null  int64 \n",
      " 3   Label     15947 non-null  int64 \n",
      "dtypes: int64(3), object(1)\n",
      "memory usage: 498.5+ KB\n"
     ]
    }
   ],
   "source": [
    "sequences_df.info()"
   ]
  },
  {
   "cell_type": "code",
   "execution_count": 61,
   "metadata": {},
   "outputs": [
    {
     "data": {
      "text/html": [
       "<div>\n",
       "<style scoped>\n",
       "    .dataframe tbody tr th:only-of-type {\n",
       "        vertical-align: middle;\n",
       "    }\n",
       "\n",
       "    .dataframe tbody tr th {\n",
       "        vertical-align: top;\n",
       "    }\n",
       "\n",
       "    .dataframe thead th {\n",
       "        text-align: right;\n",
       "    }\n",
       "</style>\n",
       "<table border=\"1\" class=\"dataframe\">\n",
       "  <thead>\n",
       "    <tr style=\"text-align: right;\">\n",
       "      <th></th>\n",
       "      <th>Size</th>\n",
       "      <th>Sequence</th>\n",
       "      <th>ID</th>\n",
       "      <th>Label</th>\n",
       "    </tr>\n",
       "  </thead>\n",
       "  <tbody>\n",
       "    <tr>\n",
       "      <th>0</th>\n",
       "      <td>94</td>\n",
       "      <td>Dst Port  Protocol  Timestamp  Flow Durati...</td>\n",
       "      <td>1</td>\n",
       "      <td>0</td>\n",
       "    </tr>\n",
       "    <tr>\n",
       "      <th>1</th>\n",
       "      <td>64</td>\n",
       "      <td>Dst Port  Protocol  Timestamp  Flow Durati...</td>\n",
       "      <td>2</td>\n",
       "      <td>9</td>\n",
       "    </tr>\n",
       "    <tr>\n",
       "      <th>2</th>\n",
       "      <td>1</td>\n",
       "      <td>Dst Port  Protocol  Timestamp  Flow Duratio...</td>\n",
       "      <td>3</td>\n",
       "      <td>0</td>\n",
       "    </tr>\n",
       "    <tr>\n",
       "      <th>3</th>\n",
       "      <td>5610</td>\n",
       "      <td>Dst Port  Protocol  Timestamp  Flow Dura...</td>\n",
       "      <td>4</td>\n",
       "      <td>9</td>\n",
       "    </tr>\n",
       "    <tr>\n",
       "      <th>4</th>\n",
       "      <td>1</td>\n",
       "      <td>Dst Port  Protocol  Timestamp  Flow Duratio...</td>\n",
       "      <td>5</td>\n",
       "      <td>0</td>\n",
       "    </tr>\n",
       "  </tbody>\n",
       "</table>\n",
       "</div>"
      ],
      "text/plain": [
       "   Size                                           Sequence  ID  Label\n",
       "0    94      Dst Port  Protocol  Timestamp  Flow Durati...   1      0\n",
       "1    64      Dst Port  Protocol  Timestamp  Flow Durati...   2      9\n",
       "2     1     Dst Port  Protocol  Timestamp  Flow Duratio...   3      0\n",
       "3  5610        Dst Port  Protocol  Timestamp  Flow Dura...   4      9\n",
       "4     1     Dst Port  Protocol  Timestamp  Flow Duratio...   5      0"
      ]
     },
     "execution_count": 61,
     "metadata": {},
     "output_type": "execute_result"
    }
   ],
   "source": [
    "sequences_df.head()"
   ]
  },
  {
   "cell_type": "code",
   "execution_count": 62,
   "metadata": {},
   "outputs": [
    {
     "name": "stdout",
     "output_type": "stream",
     "text": [
      "Análisis estadístico de las secuencias\n",
      "count     15947.000000\n",
      "mean         45.026212\n",
      "std        2050.380944\n",
      "min           1.000000\n",
      "25%           1.000000\n",
      "50%           1.000000\n",
      "75%           3.000000\n",
      "max      237376.000000\n",
      "Name: Size, dtype: float64\n"
     ]
    }
   ],
   "source": [
    "print(\"Análisis estadístico de las secuencias\")\n",
    "print(f\"{sequences_df['Size'].describe()}\")"
   ]
  },
  {
   "cell_type": "markdown",
   "metadata": {},
   "source": [
    "Obtener media y desviación estándar del número de paquetes."
   ]
  },
  {
   "cell_type": "code",
   "execution_count": 63,
   "metadata": {},
   "outputs": [
    {
     "name": "stdout",
     "output_type": "stream",
     "text": [
      "Número promedio de paquetes por secuencia: 45.02621182667586\n",
      "Desviación estándar (muestral): 2050.3809442995553\n"
     ]
    }
   ],
   "source": [
    "# Obtener la media de paquetes por secuencia\n",
    "mean = sequences_df['Size'].mean()\n",
    "\n",
    "# Obtener la desviación estándar muestral (por defecto ddof=1)\n",
    "deviation = sequences_df['Size'].std()\n",
    "\n",
    "print(f\"Número promedio de paquetes por secuencia: {mean}\")\n",
    "print(f\"Desviación estándar (muestral): {deviation}\")"
   ]
  },
  {
   "cell_type": "markdown",
   "metadata": {},
   "source": [
    "Obtener número de secuencias asociadas a cada etiqueta"
   ]
  },
  {
   "cell_type": "code",
   "execution_count": 64,
   "metadata": {},
   "outputs": [
    {
     "data": {
      "text/plain": [
       "Label\n",
       "6     5026\n",
       "8     4668\n",
       "0     3805\n",
       "1     1548\n",
       "5      635\n",
       "3      109\n",
       "2       73\n",
       "10      32\n",
       "7       30\n",
       "9       18\n",
       "4        3\n",
       "Name: count, dtype: int64"
      ]
     },
     "execution_count": 64,
     "metadata": {},
     "output_type": "execute_result"
    }
   ],
   "source": [
    "sequences_df[\"Label\"].value_counts()  # Contar la cantidad de secuencias por etiqueta"
   ]
  },
  {
   "cell_type": "markdown",
   "metadata": {},
   "source": [
    "## Separar secuencias en entrenamiento, validación y prueba"
   ]
  },
  {
   "cell_type": "code",
   "execution_count": 73,
   "metadata": {},
   "outputs": [],
   "source": [
    "# train, val y test serán los dataframes de secuencias que usaremos para entrenar al modelo\n",
    "train, test = train_test_split(sequences_df[['Sequence', 'Label']], test_size=0.2, stratify=sequences_df[\"Label\"])\n",
    "train, val = train_test_split(train, test_size=0.2, stratify=train[\"Label\"])\n",
    "\n",
    "train.reset_index(drop=True, inplace=True)\n",
    "val.reset_index(drop=True, inplace=True)\n",
    "test.reset_index(drop=True, inplace=True)"
   ]
  },
  {
   "cell_type": "code",
   "execution_count": 74,
   "metadata": {},
   "outputs": [
    {
     "name": "stdout",
     "output_type": "stream",
     "text": [
      "(10205, 2)\n",
      "(2552, 2)\n",
      "(3190, 2)\n"
     ]
    }
   ],
   "source": [
    "print(train.shape)\n",
    "print(val.shape)\n",
    "print(test.shape)"
   ]
  },
  {
   "cell_type": "code",
   "execution_count": null,
   "metadata": {},
   "outputs": [],
   "source": [
    "\"\"\"# Asignar la columna 'ID' dentro de cada DataFrame en train\n",
    "for i, sequence in enumerate(train[\"Sequence\"]):\n",
    "    sequence[\"ID\"] = train.iloc[i][\"ID\"]\n",
    "# Asignar la columna 'ID' dentro de cada DataFrame en train\n",
    "for i, sequence in enumerate(test[\"Sequence\"]):\n",
    "    sequence[\"ID\"] = test.iloc[i][\"ID\"]\n",
    "\n",
    "\n",
    "# Concatenar manteniendo la columna 'ID'\n",
    "train_concatenado = pd.concat(train[\"Sequence\"].tolist(), ignore_index=True)\n",
    "# Concatenar manteniendo la columna 'ID'\n",
    "test_concatenado = pd.concat(test[\"Sequence\"].tolist(), ignore_index=True)\"\"\""
   ]
  },
  {
   "cell_type": "code",
   "execution_count": null,
   "metadata": {},
   "outputs": [],
   "source": [
    "\"\"\"# Dividir los DataFrames en características (X) y etiquetas (y)\n",
    "x_train = train_concatenado.drop(columns=['Label', 'ID'])\n",
    "y_train = train_concatenado[['Label', 'ID']]\n",
    "# Crear la nueva columna basada en el mapeo\n",
    "y_train['Label_Mapped'] = y_train['Label'].map(LABELS)\n",
    "\n",
    "x_test = test_concatenado.drop(columns=['Label', 'ID'])\n",
    "y_test = test_concatenado[['Label', 'ID']]\n",
    "# Crear la nueva columna basada en el mapeo\n",
    "y_test['Label_Mapped'] = y_test['Label'].map(LABELS)\n",
    "\n",
    "print(f\"Dimensiones de x_train: {x_train.shape}\")\n",
    "print(y_train[['Label']].value_counts()) \n",
    "y_train.head() # Muestra los primeros 5 paquetes del dataframe de entrenamiento\"\"\""
   ]
  },
  {
   "cell_type": "code",
   "execution_count": null,
   "metadata": {},
   "outputs": [],
   "source": [
    "# Cambiar etiquetas a su estado original\n",
    "\"\"\"original_labels = le.inverse_transform(sequences[-1]['Label'])\n",
    "print(original_labels)\n",
    "print(len(original_labels))\"\"\""
   ]
  }
 ],
 "metadata": {
  "kernelspec": {
   "display_name": "Python 3",
   "language": "python",
   "name": "python3"
  },
  "language_info": {
   "codemirror_mode": {
    "name": "ipython",
    "version": 3
   },
   "file_extension": ".py",
   "mimetype": "text/x-python",
   "name": "python",
   "nbconvert_exporter": "python",
   "pygments_lexer": "ipython3",
   "version": "3.11.9"
  }
 },
 "nbformat": 4,
 "nbformat_minor": 2
}

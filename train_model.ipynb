{
 "cells": [
  {
   "cell_type": "markdown",
   "metadata": {},
   "source": [
    "## Importación de librerías"
   ]
  },
  {
   "cell_type": "code",
   "execution_count": 74,
   "metadata": {},
   "outputs": [],
   "source": [
    "import pandas as pd\n",
    "import json\n",
    "import numpy as np\n",
    "from sklearn.model_selection import train_test_split\n",
    "import torch\n",
    "import torch.nn as nn\n",
    "from sklearn.preprocessing import StandardScaler\n",
    "import matplotlib.pyplot as plt\n",
    "from sklearn.metrics import confusion_matrix\n",
    "import seaborn as sns"
   ]
  },
  {
   "cell_type": "markdown",
   "metadata": {},
   "source": [
    "## Configuración de variables globales"
   ]
  },
  {
   "cell_type": "code",
   "execution_count": 22,
   "metadata": {},
   "outputs": [],
   "source": [
    "with open('setup.json', 'r') as f:\n",
    "    SETUP_JSON = json.load(f)\n",
    "OUTPUT_PARQUET = SETUP_JSON['dataset_parquet'] # Output Parquet file"
   ]
  },
  {
   "cell_type": "markdown",
   "metadata": {},
   "source": [
    "## Cargar el dataset"
   ]
  },
  {
   "cell_type": "code",
   "execution_count": 23,
   "metadata": {},
   "outputs": [
    {
     "data": {
      "text/plain": [
       "(897609, 81)"
      ]
     },
     "execution_count": 23,
     "metadata": {},
     "output_type": "execute_result"
    }
   ],
   "source": [
    "df = pd.read_parquet(OUTPUT_PARQUET) # Leer Parquet\n",
    "df.shape"
   ]
  },
  {
   "cell_type": "markdown",
   "metadata": {},
   "source": [
    "## Extracción de secuencias de paquetes"
   ]
  },
  {
   "cell_type": "markdown",
   "metadata": {},
   "source": [
    "Obtener todas las secuencias de paquetes presentes en el dataset."
   ]
  },
  {
   "cell_type": "code",
   "execution_count": 24,
   "metadata": {},
   "outputs": [],
   "source": [
    "# Crear una copia del DataFrame original para no modificarlo directamente.\n",
    "df_temp = df.copy()\n",
    "\n",
    "# Cada vez que el valor de 'label' cambia, se incrementa el contador acumulativo.\n",
    "df_temp['Sequence'] = (df_temp['Label'] != df_temp['Label'].shift()).cumsum()\n",
    "\n",
    "# Agrupar el DataFrame por la columna 'sequence' y crear una lista de DataFrames.\n",
    "sequences = [sequence for _, sequence in df_temp.groupby('Sequence')]  \n",
    "\n",
    "for sequence_df in sequences:  # Iterar sobre cada DataFrame en la lista de secuencias.\n",
    "    # Eliminar la columna 'sequence' de cada DataFrame, ya que solo se usó para agrupar.\n",
    "    sequence_df.drop(columns='Sequence', inplace=True)  \n",
    "    # Reiniciar los índices de cada DataFrame para que comiencen desde 0.\n",
    "    sequence_df.reset_index(drop=True, inplace=True)"
   ]
  },
  {
   "cell_type": "markdown",
   "metadata": {},
   "source": [
    "## Análisis de las secuencias"
   ]
  },
  {
   "cell_type": "code",
   "execution_count": 25,
   "metadata": {},
   "outputs": [
    {
     "name": "stdout",
     "output_type": "stream",
     "text": [
      "Total de secuencias de paquetes encontradas: 16379\n"
     ]
    }
   ],
   "source": [
    "print(f\"Total de secuencias de paquetes encontradas: {len(sequences)}\")"
   ]
  },
  {
   "cell_type": "code",
   "execution_count": 26,
   "metadata": {},
   "outputs": [
    {
     "name": "stdout",
     "output_type": "stream",
     "text": [
      "Primera secuencia: ['Benign']\n",
      "Número de paquetes de la primera secuencia: 94\n"
     ]
    }
   ],
   "source": [
    "print(f\"Primera secuencia: {sequences[0]['Label'].unique()}\")\n",
    "print(f\"Número de paquetes de la primera secuencia: {sequences[0].shape[0]}\")"
   ]
  },
  {
   "cell_type": "code",
   "execution_count": 27,
   "metadata": {},
   "outputs": [
    {
     "name": "stdout",
     "output_type": "stream",
     "text": [
      "Última secuencia: ['Bot']\n",
      "Número de paquetes de la última secuencia: 121\n"
     ]
    }
   ],
   "source": [
    "print(f\"Última secuencia: {sequences[-1]['Label'].unique()}\")\n",
    "print(f\"Número de paquetes de la última secuencia: {sequences[-1].shape[0]}\")"
   ]
  },
  {
   "cell_type": "code",
   "execution_count": 28,
   "metadata": {},
   "outputs": [],
   "source": [
    "sequences_df = pd.DataFrame({\n",
    "    'Sequence Size': [sequence.shape[0] for sequence in sequences],\n",
    "    'Sequence Label': [sequence['Label'].unique()[0] for sequence in sequences]\n",
    "})"
   ]
  },
  {
   "cell_type": "code",
   "execution_count": 29,
   "metadata": {},
   "outputs": [
    {
     "name": "stdout",
     "output_type": "stream",
     "text": [
      "<class 'pandas.core.frame.DataFrame'>\n",
      "RangeIndex: 16379 entries, 0 to 16378\n",
      "Data columns (total 2 columns):\n",
      " #   Column          Non-Null Count  Dtype \n",
      "---  ------          --------------  ----- \n",
      " 0   Sequence Size   16379 non-null  int64 \n",
      " 1   Sequence Label  16379 non-null  object\n",
      "dtypes: int64(1), object(1)\n",
      "memory usage: 256.1+ KB\n"
     ]
    }
   ],
   "source": [
    "sequences_df.info()"
   ]
  },
  {
   "cell_type": "code",
   "execution_count": 30,
   "metadata": {},
   "outputs": [
    {
     "data": {
      "text/html": [
       "<div>\n",
       "<style scoped>\n",
       "    .dataframe tbody tr th:only-of-type {\n",
       "        vertical-align: middle;\n",
       "    }\n",
       "\n",
       "    .dataframe tbody tr th {\n",
       "        vertical-align: top;\n",
       "    }\n",
       "\n",
       "    .dataframe thead th {\n",
       "        text-align: right;\n",
       "    }\n",
       "</style>\n",
       "<table border=\"1\" class=\"dataframe\">\n",
       "  <thead>\n",
       "    <tr style=\"text-align: right;\">\n",
       "      <th></th>\n",
       "      <th>Sequence Size</th>\n",
       "      <th>Sequence Label</th>\n",
       "    </tr>\n",
       "  </thead>\n",
       "  <tbody>\n",
       "    <tr>\n",
       "      <th>0</th>\n",
       "      <td>94</td>\n",
       "      <td>Benign</td>\n",
       "    </tr>\n",
       "    <tr>\n",
       "      <th>1</th>\n",
       "      <td>64</td>\n",
       "      <td>FTP-BruteForce</td>\n",
       "    </tr>\n",
       "    <tr>\n",
       "      <th>2</th>\n",
       "      <td>1</td>\n",
       "      <td>Benign</td>\n",
       "    </tr>\n",
       "    <tr>\n",
       "      <th>3</th>\n",
       "      <td>5610</td>\n",
       "      <td>FTP-BruteForce</td>\n",
       "    </tr>\n",
       "    <tr>\n",
       "      <th>4</th>\n",
       "      <td>1</td>\n",
       "      <td>Benign</td>\n",
       "    </tr>\n",
       "  </tbody>\n",
       "</table>\n",
       "</div>"
      ],
      "text/plain": [
       "   Sequence Size  Sequence Label\n",
       "0             94          Benign\n",
       "1             64  FTP-BruteForce\n",
       "2              1          Benign\n",
       "3           5610  FTP-BruteForce\n",
       "4              1          Benign"
      ]
     },
     "execution_count": 30,
     "metadata": {},
     "output_type": "execute_result"
    }
   ],
   "source": [
    "sequences_df.head()"
   ]
  },
  {
   "cell_type": "code",
   "execution_count": 31,
   "metadata": {},
   "outputs": [
    {
     "name": "stdout",
     "output_type": "stream",
     "text": [
      "Análisis estadístico de las secuencias\n",
      "count     16379.000000\n",
      "mean         54.802430\n",
      "std        2525.859106\n",
      "min           1.000000\n",
      "25%           1.000000\n",
      "50%           1.000000\n",
      "75%           3.000000\n",
      "max      297085.000000\n",
      "Name: Sequence Size, dtype: float64\n"
     ]
    }
   ],
   "source": [
    "print(\"Análisis estadístico de las secuencias\")\n",
    "print(f\"{sequences_df['Sequence Size'].describe()}\")"
   ]
  },
  {
   "cell_type": "markdown",
   "metadata": {},
   "source": [
    "Obtener media y desviación estándar del número de paquetes."
   ]
  },
  {
   "cell_type": "code",
   "execution_count": 32,
   "metadata": {},
   "outputs": [
    {
     "name": "stdout",
     "output_type": "stream",
     "text": [
      "Número promedio de paquetes por secuencia: 54.80242994077783\n",
      "Desviación estándar (muestral): 2525.859105521642\n"
     ]
    }
   ],
   "source": [
    "# Obtener la media de paquetes por secuencia\n",
    "mean = sequences_df['Sequence Size'].mean()\n",
    "\n",
    "# Obtener la desviación estándar muestral (por defecto ddof=1)\n",
    "deviation = sequences_df['Sequence Size'].std()\n",
    "\n",
    "print(f\"Número promedio de paquetes por secuencia: {mean}\")\n",
    "print(f\"Desviación estándar (muestral): {deviation}\")"
   ]
  },
  {
   "cell_type": "markdown",
   "metadata": {},
   "source": [
    "Obtener número de secuencias asociadas a cada etiqueta"
   ]
  },
  {
   "cell_type": "code",
   "execution_count": 33,
   "metadata": {},
   "outputs": [
    {
     "data": {
      "text/plain": [
       "Sequence Label\n",
       "DoS attacks-GoldenEye       5026\n",
       "DoS attacks-Slowloris       4668\n",
       "Benign                      4021\n",
       "Bot                         1753\n",
       "DDOS attack-LOIC-UDP         635\n",
       "Brute Force -XSS             109\n",
       "Brute Force -Web              73\n",
       "DoS attacks-SlowHTTPTest      34\n",
       "SQL Injection                 32\n",
       "FTP-BruteForce                22\n",
       "DDOS attack-HOIC               5\n",
       "DoS attacks-Hulk               1\n",
       "Name: count, dtype: int64"
      ]
     },
     "execution_count": 33,
     "metadata": {},
     "output_type": "execute_result"
    }
   ],
   "source": [
    "sequences_df[\"Sequence Label\"].value_counts()  # Contar la cantidad de secuencias por etiqueta"
   ]
  },
  {
   "cell_type": "code",
   "execution_count": 34,
   "metadata": {},
   "outputs": [],
   "source": [
    "# Número de características de cada secuencia\n",
    "num_features = sequences[0].shape[1] - 2\n",
    "# Número de etiquetas únicas\n",
    "num_labels = len(sequences_df[\"Sequence Label\"].unique())\n",
    "# Número de secuencias\n",
    "num_sequences = len(sequences)\n",
    "# Media de paquetes por secuencia como longitud fija\n",
    "sequence_length = int(mean)"
   ]
  },
  {
   "cell_type": "code",
   "execution_count": 35,
   "metadata": {},
   "outputs": [
    {
     "name": "stdout",
     "output_type": "stream",
     "text": [
      "Número de características: 79\n",
      "Número de secuencias: 16379\n",
      "Número de etiquetas únicas: 12\n",
      "Longitud de cada secuencia: 54\n"
     ]
    }
   ],
   "source": [
    "print(f\"Número de características: {num_features}\")\n",
    "print(f\"Número de secuencias: {num_sequences}\")\n",
    "print(f\"Número de etiquetas únicas: {num_labels}\")\n",
    "print(f\"Longitud de cada secuencia: {sequence_length}\")"
   ]
  },
  {
   "cell_type": "markdown",
   "metadata": {},
   "source": [
    "## Separación de datos"
   ]
  },
  {
   "cell_type": "code",
   "execution_count": 36,
   "metadata": {},
   "outputs": [],
   "source": [
    "X = []\n",
    "y = []\n",
    "\n",
    "for seq in sequences:\n",
    "    sequence_X = seq.drop(columns=['Label', 'Label Code']) # Obtener las características\n",
    "    sequence_Y = seq['Label Code'].iloc[0] # Obtener la etiqueta\n",
    "\n",
    "    if len(sequence_X) < sequence_length:\n",
    "        # Rellenar con ceros\n",
    "        pad_width = sequence_length - len(sequence_X)\n",
    "        sequence_X = np.pad(sequence_X, ((0, pad_width), (0, 0)), mode='constant')\n",
    "    else:\n",
    "        # Recortar\n",
    "        sequence_X = sequence_X.iloc[:sequence_length]\n",
    "\n",
    "    X.append(sequence_X)\n",
    "    y.append(sequence_Y)\n",
    "\n",
    "X = np.array(X)\n",
    "y = np.array(y)"
   ]
  },
  {
   "cell_type": "code",
   "execution_count": 37,
   "metadata": {},
   "outputs": [
    {
     "name": "stdout",
     "output_type": "stream",
     "text": [
      "(16379, 54, 79)\n",
      "(16379,)\n"
     ]
    }
   ],
   "source": [
    "print(X.shape)\n",
    "print(y.shape)"
   ]
  },
  {
   "cell_type": "markdown",
   "metadata": {},
   "source": [
    "Escalamiento de características"
   ]
  },
  {
   "cell_type": "code",
   "execution_count": 38,
   "metadata": {},
   "outputs": [],
   "source": [
    "scaler = StandardScaler()\n",
    "X_scaled = scaler.fit_transform(X.reshape(-1, num_features)).reshape(num_sequences, sequence_length, num_features)"
   ]
  },
  {
   "cell_type": "markdown",
   "metadata": {},
   "source": [
    "## Separar secuencias en entrenamiento, validación y prueba"
   ]
  },
  {
   "cell_type": "markdown",
   "metadata": {},
   "source": [
    "Eliminar clases con menos de 2 ejemplos"
   ]
  },
  {
   "cell_type": "code",
   "execution_count": 78,
   "metadata": {},
   "outputs": [],
   "source": [
    "# Contar ejemplos por clase\n",
    "unique, counts = np.unique(y, return_counts=True)\n",
    "class_counts = dict(zip(unique, counts))\n",
    "\n",
    "# Filtrar clases con al menos 2 instancias\n",
    "valid_classes = [cls for cls, count in class_counts.items() if count >= 2]\n",
    "\n",
    "# Filtrar datos\n",
    "mask = np.isin(y, valid_classes)\n",
    "X_filtered = X_scaled[mask]\n",
    "y_filtered = y[mask]"
   ]
  },
  {
   "cell_type": "code",
   "execution_count": 79,
   "metadata": {},
   "outputs": [
    {
     "data": {
      "text/plain": [
       "((16378, 54, 79), (16378,))"
      ]
     },
     "execution_count": 79,
     "metadata": {},
     "output_type": "execute_result"
    }
   ],
   "source": [
    "X_filtered.shape, y_filtered.shape"
   ]
  },
  {
   "cell_type": "markdown",
   "metadata": {},
   "source": [
    "Separación de datos"
   ]
  },
  {
   "cell_type": "code",
   "execution_count": null,
   "metadata": {},
   "outputs": [],
   "source": [
    "# Separar en conjuntos de entrenamiento, validación y prueba\n",
    "X_train, X_test, y_train, y_test = train_test_split(X_filtered, y_filtered, test_size=0.2, stratify=y_filtered)\n",
    "X_train, X_val, y_train, y_val = train_test_split(X_train, y_train, test_size=0.2, stratify=y_train)"
   ]
  },
  {
   "cell_type": "code",
   "execution_count": 81,
   "metadata": {},
   "outputs": [
    {
     "name": "stdout",
     "output_type": "stream",
     "text": [
      "(10481, 54, 79) (10481,)\n",
      "(2621, 54, 79) (2621,)\n",
      "(3276, 54, 79) (3276,)\n"
     ]
    }
   ],
   "source": [
    "print(X_train.shape, y_train.shape)\n",
    "print(X_val.shape, y_val.shape)\n",
    "print(X_test.shape, y_test.shape)"
   ]
  },
  {
   "cell_type": "markdown",
   "metadata": {},
   "source": [
    "Convertir los arrays a tensores"
   ]
  },
  {
   "cell_type": "code",
   "execution_count": 82,
   "metadata": {},
   "outputs": [],
   "source": [
    "# Convertir a tensores\n",
    "X_train_tensor = torch.tensor(X_train, dtype=torch.float32)\n",
    "y_train_tensor = torch.tensor(y_train, dtype=torch.long)\n",
    "X_val_tensor = torch.tensor(X_val, dtype=torch.float32)\n",
    "y_val_tensor = torch.tensor(y_val, dtype=torch.long)\n",
    "X_test_tensor = torch.tensor(X_test, dtype=torch.float32)\n",
    "y_test_tensor = torch.tensor(y_test, dtype=torch.long)"
   ]
  },
  {
   "cell_type": "markdown",
   "metadata": {},
   "source": [
    "## Inicialización del modelo"
   ]
  },
  {
   "cell_type": "code",
   "execution_count": 83,
   "metadata": {},
   "outputs": [],
   "source": [
    "# Modelo LSTM\n",
    "class NetFlowLSTM(nn.Module):\n",
    "    def __init__(self, input_dim, hidden_dim, output_dim):\n",
    "        super().__init__()\n",
    "        self.lstm = nn.LSTM(input_dim, hidden_dim, batch_first=True)\n",
    "        self.classifier = nn.Linear(hidden_dim, output_dim)\n",
    "\n",
    "    def forward(self, x):\n",
    "        _, (h_n, _) = self.lstm(x)         # h_n shape: (1, batch, hidden)\n",
    "        return self.classifier(h_n[-1])    # usar último estado oculto\n",
    "\n",
    "model = NetFlowLSTM(input_dim=num_features, hidden_dim=32, output_dim=num_labels)"
   ]
  },
  {
   "cell_type": "markdown",
   "metadata": {},
   "source": [
    "## Entrenamiento"
   ]
  },
  {
   "cell_type": "code",
   "execution_count": 84,
   "metadata": {},
   "outputs": [],
   "source": [
    "# Configurar entrenamiento\n",
    "criterion = nn.CrossEntropyLoss()\n",
    "optimizer = torch.optim.Adam(model.parameters(), lr=0.01)\n",
    "epochs = 200"
   ]
  },
  {
   "cell_type": "code",
   "execution_count": 85,
   "metadata": {},
   "outputs": [],
   "source": [
    "# Función de evaluación\n",
    "def evaluate_model(model, X_tensor, y_tensor):\n",
    "    with torch.no_grad():\n",
    "        outputs = model(X_tensor)\n",
    "        loss = criterion(outputs, y_tensor)\n",
    "        pred = torch.argmax(outputs, dim=1)\n",
    "        acc = (pred == y_tensor).float().mean().item()\n",
    "    return loss, acc"
   ]
  },
  {
   "cell_type": "code",
   "execution_count": 86,
   "metadata": {},
   "outputs": [
    {
     "name": "stdout",
     "output_type": "stream",
     "text": [
      "Época 10 | Pérdida ent.: 1.5195 | Pérdida val.: 1.5166 | Precisión val.: 0.27\n",
      "Época 20 | Pérdida ent.: 1.4565 | Pérdida val.: 1.4522 | Precisión val.: 0.33\n",
      "Época 30 | Pérdida ent.: 1.3351 | Pérdida val.: 1.3124 | Precisión val.: 0.40\n",
      "Época 40 | Pérdida ent.: 1.2005 | Pérdida val.: 1.1936 | Precisión val.: 0.42\n",
      "Época 50 | Pérdida ent.: 1.1651 | Pérdida val.: 1.1659 | Precisión val.: 0.43\n",
      "Época 60 | Pérdida ent.: 1.2232 | Pérdida val.: 1.2086 | Precisión val.: 0.41\n",
      "Época 70 | Pérdida ent.: 1.1030 | Pérdida val.: 1.0891 | Precisión val.: 0.74\n",
      "Época 80 | Pérdida ent.: 0.7967 | Pérdida val.: 0.7560 | Precisión val.: 0.86\n",
      "Época 90 | Pérdida ent.: 0.4277 | Pérdida val.: 0.4059 | Precisión val.: 0.92\n",
      "Época 100 | Pérdida ent.: 0.2633 | Pérdida val.: 0.3715 | Precisión val.: 0.93\n",
      "Época 110 | Pérdida ent.: 0.2097 | Pérdida val.: 0.2077 | Precisión val.: 0.96\n",
      "Época 120 | Pérdida ent.: 0.1862 | Pérdida val.: 0.1707 | Precisión val.: 0.98\n",
      "Época 130 | Pérdida ent.: 0.1263 | Pérdida val.: 0.1204 | Precisión val.: 0.98\n",
      "Época 140 | Pérdida ent.: 0.0959 | Pérdida val.: 0.0991 | Precisión val.: 0.98\n",
      "Época 150 | Pérdida ent.: 0.0899 | Pérdida val.: 0.0793 | Precisión val.: 0.98\n",
      "Época 160 | Pérdida ent.: 0.0742 | Pérdida val.: 0.0729 | Precisión val.: 0.98\n",
      "Época 170 | Pérdida ent.: 0.0589 | Pérdida val.: 0.0582 | Precisión val.: 0.99\n",
      "Época 180 | Pérdida ent.: 0.0508 | Pérdida val.: 0.0508 | Precisión val.: 0.99\n",
      "Época 190 | Pérdida ent.: 0.0445 | Pérdida val.: 0.0439 | Precisión val.: 0.99\n",
      "Época 200 | Pérdida ent.: 0.0385 | Pérdida val.: 0.0382 | Precisión val.: 0.99\n"
     ]
    }
   ],
   "source": [
    "train_losses = []\n",
    "val_losses = []\n",
    "val_accuracies = []\n",
    "\n",
    "for epoch in range(epochs):\n",
    "    # --- ENTRENAMIENTO ---\n",
    "    model.train()\n",
    "    optimizer.zero_grad()\n",
    "\n",
    "    outputs = model(X_val_tensor)\n",
    "    loss = criterion(outputs, y_val_tensor)\n",
    "    loss.backward()\n",
    "    optimizer.step()\n",
    "\n",
    "    train_losses.append(loss.item())  # Guarda la pérdida de entrenamiento\n",
    "\n",
    "    # --- VALIDACIÓN ---\n",
    "    model.eval()\n",
    "    val_loss, val_acc = evaluate_model(model, X_val_tensor, y_val_tensor)\n",
    "    val_losses.append(val_loss.item())  # Guarda pérdida validación\n",
    "    val_accuracies.append(val_acc)      # Guarda precisión validación\n",
    "\n",
    "    if (epoch + 1) % 10 == 0:\n",
    "        print(f\"Época {epoch+1:02d} | Pérdida ent.: {loss.item():.4f} | Pérdida val.: {val_loss.item():.4f} | Precisión val.: {val_acc:.2f}\")"
   ]
  },
  {
   "cell_type": "code",
   "execution_count": 87,
   "metadata": {},
   "outputs": [
    {
     "data": {
      "image/png": "[encoded data removed]",
      "text/plain": [
       "<Figure size 1200x500 with 2 Axes>"
      ]
     },
     "metadata": {},
     "output_type": "display_data"
    }
   ],
   "source": [
    "epochs_range = range(1, epochs + 1)\n",
    "\n",
    "plt.figure(figsize=(12, 5))\n",
    "\n",
    "# Pérdidas\n",
    "plt.subplot(1, 2, 1)\n",
    "plt.plot(epochs_range, train_losses, label='Entrenamiento')\n",
    "plt.plot(epochs_range, val_losses, label='Validación')\n",
    "plt.xlabel(\"Época\")\n",
    "plt.ylabel(\"Pérdida\")\n",
    "plt.title(\"Pérdida durante el entrenamiento\")\n",
    "plt.legend()\n",
    "\n",
    "# Precisión\n",
    "plt.subplot(1, 2, 2)\n",
    "plt.plot(epochs_range, val_accuracies, color='green')\n",
    "plt.xlabel(\"Época\")\n",
    "plt.ylabel(\"Precisión\")\n",
    "plt.title(\"Precisión de validación\")\n",
    "\n",
    "plt.tight_layout()\n",
    "plt.show()\n"
   ]
  },
  {
   "cell_type": "markdown",
   "metadata": {},
   "source": [
    "## Evaluación"
   ]
  },
  {
   "cell_type": "code",
   "execution_count": 88,
   "metadata": {},
   "outputs": [
    {
     "name": "stdout",
     "output_type": "stream",
     "text": [
      "\n",
      "🔍 Evaluación final en test:\n",
      "Pérdida en test: 0.1030\n",
      "Precisión en test: 0.98\n"
     ]
    }
   ],
   "source": [
    "model.eval()\n",
    "test_loss, test_acc = evaluate_model(model, X_test_tensor, y_test_tensor)\n",
    "\n",
    "print(f\"\\n🔍 Evaluación final en test:\")\n",
    "print(f\"Pérdida en test: {test_loss.item():.4f}\")\n",
    "print(f\"Precisión en test: {test_acc:.2f}\")"
   ]
  },
  {
   "cell_type": "markdown",
   "metadata": {},
   "source": [
    "## Visualización de la predicción"
   ]
  },
  {
   "cell_type": "code",
   "execution_count": null,
   "metadata": {},
   "outputs": [
    {
     "data": {
      "image/png": "[encoded data removed]",
      "text/plain": [
       "<Figure size 600x500 with 2 Axes>"
      ]
     },
     "metadata": {},
     "output_type": "display_data"
    }
   ],
   "source": [
    "# Obtener predicciones del modelo\n",
    "model.eval()\n",
    "with torch.no_grad():\n",
    "    outputs = model(X_test_tensor)\n",
    "    preds = torch.argmax(outputs, dim=1)\n",
    "\n",
    "# Convertir tensores a NumPy (si es necesario)\n",
    "y_true = y_test_tensor.numpy()\n",
    "y_pred = preds.numpy()\n",
    "\n",
    "# Calcular matriz de confusión\n",
    "cm = confusion_matrix(y_true, y_pred)\n",
    "\n",
    "# Visualizar\n",
    "plt.figure(figsize=(6, 5))\n",
    "sns.heatmap(cm, annot=True, fmt='d', cmap='Blues', xticklabels=True, yticklabels=True)\n",
    "plt.xlabel(\"Predicción\")\n",
    "plt.ylabel(\"Real\")\n",
    "plt.title(\"Matriz de Confusión\")\n",
    "plt.show()"
   ]
  },
  {
   "cell_type": "code",
   "execution_count": null,
   "metadata": {},
   "outputs": [
    {
     "data": {
      "text/plain": [
       "'# Asignar la columna \\'ID\\' dentro de cada DataFrame en train\\nfor i, sequence in enumerate(train[\"Sequence\"]):\\n    sequence[\"ID\"] = train.iloc[i][\"ID\"]\\n# Asignar la columna \\'ID\\' dentro de cada DataFrame en train\\nfor i, sequence in enumerate(test[\"Sequence\"]):\\n    sequence[\"ID\"] = test.iloc[i][\"ID\"]\\n\\n\\n# Concatenar manteniendo la columna \\'ID\\'\\ntrain_concatenado = pd.concat(train[\"Sequence\"].tolist(), ignore_index=True)\\n# Concatenar manteniendo la columna \\'ID\\'\\ntest_concatenado = pd.concat(test[\"Sequence\"].tolist(), ignore_index=True)'"
      ]
     },
     "execution_count": 58,
     "metadata": {},
     "output_type": "execute_result"
    }
   ],
   "source": [
    "\"\"\"# Asignar la columna 'ID' dentro de cada DataFrame en train\n",
    "for i, sequence in enumerate(train[\"Sequence\"]):\n",
    "    sequence[\"ID\"] = train.iloc[i][\"ID\"]\n",
    "# Asignar la columna 'ID' dentro de cada DataFrame en train\n",
    "for i, sequence in enumerate(test[\"Sequence\"]):\n",
    "    sequence[\"ID\"] = test.iloc[i][\"ID\"]\n",
    "\n",
    "\n",
    "# Concatenar manteniendo la columna 'ID'\n",
    "train_concatenado = pd.concat(train[\"Sequence\"].tolist(), ignore_index=True)\n",
    "# Concatenar manteniendo la columna 'ID'\n",
    "test_concatenado = pd.concat(test[\"Sequence\"].tolist(), ignore_index=True)\"\"\""
   ]
  },
  {
   "cell_type": "code",
   "execution_count": null,
   "metadata": {},
   "outputs": [
    {
     "data": {
      "text/plain": [
       "'# Dividir los DataFrames en características (X) y etiquetas (y)\\nx_train = train_concatenado.drop(columns=[\\'Label\\', \\'ID\\'])\\ny_train = train_concatenado[[\\'Label\\', \\'ID\\']]\\n# Crear la nueva columna basada en el mapeo\\ny_train[\\'Label_Mapped\\'] = y_train[\\'Label\\'].map(LABELS)\\n\\nx_test = test_concatenado.drop(columns=[\\'Label\\', \\'ID\\'])\\ny_test = test_concatenado[[\\'Label\\', \\'ID\\']]\\n# Crear la nueva columna basada en el mapeo\\ny_test[\\'Label_Mapped\\'] = y_test[\\'Label\\'].map(LABELS)\\n\\nprint(f\"Dimensiones de x_train: {x_train.shape}\")\\nprint(y_train[[\\'Label\\']].value_counts()) \\ny_train.head() # Muestra los primeros 5 paquetes del dataframe de entrenamiento'"
      ]
     },
     "execution_count": 59,
     "metadata": {},
     "output_type": "execute_result"
    }
   ],
   "source": [
    "\"\"\"# Dividir los DataFrames en características (X) y etiquetas (y)\n",
    "x_train = train_concatenado.drop(columns=['Label', 'ID'])\n",
    "y_train = train_concatenado[['Label', 'ID']]\n",
    "# Crear la nueva columna basada en el mapeo\n",
    "y_train['Label_Mapped'] = y_train['Label'].map(LABELS)\n",
    "\n",
    "x_test = test_concatenado.drop(columns=['Label', 'ID'])\n",
    "y_test = test_concatenado[['Label', 'ID']]\n",
    "# Crear la nueva columna basada en el mapeo\n",
    "y_test['Label_Mapped'] = y_test['Label'].map(LABELS)\n",
    "\n",
    "print(f\"Dimensiones de x_train: {x_train.shape}\")\n",
    "print(y_train[['Label']].value_counts()) \n",
    "y_train.head() # Muestra los primeros 5 paquetes del dataframe de entrenamiento\"\"\""
   ]
  },
  {
   "cell_type": "code",
   "execution_count": null,
   "metadata": {},
   "outputs": [
    {
     "data": {
      "text/plain": [
       "\"original_labels = le.inverse_transform(sequences[-1]['Label'])\\nprint(original_labels)\\nprint(len(original_labels))\""
      ]
     },
     "execution_count": 60,
     "metadata": {},
     "output_type": "execute_result"
    }
   ],
   "source": [
    "# Cambiar etiquetas a su estado original\n",
    "\"\"\"original_labels = le.inverse_transform(sequences[-1]['Label'])\n",
    "print(original_labels)\n",
    "print(len(original_labels))\"\"\""
   ]
  }
 ],
 "metadata": {
  "kernelspec": {
   "display_name": "Python 3",
   "language": "python",
   "name": "python3"
  },
  "language_info": {
   "codemirror_mode": {
    "name": "ipython",
    "version": 3
   },
   "file_extension": ".py",
   "mimetype": "text/x-python",
   "name": "python",
   "nbconvert_exporter": "python",
   "pygments_lexer": "ipython3",
   "version": "3.11.9"
  }
 },
 "nbformat": 4,
 "nbformat_minor": 2
}

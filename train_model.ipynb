{
 "cells": [
  {
   "cell_type": "markdown",
   "metadata": {},
   "source": [
    "## Importación de librerías"
   ]
  },
  {
   "cell_type": "code",
   "execution_count": 1,
   "metadata": {},
   "outputs": [],
   "source": [
    "import pandas as pd\n",
    "import json\n",
    "import numpy as np\n",
    "from sklearn.model_selection import train_test_split\n",
    "import torch\n",
    "import torch.nn as nn\n",
    "from sklearn.preprocessing import StandardScaler\n",
    "import matplotlib.pyplot as plt\n",
    "from sklearn.metrics import confusion_matrix\n",
    "from collections import defaultdict\n",
    "import random\n",
    "import joblib\n",
    "import seaborn as sns"
   ]
  },
  {
   "cell_type": "markdown",
   "metadata": {},
   "source": [
    "## Configuración de variables globales"
   ]
  },
  {
   "cell_type": "code",
   "execution_count": 2,
   "metadata": {},
   "outputs": [],
   "source": [
    "with open('setup.json', 'r') as f:\n",
    "    SETUP_JSON = json.load(f)\n",
    "FINAL_DATASET = SETUP_JSON['final_dataset']\n",
    "LEARNING_RATE = SETUP_JSON['learning_rate']\n",
    "EPOCHS = SETUP_JSON['epochs']"
   ]
  },
  {
   "cell_type": "markdown",
   "metadata": {},
   "source": [
    "## Cargar el dataset"
   ]
  },
  {
   "cell_type": "code",
   "execution_count": 3,
   "metadata": {},
   "outputs": [
    {
     "data": {
      "text/plain": [
       "(8247874, 64)"
      ]
     },
     "execution_count": 3,
     "metadata": {},
     "output_type": "execute_result"
    }
   ],
   "source": [
    "df = pd.read_parquet(FINAL_DATASET) # Leer dataset final\n",
    "df.shape"
   ]
  },
  {
   "cell_type": "code",
   "execution_count": 4,
   "metadata": {},
   "outputs": [
    {
     "data": {
      "text/html": [
       "<div>\n",
       "<style scoped>\n",
       "    .dataframe tbody tr th:only-of-type {\n",
       "        vertical-align: middle;\n",
       "    }\n",
       "\n",
       "    .dataframe tbody tr th {\n",
       "        vertical-align: top;\n",
       "    }\n",
       "\n",
       "    .dataframe thead th {\n",
       "        text-align: right;\n",
       "    }\n",
       "</style>\n",
       "<table border=\"1\" class=\"dataframe\">\n",
       "  <thead>\n",
       "    <tr style=\"text-align: right;\">\n",
       "      <th></th>\n",
       "      <th>Dst Port</th>\n",
       "      <th>Protocol</th>\n",
       "      <th>Flow Duration</th>\n",
       "      <th>Tot Fwd Pkts</th>\n",
       "      <th>TotLen Fwd Pkts</th>\n",
       "      <th>Fwd Pkt Len Max</th>\n",
       "      <th>Fwd Pkt Len Min</th>\n",
       "      <th>Fwd Pkt Len Mean</th>\n",
       "      <th>Fwd Pkt Len Std</th>\n",
       "      <th>Bwd Pkt Len Max</th>\n",
       "      <th>...</th>\n",
       "      <th>Active Max</th>\n",
       "      <th>Active Min</th>\n",
       "      <th>Idle Mean</th>\n",
       "      <th>Idle Std</th>\n",
       "      <th>Idle Max</th>\n",
       "      <th>Idle Min</th>\n",
       "      <th>Label</th>\n",
       "      <th>Label Code</th>\n",
       "      <th>Timestamp</th>\n",
       "      <th>Sequence ID</th>\n",
       "    </tr>\n",
       "  </thead>\n",
       "  <tbody>\n",
       "    <tr>\n",
       "      <th>0</th>\n",
       "      <td>443</td>\n",
       "      <td>6</td>\n",
       "      <td>111873906.0</td>\n",
       "      <td>7.0</td>\n",
       "      <td>169.0</td>\n",
       "      <td>46.0</td>\n",
       "      <td>0.0</td>\n",
       "      <td>24.142857</td>\n",
       "      <td>23.197906</td>\n",
       "      <td>46.0</td>\n",
       "      <td>...</td>\n",
       "      <td>155780.0</td>\n",
       "      <td>155551.0</td>\n",
       "      <td>55780941.0</td>\n",
       "      <td>3.933153e+06</td>\n",
       "      <td>58562100.0</td>\n",
       "      <td>52999782.0</td>\n",
       "      <td>Benign</td>\n",
       "      <td>0</td>\n",
       "      <td>0.258819</td>\n",
       "      <td>1</td>\n",
       "    </tr>\n",
       "    <tr>\n",
       "      <th>1</th>\n",
       "      <td>3389</td>\n",
       "      <td>6</td>\n",
       "      <td>4363661.0</td>\n",
       "      <td>8.0</td>\n",
       "      <td>1148.0</td>\n",
       "      <td>677.0</td>\n",
       "      <td>0.0</td>\n",
       "      <td>143.500000</td>\n",
       "      <td>228.129662</td>\n",
       "      <td>1173.0</td>\n",
       "      <td>...</td>\n",
       "      <td>0.0</td>\n",
       "      <td>0.0</td>\n",
       "      <td>0.0</td>\n",
       "      <td>0.000000e+00</td>\n",
       "      <td>0.0</td>\n",
       "      <td>0.0</td>\n",
       "      <td>Benign</td>\n",
       "      <td>0</td>\n",
       "      <td>0.258819</td>\n",
       "      <td>1</td>\n",
       "    </tr>\n",
       "    <tr>\n",
       "      <th>2</th>\n",
       "      <td>3389</td>\n",
       "      <td>6</td>\n",
       "      <td>1671932.0</td>\n",
       "      <td>8.0</td>\n",
       "      <td>1144.0</td>\n",
       "      <td>677.0</td>\n",
       "      <td>0.0</td>\n",
       "      <td>143.000000</td>\n",
       "      <td>227.969923</td>\n",
       "      <td>1173.0</td>\n",
       "      <td>...</td>\n",
       "      <td>0.0</td>\n",
       "      <td>0.0</td>\n",
       "      <td>0.0</td>\n",
       "      <td>0.000000e+00</td>\n",
       "      <td>0.0</td>\n",
       "      <td>0.0</td>\n",
       "      <td>Benign</td>\n",
       "      <td>0</td>\n",
       "      <td>0.258819</td>\n",
       "      <td>1</td>\n",
       "    </tr>\n",
       "    <tr>\n",
       "      <th>3</th>\n",
       "      <td>3389</td>\n",
       "      <td>6</td>\n",
       "      <td>3641507.0</td>\n",
       "      <td>8.0</td>\n",
       "      <td>1148.0</td>\n",
       "      <td>677.0</td>\n",
       "      <td>0.0</td>\n",
       "      <td>143.500000</td>\n",
       "      <td>228.129662</td>\n",
       "      <td>1173.0</td>\n",
       "      <td>...</td>\n",
       "      <td>0.0</td>\n",
       "      <td>0.0</td>\n",
       "      <td>0.0</td>\n",
       "      <td>0.000000e+00</td>\n",
       "      <td>0.0</td>\n",
       "      <td>0.0</td>\n",
       "      <td>Benign</td>\n",
       "      <td>0</td>\n",
       "      <td>0.258819</td>\n",
       "      <td>1</td>\n",
       "    </tr>\n",
       "    <tr>\n",
       "      <th>4</th>\n",
       "      <td>80</td>\n",
       "      <td>6</td>\n",
       "      <td>89.0</td>\n",
       "      <td>2.0</td>\n",
       "      <td>0.0</td>\n",
       "      <td>0.0</td>\n",
       "      <td>0.0</td>\n",
       "      <td>0.000000</td>\n",
       "      <td>0.000000</td>\n",
       "      <td>0.0</td>\n",
       "      <td>...</td>\n",
       "      <td>0.0</td>\n",
       "      <td>0.0</td>\n",
       "      <td>0.0</td>\n",
       "      <td>0.000000e+00</td>\n",
       "      <td>0.0</td>\n",
       "      <td>0.0</td>\n",
       "      <td>Benign</td>\n",
       "      <td>0</td>\n",
       "      <td>0.258819</td>\n",
       "      <td>1</td>\n",
       "    </tr>\n",
       "  </tbody>\n",
       "</table>\n",
       "<p>5 rows × 64 columns</p>\n",
       "</div>"
      ],
      "text/plain": [
       "   Dst Port  Protocol  Flow Duration  Tot Fwd Pkts  TotLen Fwd Pkts  \\\n",
       "0       443         6    111873906.0           7.0            169.0   \n",
       "1      3389         6      4363661.0           8.0           1148.0   \n",
       "2      3389         6      1671932.0           8.0           1144.0   \n",
       "3      3389         6      3641507.0           8.0           1148.0   \n",
       "4        80         6           89.0           2.0              0.0   \n",
       "\n",
       "   Fwd Pkt Len Max  Fwd Pkt Len Min  Fwd Pkt Len Mean  Fwd Pkt Len Std  \\\n",
       "0             46.0              0.0         24.142857        23.197906   \n",
       "1            677.0              0.0        143.500000       228.129662   \n",
       "2            677.0              0.0        143.000000       227.969923   \n",
       "3            677.0              0.0        143.500000       228.129662   \n",
       "4              0.0              0.0          0.000000         0.000000   \n",
       "\n",
       "   Bwd Pkt Len Max  ...  Active Max  Active Min   Idle Mean      Idle Std  \\\n",
       "0             46.0  ...    155780.0    155551.0  55780941.0  3.933153e+06   \n",
       "1           1173.0  ...         0.0         0.0         0.0  0.000000e+00   \n",
       "2           1173.0  ...         0.0         0.0         0.0  0.000000e+00   \n",
       "3           1173.0  ...         0.0         0.0         0.0  0.000000e+00   \n",
       "4              0.0  ...         0.0         0.0         0.0  0.000000e+00   \n",
       "\n",
       "     Idle Max    Idle Min   Label  Label Code  Timestamp  Sequence ID  \n",
       "0  58562100.0  52999782.0  Benign           0   0.258819            1  \n",
       "1         0.0         0.0  Benign           0   0.258819            1  \n",
       "2         0.0         0.0  Benign           0   0.258819            1  \n",
       "3         0.0         0.0  Benign           0   0.258819            1  \n",
       "4         0.0         0.0  Benign           0   0.258819            1  \n",
       "\n",
       "[5 rows x 64 columns]"
      ]
     },
     "execution_count": 4,
     "metadata": {},
     "output_type": "execute_result"
    }
   ],
   "source": [
    "df.head()"
   ]
  },
  {
   "cell_type": "markdown",
   "metadata": {},
   "source": [
    "## Invertir el mapeo de etiquetas"
   ]
  },
  {
   "cell_type": "code",
   "execution_count": 5,
   "metadata": {},
   "outputs": [
    {
     "data": {
      "text/plain": [
       "{0: 'Benign',\n",
       " 1: 'SSH-Bruteforce',\n",
       " 2: 'FTP-BruteForce',\n",
       " 3: 'DoS attacks-GoldenEye',\n",
       " 4: 'DoS attacks-Slowloris',\n",
       " 5: 'DoS attacks-Hulk',\n",
       " 6: 'DoS attacks-SlowHTTPTest',\n",
       " 7: 'DDOS attack-HOIC',\n",
       " 8: 'DDOS attack-LOIC-UDP',\n",
       " 9: 'Brute Force -XSS',\n",
       " 10: 'SQL Injection',\n",
       " 11: 'Brute Force -Web',\n",
       " 12: 'Infilteration',\n",
       " 13: 'Bot'}"
      ]
     },
     "execution_count": 5,
     "metadata": {},
     "output_type": "execute_result"
    }
   ],
   "source": [
    "# Mapeo de etiquetas\n",
    "labels = df['Label'].unique()\n",
    "labels_codes = df['Label Code'].unique()\n",
    "label_mapping = {int(label_code): label for label_code, label in zip(labels_codes, labels)}\n",
    "label_mapping"
   ]
  },
  {
   "cell_type": "markdown",
   "metadata": {},
   "source": [
    "## Extracción de secuencias de paquetes"
   ]
  },
  {
   "cell_type": "code",
   "execution_count": 6,
   "metadata": {},
   "outputs": [
    {
     "name": "stdout",
     "output_type": "stream",
     "text": [
      "Total de secuencias: 1112159\n"
     ]
    }
   ],
   "source": [
    "# Obtener una lista de DataFrames de secuencias\n",
    "sequences = [group_df for _, group_df in df.groupby('Sequence ID')]\n",
    "print(f\"Total de secuencias: {len(sequences)}\")"
   ]
  },
  {
   "cell_type": "markdown",
   "metadata": {},
   "source": [
    "## Balanceo de clases"
   ]
  },
  {
   "cell_type": "markdown",
   "metadata": {},
   "source": [
    "Vemos que las clases están desbalanceadas"
   ]
  },
  {
   "cell_type": "code",
   "execution_count": 7,
   "metadata": {},
   "outputs": [
    {
     "data": {
      "text/plain": [
       "Clase\n",
       "Benign                      556080\n",
       "DDOS attack-HOIC            175430\n",
       "Bot                         130032\n",
       "DoS attacks-Hulk             90828\n",
       "FTP-BruteForce               60700\n",
       "Infilteration                47606\n",
       "SSH-Bruteforce               34894\n",
       "DoS attacks-Slowloris         7704\n",
       "DoS attacks-GoldenEye         7367\n",
       "DDOS attack-LOIC-UDP           587\n",
       "Brute Force -Web               576\n",
       "Brute Force -XSS               220\n",
       "SQL Injection                   87\n",
       "DoS attacks-SlowHTTPTest        48\n",
       "Name: count, dtype: int64"
      ]
     },
     "execution_count": 7,
     "metadata": {},
     "output_type": "execute_result"
    }
   ],
   "source": [
    "sequences_df = pd.DataFrame({\n",
    "    'Clase': [seq['Label'].iloc[0] for seq in sequences]\n",
    "})\n",
    "sequences_df['Clase'].value_counts()"
   ]
  },
  {
   "cell_type": "markdown",
   "metadata": {},
   "source": [
    "Establecer la mediana como número máximo de secuencias por cada clase"
   ]
  },
  {
   "cell_type": "code",
   "execution_count": 8,
   "metadata": {},
   "outputs": [
    {
     "name": "stdout",
     "output_type": "stream",
     "text": [
      "Número máximo de secuencias: 21299\n"
     ]
    }
   ],
   "source": [
    "max_sequences = int(sequences_df['Clase'].value_counts().median())\n",
    "print(f\"Número máximo de secuencias: {max_sequences}\")"
   ]
  },
  {
   "cell_type": "markdown",
   "metadata": {},
   "source": [
    "Agrupar secuencias por clase"
   ]
  },
  {
   "cell_type": "code",
   "execution_count": 9,
   "metadata": {},
   "outputs": [],
   "source": [
    "# Agrupar secuencias por clase\n",
    "sequences_by_class = defaultdict(list)\n",
    "for seq in sequences:\n",
    "    label = seq['Label'].iloc[0]\n",
    "    sequences_by_class[label].append(seq)"
   ]
  },
  {
   "cell_type": "markdown",
   "metadata": {},
   "source": [
    "Aplicar submuestreo aleatorio para las clases con más secuencias"
   ]
  },
  {
   "cell_type": "code",
   "execution_count": 10,
   "metadata": {},
   "outputs": [
    {
     "name": "stdout",
     "output_type": "stream",
     "text": [
      "Total de secuencias: 165682\n"
     ]
    }
   ],
   "source": [
    "sequences = []\n",
    "for sequence_list in sequences_by_class.values():\n",
    "    # Submuestreo de clases mayores a la media\n",
    "    if len(sequence_list) > max_sequences:\n",
    "        # Aplicar submuestreo a clases mayores\n",
    "        sequence_list = random.sample(sequence_list, max_sequences)\n",
    "    sequences.extend(sequence_list)\n",
    "print(f\"Total de secuencias: {len(sequences)}\")"
   ]
  },
  {
   "cell_type": "markdown",
   "metadata": {},
   "source": [
    "Vemos que ahora las clases están más balanceadas"
   ]
  },
  {
   "cell_type": "code",
   "execution_count": 11,
   "metadata": {},
   "outputs": [
    {
     "data": {
      "text/plain": [
       "Clase\n",
       "Benign                      21299\n",
       "SSH-Bruteforce              21299\n",
       "FTP-BruteForce              21299\n",
       "DoS attacks-Hulk            21299\n",
       "Bot                         21299\n",
       "DDOS attack-HOIC            21299\n",
       "Infilteration               21299\n",
       "DoS attacks-Slowloris        7704\n",
       "DoS attacks-GoldenEye        7367\n",
       "DDOS attack-LOIC-UDP          587\n",
       "Brute Force -Web              576\n",
       "Brute Force -XSS              220\n",
       "SQL Injection                  87\n",
       "DoS attacks-SlowHTTPTest       48\n",
       "Name: count, dtype: int64"
      ]
     },
     "execution_count": 11,
     "metadata": {},
     "output_type": "execute_result"
    }
   ],
   "source": [
    "sequence_df = pd.DataFrame({\n",
    "    'Clase': [seq['Label'].iloc[0] for seq in sequences],\n",
    "    'Longitud': [len(seq) for seq in sequences]\n",
    "})\n",
    "sequence_df['Clase'].value_counts()"
   ]
  },
  {
   "cell_type": "markdown",
   "metadata": {},
   "source": [
    "## Separación de datos"
   ]
  },
  {
   "cell_type": "markdown",
   "metadata": {},
   "source": [
    "Establecer una longitud fija para cada secuencia"
   ]
  },
  {
   "cell_type": "code",
   "execution_count": 12,
   "metadata": {},
   "outputs": [
    {
     "name": "stdout",
     "output_type": "stream",
     "text": [
      "Longitud óptima de secuencia: 4\n"
     ]
    }
   ],
   "source": [
    "sequence_length = int(sequence_df['Longitud'].mean())\n",
    "print(f\"Longitud óptima de secuencia: {sequence_length}\")"
   ]
  },
  {
   "cell_type": "markdown",
   "metadata": {},
   "source": [
    "Forzamos una longitud fija para secuencia y separamos las secuencias en X e y"
   ]
  },
  {
   "cell_type": "code",
   "execution_count": 13,
   "metadata": {},
   "outputs": [
    {
     "data": {
      "text/plain": [
       "((165682, 4, 61), (165682,))"
      ]
     },
     "execution_count": 13,
     "metadata": {},
     "output_type": "execute_result"
    }
   ],
   "source": [
    "X = []\n",
    "y = []\n",
    "\n",
    "for seq_df in sequences:  # Iterar sobre las secuencias ya procesadas\n",
    "    sequence_X_data = seq_df.drop(columns=['Label', 'Label Code', 'Sequence ID']).to_numpy()\n",
    "    sequence_Y_data = seq_df['Label Code'].iloc[0]\n",
    "\n",
    "    current_len = sequence_X_data.shape[0]\n",
    "\n",
    "    if current_len < sequence_length:\n",
    "        # Padding con ceros al final\n",
    "        pad_width_rows = sequence_length - current_len\n",
    "        sequence_X_data = np.pad(sequence_X_data, ((0, pad_width_rows), (0, 0)), mode='constant')\n",
    "    elif current_len > sequence_length:\n",
    "        # Recorte al inicio (puedes cambiar a [:sequence_length] si prefieres al inicio)\n",
    "        sequence_X_data = sequence_X_data[-sequence_length:]\n",
    "\n",
    "\n",
    "    X.append(sequence_X_data)\n",
    "    y.append(sequence_Y_data)\n",
    "\n",
    "X = np.array(X)\n",
    "y = np.array(y)\n",
    "X.shape, y.shape"
   ]
  },
  {
   "cell_type": "markdown",
   "metadata": {},
   "source": [
    "Escalamiento de características"
   ]
  },
  {
   "cell_type": "code",
   "execution_count": 14,
   "metadata": {},
   "outputs": [],
   "source": [
    "num_features = X.shape[2]\n",
    "scaler = StandardScaler()\n",
    "X_reshaped = X.reshape(-1, num_features)\n",
    "X_scaled_reshaped = scaler.fit_transform(X_reshaped)\n",
    "X = X_scaled_reshaped.reshape(len(y), sequence_length, num_features)"
   ]
  },
  {
   "cell_type": "markdown",
   "metadata": {},
   "source": [
    "## Separar secuencias en entrenamiento, validación y prueba"
   ]
  },
  {
   "cell_type": "markdown",
   "metadata": {},
   "source": [
    "Separación de datos"
   ]
  },
  {
   "cell_type": "code",
   "execution_count": 15,
   "metadata": {},
   "outputs": [
    {
     "name": "stdout",
     "output_type": "stream",
     "text": [
      "Conjunto de entrenamiento: (106036, 4, 61), (106036,)\n",
      "Conjunto de validación: (26509, 4, 61), (26509,)\n",
      "Conjunto de prueba: (33137, 4, 61), (33137,)\n"
     ]
    }
   ],
   "source": [
    "# Separar en conjuntos de entrenamiento, validación y prueba\n",
    "X_train, X_test, y_train, y_test = train_test_split(X, y, test_size=0.2, stratify=y)\n",
    "X_train, X_val, y_train, y_val = train_test_split(X_train, y_train, test_size=0.2, stratify=y_train)\n",
    "\n",
    "print(f\"Conjunto de entrenamiento: {X_train.shape}, {y_train.shape}\")\n",
    "print(f\"Conjunto de validación: {X_val.shape}, {y_val.shape}\")\n",
    "print(f\"Conjunto de prueba: {X_test.shape}, {y_test.shape}\")"
   ]
  },
  {
   "cell_type": "markdown",
   "metadata": {},
   "source": [
    "Convertir a formato adecuado de entrada para el modelo"
   ]
  },
  {
   "cell_type": "code",
   "execution_count": 16,
   "metadata": {},
   "outputs": [],
   "source": [
    "# Convertir a tensores\n",
    "X_train_tensor = torch.tensor(X_train, dtype=torch.float32)\n",
    "y_train_tensor = torch.tensor(y_train, dtype=torch.long)\n",
    "X_val_tensor = torch.tensor(X_val, dtype=torch.float32)\n",
    "y_val_tensor = torch.tensor(y_val, dtype=torch.long)\n",
    "X_test_tensor = torch.tensor(X_test, dtype=torch.float32)\n",
    "y_test_tensor = torch.tensor(y_test, dtype=torch.long)"
   ]
  },
  {
   "cell_type": "markdown",
   "metadata": {},
   "source": [
    "## Inicialización del modelo"
   ]
  },
  {
   "cell_type": "code",
   "execution_count": 17,
   "metadata": {},
   "outputs": [],
   "source": [
    "# Modelo LSTM\n",
    "class NetFlowLSTM(nn.Module):\n",
    "    def __init__(self, input_dim, hidden_dim, output_dim):\n",
    "        super().__init__()\n",
    "        self.lstm = nn.LSTM(input_dim, hidden_dim, batch_first=True)\n",
    "        self.classifier = nn.Linear(hidden_dim, output_dim)\n",
    "\n",
    "    def forward(self, x):\n",
    "        _, (h_n, _) = self.lstm(x)         # h_n shape: (1, batch, hidden)\n",
    "        return self.classifier(h_n[-1])    # usar último estado oculto\n",
    "\n",
    "model = NetFlowLSTM(input_dim=num_features, hidden_dim=32, output_dim=len(labels))"
   ]
  },
  {
   "cell_type": "markdown",
   "metadata": {},
   "source": [
    "## Entrenamiento"
   ]
  },
  {
   "cell_type": "markdown",
   "metadata": {},
   "source": [
    "Dar más peso a las clases de ataques"
   ]
  },
  {
   "cell_type": "code",
   "execution_count": 18,
   "metadata": {},
   "outputs": [],
   "source": [
    "# Configurar entrenamiento\n",
    "criterion = nn.CrossEntropyLoss()\n",
    "optimizer = torch.optim.Adam(model.parameters(), lr=LEARNING_RATE)"
   ]
  },
  {
   "cell_type": "code",
   "execution_count": 19,
   "metadata": {},
   "outputs": [],
   "source": [
    "# Función de predicción\n",
    "def predict(model, X_tensor):\n",
    "    model.eval()\n",
    "    with torch.no_grad():\n",
    "        outputs = model(X_tensor)\n",
    "    return outputs"
   ]
  },
  {
   "cell_type": "code",
   "execution_count": 20,
   "metadata": {},
   "outputs": [],
   "source": [
    "# Función de evaluación\n",
    "def evaluate_model(pred, y_tensor):\n",
    "    loss = criterion(pred, y_tensor)\n",
    "    pred = torch.argmax(pred, dim=1)\n",
    "    acc = (pred == y_tensor).float().mean()\n",
    "    return loss.item(), acc.item()"
   ]
  },
  {
   "cell_type": "markdown",
   "metadata": {},
   "source": [
    "Entrenamiento del modelo"
   ]
  },
  {
   "cell_type": "code",
   "execution_count": 21,
   "metadata": {},
   "outputs": [
    {
     "name": "stdout",
     "output_type": "stream",
     "text": [
      "Epoch 10 | Loss: 1.6535 | Val Loss: 1.5153 | Val Acc: 0.64\n",
      "Epoch 20 | Loss: 0.7262 | Val Loss: 0.6768 | Val Acc: 0.84\n",
      "Epoch 30 | Loss: 0.3566 | Val Loss: 0.3425 | Val Acc: 0.89\n",
      "Epoch 40 | Loss: 0.2463 | Val Loss: 0.2407 | Val Acc: 0.92\n",
      "Epoch 50 | Loss: 0.1957 | Val Loss: 0.1945 | Val Acc: 0.93\n",
      "Epoch 60 | Loss: 0.1700 | Val Loss: 0.1716 | Val Acc: 0.94\n",
      "Epoch 70 | Loss: 0.1548 | Val Loss: 0.1578 | Val Acc: 0.94\n",
      "Epoch 80 | Loss: 0.1427 | Val Loss: 0.1469 | Val Acc: 0.94\n",
      "Epoch 90 | Loss: 0.1345 | Val Loss: 0.1394 | Val Acc: 0.95\n",
      "Epoch 100 | Loss: 0.1284 | Val Loss: 0.1341 | Val Acc: 0.95\n",
      "Epoch 110 | Loss: 0.1233 | Val Loss: 0.1297 | Val Acc: 0.95\n",
      "Epoch 120 | Loss: 0.1194 | Val Loss: 0.1263 | Val Acc: 0.95\n",
      "Epoch 130 | Loss: 0.1161 | Val Loss: 0.1240 | Val Acc: 0.95\n",
      "Epoch 140 | Loss: 0.1132 | Val Loss: 0.1208 | Val Acc: 0.95\n",
      "Epoch 150 | Loss: 0.1107 | Val Loss: 0.1185 | Val Acc: 0.95\n",
      "Epoch 160 | Loss: 0.1085 | Val Loss: 0.1165 | Val Acc: 0.95\n",
      "Epoch 170 | Loss: 0.1064 | Val Loss: 0.1146 | Val Acc: 0.95\n",
      "Epoch 180 | Loss: 0.1045 | Val Loss: 0.1130 | Val Acc: 0.95\n",
      "Epoch 190 | Loss: 0.1051 | Val Loss: 0.1114 | Val Acc: 0.95\n",
      "Epoch 200 | Loss: 0.1056 | Val Loss: 0.1113 | Val Acc: 0.95\n"
     ]
    }
   ],
   "source": [
    "val_losses, val_accuracies = [], []\n",
    "\n",
    "for epoch in range(EPOCHS):\n",
    "    # Entrenamiento\n",
    "    model.train()\n",
    "    optimizer.zero_grad()\n",
    "    outputs = model(X_train_tensor)\n",
    "    loss = criterion(outputs, y_train_tensor)\n",
    "    loss.backward()\n",
    "    optimizer.step()\n",
    "\n",
    "    val_pred = predict(model, X_val_tensor) # Predicción\n",
    "    val_loss, val_acc = evaluate_model(val_pred, y_val_tensor) # Evaluación\n",
    "\n",
    "    val_losses.append(val_loss)\n",
    "    val_accuracies.append(val_acc)\n",
    "\n",
    "    if (epoch + 1) % 10 == 0:\n",
    "        print(f\"Epoch {epoch+1:02d} | Loss: {loss.item():.4f} | Val Loss: {val_loss:.4f} | Val Acc: {val_acc:.2f}\")"
   ]
  },
  {
   "cell_type": "markdown",
   "metadata": {},
   "source": [
    "## Gráfica del entrenamiento"
   ]
  },
  {
   "cell_type": "code",
   "execution_count": 22,
   "metadata": {},
   "outputs": [
    {
     "data": {
      "image/png": "[encoded data removed]",
      "text/plain": [
       "<Figure size 1200x500 with 2 Axes>"
      ]
     },
     "metadata": {},
     "output_type": "display_data"
    }
   ],
   "source": [
    "epochs_range = range(1, EPOCHS + 1)\n",
    "\n",
    "plt.figure(figsize=(12, 5))\n",
    "\n",
    "# Pérdidas\n",
    "plt.subplot(1, 2, 1)\n",
    "plt.plot(epochs_range, val_losses, color='red')\n",
    "plt.xlabel(\"Época\")\n",
    "plt.ylabel(\"Pérdida\")\n",
    "plt.title(\"Pérdida durante el entrenamiento\")\n",
    "\n",
    "# Precisión\n",
    "plt.subplot(1, 2, 2)\n",
    "plt.plot(epochs_range, val_accuracies, color='green')\n",
    "plt.xlabel(\"Época\")\n",
    "plt.ylabel(\"Precisión\")\n",
    "plt.title(\"Precisión de validación\")\n",
    "\n",
    "plt.tight_layout()\n",
    "plt.show()"
   ]
  },
  {
   "cell_type": "markdown",
   "metadata": {},
   "source": [
    "## Evaluación"
   ]
  },
  {
   "cell_type": "markdown",
   "metadata": {},
   "source": [
    "Evaluación en el conjunto de test"
   ]
  },
  {
   "cell_type": "code",
   "execution_count": 23,
   "metadata": {},
   "outputs": [
    {
     "name": "stdout",
     "output_type": "stream",
     "text": [
      "\n",
      "🔍 Evaluación final en test:\n",
      "Pérdida en test: 0.1066\n",
      "Precisión en test: 0.95\n"
     ]
    }
   ],
   "source": [
    "test_pred = predict(model, X_test_tensor) # Predicción\n",
    "test_loss, test_acc = evaluate_model(test_pred, y_test_tensor) # Evaluación\n",
    "\n",
    "print(f\"\\n🔍 Evaluación final en test:\")\n",
    "print(f\"Pérdida en test: {test_loss:.4f}\")\n",
    "print(f\"Precisión en test: {test_acc:.2f}\")"
   ]
  },
  {
   "cell_type": "markdown",
   "metadata": {},
   "source": [
    "Matriz de confusión de la predicción obtenida"
   ]
  },
  {
   "cell_type": "code",
   "execution_count": 24,
   "metadata": {},
   "outputs": [
    {
     "data": {
      "image/png": "[encoded data removed]",
      "text/plain": [
       "<Figure size 1200x1000 with 2 Axes>"
      ]
     },
     "metadata": {},
     "output_type": "display_data"
    }
   ],
   "source": [
    "# 1. Obtener predicciones desde logits o probabilidades\n",
    "pred = torch.argmax(test_pred, dim=1).cpu().numpy()\n",
    "\n",
    "# 2. Asegurar que y_test esté en numpy\n",
    "y_test = y_test.cpu().numpy() if isinstance(y_test, torch.Tensor) else y_test\n",
    "\n",
    "# 3. Mapear a nombres legibles (asegúrate que label_mapping sea dict {int: str})\n",
    "pred_names = np.array([label_mapping[y] for y in pred])\n",
    "y_test_names = np.array([label_mapping[y] for y in y_test])\n",
    "\n",
    "# 4. Obtener lista de etiquetas ordenadas\n",
    "labels = list(label_mapping.values())\n",
    "\n",
    "# 5. Matriz de confusión\n",
    "cm = confusion_matrix(y_test_names, pred_names, labels=labels)\n",
    "\n",
    "# 6. Visualización con seaborn\n",
    "plt.figure(figsize=(12, 10))\n",
    "sns.heatmap(\n",
    "    cm,\n",
    "    annot=True,\n",
    "    fmt='d',\n",
    "    cmap='Blues',\n",
    "    xticklabels=labels,\n",
    "    yticklabels=labels\n",
    ")\n",
    "plt.xlabel(\"Predicción\")\n",
    "plt.ylabel(\"Real\")\n",
    "plt.title(\"Matriz de Confusión\")\n",
    "plt.xticks(rotation=45, ha='right')\n",
    "plt.yticks(rotation=0)\n",
    "plt.tight_layout()\n",
    "plt.show()"
   ]
  },
  {
   "cell_type": "markdown",
   "metadata": {},
   "source": [
    "## Evaluación por clase"
   ]
  },
  {
   "cell_type": "markdown",
   "metadata": {},
   "source": [
    "Evaluación por cada clase en el conjunto de test"
   ]
  },
  {
   "cell_type": "code",
   "execution_count": 25,
   "metadata": {},
   "outputs": [
    {
     "name": "stdout",
     "output_type": "stream",
     "text": [
      "Clase: Benign, Pérdida: 0.4486, Precisión: 0.71\n",
      "Clase: SSH-Bruteforce, Pérdida: 0.0025, Precisión: 1.00\n",
      "Clase: FTP-BruteForce, Pérdida: 0.0038, Precisión: 1.00\n",
      "Clase: DoS attacks-GoldenEye, Pérdida: 0.0128, Precisión: 1.00\n",
      "Clase: DoS attacks-Slowloris, Pérdida: 0.0113, Precisión: 1.00\n",
      "Clase: DoS attacks-Hulk, Pérdida: 0.0054, Precisión: 1.00\n",
      "Clase: DoS attacks-SlowHTTPTest, Pérdida: 5.2987, Precisión: 0.00\n",
      "Clase: DDOS attack-HOIC, Pérdida: 0.0015, Precisión: 1.00\n",
      "Clase: DDOS attack-LOIC-UDP, Pérdida: 0.2040, Precisión: 0.99\n",
      "Clase: Brute Force -XSS, Pérdida: 1.8275, Precisión: 0.50\n",
      "Clase: SQL Injection, Pérdida: 3.0983, Precisión: 0.00\n",
      "Clase: Brute Force -Web, Pérdida: 0.7068, Precisión: 0.73\n",
      "Clase: Infilteration, Pérdida: 0.2883, Precisión: 0.96\n",
      "Clase: Bot, Pérdida: 0.0022, Precisión: 1.00\n"
     ]
    }
   ],
   "source": [
    "# Diccionario para almacenar los datos de test por clase\n",
    "test_data_by_class = {}\n",
    "\n",
    "# Almacenar los datos de test por clase\n",
    "for class_label in torch.unique(y_test_tensor):\n",
    "    mask = y_test_tensor == class_label\n",
    "    class_name = label_mapping[class_label.item()]\n",
    "    test_data_by_class[class_name] = {\n",
    "        'X': X_test_tensor[mask],\n",
    "        'y': y_test_tensor[mask]\n",
    "    }\n",
    "\n",
    "for cls, data in test_data_by_class.items():\n",
    "    X_cls, y_cls = data['X'], data['y']\n",
    "    cls_pred = predict(model, X_cls) # Predicción\n",
    "    cls_loss, cls_acc = evaluate_model(cls_pred, y_cls) # Evaluación\n",
    "    print(f\"Clase: {cls}, Pérdida: {cls_loss:.4f}, Precisión: {cls_acc:.2f}\")"
   ]
  },
  {
   "cell_type": "markdown",
   "metadata": {},
   "source": [
    "## Despliegue"
   ]
  },
  {
   "cell_type": "code",
   "execution_count": 26,
   "metadata": {},
   "outputs": [
    {
     "name": "stdout",
     "output_type": "stream",
     "text": [
      "['Dst Port', 'Protocol', 'Flow Duration', 'Tot Fwd Pkts', 'TotLen Fwd Pkts', 'Fwd Pkt Len Max', 'Fwd Pkt Len Min', 'Fwd Pkt Len Mean', 'Fwd Pkt Len Std', 'Bwd Pkt Len Max', 'Bwd Pkt Len Min', 'Bwd Pkt Len Mean', 'Bwd Pkt Len Std', 'Flow Pkts/s', 'Flow IAT Mean', 'Flow IAT Std', 'Flow IAT Max', 'Flow IAT Min', 'Fwd IAT Tot', 'Fwd IAT Mean', 'Fwd IAT Std', 'Fwd IAT Max', 'Fwd IAT Min', 'Bwd IAT Tot', 'Bwd IAT Mean', 'Bwd IAT Std', 'Bwd IAT Max', 'Bwd IAT Min', 'Fwd PSH Flags', 'Fwd Header Len', 'Fwd Pkts/s', 'Bwd Pkts/s', 'Pkt Len Min', 'Pkt Len Max', 'Pkt Len Mean', 'Pkt Len Std', 'Pkt Len Var', 'SYN Flag Cnt', 'RST Flag Cnt', 'PSH Flag Cnt', 'ACK Flag Cnt', 'URG Flag Cnt', 'ECE Flag Cnt', 'Down/Up Ratio', 'Pkt Size Avg', 'Fwd Seg Size Avg', 'Bwd Seg Size Avg', 'Subflow Fwd Pkts', 'Subflow Fwd Byts', 'Init Fwd Win Byts', 'Init Bwd Win Byts', 'Fwd Act Data Pkts', 'Fwd Seg Size Min', 'Active Mean', 'Active Max', 'Active Min', 'Idle Mean', 'Idle Std', 'Idle Max', 'Idle Min', 'Timestamp']\n"
     ]
    }
   ],
   "source": [
    "# --- Guardar el Diccionario de Estado del Modelo ---\n",
    "model_save_path = 'flask-csv-api\\\\netflow_lstm_model_state_dict.pth'\n",
    "torch.save(model.state_dict(), model_save_path)\n",
    "\n",
    "# --- Guardar el Escalador ---\n",
    "scaler_save_path = 'flask-csv-api\\\\scaler.joblib'\n",
    "joblib.dump(scaler, scaler_save_path)\n",
    "\n",
    "# --- Guardar el Mapeo de Etiquetas ---\n",
    "label_mapping_save_path = 'flask-csv-api\\\\label_mapping.json'\n",
    "with open(label_mapping_save_path, 'w') as f:\n",
    "    json.dump(label_mapping, f, indent=4)\n",
    "\n",
    "# --- Guardar Parámetros del Modelo (sequence_length, num_features, feature_columns) ---\n",
    "feature_columns = [col for col in sequences[0].columns if col not in ['Label', 'Label Code', 'Sequence ID']]\n",
    "sequence_length = X_train_tensor[0].shape[0]\n",
    "print(feature_columns)\n",
    "model_params = {\n",
    "    'sequence_length': sequence_length,\n",
    "    'num_features': num_features,\n",
    "    'hidden_dim': model.lstm.hidden_size, # Obtener hidden_dim de la instancia del modelo\n",
    "    'output_dim': model.classifier.out_features, # Obtener output_dim de la instancia del modelo\n",
    "    'feature_columns': feature_columns # Guardar el orden de las columnas de características\n",
    "}\n",
    "\n",
    "# --- Exportar los Parámetros del Modelo ---\n",
    "model_params_save_path = 'flask-csv-api\\\\model_params.json'\n",
    "with open(model_params_save_path, 'w') as f:\n",
    "    json.dump(model_params, f, indent=4)"
   ]
  },
  {
   "cell_type": "code",
   "execution_count": 27,
   "metadata": {},
   "outputs": [
    {
     "name": "stdout",
     "output_type": "stream",
     "text": [
      "\n",
      "--- Artefactos para producción: ---\n",
      "1. Diccionario de estado del modelo: flask-csv-api\\netflow_lstm_model_state_dict.pth\n",
      "2. Escalador: flask-csv-api\\scaler.joblib\n",
      "3. Mapeo de etiquetas: flask-csv-api\\label_mapping.json\n",
      "4. Parámetros del modelo (incluyendo orden de características): flask-csv-api\\model_params.json\n",
      "5. La definición de la clase NetFlowLSTM (necesaria para reconstruir el modelo).\n"
     ]
    }
   ],
   "source": [
    "print(\"\\n--- Artefactos para producción: ---\")\n",
    "print(f\"1. Diccionario de estado del modelo: {model_save_path}\")\n",
    "print(f\"2. Escalador: {scaler_save_path}\")\n",
    "print(f\"3. Mapeo de etiquetas: {label_mapping_save_path}\")\n",
    "print(f\"4. Parámetros del modelo (incluyendo orden de características): {model_params_save_path}\")\n",
    "print(f\"5. La definición de la clase NetFlowLSTM (necesaria para reconstruir el modelo).\")"
   ]
  },
  {
   "cell_type": "code",
   "execution_count": 28,
   "metadata": {},
   "outputs": [
    {
     "data": {
      "text/html": [
       "<div>\n",
       "<style scoped>\n",
       "    .dataframe tbody tr th:only-of-type {\n",
       "        vertical-align: middle;\n",
       "    }\n",
       "\n",
       "    .dataframe tbody tr th {\n",
       "        vertical-align: top;\n",
       "    }\n",
       "\n",
       "    .dataframe thead th {\n",
       "        text-align: right;\n",
       "    }\n",
       "</style>\n",
       "<table border=\"1\" class=\"dataframe\">\n",
       "  <thead>\n",
       "    <tr style=\"text-align: right;\">\n",
       "      <th></th>\n",
       "      <th>Dst Port</th>\n",
       "      <th>Protocol</th>\n",
       "      <th>Flow Duration</th>\n",
       "      <th>Tot Fwd Pkts</th>\n",
       "      <th>TotLen Fwd Pkts</th>\n",
       "      <th>Fwd Pkt Len Max</th>\n",
       "      <th>Fwd Pkt Len Min</th>\n",
       "      <th>Fwd Pkt Len Mean</th>\n",
       "      <th>Fwd Pkt Len Std</th>\n",
       "      <th>Bwd Pkt Len Max</th>\n",
       "      <th>...</th>\n",
       "      <th>Active Max</th>\n",
       "      <th>Active Min</th>\n",
       "      <th>Idle Mean</th>\n",
       "      <th>Idle Std</th>\n",
       "      <th>Idle Max</th>\n",
       "      <th>Idle Min</th>\n",
       "      <th>Label</th>\n",
       "      <th>Label Code</th>\n",
       "      <th>Timestamp</th>\n",
       "      <th>Sequence ID</th>\n",
       "    </tr>\n",
       "  </thead>\n",
       "  <tbody>\n",
       "    <tr>\n",
       "      <th>0</th>\n",
       "      <td>443</td>\n",
       "      <td>6</td>\n",
       "      <td>111873906.0</td>\n",
       "      <td>7.0</td>\n",
       "      <td>169.0</td>\n",
       "      <td>46.0</td>\n",
       "      <td>0.0</td>\n",
       "      <td>24.142857</td>\n",
       "      <td>23.197906</td>\n",
       "      <td>46.0</td>\n",
       "      <td>...</td>\n",
       "      <td>155780.0</td>\n",
       "      <td>155551.0</td>\n",
       "      <td>55780941.0</td>\n",
       "      <td>3.933153e+06</td>\n",
       "      <td>58562100.0</td>\n",
       "      <td>52999782.0</td>\n",
       "      <td>Benign</td>\n",
       "      <td>0</td>\n",
       "      <td>0.258819</td>\n",
       "      <td>1</td>\n",
       "    </tr>\n",
       "    <tr>\n",
       "      <th>1</th>\n",
       "      <td>3389</td>\n",
       "      <td>6</td>\n",
       "      <td>4363661.0</td>\n",
       "      <td>8.0</td>\n",
       "      <td>1148.0</td>\n",
       "      <td>677.0</td>\n",
       "      <td>0.0</td>\n",
       "      <td>143.500000</td>\n",
       "      <td>228.129662</td>\n",
       "      <td>1173.0</td>\n",
       "      <td>...</td>\n",
       "      <td>0.0</td>\n",
       "      <td>0.0</td>\n",
       "      <td>0.0</td>\n",
       "      <td>0.000000e+00</td>\n",
       "      <td>0.0</td>\n",
       "      <td>0.0</td>\n",
       "      <td>Benign</td>\n",
       "      <td>0</td>\n",
       "      <td>0.258819</td>\n",
       "      <td>1</td>\n",
       "    </tr>\n",
       "    <tr>\n",
       "      <th>2</th>\n",
       "      <td>3389</td>\n",
       "      <td>6</td>\n",
       "      <td>1671932.0</td>\n",
       "      <td>8.0</td>\n",
       "      <td>1144.0</td>\n",
       "      <td>677.0</td>\n",
       "      <td>0.0</td>\n",
       "      <td>143.000000</td>\n",
       "      <td>227.969923</td>\n",
       "      <td>1173.0</td>\n",
       "      <td>...</td>\n",
       "      <td>0.0</td>\n",
       "      <td>0.0</td>\n",
       "      <td>0.0</td>\n",
       "      <td>0.000000e+00</td>\n",
       "      <td>0.0</td>\n",
       "      <td>0.0</td>\n",
       "      <td>Benign</td>\n",
       "      <td>0</td>\n",
       "      <td>0.258819</td>\n",
       "      <td>1</td>\n",
       "    </tr>\n",
       "    <tr>\n",
       "      <th>3</th>\n",
       "      <td>3389</td>\n",
       "      <td>6</td>\n",
       "      <td>3641507.0</td>\n",
       "      <td>8.0</td>\n",
       "      <td>1148.0</td>\n",
       "      <td>677.0</td>\n",
       "      <td>0.0</td>\n",
       "      <td>143.500000</td>\n",
       "      <td>228.129662</td>\n",
       "      <td>1173.0</td>\n",
       "      <td>...</td>\n",
       "      <td>0.0</td>\n",
       "      <td>0.0</td>\n",
       "      <td>0.0</td>\n",
       "      <td>0.000000e+00</td>\n",
       "      <td>0.0</td>\n",
       "      <td>0.0</td>\n",
       "      <td>Benign</td>\n",
       "      <td>0</td>\n",
       "      <td>0.258819</td>\n",
       "      <td>1</td>\n",
       "    </tr>\n",
       "    <tr>\n",
       "      <th>4</th>\n",
       "      <td>80</td>\n",
       "      <td>6</td>\n",
       "      <td>89.0</td>\n",
       "      <td>2.0</td>\n",
       "      <td>0.0</td>\n",
       "      <td>0.0</td>\n",
       "      <td>0.0</td>\n",
       "      <td>0.000000</td>\n",
       "      <td>0.000000</td>\n",
       "      <td>0.0</td>\n",
       "      <td>...</td>\n",
       "      <td>0.0</td>\n",
       "      <td>0.0</td>\n",
       "      <td>0.0</td>\n",
       "      <td>0.000000e+00</td>\n",
       "      <td>0.0</td>\n",
       "      <td>0.0</td>\n",
       "      <td>Benign</td>\n",
       "      <td>0</td>\n",
       "      <td>0.258819</td>\n",
       "      <td>1</td>\n",
       "    </tr>\n",
       "  </tbody>\n",
       "</table>\n",
       "<p>5 rows × 64 columns</p>\n",
       "</div>"
      ],
      "text/plain": [
       "   Dst Port  Protocol  Flow Duration  Tot Fwd Pkts  TotLen Fwd Pkts  \\\n",
       "0       443         6    111873906.0           7.0            169.0   \n",
       "1      3389         6      4363661.0           8.0           1148.0   \n",
       "2      3389         6      1671932.0           8.0           1144.0   \n",
       "3      3389         6      3641507.0           8.0           1148.0   \n",
       "4        80         6           89.0           2.0              0.0   \n",
       "\n",
       "   Fwd Pkt Len Max  Fwd Pkt Len Min  Fwd Pkt Len Mean  Fwd Pkt Len Std  \\\n",
       "0             46.0              0.0         24.142857        23.197906   \n",
       "1            677.0              0.0        143.500000       228.129662   \n",
       "2            677.0              0.0        143.000000       227.969923   \n",
       "3            677.0              0.0        143.500000       228.129662   \n",
       "4              0.0              0.0          0.000000         0.000000   \n",
       "\n",
       "   Bwd Pkt Len Max  ...  Active Max  Active Min   Idle Mean      Idle Std  \\\n",
       "0             46.0  ...    155780.0    155551.0  55780941.0  3.933153e+06   \n",
       "1           1173.0  ...         0.0         0.0         0.0  0.000000e+00   \n",
       "2           1173.0  ...         0.0         0.0         0.0  0.000000e+00   \n",
       "3           1173.0  ...         0.0         0.0         0.0  0.000000e+00   \n",
       "4              0.0  ...         0.0         0.0         0.0  0.000000e+00   \n",
       "\n",
       "     Idle Max    Idle Min   Label  Label Code  Timestamp  Sequence ID  \n",
       "0  58562100.0  52999782.0  Benign           0   0.258819            1  \n",
       "1         0.0         0.0  Benign           0   0.258819            1  \n",
       "2         0.0         0.0  Benign           0   0.258819            1  \n",
       "3         0.0         0.0  Benign           0   0.258819            1  \n",
       "4         0.0         0.0  Benign           0   0.258819            1  \n",
       "\n",
       "[5 rows x 64 columns]"
      ]
     },
     "execution_count": 28,
     "metadata": {},
     "output_type": "execute_result"
    }
   ],
   "source": [
    "df.head()"
   ]
  }
 ],
 "metadata": {
  "kernelspec": {
   "display_name": "Python 3",
   "language": "python",
   "name": "python3"
  },
  "language_info": {
   "codemirror_mode": {
    "name": "ipython",
    "version": 3
   },
   "file_extension": ".py",
   "mimetype": "text/x-python",
   "name": "python",
   "nbconvert_exporter": "python",
   "pygments_lexer": "ipython3",
   "version": "3.11.9"
  }
 },
 "nbformat": 4,
 "nbformat_minor": 2
}

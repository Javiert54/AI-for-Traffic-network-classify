{
 "cells": [
  {
   "cell_type": "markdown",
   "metadata": {},
   "source": [
    "## Importación de librerías"
   ]
  },
  {
   "cell_type": "code",
   "execution_count": 4,
   "metadata": {},
   "outputs": [],
   "source": [
    "import pandas as pd\n",
    "import json\n",
    "import numpy as np\n",
    "from skimpy import skim\n",
    "from sklearn.preprocessing import LabelEncoder"
   ]
  },
  {
   "cell_type": "markdown",
   "metadata": {},
   "source": [
    "## Configuración de variables globales"
   ]
  },
  {
   "cell_type": "code",
   "execution_count": 5,
   "metadata": {},
   "outputs": [],
   "source": [
    "with open('setup.json', 'r') as f:\n",
    "    SETUP_JSON = json.load(f)\n",
    "HEADER = SETUP_JSON['header']\n",
    "NA_VALUES = SETUP_JSON['navalues'] # Consistent NA values,\n",
    "OUTPUT_CSV = SETUP_JSON['dataset_csv'] # Output CSV file\n",
    "OUTPUT_PARQUET = SETUP_JSON['dataset_parquet'] # Output CSV file"
   ]
  },
  {
   "cell_type": "markdown",
   "metadata": {},
   "source": [
    "## Cargar el dataset"
   ]
  },
  {
   "cell_type": "code",
   "execution_count": 6,
   "metadata": {},
   "outputs": [],
   "source": [
    "df = pd.read_csv(OUTPUT_CSV, na_values=NA_VALUES)         # Leer csv\n",
    "# df = pd.read_parquet(OUTPUT_PARQUET)                        # Leer parquet"
   ]
  },
  {
   "cell_type": "markdown",
   "metadata": {},
   "source": [
    "## Análisis del dataframe"
   ]
  },
  {
   "cell_type": "code",
   "execution_count": 7,
   "metadata": {},
   "outputs": [
    {
     "data": {
      "text/plain": [
       "(719991, 81)"
      ]
     },
     "execution_count": 7,
     "metadata": {},
     "output_type": "execute_result"
    }
   ],
   "source": [
    "df.shape"
   ]
  },
  {
   "cell_type": "code",
   "execution_count": 8,
   "metadata": {},
   "outputs": [
    {
     "data": {
      "text/html": [
       "<div>\n",
       "<style scoped>\n",
       "    .dataframe tbody tr th:only-of-type {\n",
       "        vertical-align: middle;\n",
       "    }\n",
       "\n",
       "    .dataframe tbody tr th {\n",
       "        vertical-align: top;\n",
       "    }\n",
       "\n",
       "    .dataframe thead th {\n",
       "        text-align: right;\n",
       "    }\n",
       "</style>\n",
       "<table border=\"1\" class=\"dataframe\">\n",
       "  <thead>\n",
       "    <tr style=\"text-align: right;\">\n",
       "      <th></th>\n",
       "      <th>Dst Port</th>\n",
       "      <th>Protocol</th>\n",
       "      <th>Timestamp</th>\n",
       "      <th>Flow Duration</th>\n",
       "      <th>Tot Fwd Pkts</th>\n",
       "      <th>Tot Bwd Pkts</th>\n",
       "      <th>TotLen Fwd Pkts</th>\n",
       "      <th>TotLen Bwd Pkts</th>\n",
       "      <th>Fwd Pkt Len Max</th>\n",
       "      <th>Fwd Pkt Len Min</th>\n",
       "      <th>...</th>\n",
       "      <th>Active Mean</th>\n",
       "      <th>Active Std</th>\n",
       "      <th>Active Max</th>\n",
       "      <th>Active Min</th>\n",
       "      <th>Idle Mean</th>\n",
       "      <th>Idle Std</th>\n",
       "      <th>Idle Max</th>\n",
       "      <th>Idle Min</th>\n",
       "      <th>Label</th>\n",
       "      <th>Protocol</th>\n",
       "    </tr>\n",
       "  </thead>\n",
       "  <tbody>\n",
       "    <tr>\n",
       "      <th>0</th>\n",
       "      <td>0</td>\n",
       "      <td>0</td>\n",
       "      <td>0.866025</td>\n",
       "      <td>112641719</td>\n",
       "      <td>3</td>\n",
       "      <td>0</td>\n",
       "      <td>0</td>\n",
       "      <td>0.0</td>\n",
       "      <td>0</td>\n",
       "      <td>0</td>\n",
       "      <td>...</td>\n",
       "      <td>0.0</td>\n",
       "      <td>0.0</td>\n",
       "      <td>0.0</td>\n",
       "      <td>0.0</td>\n",
       "      <td>56320859.5</td>\n",
       "      <td>139.300036</td>\n",
       "      <td>56320958.0</td>\n",
       "      <td>56320761.0</td>\n",
       "      <td>0</td>\n",
       "      <td>0</td>\n",
       "    </tr>\n",
       "    <tr>\n",
       "      <th>1</th>\n",
       "      <td>0</td>\n",
       "      <td>0</td>\n",
       "      <td>0.866025</td>\n",
       "      <td>112641466</td>\n",
       "      <td>3</td>\n",
       "      <td>0</td>\n",
       "      <td>0</td>\n",
       "      <td>0.0</td>\n",
       "      <td>0</td>\n",
       "      <td>0</td>\n",
       "      <td>...</td>\n",
       "      <td>0.0</td>\n",
       "      <td>0.0</td>\n",
       "      <td>0.0</td>\n",
       "      <td>0.0</td>\n",
       "      <td>56320733.0</td>\n",
       "      <td>114.551299</td>\n",
       "      <td>56320814.0</td>\n",
       "      <td>56320652.0</td>\n",
       "      <td>0</td>\n",
       "      <td>0</td>\n",
       "    </tr>\n",
       "    <tr>\n",
       "      <th>2</th>\n",
       "      <td>0</td>\n",
       "      <td>0</td>\n",
       "      <td>0.866025</td>\n",
       "      <td>112638623</td>\n",
       "      <td>3</td>\n",
       "      <td>0</td>\n",
       "      <td>0</td>\n",
       "      <td>0.0</td>\n",
       "      <td>0</td>\n",
       "      <td>0</td>\n",
       "      <td>...</td>\n",
       "      <td>0.0</td>\n",
       "      <td>0.0</td>\n",
       "      <td>0.0</td>\n",
       "      <td>0.0</td>\n",
       "      <td>56319311.5</td>\n",
       "      <td>301.934596</td>\n",
       "      <td>56319525.0</td>\n",
       "      <td>56319098.0</td>\n",
       "      <td>0</td>\n",
       "      <td>0</td>\n",
       "    </tr>\n",
       "    <tr>\n",
       "      <th>3</th>\n",
       "      <td>22</td>\n",
       "      <td>6</td>\n",
       "      <td>0.866025</td>\n",
       "      <td>6453966</td>\n",
       "      <td>15</td>\n",
       "      <td>10</td>\n",
       "      <td>1239</td>\n",
       "      <td>2273.0</td>\n",
       "      <td>744</td>\n",
       "      <td>0</td>\n",
       "      <td>...</td>\n",
       "      <td>0.0</td>\n",
       "      <td>0.0</td>\n",
       "      <td>0.0</td>\n",
       "      <td>0.0</td>\n",
       "      <td>0.0</td>\n",
       "      <td>0.000000</td>\n",
       "      <td>0.0</td>\n",
       "      <td>0.0</td>\n",
       "      <td>0</td>\n",
       "      <td>6</td>\n",
       "    </tr>\n",
       "    <tr>\n",
       "      <th>4</th>\n",
       "      <td>22</td>\n",
       "      <td>6</td>\n",
       "      <td>0.866025</td>\n",
       "      <td>8804066</td>\n",
       "      <td>14</td>\n",
       "      <td>11</td>\n",
       "      <td>1143</td>\n",
       "      <td>2209.0</td>\n",
       "      <td>744</td>\n",
       "      <td>0</td>\n",
       "      <td>...</td>\n",
       "      <td>0.0</td>\n",
       "      <td>0.0</td>\n",
       "      <td>0.0</td>\n",
       "      <td>0.0</td>\n",
       "      <td>0.0</td>\n",
       "      <td>0.000000</td>\n",
       "      <td>0.0</td>\n",
       "      <td>0.0</td>\n",
       "      <td>0</td>\n",
       "      <td>6</td>\n",
       "    </tr>\n",
       "  </tbody>\n",
       "</table>\n",
       "<p>5 rows × 81 columns</p>\n",
       "</div>"
      ],
      "text/plain": [
       "   Dst Port  Protocol  Timestamp  Flow Duration  Tot Fwd Pkts  Tot Bwd Pkts  \\\n",
       "0         0         0   0.866025      112641719             3             0   \n",
       "1         0         0   0.866025      112641466             3             0   \n",
       "2         0         0   0.866025      112638623             3             0   \n",
       "3        22         6   0.866025        6453966            15            10   \n",
       "4        22         6   0.866025        8804066            14            11   \n",
       "\n",
       "   TotLen Fwd Pkts  TotLen Bwd Pkts  Fwd Pkt Len Max  Fwd Pkt Len Min  ...  \\\n",
       "0                0              0.0                0                0  ...   \n",
       "1                0              0.0                0                0  ...   \n",
       "2                0              0.0                0                0  ...   \n",
       "3             1239           2273.0              744                0  ...   \n",
       "4             1143           2209.0              744                0  ...   \n",
       "\n",
       "   Active Mean  Active Std  Active Max  Active Min   Idle Mean    Idle Std  \\\n",
       "0          0.0         0.0         0.0         0.0  56320859.5  139.300036   \n",
       "1          0.0         0.0         0.0         0.0  56320733.0  114.551299   \n",
       "2          0.0         0.0         0.0         0.0  56319311.5  301.934596   \n",
       "3          0.0         0.0         0.0         0.0         0.0    0.000000   \n",
       "4          0.0         0.0         0.0         0.0         0.0    0.000000   \n",
       "\n",
       "     Idle Max    Idle Min  Label  Protocol   \n",
       "0  56320958.0  56320761.0      0          0  \n",
       "1  56320814.0  56320652.0      0          0  \n",
       "2  56319525.0  56319098.0      0          0  \n",
       "3         0.0         0.0      0          6  \n",
       "4         0.0         0.0      0          6  \n",
       "\n",
       "[5 rows x 81 columns]"
      ]
     },
     "execution_count": 8,
     "metadata": {},
     "output_type": "execute_result"
    }
   ],
   "source": [
    "df.head()"
   ]
  },
  {
   "cell_type": "code",
   "execution_count": 9,
   "metadata": {},
   "outputs": [
    {
     "data": {
      "text/html": [
       "<div>\n",
       "<style scoped>\n",
       "    .dataframe tbody tr th:only-of-type {\n",
       "        vertical-align: middle;\n",
       "    }\n",
       "\n",
       "    .dataframe tbody tr th {\n",
       "        vertical-align: top;\n",
       "    }\n",
       "\n",
       "    .dataframe thead th {\n",
       "        text-align: right;\n",
       "    }\n",
       "</style>\n",
       "<table border=\"1\" class=\"dataframe\">\n",
       "  <thead>\n",
       "    <tr style=\"text-align: right;\">\n",
       "      <th></th>\n",
       "      <th>Dst Port</th>\n",
       "      <th>Protocol</th>\n",
       "      <th>Timestamp</th>\n",
       "      <th>Flow Duration</th>\n",
       "      <th>Tot Fwd Pkts</th>\n",
       "      <th>Tot Bwd Pkts</th>\n",
       "      <th>TotLen Fwd Pkts</th>\n",
       "      <th>TotLen Bwd Pkts</th>\n",
       "      <th>Fwd Pkt Len Max</th>\n",
       "      <th>Fwd Pkt Len Min</th>\n",
       "      <th>...</th>\n",
       "      <th>Active Mean</th>\n",
       "      <th>Active Std</th>\n",
       "      <th>Active Max</th>\n",
       "      <th>Active Min</th>\n",
       "      <th>Idle Mean</th>\n",
       "      <th>Idle Std</th>\n",
       "      <th>Idle Max</th>\n",
       "      <th>Idle Min</th>\n",
       "      <th>Label</th>\n",
       "      <th>Protocol</th>\n",
       "    </tr>\n",
       "  </thead>\n",
       "  <tbody>\n",
       "    <tr>\n",
       "      <th>719986</th>\n",
       "      <td>8080</td>\n",
       "      <td>6</td>\n",
       "      <td>0.5</td>\n",
       "      <td>10070</td>\n",
       "      <td>3</td>\n",
       "      <td>4</td>\n",
       "      <td>326</td>\n",
       "      <td>129.0</td>\n",
       "      <td>326</td>\n",
       "      <td>0</td>\n",
       "      <td>...</td>\n",
       "      <td>0.0</td>\n",
       "      <td>0.0</td>\n",
       "      <td>0.0</td>\n",
       "      <td>0.0</td>\n",
       "      <td>0.0</td>\n",
       "      <td>0.0</td>\n",
       "      <td>0.0</td>\n",
       "      <td>0.0</td>\n",
       "      <td>1</td>\n",
       "      <td>6</td>\n",
       "    </tr>\n",
       "    <tr>\n",
       "      <th>719987</th>\n",
       "      <td>8080</td>\n",
       "      <td>6</td>\n",
       "      <td>0.5</td>\n",
       "      <td>575</td>\n",
       "      <td>2</td>\n",
       "      <td>0</td>\n",
       "      <td>0</td>\n",
       "      <td>0.0</td>\n",
       "      <td>0</td>\n",
       "      <td>0</td>\n",
       "      <td>...</td>\n",
       "      <td>0.0</td>\n",
       "      <td>0.0</td>\n",
       "      <td>0.0</td>\n",
       "      <td>0.0</td>\n",
       "      <td>0.0</td>\n",
       "      <td>0.0</td>\n",
       "      <td>0.0</td>\n",
       "      <td>0.0</td>\n",
       "      <td>1</td>\n",
       "      <td>6</td>\n",
       "    </tr>\n",
       "    <tr>\n",
       "      <th>719988</th>\n",
       "      <td>8080</td>\n",
       "      <td>6</td>\n",
       "      <td>0.5</td>\n",
       "      <td>13760</td>\n",
       "      <td>3</td>\n",
       "      <td>4</td>\n",
       "      <td>326</td>\n",
       "      <td>129.0</td>\n",
       "      <td>326</td>\n",
       "      <td>0</td>\n",
       "      <td>...</td>\n",
       "      <td>0.0</td>\n",
       "      <td>0.0</td>\n",
       "      <td>0.0</td>\n",
       "      <td>0.0</td>\n",
       "      <td>0.0</td>\n",
       "      <td>0.0</td>\n",
       "      <td>0.0</td>\n",
       "      <td>0.0</td>\n",
       "      <td>1</td>\n",
       "      <td>6</td>\n",
       "    </tr>\n",
       "    <tr>\n",
       "      <th>719989</th>\n",
       "      <td>8080</td>\n",
       "      <td>6</td>\n",
       "      <td>0.5</td>\n",
       "      <td>605</td>\n",
       "      <td>2</td>\n",
       "      <td>0</td>\n",
       "      <td>0</td>\n",
       "      <td>0.0</td>\n",
       "      <td>0</td>\n",
       "      <td>0</td>\n",
       "      <td>...</td>\n",
       "      <td>0.0</td>\n",
       "      <td>0.0</td>\n",
       "      <td>0.0</td>\n",
       "      <td>0.0</td>\n",
       "      <td>0.0</td>\n",
       "      <td>0.0</td>\n",
       "      <td>0.0</td>\n",
       "      <td>0.0</td>\n",
       "      <td>1</td>\n",
       "      <td>6</td>\n",
       "    </tr>\n",
       "    <tr>\n",
       "      <th>719990</th>\n",
       "      <td>8080</td>\n",
       "      <td>6</td>\n",
       "      <td>0.5</td>\n",
       "      <td>10255</td>\n",
       "      <td>3</td>\n",
       "      <td>4</td>\n",
       "      <td>326</td>\n",
       "      <td>129.0</td>\n",
       "      <td>326</td>\n",
       "      <td>0</td>\n",
       "      <td>...</td>\n",
       "      <td>0.0</td>\n",
       "      <td>0.0</td>\n",
       "      <td>0.0</td>\n",
       "      <td>0.0</td>\n",
       "      <td>0.0</td>\n",
       "      <td>0.0</td>\n",
       "      <td>0.0</td>\n",
       "      <td>0.0</td>\n",
       "      <td>1</td>\n",
       "      <td>6</td>\n",
       "    </tr>\n",
       "  </tbody>\n",
       "</table>\n",
       "<p>5 rows × 81 columns</p>\n",
       "</div>"
      ],
      "text/plain": [
       "        Dst Port  Protocol  Timestamp  Flow Duration  Tot Fwd Pkts  \\\n",
       "719986      8080         6        0.5          10070             3   \n",
       "719987      8080         6        0.5            575             2   \n",
       "719988      8080         6        0.5          13760             3   \n",
       "719989      8080         6        0.5            605             2   \n",
       "719990      8080         6        0.5          10255             3   \n",
       "\n",
       "        Tot Bwd Pkts  TotLen Fwd Pkts  TotLen Bwd Pkts  Fwd Pkt Len Max  \\\n",
       "719986             4              326            129.0              326   \n",
       "719987             0                0              0.0                0   \n",
       "719988             4              326            129.0              326   \n",
       "719989             0                0              0.0                0   \n",
       "719990             4              326            129.0              326   \n",
       "\n",
       "        Fwd Pkt Len Min  ...  Active Mean  Active Std  Active Max  Active Min  \\\n",
       "719986                0  ...          0.0         0.0         0.0         0.0   \n",
       "719987                0  ...          0.0         0.0         0.0         0.0   \n",
       "719988                0  ...          0.0         0.0         0.0         0.0   \n",
       "719989                0  ...          0.0         0.0         0.0         0.0   \n",
       "719990                0  ...          0.0         0.0         0.0         0.0   \n",
       "\n",
       "        Idle Mean  Idle Std  Idle Max  Idle Min  Label  Protocol   \n",
       "719986        0.0       0.0       0.0       0.0      1          6  \n",
       "719987        0.0       0.0       0.0       0.0      1          6  \n",
       "719988        0.0       0.0       0.0       0.0      1          6  \n",
       "719989        0.0       0.0       0.0       0.0      1          6  \n",
       "719990        0.0       0.0       0.0       0.0      1          6  \n",
       "\n",
       "[5 rows x 81 columns]"
      ]
     },
     "execution_count": 9,
     "metadata": {},
     "output_type": "execute_result"
    }
   ],
   "source": [
    "df.tail()"
   ]
  },
  {
   "cell_type": "code",
   "execution_count": 10,
   "metadata": {},
   "outputs": [
    {
     "data": {
      "text/plain": [
       "Dst Port           int64\n",
       "Protocol           int64\n",
       "Timestamp        float64\n",
       "Flow Duration      int64\n",
       "Tot Fwd Pkts       int64\n",
       "                  ...   \n",
       "Idle Std         float64\n",
       "Idle Max         float64\n",
       "Idle Min         float64\n",
       "Label              int64\n",
       "Protocol           int64\n",
       "Length: 81, dtype: object"
      ]
     },
     "execution_count": 10,
     "metadata": {},
     "output_type": "execute_result"
    }
   ],
   "source": [
    "df.dtypes"
   ]
  },
  {
   "cell_type": "markdown",
   "metadata": {},
   "source": [
    "## Normalización del dataframe"
   ]
  },
  {
   "cell_type": "markdown",
   "metadata": {},
   "source": [
    "Eliminar duplicados"
   ]
  },
  {
   "cell_type": "code",
   "execution_count": null,
   "metadata": {},
   "outputs": [],
   "source": []
  },
  {
   "cell_type": "code",
   "execution_count": 11,
   "metadata": {},
   "outputs": [
    {
     "data": {
      "text/plain": [
       "(719991, 81)"
      ]
     },
     "execution_count": 11,
     "metadata": {},
     "output_type": "execute_result"
    }
   ],
   "source": [
    "df.shape"
   ]
  },
  {
   "cell_type": "markdown",
   "metadata": {},
   "source": [
    "Asignar tipo correspondiente a cada columna"
   ]
  },
  {
   "cell_type": "code",
   "execution_count": 12,
   "metadata": {},
   "outputs": [
    {
     "name": "stdout",
     "output_type": "stream",
     "text": [
      "Dst Port int64\n",
      "Protocol int64\n",
      "Timestamp object\n",
      "Flow Duration int64\n",
      "Tot Fwd Pkts int64\n",
      "Tot Bwd Pkts int64\n",
      "TotLen Fwd Pkts int64\n",
      "TotLen Bwd Pkts int64\n",
      "Fwd Pkt Len Max int64\n",
      "Fwd Pkt Len Min int64\n",
      "Fwd Pkt Len Mean int64\n",
      "Fwd Pkt Len Std int64\n",
      "Bwd Pkt Len Max int64\n",
      "Bwd Pkt Len Min int64\n",
      "Bwd Pkt Len Mean int64\n",
      "Bwd Pkt Len Std int64\n",
      "Flow Byts/s int64\n",
      "Flow Pkts/s float64\n",
      "Flow IAT Mean float64\n",
      "Flow IAT Std float64\n",
      "Flow IAT Max int64\n",
      "Flow IAT Min int64\n",
      "Fwd IAT Tot int64\n",
      "Fwd IAT Mean float64\n",
      "Fwd IAT Std float64\n",
      "Fwd IAT Max int64\n",
      "Fwd IAT Min int64\n",
      "Bwd IAT Tot int64\n",
      "Bwd IAT Mean int64\n",
      "Bwd IAT Std int64\n",
      "Bwd IAT Max int64\n",
      "Bwd IAT Min int64\n",
      "Fwd PSH Flags int64\n",
      "Bwd PSH Flags int64\n",
      "Fwd URG Flags int64\n",
      "Bwd URG Flags int64\n",
      "Fwd Header Len int64\n",
      "Bwd Header Len int64\n",
      "Fwd Pkts/s float64\n",
      "Bwd Pkts/s int64\n",
      "Pkt Len Min int64\n",
      "Pkt Len Max int64\n",
      "Pkt Len Mean int64\n",
      "Pkt Len Std int64\n",
      "Pkt Len Var int64\n",
      "FIN Flag Cnt int64\n",
      "SYN Flag Cnt int64\n",
      "RST Flag Cnt int64\n",
      "PSH Flag Cnt int64\n",
      "ACK Flag Cnt int64\n",
      "URG Flag Cnt int64\n",
      "CWE Flag Count int64\n",
      "ECE Flag Cnt int64\n",
      "Down/Up Ratio int64\n",
      "Pkt Size Avg int64\n",
      "Fwd Seg Size Avg int64\n",
      "Bwd Seg Size Avg int64\n",
      "Fwd Byts/b Avg int64\n",
      "Fwd Pkts/b Avg int64\n",
      "Fwd Blk Rate Avg int64\n",
      "Bwd Byts/b Avg int64\n",
      "Bwd Pkts/b Avg int64\n",
      "Bwd Blk Rate Avg int64\n",
      "Subflow Fwd Pkts int64\n",
      "Subflow Fwd Byts int64\n",
      "Subflow Bwd Pkts int64\n",
      "Subflow Bwd Byts int64\n",
      "Init Fwd Win Byts int64\n",
      "Init Bwd Win Byts int64\n",
      "Fwd Act Data Pkts int64\n",
      "Fwd Seg Size Min int64\n",
      "Active Mean int64\n",
      "Active Std int64\n",
      "Active Max int64\n",
      "Active Min int64\n",
      "Idle Mean float64\n",
      "Idle Std float64\n",
      "Idle Max int64\n",
      "Idle Min int64\n"
     ]
    }
   ],
   "source": [
    "with open(HEADER, 'r') as f:\n",
    "    header = json.load(f)\n",
    "for col, dtype in header.items():\n",
    "    print(col, dtype)"
   ]
  },
  {
   "cell_type": "code",
   "execution_count": 13,
   "metadata": {},
   "outputs": [
    {
     "data": {
      "text/plain": [
       "Dst Port           int64\n",
       "Protocol           int64\n",
       "Timestamp        float64\n",
       "Flow Duration      int64\n",
       "Tot Fwd Pkts       int64\n",
       "                  ...   \n",
       "Idle Std         float64\n",
       "Idle Max         float64\n",
       "Idle Min         float64\n",
       "Label              int64\n",
       "Protocol           int64\n",
       "Length: 81, dtype: object"
      ]
     },
     "execution_count": 13,
     "metadata": {},
     "output_type": "execute_result"
    }
   ],
   "source": [
    "df.dtypes"
   ]
  },
  {
   "cell_type": "markdown",
   "metadata": {},
   "source": [
    "Convertir la columna de etiqueta a numérica"
   ]
  },
  {
   "cell_type": "code",
   "execution_count": null,
   "metadata": {},
   "outputs": [],
   "source": []
  },
  {
   "cell_type": "code",
   "execution_count": 14,
   "metadata": {},
   "outputs": [
    {
     "data": {
      "text/plain": [
       "array([ 0,  9,  6,  8,  7,  5,  4,  2,  3, 10,  1])"
      ]
     },
     "execution_count": 14,
     "metadata": {},
     "output_type": "execute_result"
    }
   ],
   "source": [
    "df['Label'].unique()"
   ]
  },
  {
   "cell_type": "code",
   "execution_count": 15,
   "metadata": {},
   "outputs": [
    {
     "data": {
      "text/plain": [
       "dtype('int64')"
      ]
     },
     "execution_count": 15,
     "metadata": {},
     "output_type": "execute_result"
    }
   ],
   "source": [
    "df['Label'].dtype"
   ]
  },
  {
   "cell_type": "code",
   "execution_count": 16,
   "metadata": {},
   "outputs": [
    {
     "data": {
      "text/html": [
       "<div>\n",
       "<style scoped>\n",
       "    .dataframe tbody tr th:only-of-type {\n",
       "        vertical-align: middle;\n",
       "    }\n",
       "\n",
       "    .dataframe tbody tr th {\n",
       "        vertical-align: top;\n",
       "    }\n",
       "\n",
       "    .dataframe thead th {\n",
       "        text-align: right;\n",
       "    }\n",
       "</style>\n",
       "<table border=\"1\" class=\"dataframe\">\n",
       "  <thead>\n",
       "    <tr style=\"text-align: right;\">\n",
       "      <th></th>\n",
       "      <th>Dst Port</th>\n",
       "      <th>Protocol</th>\n",
       "      <th>Timestamp</th>\n",
       "      <th>Flow Duration</th>\n",
       "      <th>Tot Fwd Pkts</th>\n",
       "      <th>Tot Bwd Pkts</th>\n",
       "      <th>TotLen Fwd Pkts</th>\n",
       "      <th>TotLen Bwd Pkts</th>\n",
       "      <th>Fwd Pkt Len Max</th>\n",
       "      <th>Fwd Pkt Len Min</th>\n",
       "      <th>...</th>\n",
       "      <th>Active Mean</th>\n",
       "      <th>Active Std</th>\n",
       "      <th>Active Max</th>\n",
       "      <th>Active Min</th>\n",
       "      <th>Idle Mean</th>\n",
       "      <th>Idle Std</th>\n",
       "      <th>Idle Max</th>\n",
       "      <th>Idle Min</th>\n",
       "      <th>Label</th>\n",
       "      <th>Protocol</th>\n",
       "    </tr>\n",
       "  </thead>\n",
       "  <tbody>\n",
       "    <tr>\n",
       "      <th>0</th>\n",
       "      <td>0</td>\n",
       "      <td>0</td>\n",
       "      <td>0.866025</td>\n",
       "      <td>112641719</td>\n",
       "      <td>3</td>\n",
       "      <td>0</td>\n",
       "      <td>0</td>\n",
       "      <td>0.0</td>\n",
       "      <td>0</td>\n",
       "      <td>0</td>\n",
       "      <td>...</td>\n",
       "      <td>0.0</td>\n",
       "      <td>0.0</td>\n",
       "      <td>0.0</td>\n",
       "      <td>0.0</td>\n",
       "      <td>56320859.5</td>\n",
       "      <td>139.300036</td>\n",
       "      <td>56320958.0</td>\n",
       "      <td>56320761.0</td>\n",
       "      <td>0</td>\n",
       "      <td>0</td>\n",
       "    </tr>\n",
       "    <tr>\n",
       "      <th>1</th>\n",
       "      <td>0</td>\n",
       "      <td>0</td>\n",
       "      <td>0.866025</td>\n",
       "      <td>112641466</td>\n",
       "      <td>3</td>\n",
       "      <td>0</td>\n",
       "      <td>0</td>\n",
       "      <td>0.0</td>\n",
       "      <td>0</td>\n",
       "      <td>0</td>\n",
       "      <td>...</td>\n",
       "      <td>0.0</td>\n",
       "      <td>0.0</td>\n",
       "      <td>0.0</td>\n",
       "      <td>0.0</td>\n",
       "      <td>56320733.0</td>\n",
       "      <td>114.551299</td>\n",
       "      <td>56320814.0</td>\n",
       "      <td>56320652.0</td>\n",
       "      <td>0</td>\n",
       "      <td>0</td>\n",
       "    </tr>\n",
       "    <tr>\n",
       "      <th>2</th>\n",
       "      <td>0</td>\n",
       "      <td>0</td>\n",
       "      <td>0.866025</td>\n",
       "      <td>112638623</td>\n",
       "      <td>3</td>\n",
       "      <td>0</td>\n",
       "      <td>0</td>\n",
       "      <td>0.0</td>\n",
       "      <td>0</td>\n",
       "      <td>0</td>\n",
       "      <td>...</td>\n",
       "      <td>0.0</td>\n",
       "      <td>0.0</td>\n",
       "      <td>0.0</td>\n",
       "      <td>0.0</td>\n",
       "      <td>56319311.5</td>\n",
       "      <td>301.934596</td>\n",
       "      <td>56319525.0</td>\n",
       "      <td>56319098.0</td>\n",
       "      <td>0</td>\n",
       "      <td>0</td>\n",
       "    </tr>\n",
       "    <tr>\n",
       "      <th>3</th>\n",
       "      <td>22</td>\n",
       "      <td>6</td>\n",
       "      <td>0.866025</td>\n",
       "      <td>6453966</td>\n",
       "      <td>15</td>\n",
       "      <td>10</td>\n",
       "      <td>1239</td>\n",
       "      <td>2273.0</td>\n",
       "      <td>744</td>\n",
       "      <td>0</td>\n",
       "      <td>...</td>\n",
       "      <td>0.0</td>\n",
       "      <td>0.0</td>\n",
       "      <td>0.0</td>\n",
       "      <td>0.0</td>\n",
       "      <td>0.0</td>\n",
       "      <td>0.000000</td>\n",
       "      <td>0.0</td>\n",
       "      <td>0.0</td>\n",
       "      <td>0</td>\n",
       "      <td>6</td>\n",
       "    </tr>\n",
       "    <tr>\n",
       "      <th>4</th>\n",
       "      <td>22</td>\n",
       "      <td>6</td>\n",
       "      <td>0.866025</td>\n",
       "      <td>8804066</td>\n",
       "      <td>14</td>\n",
       "      <td>11</td>\n",
       "      <td>1143</td>\n",
       "      <td>2209.0</td>\n",
       "      <td>744</td>\n",
       "      <td>0</td>\n",
       "      <td>...</td>\n",
       "      <td>0.0</td>\n",
       "      <td>0.0</td>\n",
       "      <td>0.0</td>\n",
       "      <td>0.0</td>\n",
       "      <td>0.0</td>\n",
       "      <td>0.000000</td>\n",
       "      <td>0.0</td>\n",
       "      <td>0.0</td>\n",
       "      <td>0</td>\n",
       "      <td>6</td>\n",
       "    </tr>\n",
       "  </tbody>\n",
       "</table>\n",
       "<p>5 rows × 81 columns</p>\n",
       "</div>"
      ],
      "text/plain": [
       "   Dst Port  Protocol  Timestamp  Flow Duration  Tot Fwd Pkts  Tot Bwd Pkts  \\\n",
       "0         0         0   0.866025      112641719             3             0   \n",
       "1         0         0   0.866025      112641466             3             0   \n",
       "2         0         0   0.866025      112638623             3             0   \n",
       "3        22         6   0.866025        6453966            15            10   \n",
       "4        22         6   0.866025        8804066            14            11   \n",
       "\n",
       "   TotLen Fwd Pkts  TotLen Bwd Pkts  Fwd Pkt Len Max  Fwd Pkt Len Min  ...  \\\n",
       "0                0              0.0                0                0  ...   \n",
       "1                0              0.0                0                0  ...   \n",
       "2                0              0.0                0                0  ...   \n",
       "3             1239           2273.0              744                0  ...   \n",
       "4             1143           2209.0              744                0  ...   \n",
       "\n",
       "   Active Mean  Active Std  Active Max  Active Min   Idle Mean    Idle Std  \\\n",
       "0          0.0         0.0         0.0         0.0  56320859.5  139.300036   \n",
       "1          0.0         0.0         0.0         0.0  56320733.0  114.551299   \n",
       "2          0.0         0.0         0.0         0.0  56319311.5  301.934596   \n",
       "3          0.0         0.0         0.0         0.0         0.0    0.000000   \n",
       "4          0.0         0.0         0.0         0.0         0.0    0.000000   \n",
       "\n",
       "     Idle Max    Idle Min  Label  Protocol   \n",
       "0  56320958.0  56320761.0      0          0  \n",
       "1  56320814.0  56320652.0      0          0  \n",
       "2  56319525.0  56319098.0      0          0  \n",
       "3         0.0         0.0      0          6  \n",
       "4         0.0         0.0      0          6  \n",
       "\n",
       "[5 rows x 81 columns]"
      ]
     },
     "execution_count": 16,
     "metadata": {},
     "output_type": "execute_result"
    }
   ],
   "source": [
    "df.head()"
   ]
  },
  {
   "cell_type": "markdown",
   "metadata": {},
   "source": [
    "## Extracción de secuencias de paquetes"
   ]
  },
  {
   "cell_type": "markdown",
   "metadata": {},
   "source": [
    "Obtener todas las secuencias de paquetes presentes en el dataset."
   ]
  },
  {
   "cell_type": "code",
   "execution_count": 17,
   "metadata": {},
   "outputs": [],
   "source": [
    "# Crear una copia del DataFrame original para no modificarlo directamente.\n",
    "df_temp = df.copy()\n",
    "\n",
    "# Cada vez que el valor de 'label' cambia, se incrementa el contador acumulativo.\n",
    "df_temp['sequence'] = (df_temp['Label'] != df_temp['Label'].shift()).cumsum()\n",
    "\n",
    "# Agrupar el DataFrame por la columna 'sequence' y crear una lista de DataFrames.\n",
    "sequences = [sequence for _, sequence in df_temp.groupby('sequence')]  \n",
    "\n",
    "for sequence_df in sequences:  # Iterar sobre cada DataFrame en la lista de secuencias.\n",
    "    # Eliminar la columna 'sequence' de cada DataFrame, ya que solo se usó para agrupar.\n",
    "    sequence_df.drop(columns='sequence', inplace=True)  \n",
    "    # Reiniciar los índices de cada DataFrame para que comiencen desde 0.\n",
    "    sequence_df.reset_index(drop=True, inplace=True)"
   ]
  },
  {
   "cell_type": "markdown",
   "metadata": {},
   "source": [
    "## Análisis de las secuencias"
   ]
  },
  {
   "cell_type": "code",
   "execution_count": 18,
   "metadata": {},
   "outputs": [
    {
     "name": "stdout",
     "output_type": "stream",
     "text": [
      "Total de secuencias de paquetes encontradas: 15947\n"
     ]
    }
   ],
   "source": [
    "print(f\"Total de secuencias de paquetes encontradas: {len(sequences)}\")"
   ]
  },
  {
   "cell_type": "code",
   "execution_count": 19,
   "metadata": {},
   "outputs": [
    {
     "name": "stdout",
     "output_type": "stream",
     "text": [
      "Primera secuencia: [0]\n",
      "Número de paquetes de la primera secuencia: 94\n"
     ]
    }
   ],
   "source": [
    "print(f\"Primera secuencia: {sequences[0]['Label'].unique()}\")\n",
    "print(f\"Número de paquetes de la primera secuencia: {sequences[0].shape[0]}\")"
   ]
  },
  {
   "cell_type": "code",
   "execution_count": 20,
   "metadata": {},
   "outputs": [
    {
     "name": "stdout",
     "output_type": "stream",
     "text": [
      "Última secuencia: [1]\n",
      "Número de paquetes de la última secuencia: 17\n"
     ]
    }
   ],
   "source": [
    "print(f\"Última secuencia: {sequences[-1]['Label'].unique()}\")\n",
    "print(f\"Número de paquetes de la última secuencia: {sequences[-1].shape[0]}\")"
   ]
  },
  {
   "cell_type": "code",
   "execution_count": 21,
   "metadata": {},
   "outputs": [],
   "source": [
    "# Almacenar los tamaños de las secuencias y las secuencias en un DataFrame.\n",
    "sequences_df = pd.DataFrame({\n",
    "    'Size': [sequence.shape[0] for sequence in sequences],\n",
    "    'Sequence': sequences,\n",
    "    'ID': range(1, len(sequences) + 1),  # Asigna un número único a cada secuencia\n",
    "    'Label': [sequence['Label'].unique()[0] for sequence in sequences],\n",
    "})"
   ]
  },
  {
   "cell_type": "code",
   "execution_count": 22,
   "metadata": {},
   "outputs": [
    {
     "data": {
      "text/html": [
       "<div>\n",
       "<style scoped>\n",
       "    .dataframe tbody tr th:only-of-type {\n",
       "        vertical-align: middle;\n",
       "    }\n",
       "\n",
       "    .dataframe tbody tr th {\n",
       "        vertical-align: top;\n",
       "    }\n",
       "\n",
       "    .dataframe thead th {\n",
       "        text-align: right;\n",
       "    }\n",
       "</style>\n",
       "<table border=\"1\" class=\"dataframe\">\n",
       "  <thead>\n",
       "    <tr style=\"text-align: right;\">\n",
       "      <th></th>\n",
       "      <th>Size</th>\n",
       "      <th>Sequence</th>\n",
       "      <th>ID</th>\n",
       "      <th>Label</th>\n",
       "    </tr>\n",
       "  </thead>\n",
       "  <tbody>\n",
       "    <tr>\n",
       "      <th>0</th>\n",
       "      <td>94</td>\n",
       "      <td>Dst Port  Protocol  Timestamp  Flow Durati...</td>\n",
       "      <td>1</td>\n",
       "      <td>0</td>\n",
       "    </tr>\n",
       "    <tr>\n",
       "      <th>1</th>\n",
       "      <td>64</td>\n",
       "      <td>Dst Port  Protocol  Timestamp  Flow Durati...</td>\n",
       "      <td>2</td>\n",
       "      <td>9</td>\n",
       "    </tr>\n",
       "    <tr>\n",
       "      <th>2</th>\n",
       "      <td>1</td>\n",
       "      <td>Dst Port  Protocol  Timestamp  Flow Duratio...</td>\n",
       "      <td>3</td>\n",
       "      <td>0</td>\n",
       "    </tr>\n",
       "    <tr>\n",
       "      <th>3</th>\n",
       "      <td>5610</td>\n",
       "      <td>Dst Port  Protocol  Timestamp  Flow Dura...</td>\n",
       "      <td>4</td>\n",
       "      <td>9</td>\n",
       "    </tr>\n",
       "    <tr>\n",
       "      <th>4</th>\n",
       "      <td>1</td>\n",
       "      <td>Dst Port  Protocol  Timestamp  Flow Duratio...</td>\n",
       "      <td>5</td>\n",
       "      <td>0</td>\n",
       "    </tr>\n",
       "  </tbody>\n",
       "</table>\n",
       "</div>"
      ],
      "text/plain": [
       "   Size                                           Sequence  ID  Label\n",
       "0    94      Dst Port  Protocol  Timestamp  Flow Durati...   1      0\n",
       "1    64      Dst Port  Protocol  Timestamp  Flow Durati...   2      9\n",
       "2     1     Dst Port  Protocol  Timestamp  Flow Duratio...   3      0\n",
       "3  5610        Dst Port  Protocol  Timestamp  Flow Dura...   4      9\n",
       "4     1     Dst Port  Protocol  Timestamp  Flow Duratio...   5      0"
      ]
     },
     "execution_count": 22,
     "metadata": {},
     "output_type": "execute_result"
    }
   ],
   "source": [
    "sequences_df.head()"
   ]
  },
  {
   "cell_type": "code",
   "execution_count": 23,
   "metadata": {},
   "outputs": [
    {
     "name": "stdout",
     "output_type": "stream",
     "text": [
      "Análisis estadístico de los paquetes\n",
      "count     15947.000000\n",
      "mean         45.148994\n",
      "std        2061.803273\n",
      "min           1.000000\n",
      "25%           1.000000\n",
      "50%           1.000000\n",
      "75%           3.000000\n",
      "max      238823.000000\n",
      "Name: Size, dtype: float64\n"
     ]
    }
   ],
   "source": [
    "print(\"Análisis estadístico de los paquetes\")\n",
    "print(f\"{sequences_df['Size'].describe()}\")"
   ]
  },
  {
   "cell_type": "markdown",
   "metadata": {},
   "source": [
    "Obtener media y desviación estándar del número de paquetes."
   ]
  },
  {
   "cell_type": "code",
   "execution_count": 24,
   "metadata": {},
   "outputs": [
    {
     "name": "stdout",
     "output_type": "stream",
     "text": [
      "Número promedio de paquetes por secuencia: 45.14899354110491\n",
      "Desviación estándar (muestral): 2061.8032725880016\n"
     ]
    }
   ],
   "source": [
    "# Obtener la media de paquetes por secuencia\n",
    "mean = sequences_df['Size'].mean()\n",
    "\n",
    "# Obtener la desviación estándar muestral (por defecto ddof=1)\n",
    "deviation = sequences_df['Size'].std()\n",
    "\n",
    "print(f\"Número promedio de paquetes por secuencia: {mean}\")\n",
    "print(f\"Desviación estándar (muestral): {deviation}\")"
   ]
  },
  {
   "cell_type": "markdown",
   "metadata": {},
   "source": [
    "Obtener número de secuencias asociadas a cada etiqueta"
   ]
  },
  {
   "cell_type": "code",
   "execution_count": 25,
   "metadata": {},
   "outputs": [
    {
     "data": {
      "text/plain": [
       "Label\n",
       "6     5026\n",
       "8     4668\n",
       "0     3805\n",
       "1     1548\n",
       "5      635\n",
       "3      109\n",
       "2       73\n",
       "10      32\n",
       "7       30\n",
       "9       18\n",
       "4        3\n",
       "Name: count, dtype: int64"
      ]
     },
     "execution_count": 25,
     "metadata": {},
     "output_type": "execute_result"
    }
   ],
   "source": [
    "sequences_df[\"Label\"].value_counts()  # Contar la cantidad de secuencias por etiqueta"
   ]
  },
  {
   "cell_type": "code",
   "execution_count": 26,
   "metadata": {},
   "outputs": [
    {
     "name": "stdout",
     "output_type": "stream",
     "text": [
      "Empty DataFrame\n",
      "Columns: [Size, Sequence, ID, Label]\n",
      "Index: []\n"
     ]
    }
   ],
   "source": [
    "import pandas as pd\n",
    "\n",
    "# Filtrar las filas cuyo valor en la columna 'Label' no esté duplicado\n",
    "df_unico = sequences_df[~sequences_df.duplicated(subset=['Label'], keep=False)]\n",
    "\n",
    "# Imprimir el resultado\n",
    "print(df_unico)\n"
   ]
  },
  {
   "cell_type": "markdown",
   "metadata": {},
   "source": [
    "## Normalización de las secuencias"
   ]
  },
  {
   "cell_type": "code",
   "execution_count": 27,
   "metadata": {},
   "outputs": [
    {
     "data": {
      "text/html": [
       "<div>\n",
       "<style scoped>\n",
       "    .dataframe tbody tr th:only-of-type {\n",
       "        vertical-align: middle;\n",
       "    }\n",
       "\n",
       "    .dataframe tbody tr th {\n",
       "        vertical-align: top;\n",
       "    }\n",
       "\n",
       "    .dataframe thead th {\n",
       "        text-align: right;\n",
       "    }\n",
       "</style>\n",
       "<table border=\"1\" class=\"dataframe\">\n",
       "  <thead>\n",
       "    <tr style=\"text-align: right;\">\n",
       "      <th></th>\n",
       "      <th>Size</th>\n",
       "      <th>Sequence</th>\n",
       "      <th>ID</th>\n",
       "      <th>Label</th>\n",
       "    </tr>\n",
       "  </thead>\n",
       "  <tbody>\n",
       "    <tr>\n",
       "      <th>5128</th>\n",
       "      <td>1</td>\n",
       "      <td>Dst Port  Protocol  Timestamp  Flow Duratio...</td>\n",
       "      <td>5129</td>\n",
       "      <td>8</td>\n",
       "    </tr>\n",
       "    <tr>\n",
       "      <th>12034</th>\n",
       "      <td>6</td>\n",
       "      <td>Dst Port  Protocol  Timestamp  Flow Duratio...</td>\n",
       "      <td>12035</td>\n",
       "      <td>5</td>\n",
       "    </tr>\n",
       "    <tr>\n",
       "      <th>4554</th>\n",
       "      <td>1</td>\n",
       "      <td>Dst Port  Protocol  Timestamp  Flow Duratio...</td>\n",
       "      <td>4555</td>\n",
       "      <td>6</td>\n",
       "    </tr>\n",
       "    <tr>\n",
       "      <th>15277</th>\n",
       "      <td>1</td>\n",
       "      <td>Dst Port  Protocol  Timestamp  Flow Duratio...</td>\n",
       "      <td>15278</td>\n",
       "      <td>0</td>\n",
       "    </tr>\n",
       "    <tr>\n",
       "      <th>586</th>\n",
       "      <td>3</td>\n",
       "      <td>Dst Port  Protocol  Timestamp  Flow Duratio...</td>\n",
       "      <td>587</td>\n",
       "      <td>8</td>\n",
       "    </tr>\n",
       "  </tbody>\n",
       "</table>\n",
       "</div>"
      ],
      "text/plain": [
       "       Size                                           Sequence     ID  Label\n",
       "5128      1     Dst Port  Protocol  Timestamp  Flow Duratio...   5129      8\n",
       "12034     6     Dst Port  Protocol  Timestamp  Flow Duratio...  12035      5\n",
       "4554      1     Dst Port  Protocol  Timestamp  Flow Duratio...   4555      6\n",
       "15277     1     Dst Port  Protocol  Timestamp  Flow Duratio...  15278      0\n",
       "586       3     Dst Port  Protocol  Timestamp  Flow Duratio...    587      8"
      ]
     },
     "execution_count": 27,
     "metadata": {},
     "output_type": "execute_result"
    }
   ],
   "source": [
    "from sklearn.model_selection import train_test_split\n",
    "\n",
    "# Eliminar filas con valores NaN en la columna\n",
    "sequences_df = sequences_df.dropna(subset=[\"Label\"])\n",
    "\n",
    "# train y test serán los dataframes de secuencias que usaremos para entrenar al modelo\n",
    "train, test = train_test_split(sequences_df, test_size=0.2, stratify=sequences_df[\"Label\"])\n",
    "\n",
    "# test.head()\n",
    "train.head() # Es un dataframe barajado que contiene otros dataframes (secuencias) en la columna \"Sequence\""
   ]
  },
  {
   "cell_type": "code",
   "execution_count": 28,
   "metadata": {},
   "outputs": [],
   "source": [
    "# Asignar la columna 'ID' dentro de cada DataFrame en train\n",
    "for i, sequence in enumerate(train[\"Sequence\"]):\n",
    "    sequence[\"ID\"] = train.iloc[i][\"ID\"]\n",
    "# Asignar la columna 'ID' dentro de cada DataFrame en train\n",
    "for i, sequence in enumerate(test[\"Sequence\"]):\n",
    "    sequence[\"ID\"] = test.iloc[i][\"ID\"]\n",
    "\n",
    "\n",
    "# Concatenar manteniendo la columna 'ID'\n",
    "train_concatenado = pd.concat(train[\"Sequence\"].tolist(), ignore_index=True)\n",
    "# Concatenar manteniendo la columna 'ID'\n",
    "test_concatenado = pd.concat(test[\"Sequence\"].tolist(), ignore_index=True)"
   ]
  },
  {
   "cell_type": "markdown",
   "metadata": {},
   "source": [
    "## Separación de secuencias en train, test y validation"
   ]
  },
  {
   "cell_type": "code",
   "execution_count": 29,
   "metadata": {},
   "outputs": [
    {
     "ename": "NameError",
     "evalue": "name 'LABELS' is not defined",
     "output_type": "error",
     "traceback": [
      "\u001b[31m---------------------------------------------------------------------------\u001b[39m",
      "\u001b[31mNameError\u001b[39m                                 Traceback (most recent call last)",
      "\u001b[36mCell\u001b[39m\u001b[36m \u001b[39m\u001b[32mIn[29]\u001b[39m\u001b[32m, line 5\u001b[39m\n\u001b[32m      3\u001b[39m y_train = train_concatenado[[\u001b[33m'\u001b[39m\u001b[33mLabel\u001b[39m\u001b[33m'\u001b[39m, \u001b[33m'\u001b[39m\u001b[33mID\u001b[39m\u001b[33m'\u001b[39m]]\n\u001b[32m      4\u001b[39m \u001b[38;5;66;03m# Crear la nueva columna basada en el mapeo\u001b[39;00m\n\u001b[32m----> \u001b[39m\u001b[32m5\u001b[39m y_train[\u001b[33m'\u001b[39m\u001b[33mLabel_Mapped\u001b[39m\u001b[33m'\u001b[39m] = y_train[\u001b[33m'\u001b[39m\u001b[33mLabel\u001b[39m\u001b[33m'\u001b[39m].map(\u001b[43mLABELS\u001b[49m)\n\u001b[32m      7\u001b[39m x_test = test_concatenado.drop(columns=[\u001b[33m'\u001b[39m\u001b[33mLabel\u001b[39m\u001b[33m'\u001b[39m, \u001b[33m'\u001b[39m\u001b[33mID\u001b[39m\u001b[33m'\u001b[39m])\n\u001b[32m      8\u001b[39m y_test = test_concatenado[[\u001b[33m'\u001b[39m\u001b[33mLabel\u001b[39m\u001b[33m'\u001b[39m, \u001b[33m'\u001b[39m\u001b[33mID\u001b[39m\u001b[33m'\u001b[39m]]\n",
      "\u001b[31mNameError\u001b[39m: name 'LABELS' is not defined"
     ]
    }
   ],
   "source": [
    "# Dividir los DataFrames en características (X) y etiquetas (y)\n",
    "x_train = train_concatenado.drop(columns=['Label', 'ID'])\n",
    "y_train = train_concatenado[['Label', 'ID']]\n",
    "# Crear la nueva columna basada en el mapeo\n",
    "y_train['Label_Mapped'] = y_train['Label'].map(LABELS)\n",
    "\n",
    "x_test = test_concatenado.drop(columns=['Label', 'ID'])\n",
    "y_test = test_concatenado[['Label', 'ID']]\n",
    "# Crear la nueva columna basada en el mapeo\n",
    "y_test['Label_Mapped'] = y_test['Label'].map(LABELS)\n",
    "\n",
    "print(f\"Dimensiones de x_train: {x_train.shape}\")\n",
    "print(y_train[['Label']].value_counts()) \n",
    "y_train.head() # Muestra los primeros 5 paquetes del dataframe de entrenamiento"
   ]
  },
  {
   "cell_type": "code",
   "execution_count": null,
   "metadata": {},
   "outputs": [
    {
     "name": "stdout",
     "output_type": "stream",
     "text": [
      "['Bot' 'Bot' 'Bot' 'Bot' 'Bot' 'Bot' 'Bot' 'Bot' 'Bot' 'Bot' 'Bot' 'Bot'\n",
      " 'Bot' 'Bot' 'Bot' 'Bot' 'Bot']\n",
      "17\n"
     ]
    }
   ],
   "source": [
    "# Cambiar etiquetas a su estado original\n",
    "\"\"\"original_labels = le.inverse_transform(sequences[-1]['Label'])\n",
    "print(original_labels)\n",
    "print(len(original_labels))\"\"\""
   ]
  }
 ],
 "metadata": {
  "kernelspec": {
   "display_name": "Python 3",
   "language": "python",
   "name": "python3"
  },
  "language_info": {
   "codemirror_mode": {
    "name": "ipython",
    "version": 3
   },
   "file_extension": ".py",
   "mimetype": "text/x-python",
   "name": "python",
   "nbconvert_exporter": "python",
   "pygments_lexer": "ipython3",
   "version": "3.11.9"
  }
 },
 "nbformat": 4,
 "nbformat_minor": 2
}

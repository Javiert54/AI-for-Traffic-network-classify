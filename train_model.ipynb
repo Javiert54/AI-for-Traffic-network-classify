{
 "cells": [
  {
   "cell_type": "markdown",
   "metadata": {},
   "source": [
    "## Importación de librerías"
   ]
  },
  {
   "cell_type": "code",
   "execution_count": 1,
   "metadata": {},
   "outputs": [],
   "source": [
    "import pandas as pd\n",
    "import json\n",
    "import numpy as np\n",
    "from sklearn.model_selection import train_test_split\n",
    "import torch\n",
    "import torch.nn as nn\n",
    "import numpy as np\n",
    "from sklearn.preprocessing import StandardScaler\n",
    "from sklearn.model_selection import train_test_split"
   ]
  },
  {
   "cell_type": "markdown",
   "metadata": {},
   "source": [
    "## Configuración de variables globales"
   ]
  },
  {
   "cell_type": "code",
   "execution_count": 2,
   "metadata": {},
   "outputs": [],
   "source": [
    "with open('setup.json', 'r') as f:\n",
    "    SETUP_JSON = json.load(f)\n",
    "OUTPUT_CSV = SETUP_JSON['dataset_csv'] # Output CSV file\n",
    "OUTPUT_PARQUET = SETUP_JSON['dataset_parquet'] # Output CSV file"
   ]
  },
  {
   "cell_type": "markdown",
   "metadata": {},
   "source": [
    "## Cargar el dataset"
   ]
  },
  {
   "cell_type": "code",
   "execution_count": 3,
   "metadata": {},
   "outputs": [],
   "source": [
    "df = pd.read_csv(OUTPUT_CSV) # Leer csv"
   ]
  },
  {
   "cell_type": "markdown",
   "metadata": {},
   "source": [
    "## Extracción de secuencias de paquetes"
   ]
  },
  {
   "cell_type": "markdown",
   "metadata": {},
   "source": [
    "Obtener todas las secuencias de paquetes presentes en el dataset."
   ]
  },
  {
   "cell_type": "code",
   "execution_count": 4,
   "metadata": {},
   "outputs": [],
   "source": [
    "# Crear una copia del DataFrame original para no modificarlo directamente.\n",
    "df_temp = df.copy()\n",
    "\n",
    "# Cada vez que el valor de 'label' cambia, se incrementa el contador acumulativo.\n",
    "df_temp['sequence'] = (df_temp['Label'] != df_temp['Label'].shift()).cumsum()\n",
    "\n",
    "# Agrupar el DataFrame por la columna 'sequence' y crear una lista de DataFrames.\n",
    "sequences = [sequence for _, sequence in df_temp.groupby('sequence')]  \n",
    "\n",
    "for sequence_df in sequences:  # Iterar sobre cada DataFrame en la lista de secuencias.\n",
    "    # Eliminar la columna 'sequence' de cada DataFrame, ya que solo se usó para agrupar.\n",
    "    sequence_df.drop(columns='sequence', inplace=True)  \n",
    "    # Reiniciar los índices de cada DataFrame para que comiencen desde 0.\n",
    "    sequence_df.reset_index(drop=True, inplace=True)"
   ]
  },
  {
   "cell_type": "markdown",
   "metadata": {},
   "source": [
    "## Análisis de las secuencias"
   ]
  },
  {
   "cell_type": "code",
   "execution_count": 56,
   "metadata": {},
   "outputs": [
    {
     "name": "stdout",
     "output_type": "stream",
     "text": [
      "Total de secuencias de paquetes encontradas: 15947\n"
     ]
    }
   ],
   "source": [
    "print(f\"Total de secuencias de paquetes encontradas: {len(sequences)}\")"
   ]
  },
  {
   "cell_type": "code",
   "execution_count": 57,
   "metadata": {},
   "outputs": [
    {
     "name": "stdout",
     "output_type": "stream",
     "text": [
      "Primera secuencia: [0]\n",
      "Número de paquetes de la primera secuencia: 94\n"
     ]
    }
   ],
   "source": [
    "print(f\"Primera secuencia: {sequences[0]['Label'].unique()}\")\n",
    "print(f\"Número de paquetes de la primera secuencia: {sequences[0].shape[0]}\")"
   ]
  },
  {
   "cell_type": "code",
   "execution_count": 58,
   "metadata": {},
   "outputs": [
    {
     "name": "stdout",
     "output_type": "stream",
     "text": [
      "Última secuencia: [1]\n",
      "Número de paquetes de la última secuencia: 17\n"
     ]
    }
   ],
   "source": [
    "print(f\"Última secuencia: {sequences[-1]['Label'].unique()}\")\n",
    "print(f\"Número de paquetes de la última secuencia: {sequences[-1].shape[0]}\")"
   ]
  },
  {
   "cell_type": "code",
   "execution_count": 5,
   "metadata": {},
   "outputs": [],
   "source": [
    "# Almacenar los tamaños de las secuencias y las secuencias en un DataFrame.\n",
    "sequences_df = pd.DataFrame({\n",
    "    'Size': [sequence.shape[0] for sequence in sequences],\n",
    "    'Sequence': sequences,\n",
    "    'ID': range(1, len(sequences) + 1),  # Asigna un número único a cada secuencia\n",
    "    'Label': [sequence['Label'].unique()[0] for sequence in sequences],\n",
    "})"
   ]
  },
  {
   "cell_type": "code",
   "execution_count": 60,
   "metadata": {},
   "outputs": [
    {
     "name": "stdout",
     "output_type": "stream",
     "text": [
      "<class 'pandas.core.frame.DataFrame'>\n",
      "RangeIndex: 15947 entries, 0 to 15946\n",
      "Data columns (total 4 columns):\n",
      " #   Column    Non-Null Count  Dtype \n",
      "---  ------    --------------  ----- \n",
      " 0   Size      15947 non-null  int64 \n",
      " 1   Sequence  15947 non-null  object\n",
      " 2   ID        15947 non-null  int64 \n",
      " 3   Label     15947 non-null  int64 \n",
      "dtypes: int64(3), object(1)\n",
      "memory usage: 498.5+ KB\n"
     ]
    }
   ],
   "source": [
    "sequences_df.info()"
   ]
  },
  {
   "cell_type": "code",
   "execution_count": 61,
   "metadata": {},
   "outputs": [
    {
     "data": {
      "text/html": [
       "<div>\n",
       "<style scoped>\n",
       "    .dataframe tbody tr th:only-of-type {\n",
       "        vertical-align: middle;\n",
       "    }\n",
       "\n",
       "    .dataframe tbody tr th {\n",
       "        vertical-align: top;\n",
       "    }\n",
       "\n",
       "    .dataframe thead th {\n",
       "        text-align: right;\n",
       "    }\n",
       "</style>\n",
       "<table border=\"1\" class=\"dataframe\">\n",
       "  <thead>\n",
       "    <tr style=\"text-align: right;\">\n",
       "      <th></th>\n",
       "      <th>Size</th>\n",
       "      <th>Sequence</th>\n",
       "      <th>ID</th>\n",
       "      <th>Label</th>\n",
       "    </tr>\n",
       "  </thead>\n",
       "  <tbody>\n",
       "    <tr>\n",
       "      <th>0</th>\n",
       "      <td>94</td>\n",
       "      <td>Dst Port  Protocol  Timestamp  Flow Durati...</td>\n",
       "      <td>1</td>\n",
       "      <td>0</td>\n",
       "    </tr>\n",
       "    <tr>\n",
       "      <th>1</th>\n",
       "      <td>64</td>\n",
       "      <td>Dst Port  Protocol  Timestamp  Flow Durati...</td>\n",
       "      <td>2</td>\n",
       "      <td>9</td>\n",
       "    </tr>\n",
       "    <tr>\n",
       "      <th>2</th>\n",
       "      <td>1</td>\n",
       "      <td>Dst Port  Protocol  Timestamp  Flow Duratio...</td>\n",
       "      <td>3</td>\n",
       "      <td>0</td>\n",
       "    </tr>\n",
       "    <tr>\n",
       "      <th>3</th>\n",
       "      <td>5610</td>\n",
       "      <td>Dst Port  Protocol  Timestamp  Flow Dura...</td>\n",
       "      <td>4</td>\n",
       "      <td>9</td>\n",
       "    </tr>\n",
       "    <tr>\n",
       "      <th>4</th>\n",
       "      <td>1</td>\n",
       "      <td>Dst Port  Protocol  Timestamp  Flow Duratio...</td>\n",
       "      <td>5</td>\n",
       "      <td>0</td>\n",
       "    </tr>\n",
       "  </tbody>\n",
       "</table>\n",
       "</div>"
      ],
      "text/plain": [
       "   Size                                           Sequence  ID  Label\n",
       "0    94      Dst Port  Protocol  Timestamp  Flow Durati...   1      0\n",
       "1    64      Dst Port  Protocol  Timestamp  Flow Durati...   2      9\n",
       "2     1     Dst Port  Protocol  Timestamp  Flow Duratio...   3      0\n",
       "3  5610        Dst Port  Protocol  Timestamp  Flow Dura...   4      9\n",
       "4     1     Dst Port  Protocol  Timestamp  Flow Duratio...   5      0"
      ]
     },
     "execution_count": 61,
     "metadata": {},
     "output_type": "execute_result"
    }
   ],
   "source": [
    "sequences_df.head()"
   ]
  },
  {
   "cell_type": "code",
   "execution_count": 62,
   "metadata": {},
   "outputs": [
    {
     "name": "stdout",
     "output_type": "stream",
     "text": [
      "Análisis estadístico de las secuencias\n",
      "count     15947.000000\n",
      "mean         45.026212\n",
      "std        2050.380944\n",
      "min           1.000000\n",
      "25%           1.000000\n",
      "50%           1.000000\n",
      "75%           3.000000\n",
      "max      237376.000000\n",
      "Name: Size, dtype: float64\n"
     ]
    }
   ],
   "source": [
    "print(\"Análisis estadístico de las secuencias\")\n",
    "print(f\"{sequences_df['Size'].describe()}\")"
   ]
  },
  {
   "cell_type": "markdown",
   "metadata": {},
   "source": [
    "Obtener media y desviación estándar del número de paquetes."
   ]
  },
  {
   "cell_type": "code",
   "execution_count": 23,
   "metadata": {},
   "outputs": [
    {
     "name": "stdout",
     "output_type": "stream",
     "text": [
      "Número promedio de paquetes por secuencia: 45.02621182667586\n",
      "Desviación estándar (muestral): 2050.3809442995553\n"
     ]
    }
   ],
   "source": [
    "# Obtener la media de paquetes por secuencia\n",
    "mean = sequences_df['Size'].mean()\n",
    "\n",
    "# Obtener la desviación estándar muestral (por defecto ddof=1)\n",
    "deviation = sequences_df['Size'].std()\n",
    "\n",
    "print(f\"Número promedio de paquetes por secuencia: {mean}\")\n",
    "print(f\"Desviación estándar (muestral): {deviation}\")"
   ]
  },
  {
   "cell_type": "markdown",
   "metadata": {},
   "source": [
    "Obtener número de secuencias asociadas a cada etiqueta"
   ]
  },
  {
   "cell_type": "code",
   "execution_count": 64,
   "metadata": {},
   "outputs": [
    {
     "data": {
      "text/plain": [
       "Label\n",
       "6     5026\n",
       "8     4668\n",
       "0     3805\n",
       "1     1548\n",
       "5      635\n",
       "3      109\n",
       "2       73\n",
       "10      32\n",
       "7       30\n",
       "9       18\n",
       "4        3\n",
       "Name: count, dtype: int64"
      ]
     },
     "execution_count": 64,
     "metadata": {},
     "output_type": "execute_result"
    }
   ],
   "source": [
    "sequences_df[\"Label\"].value_counts()  # Contar la cantidad de secuencias por etiqueta"
   ]
  },
  {
   "cell_type": "markdown",
   "metadata": {},
   "source": [
    "## Normalizar las secuencias"
   ]
  },
  {
   "cell_type": "code",
   "execution_count": null,
   "metadata": {},
   "outputs": [],
   "source": [
    "# Número de características de cada secuencia\n",
    "num_features = sequences[0].shape[1] - 1\n",
    "# Número de secuencias\n",
    "num_sequences = len(sequences)"
   ]
  },
  {
   "cell_type": "markdown",
   "metadata": {},
   "source": [
    "Establecer tamaño fijo para todas las secuencias y separar en X e y"
   ]
  },
  {
   "cell_type": "code",
   "execution_count": 28,
   "metadata": {},
   "outputs": [],
   "source": [
    "# Media de paquetes por secuencia como longitud fija\n",
    "sequence_length = int(mean)\n",
    "\n",
    "X_fixed = []\n",
    "y_fixed = []\n",
    "\n",
    "for seq in sequences:\n",
    "    data = seq.drop(columns='Label')\n",
    "    label = seq['Label'].iloc[0]\n",
    "\n",
    "    if len(data) < sequence_length:\n",
    "        # Rellenar con ceros\n",
    "        pad_width = sequence_length - len(data)\n",
    "        padded = np.pad(data, ((0, pad_width), (0, 0)), mode='constant')\n",
    "    else:\n",
    "        # Recortar\n",
    "        padded = data.iloc[:sequence_length]\n",
    "\n",
    "    X_fixed.append(padded)\n",
    "    y_fixed.append(label)\n",
    "\n",
    "X = np.array(X_fixed)\n",
    "y = np.array(y_fixed)"
   ]
  },
  {
   "cell_type": "code",
   "execution_count": 42,
   "metadata": {},
   "outputs": [
    {
     "name": "stdout",
     "output_type": "stream",
     "text": [
      "(15947, 45, 79)\n",
      "(15947,)\n"
     ]
    }
   ],
   "source": [
    "print(X.shape)\n",
    "print(y.shape)"
   ]
  },
  {
   "cell_type": "markdown",
   "metadata": {},
   "source": [
    "Escalamiento de características"
   ]
  },
  {
   "cell_type": "code",
   "execution_count": 41,
   "metadata": {},
   "outputs": [],
   "source": [
    "scaler = StandardScaler()\n",
    "X_scaled = scaler.fit_transform(X.reshape(-1, num_features)).reshape(num_sequences, sequence_length, num_features)"
   ]
  },
  {
   "cell_type": "code",
   "execution_count": 55,
   "metadata": {},
   "outputs": [
    {
     "data": {
      "text/plain": [
       "79"
      ]
     },
     "execution_count": 55,
     "metadata": {},
     "output_type": "execute_result"
    }
   ],
   "source": [
    "len(X_scaled[0][0])"
   ]
  },
  {
   "cell_type": "code",
   "execution_count": 54,
   "metadata": {},
   "outputs": [
    {
     "data": {
      "text/plain": [
       "array([-1.97766439e-01, -3.05405244e-01,  5.68190209e+00,  8.12004927e+00,\n",
       "       -4.73690641e-02, -2.50313939e-02, -4.80153164e-02, -2.14519146e-02,\n",
       "       -8.64026885e-02, -4.50510071e-02, -1.21849657e-01, -1.49213584e-01,\n",
       "       -1.26366686e-01, -2.17263470e-02, -1.05943549e-01, -1.24705272e-01,\n",
       "       -1.58717163e-02, -5.66842088e-02,  1.65410922e+01, -8.51779032e-02,\n",
       "        8.04836710e+00,  2.01800762e+01,  8.12388850e+00,  1.08897615e+01,\n",
       "       -1.06614661e-01,  8.05041136e+00,  1.11119149e+01, -9.62176715e-02,\n",
       "       -8.66951591e-02, -8.82799320e-02, -9.11858688e-02, -7.39201631e-02,\n",
       "       -4.84270760e-02,  0.00000000e+00,  0.00000000e+00,  0.00000000e+00,\n",
       "       -4.80447927e-02, -2.54582743e-02, -5.91369030e-02, -5.31152136e-02,\n",
       "       -4.36678477e-02, -1.02340459e-01, -1.58660621e-01, -1.58068186e-01,\n",
       "       -1.15428856e-02, -1.41177517e-02, -4.84270760e-02, -1.69606715e-01,\n",
       "       -2.33054881e-01, -2.07100081e-01, -2.59252925e-02,  0.00000000e+00,\n",
       "       -1.69606715e-01, -1.70877551e-01, -1.58860755e-01, -1.21849657e-01,\n",
       "       -1.05943549e-01,  0.00000000e+00,  0.00000000e+00,  0.00000000e+00,\n",
       "        0.00000000e+00,  0.00000000e+00,  0.00000000e+00, -4.73690641e-02,\n",
       "       -4.80153164e-02, -2.50313939e-02, -2.14519146e-02, -2.05114340e-01,\n",
       "       -4.16275984e-02, -4.78230325e-02, -3.14170239e-01, -6.58527391e-02,\n",
       "       -4.37845827e-02, -6.46061800e-02, -5.90150623e-02,  1.03301328e+01,\n",
       "       -9.43770666e-02,  8.18318185e+00,  1.11603129e+01])"
      ]
     },
     "execution_count": 54,
     "metadata": {},
     "output_type": "execute_result"
    }
   ],
   "source": [
    "X_scaled[0][0]"
   ]
  },
  {
   "cell_type": "code",
   "execution_count": 58,
   "metadata": {},
   "outputs": [
    {
     "data": {
      "text/plain": [
       "array([-0.19776644, -0.30540524, -0.28998415, -0.14015261, -0.04787582,\n",
       "       -0.02503139, -0.04801532, -0.02145191, -0.08640269, -0.04505101,\n",
       "       -0.12184966, -0.14921358, -0.12636669, -0.02172635, -0.10594355,\n",
       "       -0.12470527, -0.01587172, -0.05668464, -0.10808506, -0.08522507,\n",
       "       -0.12741051, -0.07621184, -0.13981388, -0.09463694, -0.1067136 ,\n",
       "       -0.1270681 , -0.07738228, -0.09621767, -0.08669516, -0.08827993,\n",
       "       -0.09118587, -0.07392016, -0.04842708,  0.        ,  0.        ,\n",
       "        0.        , -0.04804479, -0.02545827, -0.05913774, -0.05311521,\n",
       "       -0.04366785, -0.10234046, -0.15866062, -0.15806819, -0.01154289,\n",
       "       -0.01411775, -0.04842708, -0.16960672, -0.23305488, -0.20710008,\n",
       "       -0.02592529,  0.        , -0.16960672, -0.17087755, -0.15886076,\n",
       "       -0.12184966, -0.10594355,  0.        ,  0.        ,  0.        ,\n",
       "        0.        ,  0.        ,  0.        , -0.04787582, -0.04801532,\n",
       "       -0.02503139, -0.02145191, -0.20488827, -0.04115293, -0.04782303,\n",
       "       -0.31417024, -0.06585274, -0.04378458, -0.06460618, -0.05901506,\n",
       "       -0.11056241, -0.09445589, -0.12330024, -0.09057375])"
      ]
     },
     "execution_count": 58,
     "metadata": {},
     "output_type": "execute_result"
    }
   ],
   "source": [
    "X_scaled[-1][-1]"
   ]
  },
  {
   "cell_type": "markdown",
   "metadata": {},
   "source": [
    "## Separar secuencias en entrenamiento y prueba"
   ]
  },
  {
   "cell_type": "code",
   "execution_count": 43,
   "metadata": {},
   "outputs": [],
   "source": [
    "X_train, X_test, y_train, y_test = train_test_split(X_scaled, y, test_size=0.2, random_state=42)"
   ]
  },
  {
   "cell_type": "code",
   "execution_count": 45,
   "metadata": {},
   "outputs": [
    {
     "name": "stdout",
     "output_type": "stream",
     "text": [
      "(12757, 45, 79) (12757,)\n",
      "(3190, 45, 79) (3190,)\n"
     ]
    }
   ],
   "source": [
    "print(X_train.shape, y_train.shape)\n",
    "print(X_test.shape, y_test.shape)"
   ]
  },
  {
   "cell_type": "markdown",
   "metadata": {},
   "source": [
    "Convertir los arrays a tensores"
   ]
  },
  {
   "cell_type": "code",
   "execution_count": 51,
   "metadata": {},
   "outputs": [],
   "source": [
    "# Convertir a tensores\n",
    "X_train_tensor = torch.tensor(X_train, dtype=torch.float32)\n",
    "y_train_tensor = torch.tensor(y_train, dtype=torch.long)\n",
    "X_test_tensor = torch.tensor(X_test, dtype=torch.float32)\n",
    "y_test_tensor = torch.tensor(y_test, dtype=torch.long)"
   ]
  },
  {
   "cell_type": "code",
   "execution_count": 49,
   "metadata": {},
   "outputs": [
    {
     "data": {
      "text/plain": [
       "11"
      ]
     },
     "execution_count": 49,
     "metadata": {},
     "output_type": "execute_result"
    }
   ],
   "source": [
    "num_classes = len(sequences_df['Label'].unique())\n",
    "num_classes"
   ]
  },
  {
   "cell_type": "markdown",
   "metadata": {},
   "source": [
    "## Inicialización del modelo"
   ]
  },
  {
   "cell_type": "code",
   "execution_count": null,
   "metadata": {},
   "outputs": [],
   "source": [
    "# Modelo LSTM\n",
    "class NetFlowLSTM(nn.Module):\n",
    "    def __init__(self, input_dim, hidden_dim, output_dim):\n",
    "        super().__init__()\n",
    "        self.lstm = nn.LSTM(input_dim, hidden_dim, batch_first=True)\n",
    "        self.classifier = nn.Linear(hidden_dim, output_dim)\n",
    "\n",
    "    def forward(self, x):\n",
    "        _, (h_n, _) = self.lstm(x)         # h_n shape: (1, batch, hidden)\n",
    "        return self.classifier(h_n[-1])    # usar último estado oculto\n",
    "\n",
    "model = NetFlowLSTM(input_dim=num_features, hidden_dim=32, output_dim=num_classes)"
   ]
  },
  {
   "cell_type": "markdown",
   "metadata": {},
   "source": [
    "## Entrenamiento"
   ]
  },
  {
   "cell_type": "code",
   "execution_count": null,
   "metadata": {},
   "outputs": [
    {
     "name": "stdout",
     "output_type": "stream",
     "text": [
      "Epoch 01 | Loss: 2.3254 | Test Accuracy: 0.30\n",
      "Epoch 02 | Loss: 2.1652 | Test Accuracy: 0.34\n",
      "Epoch 03 | Loss: 1.9810 | Test Accuracy: 0.34\n",
      "Epoch 04 | Loss: 1.7884 | Test Accuracy: 0.34\n",
      "Epoch 05 | Loss: 1.6593 | Test Accuracy: 0.34\n",
      "Epoch 06 | Loss: 1.5968 | Test Accuracy: 0.34\n",
      "Epoch 07 | Loss: 1.5615 | Test Accuracy: 0.34\n",
      "Epoch 08 | Loss: 1.5334 | Test Accuracy: 0.34\n",
      "Epoch 09 | Loss: 1.5122 | Test Accuracy: 0.34\n",
      "Epoch 10 | Loss: 1.5014 | Test Accuracy: 0.25\n",
      "Epoch 11 | Loss: 1.4967 | Test Accuracy: 0.25\n",
      "Epoch 12 | Loss: 1.4893 | Test Accuracy: 0.25\n",
      "Epoch 13 | Loss: 1.4778 | Test Accuracy: 0.34\n",
      "Epoch 14 | Loss: 1.4659 | Test Accuracy: 0.34\n",
      "Epoch 15 | Loss: 1.4571 | Test Accuracy: 0.34\n",
      "Epoch 16 | Loss: 1.4522 | Test Accuracy: 0.34\n",
      "Epoch 17 | Loss: 1.4499 | Test Accuracy: 0.35\n",
      "Epoch 18 | Loss: 1.4480 | Test Accuracy: 0.35\n",
      "Epoch 19 | Loss: 1.4452 | Test Accuracy: 0.35\n",
      "Epoch 20 | Loss: 1.4417 | Test Accuracy: 0.35\n"
     ]
    }
   ],
   "source": [
    "# Configurar entrenamiento\n",
    "criterion = nn.CrossEntropyLoss()\n",
    "optimizer = torch.optim.Adam(model.parameters(), lr=0.01)\n",
    "epochs = 20\n",
    "\n",
    "# Entrenar\n",
    "for epoch in range(epochs):\n",
    "    model.train()\n",
    "    optimizer.zero_grad()\n",
    "    outputs = model(X_train_tensor)\n",
    "    loss = criterion(outputs, y_train_tensor)\n",
    "    loss.backward()\n",
    "    optimizer.step()\n",
    "\n",
    "    # Evaluar\n",
    "    model.eval()\n",
    "    with torch.no_grad():\n",
    "        test_outputs = model(X_test_tensor)\n",
    "        preds = torch.argmax(test_outputs, dim=1)\n",
    "        acc = (preds == y_test_tensor).float().mean().item()\n",
    "\n",
    "    print(f\"Epoch {epoch+1:02d} | Loss: {loss.item():.4f} | Test Accuracy: {acc:.2f}\")\n"
   ]
  },
  {
   "cell_type": "code",
   "execution_count": null,
   "metadata": {},
   "outputs": [],
   "source": [
    "\"\"\"# Asignar la columna 'ID' dentro de cada DataFrame en train\n",
    "for i, sequence in enumerate(train[\"Sequence\"]):\n",
    "    sequence[\"ID\"] = train.iloc[i][\"ID\"]\n",
    "# Asignar la columna 'ID' dentro de cada DataFrame en train\n",
    "for i, sequence in enumerate(test[\"Sequence\"]):\n",
    "    sequence[\"ID\"] = test.iloc[i][\"ID\"]\n",
    "\n",
    "\n",
    "# Concatenar manteniendo la columna 'ID'\n",
    "train_concatenado = pd.concat(train[\"Sequence\"].tolist(), ignore_index=True)\n",
    "# Concatenar manteniendo la columna 'ID'\n",
    "test_concatenado = pd.concat(test[\"Sequence\"].tolist(), ignore_index=True)\"\"\""
   ]
  },
  {
   "cell_type": "code",
   "execution_count": null,
   "metadata": {},
   "outputs": [],
   "source": [
    "\"\"\"# Dividir los DataFrames en características (X) y etiquetas (y)\n",
    "x_train = train_concatenado.drop(columns=['Label', 'ID'])\n",
    "y_train = train_concatenado[['Label', 'ID']]\n",
    "# Crear la nueva columna basada en el mapeo\n",
    "y_train['Label_Mapped'] = y_train['Label'].map(LABELS)\n",
    "\n",
    "x_test = test_concatenado.drop(columns=['Label', 'ID'])\n",
    "y_test = test_concatenado[['Label', 'ID']]\n",
    "# Crear la nueva columna basada en el mapeo\n",
    "y_test['Label_Mapped'] = y_test['Label'].map(LABELS)\n",
    "\n",
    "print(f\"Dimensiones de x_train: {x_train.shape}\")\n",
    "print(y_train[['Label']].value_counts()) \n",
    "y_train.head() # Muestra los primeros 5 paquetes del dataframe de entrenamiento\"\"\""
   ]
  },
  {
   "cell_type": "code",
   "execution_count": null,
   "metadata": {},
   "outputs": [],
   "source": [
    "# Cambiar etiquetas a su estado original\n",
    "\"\"\"original_labels = le.inverse_transform(sequences[-1]['Label'])\n",
    "print(original_labels)\n",
    "print(len(original_labels))\"\"\""
   ]
  }
 ],
 "metadata": {
  "kernelspec": {
   "display_name": "Python 3",
   "language": "python",
   "name": "python3"
  },
  "language_info": {
   "codemirror_mode": {
    "name": "ipython",
    "version": 3
   },
   "file_extension": ".py",
   "mimetype": "text/x-python",
   "name": "python",
   "nbconvert_exporter": "python",
   "pygments_lexer": "ipython3",
   "version": "3.11.9"
  }
 },
 "nbformat": 4,
 "nbformat_minor": 2
}

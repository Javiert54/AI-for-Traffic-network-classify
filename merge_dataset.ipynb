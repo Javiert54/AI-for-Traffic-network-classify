{
 "cells": [
  {
   "cell_type": "markdown",
   "metadata": {},
   "source": [
    "## Importación de librerías"
   ]
  },
  {
   "cell_type": "code",
   "execution_count": 1,
   "metadata": {},
   "outputs": [],
   "source": [
    "import pandas as pd\n",
    "import os\n",
    "import glob\n",
    "import json"
   ]
  },
  {
   "cell_type": "markdown",
   "metadata": {},
   "source": [
    "## Configuración de variables globales"
   ]
  },
  {
   "cell_type": "code",
   "execution_count": 13,
   "metadata": {},
   "outputs": [],
   "source": [
    "with open('setup.json', 'r') as f:\n",
    "    SETUP_JSON = json.load(f)\n",
    "DATASETS_PATH = SETUP_JSON['datasets_path'] # Path to the datasets,\n",
    "DATASETS_FOLDER = os.path.join(os.getcwd(), DATASETS_PATH) # Folder containing the datasets,\n",
    "DATASETS = glob.glob(os.path.join(DATASETS_FOLDER, '*.csv')) # List of datasets\n",
    "OUTPUT_CSV = SETUP_JSON['output_csv'] # Output CSV file\n",
    "OUTPUT_PARQUET = SETUP_JSON['output_parquet'] # Output CSV file\n",
    "N_ROWS = SETUP_JSON['n_rows']\n",
    "HEADER = SETUP_JSON['header']"
   ]
  },
  {
   "cell_type": "markdown",
   "metadata": {},
   "source": [
    "## Selección de los datasets a combinar"
   ]
  },
  {
   "cell_type": "markdown",
   "metadata": {},
   "source": [
    "Obtener todos los encabezados diferentes"
   ]
  },
  {
   "cell_type": "code",
   "execution_count": 3,
   "metadata": {},
   "outputs": [
    {
     "name": "stdout",
     "output_type": "stream",
     "text": [
      "('Dst Port', 'Protocol', 'Timestamp', 'Flow Duration', 'Tot Fwd Pkts', 'Tot Bwd Pkts', 'TotLen Fwd Pkts', 'TotLen Bwd Pkts', 'Fwd Pkt Len Max', 'Fwd Pkt Len Min', 'Fwd Pkt Len Mean', 'Fwd Pkt Len Std', 'Bwd Pkt Len Max', 'Bwd Pkt Len Min', 'Bwd Pkt Len Mean', 'Bwd Pkt Len Std', 'Flow Byts/s', 'Flow Pkts/s', 'Flow IAT Mean', 'Flow IAT Std', 'Flow IAT Max', 'Flow IAT Min', 'Fwd IAT Tot', 'Fwd IAT Mean', 'Fwd IAT Std', 'Fwd IAT Max', 'Fwd IAT Min', 'Bwd IAT Tot', 'Bwd IAT Mean', 'Bwd IAT Std', 'Bwd IAT Max', 'Bwd IAT Min', 'Fwd PSH Flags', 'Bwd PSH Flags', 'Fwd URG Flags', 'Bwd URG Flags', 'Fwd Header Len', 'Bwd Header Len', 'Fwd Pkts/s', 'Bwd Pkts/s', 'Pkt Len Min', 'Pkt Len Max', 'Pkt Len Mean', 'Pkt Len Std', 'Pkt Len Var', 'FIN Flag Cnt', 'SYN Flag Cnt', 'RST Flag Cnt', 'PSH Flag Cnt', 'ACK Flag Cnt', 'URG Flag Cnt', 'CWE Flag Count', 'ECE Flag Cnt', 'Down/Up Ratio', 'Pkt Size Avg', 'Fwd Seg Size Avg', 'Bwd Seg Size Avg', 'Fwd Byts/b Avg', 'Fwd Pkts/b Avg', 'Fwd Blk Rate Avg', 'Bwd Byts/b Avg', 'Bwd Pkts/b Avg', 'Bwd Blk Rate Avg', 'Subflow Fwd Pkts', 'Subflow Fwd Byts', 'Subflow Bwd Pkts', 'Subflow Bwd Byts', 'Init Fwd Win Byts', 'Init Bwd Win Byts', 'Fwd Act Data Pkts', 'Fwd Seg Size Min', 'Active Mean', 'Active Std', 'Active Max', 'Active Min', 'Idle Mean', 'Idle Std', 'Idle Max', 'Idle Min', 'Label')\n",
      "('Flow ID', 'Src IP', 'Src Port', 'Dst IP', 'Dst Port', 'Protocol', 'Timestamp', 'Flow Duration', 'Tot Fwd Pkts', 'Tot Bwd Pkts', 'TotLen Fwd Pkts', 'TotLen Bwd Pkts', 'Fwd Pkt Len Max', 'Fwd Pkt Len Min', 'Fwd Pkt Len Mean', 'Fwd Pkt Len Std', 'Bwd Pkt Len Max', 'Bwd Pkt Len Min', 'Bwd Pkt Len Mean', 'Bwd Pkt Len Std', 'Flow Byts/s', 'Flow Pkts/s', 'Flow IAT Mean', 'Flow IAT Std', 'Flow IAT Max', 'Flow IAT Min', 'Fwd IAT Tot', 'Fwd IAT Mean', 'Fwd IAT Std', 'Fwd IAT Max', 'Fwd IAT Min', 'Bwd IAT Tot', 'Bwd IAT Mean', 'Bwd IAT Std', 'Bwd IAT Max', 'Bwd IAT Min', 'Fwd PSH Flags', 'Bwd PSH Flags', 'Fwd URG Flags', 'Bwd URG Flags', 'Fwd Header Len', 'Bwd Header Len', 'Fwd Pkts/s', 'Bwd Pkts/s', 'Pkt Len Min', 'Pkt Len Max', 'Pkt Len Mean', 'Pkt Len Std', 'Pkt Len Var', 'FIN Flag Cnt', 'SYN Flag Cnt', 'RST Flag Cnt', 'PSH Flag Cnt', 'ACK Flag Cnt', 'URG Flag Cnt', 'CWE Flag Count', 'ECE Flag Cnt', 'Down/Up Ratio', 'Pkt Size Avg', 'Fwd Seg Size Avg', 'Bwd Seg Size Avg', 'Fwd Byts/b Avg', 'Fwd Pkts/b Avg', 'Fwd Blk Rate Avg', 'Bwd Byts/b Avg', 'Bwd Pkts/b Avg', 'Bwd Blk Rate Avg', 'Subflow Fwd Pkts', 'Subflow Fwd Byts', 'Subflow Bwd Pkts', 'Subflow Bwd Byts', 'Init Fwd Win Byts', 'Init Bwd Win Byts', 'Fwd Act Data Pkts', 'Fwd Seg Size Min', 'Active Mean', 'Active Std', 'Active Max', 'Active Min', 'Idle Mean', 'Idle Std', 'Idle Max', 'Idle Min', 'Label')\n"
     ]
    }
   ],
   "source": [
    "unique_headers = set()\n",
    "for dataset in DATASETS:\n",
    "    df = pd.read_csv(dataset, nrows=1)\n",
    "    df_dtypes = df.dtypes.keys()\n",
    "    unique_headers.add(tuple(df_dtypes))\n",
    "for header in unique_headers:\n",
    "    print(header)"
   ]
  },
  {
   "cell_type": "markdown",
   "metadata": {},
   "source": [
    "Separar los grupos de datasets por encabezados diferentes"
   ]
  },
  {
   "cell_type": "code",
   "execution_count": 4,
   "metadata": {},
   "outputs": [
    {
     "name": "stdout",
     "output_type": "stream",
     "text": [
      "Grupo de datasets:\n",
      "c:\\Users\\isard\\Desktop\\AI-for-Traffic-network-classify\\datasets\\02-14-2018.csv\n",
      "c:\\Users\\isard\\Desktop\\AI-for-Traffic-network-classify\\datasets\\02-15-2018.csv\n",
      "c:\\Users\\isard\\Desktop\\AI-for-Traffic-network-classify\\datasets\\02-16-2018.csv\n",
      "c:\\Users\\isard\\Desktop\\AI-for-Traffic-network-classify\\datasets\\02-21-2018.csv\n",
      "c:\\Users\\isard\\Desktop\\AI-for-Traffic-network-classify\\datasets\\02-22-2018.csv\n",
      "c:\\Users\\isard\\Desktop\\AI-for-Traffic-network-classify\\datasets\\02-23-2018.csv\n",
      "c:\\Users\\isard\\Desktop\\AI-for-Traffic-network-classify\\datasets\\02-28-2018.csv\n",
      "c:\\Users\\isard\\Desktop\\AI-for-Traffic-network-classify\\datasets\\03-01-2018.csv\n",
      "c:\\Users\\isard\\Desktop\\AI-for-Traffic-network-classify\\datasets\\03-02-2018.csv\n",
      "Número de columnas del grupo de datasets: 80\n",
      "\n",
      "Grupo de datasets:\n",
      "c:\\Users\\isard\\Desktop\\AI-for-Traffic-network-classify\\datasets\\02-20-2018.csv\n",
      "Número de columnas del grupo de datasets: 84\n",
      "\n"
     ]
    }
   ],
   "source": [
    "datasets_by_header = {}\n",
    "for header in unique_headers:\n",
    "    datasets_group = []\n",
    "    for dataset in DATASETS:\n",
    "        df = pd.read_csv(dataset, nrows=1)\n",
    "        df_dtypes = df.dtypes.keys()\n",
    "        if tuple(df_dtypes) == header:\n",
    "            datasets_group.append(dataset)\n",
    "    datasets_by_header[header] = datasets_group\n",
    "    print(f\"Grupo de datasets:\")\n",
    "    for dataset in datasets_group:\n",
    "        print(dataset)\n",
    "    print(f\"Número de columnas del grupo de datasets: {len(header)}\")\n",
    "    print()"
   ]
  },
  {
   "cell_type": "markdown",
   "metadata": {},
   "source": [
    "Separar los grupos de datasets por etiquetas diferentes encontradas"
   ]
  },
  {
   "cell_type": "code",
   "execution_count": 9,
   "metadata": {},
   "outputs": [
    {
     "name": "stdout",
     "output_type": "stream",
     "text": [
      "Grupo de datasets:\n",
      "c:\\Users\\isard\\Desktop\\AI-for-Traffic-network-classify\\datasets\\02-14-2018.csv\n",
      "c:\\Users\\isard\\Desktop\\AI-for-Traffic-network-classify\\datasets\\02-15-2018.csv\n",
      "c:\\Users\\isard\\Desktop\\AI-for-Traffic-network-classify\\datasets\\02-16-2018.csv\n",
      "c:\\Users\\isard\\Desktop\\AI-for-Traffic-network-classify\\datasets\\02-21-2018.csv\n",
      "c:\\Users\\isard\\Desktop\\AI-for-Traffic-network-classify\\datasets\\02-22-2018.csv\n",
      "c:\\Users\\isard\\Desktop\\AI-for-Traffic-network-classify\\datasets\\02-23-2018.csv\n",
      "c:\\Users\\isard\\Desktop\\AI-for-Traffic-network-classify\\datasets\\02-28-2018.csv\n",
      "c:\\Users\\isard\\Desktop\\AI-for-Traffic-network-classify\\datasets\\03-01-2018.csv\n",
      "c:\\Users\\isard\\Desktop\\AI-for-Traffic-network-classify\\datasets\\03-02-2018.csv\n",
      "Etiquetas diferentes encontradas:  {'DoS attacks-GoldenEye', 'Brute Force -XSS', 'SQL Injection', 'DoS attacks-SlowHTTPTest', 'SSH-Bruteforce', 'DoS attacks-Slowloris', 'Label', 'DDOS attack-HOIC', 'Bot', 'DDOS attack-LOIC-UDP', 'DoS attacks-Hulk', 'FTP-BruteForce', 'Benign', 'Infilteration', 'Brute Force -Web'}\n",
      "\n",
      "Grupo de datasets:\n",
      "c:\\Users\\isard\\Desktop\\AI-for-Traffic-network-classify\\datasets\\02-20-2018.csv\n",
      "Etiquetas diferentes encontradas:  {'Benign', 'DDoS attacks-LOIC-HTTP'}\n",
      "\n"
     ]
    }
   ],
   "source": [
    "datasets_by_num_labels = {}\n",
    "for datasets_group in datasets_by_header.values():\n",
    "    unique_labels = set()\n",
    "    for dataset in datasets_group:\n",
    "        df = pd.read_csv(dataset, dtype=str)\n",
    "        for label in list(df['Label']):\n",
    "            unique_labels.add(label)\n",
    "    datasets_by_num_labels[tuple(datasets_group)] = len(unique_labels)\n",
    "    print(f\"Grupo de datasets:\")\n",
    "    for dataset in datasets_group:\n",
    "        print(dataset)\n",
    "    print(f\"Etiquetas diferentes encontradas: \", unique_labels)\n",
    "    print()"
   ]
  },
  {
   "cell_type": "markdown",
   "metadata": {},
   "source": [
    "Seleccionar el grupo de datasets que abarca más etiquetas diferentes"
   ]
  },
  {
   "cell_type": "code",
   "execution_count": 10,
   "metadata": {},
   "outputs": [
    {
     "name": "stdout",
     "output_type": "stream",
     "text": [
      "Selección de datasets a procesar:\n",
      "c:\\Users\\isard\\Desktop\\AI-for-Traffic-network-classify\\datasets\\02-14-2018.csv\n",
      "c:\\Users\\isard\\Desktop\\AI-for-Traffic-network-classify\\datasets\\02-15-2018.csv\n",
      "c:\\Users\\isard\\Desktop\\AI-for-Traffic-network-classify\\datasets\\02-16-2018.csv\n",
      "c:\\Users\\isard\\Desktop\\AI-for-Traffic-network-classify\\datasets\\02-21-2018.csv\n",
      "c:\\Users\\isard\\Desktop\\AI-for-Traffic-network-classify\\datasets\\02-22-2018.csv\n",
      "c:\\Users\\isard\\Desktop\\AI-for-Traffic-network-classify\\datasets\\02-23-2018.csv\n",
      "c:\\Users\\isard\\Desktop\\AI-for-Traffic-network-classify\\datasets\\02-28-2018.csv\n",
      "c:\\Users\\isard\\Desktop\\AI-for-Traffic-network-classify\\datasets\\03-01-2018.csv\n",
      "c:\\Users\\isard\\Desktop\\AI-for-Traffic-network-classify\\datasets\\03-02-2018.csv\n"
     ]
    }
   ],
   "source": [
    "for datasets_group, num_labels in datasets_by_num_labels.items():\n",
    "    if (num_labels) == max(datasets_by_num_labels.values()):\n",
    "        datasets_selected = datasets_group\n",
    "print(f\"Selección de datasets a procesar:\")\n",
    "for dataset in datasets_selected:\n",
    "    print(dataset)"
   ]
  },
  {
   "cell_type": "markdown",
   "metadata": {},
   "source": [
    "Exportar encabezado del grupo de datasets en formato JSON"
   ]
  },
  {
   "cell_type": "code",
   "execution_count": 22,
   "metadata": {},
   "outputs": [],
   "source": [
    "# Seleccionar encabezado de los datasets a combinar\n",
    "header = pd.read_csv(datasets_selected[0], nrows=1).dtypes.to_dict()\n",
    "header = {col: str(dtype) for col, dtype in header.items()}\n",
    "header.pop('Label')\n",
    "\n",
    "# Exportar el encabezado\n",
    "with open(HEADER, 'w') as f:\n",
    "    json.dump(header, f, indent=4)"
   ]
  },
  {
   "cell_type": "markdown",
   "metadata": {},
   "source": [
    "## Combinar datasets"
   ]
  },
  {
   "cell_type": "markdown",
   "metadata": {},
   "source": [
    "Unimos todos los datasets seleccionados en un sólo dataframe."
   ]
  },
  {
   "cell_type": "code",
   "execution_count": 17,
   "metadata": {},
   "outputs": [
    {
     "name": "stdout",
     "output_type": "stream",
     "text": [
      "Dataset c:\\Users\\isard\\Desktop\\AI-for-Traffic-network-classify\\datasets\\02-14-2018.csv concatenado\n",
      "Dataset c:\\Users\\isard\\Desktop\\AI-for-Traffic-network-classify\\datasets\\02-15-2018.csv concatenado\n",
      "Dataset c:\\Users\\isard\\Desktop\\AI-for-Traffic-network-classify\\datasets\\02-16-2018.csv concatenado\n",
      "Dataset c:\\Users\\isard\\Desktop\\AI-for-Traffic-network-classify\\datasets\\02-21-2018.csv concatenado\n",
      "Dataset c:\\Users\\isard\\Desktop\\AI-for-Traffic-network-classify\\datasets\\02-22-2018.csv concatenado\n",
      "Dataset c:\\Users\\isard\\Desktop\\AI-for-Traffic-network-classify\\datasets\\02-23-2018.csv concatenado\n",
      "Dataset c:\\Users\\isard\\Desktop\\AI-for-Traffic-network-classify\\datasets\\02-28-2018.csv concatenado\n",
      "Dataset c:\\Users\\isard\\Desktop\\AI-for-Traffic-network-classify\\datasets\\03-01-2018.csv concatenado\n",
      "Dataset c:\\Users\\isard\\Desktop\\AI-for-Traffic-network-classify\\datasets\\03-02-2018.csv concatenado\n"
     ]
    }
   ],
   "source": [
    "df = pd.DataFrame()\n",
    "for dataset in datasets_selected:\n",
    "    current_df = pd.read_csv(dataset, nrows=N_ROWS, dtype=str)\n",
    "    df = pd.concat([df, current_df], ignore_index=True, sort=False)\n",
    "    print(f\"Dataset {dataset} concatenado\")"
   ]
  },
  {
   "cell_type": "code",
   "execution_count": 18,
   "metadata": {},
   "outputs": [
    {
     "data": {
      "text/plain": [
       "(720000, 80)"
      ]
     },
     "execution_count": 18,
     "metadata": {},
     "output_type": "execute_result"
    }
   ],
   "source": [
    "df.shape"
   ]
  },
  {
   "cell_type": "code",
   "execution_count": 19,
   "metadata": {},
   "outputs": [
    {
     "data": {
      "text/plain": [
       "Dst Port         object\n",
       "Protocol         object\n",
       "Timestamp        object\n",
       "Flow Duration    object\n",
       "Tot Fwd Pkts     object\n",
       "                  ...  \n",
       "Idle Mean        object\n",
       "Idle Std         object\n",
       "Idle Max         object\n",
       "Idle Min         object\n",
       "Label            object\n",
       "Length: 80, dtype: object"
      ]
     },
     "execution_count": 19,
     "metadata": {},
     "output_type": "execute_result"
    }
   ],
   "source": [
    "df.dtypes"
   ]
  },
  {
   "cell_type": "markdown",
   "metadata": {},
   "source": [
    "## Exportación del dataframe en formato CSV"
   ]
  },
  {
   "cell_type": "code",
   "execution_count": 20,
   "metadata": {},
   "outputs": [
    {
     "name": "stdout",
     "output_type": "stream",
     "text": [
      "Archivo CSV guardado como merged_output.csv\n"
     ]
    }
   ],
   "source": [
    "df.to_csv(OUTPUT_CSV, index=False)\n",
    "print(f\"Archivo CSV guardado como {OUTPUT_CSV}\")"
   ]
  },
  {
   "cell_type": "code",
   "execution_count": null,
   "metadata": {},
   "outputs": [],
   "source": [
    "\"\"\"def find_datasets_with_same_header():\n",
    "    headers = {}\n",
    "    same_files = {}\n",
    "\n",
    "    for file in DATASETS:\n",
    "        with open(file, newline='', encoding='utf-8') as f:\n",
    "            header = tuple(next(csv.reader(f), None))\n",
    "            if header:\n",
    "                if header in headers:\n",
    "                    headers[header].append(file)\n",
    "                else:\n",
    "                    headers[header] = [file]\n",
    "    print(\"Archivos con headers distintos:\", tuple(headers.values())[1])\n",
    "    return tuple(headers.values())[0]\n",
    "\n",
    "DATASETS = find_datasets_with_same_header()\"\"\""
   ]
  },
  {
   "cell_type": "code",
   "execution_count": null,
   "metadata": {},
   "outputs": [],
   "source": [
    "\"\"\"def mixed_types_columns(df):\n",
    "    \"\"\"\n",
    "    Recorre todas las columnas del DataFrame y devuelve un diccionario\n",
    "    con las columnas que contienen más de un tipo de dato.\n",
    "\n",
    "    Args:\n",
    "        df (pd.DataFrame): El DataFrame a analizar.\n",
    "\n",
    "    Returns:\n",
    "        dict: Un diccionario con nombres de columnas como claves,\n",
    "              y otro diccionario con los tipos de datos y sus cantidades como valores.\n",
    "    \"\"\"\n",
    "    mixed_types_columns = {}\n",
    "\n",
    "    for col in df.columns:\n",
    "        types = {}\n",
    "        for val in df[col]:\n",
    "            typeVal = type(val)\n",
    "            types[typeVal] = types.get(typeVal, 0) + 1\n",
    "\n",
    "        if len(types) > 1:\n",
    "            mixed_types_columns[col] = types\n",
    "\n",
    "    return mixed_types_columns\n",
    "\n",
    "df = pd.read_csv('merged_output.csv')\n",
    "mixed_types_columns = mixed_types_columns(df)\n",
    "for col, types in mixed_types_columns.items():\n",
    "    print(f\"Columna: {col}\")\n",
    "    for typeVal, quantity in types.items():\n",
    "        print(f\"  type: {typeVal.__name__}, Cantidad: {quantity}\")\n",
    "    print()\"\"\""
   ]
  },
  {
   "cell_type": "code",
   "execution_count": null,
   "metadata": {},
   "outputs": [],
   "source": [
    "\"\"\"columns_lengths = []\n",
    "\n",
    "# Obtener número de columnas por dataset\n",
    "for dataset in DATASETS:\n",
    "    columns_length = len(pd.read_csv(dataset, nrows=1).dtypes)\n",
    "    columns_lengths.append(columns_length)\n",
    "\n",
    "# Obtener grupo de características más largo\n",
    "for dataset in DATASETS:\n",
    "    df = pd.read_csv(dataset, nrows=1)\n",
    "    columns_length = len(df.dtypes)\n",
    "    if columns_length == max(columns_lengths):\n",
    "        X_columns = df.dtypes.to_dict()\n",
    "        if 'Label' in X_columns:\n",
    "            X_columns.pop('Label')\n",
    "print(len(X_columns))\n",
    "for column, type in X_columns.items():\n",
    "    print(column, type)\"\"\""
   ]
  }
 ],
 "metadata": {
  "kernelspec": {
   "display_name": "Python 3",
   "language": "python",
   "name": "python3"
  },
  "language_info": {
   "codemirror_mode": {
    "name": "ipython",
    "version": 3
   },
   "file_extension": ".py",
   "mimetype": "text/x-python",
   "name": "python",
   "nbconvert_exporter": "python",
   "pygments_lexer": "ipython3",
   "version": "3.11.9"
  }
 },
 "nbformat": 4,
 "nbformat_minor": 2
}

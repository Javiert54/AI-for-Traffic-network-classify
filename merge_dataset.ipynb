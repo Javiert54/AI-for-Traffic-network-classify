{
 "cells": [
  {
   "cell_type": "markdown",
   "metadata": {},
   "source": [
    "## Importación de librerías"
   ]
  },
  {
   "cell_type": "code",
   "execution_count": 3,
   "metadata": {},
   "outputs": [],
   "source": [
    "import pandas as pd\n",
    "import os\n",
    "import glob\n",
    "import csv\n",
    "import json"
   ]
  },
  {
   "cell_type": "markdown",
   "metadata": {},
   "source": [
    "## Configuración de variables globales"
   ]
  },
  {
   "cell_type": "code",
   "execution_count": 4,
   "metadata": {},
   "outputs": [],
   "source": [
    "with open('setup.json', 'r') as f:\n",
    "    SETUP_JSON = json.load(f)\n",
    "DATASETS_PATH = SETUP_JSON['datasets_path'] # Path to the datasets,\n",
    "DATASETS_FOLDER = os.path.join(os.getcwd(), DATASETS_PATH) # Folder containing the datasets,\n",
    "DATASETS = glob.glob(os.path.join(DATASETS_FOLDER, '*.csv')) # List of datasets\n",
    "OUTPUT_CSV = SETUP_JSON['output_csv'] # Output CSV file\n",
    "OUTPUT_PARQUET = SETUP_JSON['output_parquet'] # Output CSV file"
   ]
  },
  {
   "cell_type": "markdown",
   "metadata": {},
   "source": [
    "## Análisis de los datasets"
   ]
  },
  {
   "cell_type": "code",
   "execution_count": 10,
   "metadata": {},
   "outputs": [],
   "source": [
    "datasets = [f\"{DATASETS_PATH}\\\\02-14-2018.csv\", f\"{DATASETS_PATH}\\\\02-15-2018.csv\", f\"{DATASETS_PATH}\\\\02-16-2018.csv\", f\"{DATASETS_PATH}\\\\02-21-2018.csv\"]"
   ]
  },
  {
   "cell_type": "code",
   "execution_count": 11,
   "metadata": {},
   "outputs": [
    {
     "name": "stdout",
     "output_type": "stream",
     "text": [
      "Todas las columnas únicas: 79\n",
      "Columna: Dst Port, Tipo: int64\n",
      "Columna: Protocol, Tipo: int64\n",
      "Columna: Timestamp, Tipo: object\n",
      "Columna: Flow Duration, Tipo: int64\n",
      "Columna: Tot Fwd Pkts, Tipo: int64\n",
      "Columna: Tot Bwd Pkts, Tipo: int64\n",
      "Columna: TotLen Fwd Pkts, Tipo: int64\n",
      "Columna: TotLen Bwd Pkts, Tipo: int64\n",
      "Columna: Fwd Pkt Len Max, Tipo: int64\n",
      "Columna: Fwd Pkt Len Min, Tipo: int64\n",
      "Columna: Fwd Pkt Len Mean, Tipo: int64\n",
      "Columna: Fwd Pkt Len Std, Tipo: float64\n",
      "Columna: Bwd Pkt Len Max, Tipo: int64\n",
      "Columna: Bwd Pkt Len Min, Tipo: int64\n",
      "Columna: Bwd Pkt Len Mean, Tipo: float64\n",
      "Columna: Bwd Pkt Len Std, Tipo: float64\n",
      "Columna: Flow Byts/s, Tipo: float64\n",
      "Columna: Flow Pkts/s, Tipo: float64\n",
      "Columna: Flow IAT Mean, Tipo: float64\n",
      "Columna: Flow IAT Std, Tipo: float64\n",
      "Columna: Flow IAT Max, Tipo: int64\n",
      "Columna: Flow IAT Min, Tipo: int64\n",
      "Columna: Fwd IAT Tot, Tipo: int64\n",
      "Columna: Fwd IAT Mean, Tipo: float64\n",
      "Columna: Fwd IAT Std, Tipo: float64\n",
      "Columna: Fwd IAT Max, Tipo: int64\n",
      "Columna: Fwd IAT Min, Tipo: int64\n",
      "Columna: Bwd IAT Tot, Tipo: int64\n",
      "Columna: Bwd IAT Mean, Tipo: int64\n",
      "Columna: Bwd IAT Std, Tipo: float64\n",
      "Columna: Bwd IAT Max, Tipo: int64\n",
      "Columna: Bwd IAT Min, Tipo: int64\n",
      "Columna: Fwd PSH Flags, Tipo: int64\n",
      "Columna: Bwd PSH Flags, Tipo: int64\n",
      "Columna: Fwd URG Flags, Tipo: int64\n",
      "Columna: Bwd URG Flags, Tipo: int64\n",
      "Columna: Fwd Header Len, Tipo: int64\n",
      "Columna: Bwd Header Len, Tipo: int64\n",
      "Columna: Fwd Pkts/s, Tipo: float64\n",
      "Columna: Bwd Pkts/s, Tipo: float64\n",
      "Columna: Pkt Len Min, Tipo: int64\n",
      "Columna: Pkt Len Max, Tipo: int64\n",
      "Columna: Pkt Len Mean, Tipo: float64\n",
      "Columna: Pkt Len Std, Tipo: float64\n",
      "Columna: Pkt Len Var, Tipo: float64\n",
      "Columna: FIN Flag Cnt, Tipo: int64\n",
      "Columna: SYN Flag Cnt, Tipo: int64\n",
      "Columna: RST Flag Cnt, Tipo: int64\n",
      "Columna: PSH Flag Cnt, Tipo: int64\n",
      "Columna: ACK Flag Cnt, Tipo: int64\n",
      "Columna: URG Flag Cnt, Tipo: int64\n",
      "Columna: CWE Flag Count, Tipo: int64\n",
      "Columna: ECE Flag Cnt, Tipo: int64\n",
      "Columna: Down/Up Ratio, Tipo: int64\n",
      "Columna: Pkt Size Avg, Tipo: float64\n",
      "Columna: Fwd Seg Size Avg, Tipo: int64\n",
      "Columna: Bwd Seg Size Avg, Tipo: float64\n",
      "Columna: Fwd Byts/b Avg, Tipo: int64\n",
      "Columna: Fwd Pkts/b Avg, Tipo: int64\n",
      "Columna: Fwd Blk Rate Avg, Tipo: int64\n",
      "Columna: Bwd Byts/b Avg, Tipo: int64\n",
      "Columna: Bwd Pkts/b Avg, Tipo: int64\n",
      "Columna: Bwd Blk Rate Avg, Tipo: int64\n",
      "Columna: Subflow Fwd Pkts, Tipo: int64\n",
      "Columna: Subflow Fwd Byts, Tipo: int64\n",
      "Columna: Subflow Bwd Pkts, Tipo: int64\n",
      "Columna: Subflow Bwd Byts, Tipo: int64\n",
      "Columna: Init Fwd Win Byts, Tipo: int64\n",
      "Columna: Init Bwd Win Byts, Tipo: int64\n",
      "Columna: Fwd Act Data Pkts, Tipo: int64\n",
      "Columna: Fwd Seg Size Min, Tipo: int64\n",
      "Columna: Active Mean, Tipo: int64\n",
      "Columna: Active Std, Tipo: int64\n",
      "Columna: Active Max, Tipo: int64\n",
      "Columna: Active Min, Tipo: int64\n",
      "Columna: Idle Mean, Tipo: int64\n",
      "Columna: Idle Std, Tipo: int64\n",
      "Columna: Idle Max, Tipo: int64\n",
      "Columna: Idle Min, Tipo: int64\n"
     ]
    }
   ],
   "source": [
    "# Obtener todas las columnas únicas y sus tipos\n",
    "all_columns_dtypes = {}\n",
    "for dataset in datasets:\n",
    "    df = pd.read_csv(dataset, nrows=1)\n",
    "    df_types = df.dtypes\n",
    "    df_types.pop(df.columns[-1]) # Eliminar la columna de la etiqueta\n",
    "    all_columns_dtypes.update(df_types.to_dict())\n",
    "\n",
    "print(f\"Todas las columnas únicas: {len(all_columns_dtypes)}\")\n",
    "for column in all_columns_dtypes:\n",
    "    print(f\"Columna: {column}, Tipo: {all_columns_dtypes[column]}\")"
   ]
  },
  {
   "cell_type": "markdown",
   "metadata": {},
   "source": [
    "## Combinar datasets"
   ]
  },
  {
   "cell_type": "markdown",
   "metadata": {},
   "source": [
    "Unimos todos los archivos CSV y guardamos el dataset en formato CSV (para analizarlo con Tableau) y en formato Parquet (para su tratamiento con Python)."
   ]
  },
  {
   "cell_type": "code",
   "execution_count": 8,
   "metadata": {},
   "outputs": [],
   "source": [
    "# Añadir columnas faltantes\n",
    "def add_missing_columns(filename, df):\n",
    "    print(f\"Procesando {filename}: {df.shape}\")\n",
    "    for col in all_columns_dtypes.keys():\n",
    "        if col not in df.columns:\n",
    "            df.insert(loc=df.shape[1] - 1, column=col, value=pd.NA)\n",
    "    return df"
   ]
  },
  {
   "cell_type": "code",
   "execution_count": 13,
   "metadata": {},
   "outputs": [
    {
     "name": "stdout",
     "output_type": "stream",
     "text": [
      "Procesando datasets\\02-14-2018.csv: (1048575, 80)\n",
      "Procesando datasets\\02-15-2018.csv: (1048575, 80)\n",
      "Procesando datasets\\02-16-2018.csv: (1048575, 80)\n",
      "Procesando datasets\\02-21-2018.csv: (1048575, 80)\n"
     ]
    }
   ],
   "source": [
    "# Combinar los datasets\n",
    "df = pd.DataFrame()\n",
    "for dataset in datasets:\n",
    "    next_df = add_missing_columns(dataset, pd.read_csv(dataset, dtype=str))\n",
    "    df = pd.concat([df, next_df], ignore_index=True, sort=False)"
   ]
  },
  {
   "cell_type": "code",
   "execution_count": 14,
   "metadata": {},
   "outputs": [
    {
     "data": {
      "text/plain": [
       "(4194300, 80)"
      ]
     },
     "execution_count": 14,
     "metadata": {},
     "output_type": "execute_result"
    }
   ],
   "source": [
    "df.shape"
   ]
  },
  {
   "cell_type": "code",
   "execution_count": 15,
   "metadata": {},
   "outputs": [
    {
     "data": {
      "text/plain": [
       "array([dtype('O')], dtype=object)"
      ]
     },
     "execution_count": 15,
     "metadata": {},
     "output_type": "execute_result"
    }
   ],
   "source": [
    "df.dtypes.unique()"
   ]
  },
  {
   "cell_type": "code",
   "execution_count": 16,
   "metadata": {},
   "outputs": [
    {
     "name": "stdout",
     "output_type": "stream",
     "text": [
      "<class 'pandas.core.frame.DataFrame'>\n",
      "RangeIndex: 4194300 entries, 0 to 4194299\n",
      "Data columns (total 80 columns):\n",
      " #   Column             Dtype \n",
      "---  ------             ----- \n",
      " 0   Dst Port           object\n",
      " 1   Protocol           object\n",
      " 2   Timestamp          object\n",
      " 3   Flow Duration      object\n",
      " 4   Tot Fwd Pkts       object\n",
      " 5   Tot Bwd Pkts       object\n",
      " 6   TotLen Fwd Pkts    object\n",
      " 7   TotLen Bwd Pkts    object\n",
      " 8   Fwd Pkt Len Max    object\n",
      " 9   Fwd Pkt Len Min    object\n",
      " 10  Fwd Pkt Len Mean   object\n",
      " 11  Fwd Pkt Len Std    object\n",
      " 12  Bwd Pkt Len Max    object\n",
      " 13  Bwd Pkt Len Min    object\n",
      " 14  Bwd Pkt Len Mean   object\n",
      " 15  Bwd Pkt Len Std    object\n",
      " 16  Flow Byts/s        object\n",
      " 17  Flow Pkts/s        object\n",
      " 18  Flow IAT Mean      object\n",
      " 19  Flow IAT Std       object\n",
      " 20  Flow IAT Max       object\n",
      " 21  Flow IAT Min       object\n",
      " 22  Fwd IAT Tot        object\n",
      " 23  Fwd IAT Mean       object\n",
      " 24  Fwd IAT Std        object\n",
      " 25  Fwd IAT Max        object\n",
      " 26  Fwd IAT Min        object\n",
      " 27  Bwd IAT Tot        object\n",
      " 28  Bwd IAT Mean       object\n",
      " 29  Bwd IAT Std        object\n",
      " 30  Bwd IAT Max        object\n",
      " 31  Bwd IAT Min        object\n",
      " 32  Fwd PSH Flags      object\n",
      " 33  Bwd PSH Flags      object\n",
      " 34  Fwd URG Flags      object\n",
      " 35  Bwd URG Flags      object\n",
      " 36  Fwd Header Len     object\n",
      " 37  Bwd Header Len     object\n",
      " 38  Fwd Pkts/s         object\n",
      " 39  Bwd Pkts/s         object\n",
      " 40  Pkt Len Min        object\n",
      " 41  Pkt Len Max        object\n",
      " 42  Pkt Len Mean       object\n",
      " 43  Pkt Len Std        object\n",
      " 44  Pkt Len Var        object\n",
      " 45  FIN Flag Cnt       object\n",
      " 46  SYN Flag Cnt       object\n",
      " 47  RST Flag Cnt       object\n",
      " 48  PSH Flag Cnt       object\n",
      " 49  ACK Flag Cnt       object\n",
      " 50  URG Flag Cnt       object\n",
      " 51  CWE Flag Count     object\n",
      " 52  ECE Flag Cnt       object\n",
      " 53  Down/Up Ratio      object\n",
      " 54  Pkt Size Avg       object\n",
      " 55  Fwd Seg Size Avg   object\n",
      " 56  Bwd Seg Size Avg   object\n",
      " 57  Fwd Byts/b Avg     object\n",
      " 58  Fwd Pkts/b Avg     object\n",
      " 59  Fwd Blk Rate Avg   object\n",
      " 60  Bwd Byts/b Avg     object\n",
      " 61  Bwd Pkts/b Avg     object\n",
      " 62  Bwd Blk Rate Avg   object\n",
      " 63  Subflow Fwd Pkts   object\n",
      " 64  Subflow Fwd Byts   object\n",
      " 65  Subflow Bwd Pkts   object\n",
      " 66  Subflow Bwd Byts   object\n",
      " 67  Init Fwd Win Byts  object\n",
      " 68  Init Bwd Win Byts  object\n",
      " 69  Fwd Act Data Pkts  object\n",
      " 70  Fwd Seg Size Min   object\n",
      " 71  Active Mean        object\n",
      " 72  Active Std         object\n",
      " 73  Active Max         object\n",
      " 74  Active Min         object\n",
      " 75  Idle Mean          object\n",
      " 76  Idle Std           object\n",
      " 77  Idle Max           object\n",
      " 78  Idle Min           object\n",
      " 79  Label              object\n",
      "dtypes: object(80)\n",
      "memory usage: 2.5+ GB\n"
     ]
    }
   ],
   "source": [
    "df.info()  # Display DataFrame information"
   ]
  },
  {
   "cell_type": "code",
   "execution_count": 17,
   "metadata": {},
   "outputs": [
    {
     "data": {
      "text/html": [
       "<div>\n",
       "<style scoped>\n",
       "    .dataframe tbody tr th:only-of-type {\n",
       "        vertical-align: middle;\n",
       "    }\n",
       "\n",
       "    .dataframe tbody tr th {\n",
       "        vertical-align: top;\n",
       "    }\n",
       "\n",
       "    .dataframe thead th {\n",
       "        text-align: right;\n",
       "    }\n",
       "</style>\n",
       "<table border=\"1\" class=\"dataframe\">\n",
       "  <thead>\n",
       "    <tr style=\"text-align: right;\">\n",
       "      <th></th>\n",
       "      <th>Dst Port</th>\n",
       "      <th>Protocol</th>\n",
       "      <th>Timestamp</th>\n",
       "      <th>Flow Duration</th>\n",
       "      <th>Tot Fwd Pkts</th>\n",
       "      <th>Tot Bwd Pkts</th>\n",
       "      <th>TotLen Fwd Pkts</th>\n",
       "      <th>TotLen Bwd Pkts</th>\n",
       "      <th>Fwd Pkt Len Max</th>\n",
       "      <th>Fwd Pkt Len Min</th>\n",
       "      <th>...</th>\n",
       "      <th>Fwd Seg Size Min</th>\n",
       "      <th>Active Mean</th>\n",
       "      <th>Active Std</th>\n",
       "      <th>Active Max</th>\n",
       "      <th>Active Min</th>\n",
       "      <th>Idle Mean</th>\n",
       "      <th>Idle Std</th>\n",
       "      <th>Idle Max</th>\n",
       "      <th>Idle Min</th>\n",
       "      <th>Label</th>\n",
       "    </tr>\n",
       "  </thead>\n",
       "  <tbody>\n",
       "    <tr>\n",
       "      <th>0</th>\n",
       "      <td>0</td>\n",
       "      <td>0</td>\n",
       "      <td>14/02/2018 08:31:01</td>\n",
       "      <td>112641719</td>\n",
       "      <td>3</td>\n",
       "      <td>0</td>\n",
       "      <td>0</td>\n",
       "      <td>0</td>\n",
       "      <td>0</td>\n",
       "      <td>0</td>\n",
       "      <td>...</td>\n",
       "      <td>0</td>\n",
       "      <td>0</td>\n",
       "      <td>0</td>\n",
       "      <td>0</td>\n",
       "      <td>0</td>\n",
       "      <td>56320859.5</td>\n",
       "      <td>139.3000358938</td>\n",
       "      <td>56320958</td>\n",
       "      <td>56320761</td>\n",
       "      <td>Benign</td>\n",
       "    </tr>\n",
       "    <tr>\n",
       "      <th>1</th>\n",
       "      <td>0</td>\n",
       "      <td>0</td>\n",
       "      <td>14/02/2018 08:33:50</td>\n",
       "      <td>112641466</td>\n",
       "      <td>3</td>\n",
       "      <td>0</td>\n",
       "      <td>0</td>\n",
       "      <td>0</td>\n",
       "      <td>0</td>\n",
       "      <td>0</td>\n",
       "      <td>...</td>\n",
       "      <td>0</td>\n",
       "      <td>0</td>\n",
       "      <td>0</td>\n",
       "      <td>0</td>\n",
       "      <td>0</td>\n",
       "      <td>56320733</td>\n",
       "      <td>114.5512985522</td>\n",
       "      <td>56320814</td>\n",
       "      <td>56320652</td>\n",
       "      <td>Benign</td>\n",
       "    </tr>\n",
       "    <tr>\n",
       "      <th>2</th>\n",
       "      <td>0</td>\n",
       "      <td>0</td>\n",
       "      <td>14/02/2018 08:36:39</td>\n",
       "      <td>112638623</td>\n",
       "      <td>3</td>\n",
       "      <td>0</td>\n",
       "      <td>0</td>\n",
       "      <td>0</td>\n",
       "      <td>0</td>\n",
       "      <td>0</td>\n",
       "      <td>...</td>\n",
       "      <td>0</td>\n",
       "      <td>0</td>\n",
       "      <td>0</td>\n",
       "      <td>0</td>\n",
       "      <td>0</td>\n",
       "      <td>56319311.5</td>\n",
       "      <td>301.9345955667</td>\n",
       "      <td>56319525</td>\n",
       "      <td>56319098</td>\n",
       "      <td>Benign</td>\n",
       "    </tr>\n",
       "    <tr>\n",
       "      <th>3</th>\n",
       "      <td>22</td>\n",
       "      <td>6</td>\n",
       "      <td>14/02/2018 08:40:13</td>\n",
       "      <td>6453966</td>\n",
       "      <td>15</td>\n",
       "      <td>10</td>\n",
       "      <td>1239</td>\n",
       "      <td>2273</td>\n",
       "      <td>744</td>\n",
       "      <td>0</td>\n",
       "      <td>...</td>\n",
       "      <td>32</td>\n",
       "      <td>0</td>\n",
       "      <td>0</td>\n",
       "      <td>0</td>\n",
       "      <td>0</td>\n",
       "      <td>0</td>\n",
       "      <td>0</td>\n",
       "      <td>0</td>\n",
       "      <td>0</td>\n",
       "      <td>Benign</td>\n",
       "    </tr>\n",
       "    <tr>\n",
       "      <th>4</th>\n",
       "      <td>22</td>\n",
       "      <td>6</td>\n",
       "      <td>14/02/2018 08:40:23</td>\n",
       "      <td>8804066</td>\n",
       "      <td>14</td>\n",
       "      <td>11</td>\n",
       "      <td>1143</td>\n",
       "      <td>2209</td>\n",
       "      <td>744</td>\n",
       "      <td>0</td>\n",
       "      <td>...</td>\n",
       "      <td>32</td>\n",
       "      <td>0</td>\n",
       "      <td>0</td>\n",
       "      <td>0</td>\n",
       "      <td>0</td>\n",
       "      <td>0</td>\n",
       "      <td>0</td>\n",
       "      <td>0</td>\n",
       "      <td>0</td>\n",
       "      <td>Benign</td>\n",
       "    </tr>\n",
       "  </tbody>\n",
       "</table>\n",
       "<p>5 rows × 80 columns</p>\n",
       "</div>"
      ],
      "text/plain": [
       "  Dst Port Protocol            Timestamp Flow Duration Tot Fwd Pkts  \\\n",
       "0        0        0  14/02/2018 08:31:01     112641719            3   \n",
       "1        0        0  14/02/2018 08:33:50     112641466            3   \n",
       "2        0        0  14/02/2018 08:36:39     112638623            3   \n",
       "3       22        6  14/02/2018 08:40:13       6453966           15   \n",
       "4       22        6  14/02/2018 08:40:23       8804066           14   \n",
       "\n",
       "  Tot Bwd Pkts TotLen Fwd Pkts TotLen Bwd Pkts Fwd Pkt Len Max  \\\n",
       "0            0               0               0               0   \n",
       "1            0               0               0               0   \n",
       "2            0               0               0               0   \n",
       "3           10            1239            2273             744   \n",
       "4           11            1143            2209             744   \n",
       "\n",
       "  Fwd Pkt Len Min  ... Fwd Seg Size Min Active Mean Active Std Active Max  \\\n",
       "0               0  ...                0           0          0          0   \n",
       "1               0  ...                0           0          0          0   \n",
       "2               0  ...                0           0          0          0   \n",
       "3               0  ...               32           0          0          0   \n",
       "4               0  ...               32           0          0          0   \n",
       "\n",
       "  Active Min   Idle Mean        Idle Std  Idle Max  Idle Min   Label  \n",
       "0          0  56320859.5  139.3000358938  56320958  56320761  Benign  \n",
       "1          0    56320733  114.5512985522  56320814  56320652  Benign  \n",
       "2          0  56319311.5  301.9345955667  56319525  56319098  Benign  \n",
       "3          0           0               0         0         0  Benign  \n",
       "4          0           0               0         0         0  Benign  \n",
       "\n",
       "[5 rows x 80 columns]"
      ]
     },
     "execution_count": 17,
     "metadata": {},
     "output_type": "execute_result"
    }
   ],
   "source": [
    "df.head()"
   ]
  },
  {
   "cell_type": "markdown",
   "metadata": {},
   "source": [
    "## Exportación de archivos JSON"
   ]
  },
  {
   "cell_type": "code",
   "execution_count": 18,
   "metadata": {},
   "outputs": [],
   "source": [
    "# Convertir los tipos a strings\n",
    "serializable_dtypes = {col: str(dtype) for col, dtype in all_columns_dtypes.items()}\n",
    "\n",
    "# Guardar en JSON\n",
    "with open('dtypes.json', 'w') as f:\n",
    "    json.dump(serializable_dtypes, f, indent=4)"
   ]
  },
  {
   "cell_type": "code",
   "execution_count": 24,
   "metadata": {},
   "outputs": [
    {
     "name": "stdout",
     "output_type": "stream",
     "text": [
      "Benign: 0\n",
      "FTP-BruteForce: 1\n",
      "SSH-Bruteforce: 2\n",
      "DoS attacks-GoldenEye: 3\n",
      "DoS attacks-Slowloris: 4\n",
      "DoS attacks-SlowHTTPTest: 5\n",
      "DoS attacks-Hulk: 6\n",
      "DDOS attack-LOIC-UDP: 8\n",
      "DDOS attack-HOIC: 9\n"
     ]
    }
   ],
   "source": [
    "# Obtener las etiquetas únicas\n",
    "labels = {}\n",
    "for i, label in enumerate(df[df.columns[-1]].unique()):\n",
    "    labels[label] = i\n",
    "labels.pop(df.columns[-1])\n",
    "\n",
    "for label in labels:\n",
    "    print(f\"{label}: {labels[label]}\")\n",
    "\n",
    "# Guardar etiquetas en JSON\n",
    "with open('labels.json', 'w') as f:\n",
    "    json.dump(labels, f, indent=4)"
   ]
  },
  {
   "cell_type": "markdown",
   "metadata": {},
   "source": [
    "## Exportación del dataframe en CSV y Parquet"
   ]
  },
  {
   "cell_type": "code",
   "execution_count": 25,
   "metadata": {},
   "outputs": [
    {
     "name": "stdout",
     "output_type": "stream",
     "text": [
      "Archivo CSV guardado como merged_output.csv\n",
      "Archivo Parquet guardado como merged_output.parquet\n"
     ]
    }
   ],
   "source": [
    "# Guardar en CSV\n",
    "df.to_csv(OUTPUT_CSV, index=False)\n",
    "print(f\"Archivo CSV guardado como {OUTPUT_CSV}\")\n",
    "\n",
    "# Guardar en Parquet\n",
    "df.to_parquet(OUTPUT_PARQUET, index=False)\n",
    "print(f\"Archivo Parquet guardado como {OUTPUT_PARQUET}\")"
   ]
  },
  {
   "cell_type": "code",
   "execution_count": 87,
   "metadata": {},
   "outputs": [],
   "source": [
    "\n",
    "def find_datasets_with_same_header():\n",
    "    headers = {}\n",
    "    same_files = {}\n",
    "\n",
    "    for file in DATASETS:\n",
    "        with open(file, newline='', encoding='utf-8') as f:\n",
    "            header = tuple(next(csv.reader(f), None))\n",
    "            if header:\n",
    "                if header in headers:\n",
    "                    headers[header].append(\"datasets\\\\\"+file)\n",
    "                else:\n",
    "                    headers[header] = [\"datasets\\\\\"+file]\n",
    "    print(\"Archivos con headers distintos:\", tuple(headers.values())[1])\n",
    "    return tuple(headers.values())[0]"
   ]
  },
  {
   "cell_type": "code",
   "execution_count": 88,
   "metadata": {},
   "outputs": [
    {
     "name": "stdout",
     "output_type": "stream",
     "text": [
      "Archivos con headers distintos: ['datasets\\\\c:\\\\Users\\\\isard\\\\Desktop\\\\AI-for-Traffic-network-classify\\\\datasets\\\\02-20-2018.csv']\n",
      "Archivos con el mismo encabezado: ['datasets\\\\c:\\\\Users\\\\isard\\\\Desktop\\\\AI-for-Traffic-network-classify\\\\datasets\\\\02-14-2018.csv', 'datasets\\\\c:\\\\Users\\\\isard\\\\Desktop\\\\AI-for-Traffic-network-classify\\\\datasets\\\\02-15-2018.csv', 'datasets\\\\c:\\\\Users\\\\isard\\\\Desktop\\\\AI-for-Traffic-network-classify\\\\datasets\\\\02-16-2018.csv', 'datasets\\\\c:\\\\Users\\\\isard\\\\Desktop\\\\AI-for-Traffic-network-classify\\\\datasets\\\\02-21-2018.csv', 'datasets\\\\c:\\\\Users\\\\isard\\\\Desktop\\\\AI-for-Traffic-network-classify\\\\datasets\\\\02-22-2018.csv', 'datasets\\\\c:\\\\Users\\\\isard\\\\Desktop\\\\AI-for-Traffic-network-classify\\\\datasets\\\\02-23-2018.csv', 'datasets\\\\c:\\\\Users\\\\isard\\\\Desktop\\\\AI-for-Traffic-network-classify\\\\datasets\\\\02-28-2018.csv', 'datasets\\\\c:\\\\Users\\\\isard\\\\Desktop\\\\AI-for-Traffic-network-classify\\\\datasets\\\\03-01-2018.csv', 'datasets\\\\c:\\\\Users\\\\isard\\\\Desktop\\\\AI-for-Traffic-network-classify\\\\datasets\\\\03-02-2018.csv']\n"
     ]
    }
   ],
   "source": [
    "csv_files = find_datasets_with_same_header()\n",
    "print(\"Archivos con el mismo encabezado:\", csv_files)"
   ]
  }
 ],
 "metadata": {
  "kernelspec": {
   "display_name": "Python 3",
   "language": "python",
   "name": "python3"
  },
  "language_info": {
   "codemirror_mode": {
    "name": "ipython",
    "version": 3
   },
   "file_extension": ".py",
   "mimetype": "text/x-python",
   "name": "python",
   "nbconvert_exporter": "python",
   "pygments_lexer": "ipython3",
   "version": "3.11.9"
  }
 },
 "nbformat": 4,
 "nbformat_minor": 2
}

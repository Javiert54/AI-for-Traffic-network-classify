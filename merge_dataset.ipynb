{
 "cells": [
  {
   "cell_type": "markdown",
   "metadata": {},
   "source": [
    "## Importación de librerías"
   ]
  },
  {
   "cell_type": "code",
   "execution_count": 2,
   "metadata": {},
   "outputs": [],
   "source": [
    "import pandas as pd\n",
    "import os\n",
    "import glob\n",
    "import csv\n",
    "import json"
   ]
  },
  {
   "cell_type": "markdown",
   "metadata": {},
   "source": [
    "## Configuración de variables globales"
   ]
  },
  {
   "cell_type": "code",
   "execution_count": 3,
   "metadata": {},
   "outputs": [],
   "source": [
    "with open('setup.json', 'r') as f:\n",
    "    SETUP_JSON = json.load(f)\n",
    "DATASETS_PATH = SETUP_JSON['datasets_path'] # Path to the datasets,\n",
    "DATASETS_FOLDER = os.path.join(os.getcwd(), DATASETS_PATH) # Folder containing the datasets,\n",
    "DATASETS = glob.glob(os.path.join(DATASETS_FOLDER, '*.csv')) # List of datasets\n",
    "OUTPUT_CSV = SETUP_JSON['output_csv'] # Output CSV file\n",
    "OUTPUT_PARQUET = SETUP_JSON['output_parquet'] # Output CSV file"
   ]
  },
  {
   "cell_type": "markdown",
   "metadata": {},
   "source": [
    "## Obtener todas las características diferentes"
   ]
  },
  {
   "cell_type": "code",
   "execution_count": 4,
   "metadata": {},
   "outputs": [],
   "source": [
    "datasets = [f\"{DATASETS_PATH}\\\\02-14-2018.csv\", f\"{DATASETS_PATH}\\\\02-15-2018.csv\", f\"{DATASETS_PATH}\\\\02-16-2018.csv\", f\"{DATASETS_PATH}\\\\02-21-2018.csv\"]"
   ]
  },
  {
   "cell_type": "code",
   "execution_count": null,
   "metadata": {},
   "outputs": [],
   "source": [
    "unique_headers = set()\n",
    "for dataset in DATASETS:\n",
    "    df = pd.read_csv(dataset, nrows=1)\n",
    "    df_dtypes = df.dtypes.keys()\n",
    "    unique_headers.add(tuple(df_dtypes))\n",
    "for header in unique_headers:\n",
    "    print(header)"
   ]
  },
  {
   "cell_type": "code",
   "execution_count": null,
   "metadata": {},
   "outputs": [],
   "source": [
    "headers = {}\n",
    "for header in unique_headers:\n",
    "    datasets = []\n",
    "    for dataset in DATASETS:\n",
    "        df = pd.read_csv(dataset, nrows=1)\n",
    "        df_dtypes = df.dtypes.keys()\n",
    "        if tuple(df_dtypes) == header:\n",
    "            datasets.append(dataset)\n",
    "    headers[header] = datasets\n",
    "print(headers)"
   ]
  },
  {
   "cell_type": "code",
   "execution_count": 5,
   "metadata": {},
   "outputs": [
    {
     "name": "stdout",
     "output_type": "stream",
     "text": [
      "Archivos con headers distintos: ['c:\\\\Users\\\\isard\\\\Desktop\\\\AI-for-Traffic-network-classify\\\\datasets\\\\02-20-2018.csv']\n"
     ]
    }
   ],
   "source": [
    "def find_datasets_with_same_header():\n",
    "    headers = {}\n",
    "    same_files = {}\n",
    "\n",
    "    for file in DATASETS:\n",
    "        with open(file, newline='', encoding='utf-8') as f:\n",
    "            header = tuple(next(csv.reader(f), None))\n",
    "            if header:\n",
    "                if header in headers:\n",
    "                    headers[header].append(file)\n",
    "                else:\n",
    "                    headers[header] = [file]\n",
    "    print(\"Archivos con headers distintos:\", tuple(headers.values())[1])\n",
    "    return tuple(headers.values())[0]\n",
    "\n",
    "DATASETS = find_datasets_with_same_header()"
   ]
  },
  {
   "cell_type": "code",
   "execution_count": 3,
   "metadata": {},
   "outputs": [
    {
     "name": "stderr",
     "output_type": "stream",
     "text": [
      "C:\\Users\\isard\\AppData\\Local\\Temp\\ipykernel_7852\\2565666871.py:26: DtypeWarning: Columns (0,1,3,4,5,6,7,8,9,10,11,12,13,14,15,16,17,18,19,20,21,22,23,24,25,26,27,28,29,30,31,32,33,34,35,36,37,38,39,40,41,42,43,44,45,46,47,48,49,50,51,52,53,54,55,56,57,58,59,60,61,62,63,64,65,66,67,68,69,70,71,72,73,74,75,76,77,78) have mixed types. Specify dtype option on import or set low_memory=False.\n",
      "  df = pd.read_csv('merged_output.csv')\n"
     ]
    },
    {
     "ename": "UnboundLocalError",
     "evalue": "cannot access local variable 'type' where it is not associated with a value",
     "output_type": "error",
     "traceback": [
      "\u001b[31m---------------------------------------------------------------------------\u001b[39m",
      "\u001b[31mUnboundLocalError\u001b[39m                         Traceback (most recent call last)",
      "\u001b[36mCell\u001b[39m\u001b[36m \u001b[39m\u001b[32mIn[3]\u001b[39m\u001b[32m, line 27\u001b[39m\n\u001b[32m     24\u001b[39m     \u001b[38;5;28;01mreturn\u001b[39;00m mixed_types_columns\n\u001b[32m     26\u001b[39m df = pd.read_csv(\u001b[33m'\u001b[39m\u001b[33mmerged_output.csv\u001b[39m\u001b[33m'\u001b[39m)\n\u001b[32m---> \u001b[39m\u001b[32m27\u001b[39m mixed_types_columns = \u001b[43mmixed_types_columns\u001b[49m\u001b[43m(\u001b[49m\u001b[43mdf\u001b[49m\u001b[43m)\u001b[49m\n\u001b[32m     28\u001b[39m \u001b[38;5;28;01mfor\u001b[39;00m col, types \u001b[38;5;129;01min\u001b[39;00m mixed_types_columns.items():\n\u001b[32m     29\u001b[39m     \u001b[38;5;28mprint\u001b[39m(\u001b[33mf\u001b[39m\u001b[33m\"\u001b[39m\u001b[33mColumna: \u001b[39m\u001b[38;5;132;01m{\u001b[39;00mcol\u001b[38;5;132;01m}\u001b[39;00m\u001b[33m\"\u001b[39m)\n",
      "\u001b[36mCell\u001b[39m\u001b[36m \u001b[39m\u001b[32mIn[3]\u001b[39m\u001b[32m, line 18\u001b[39m, in \u001b[36mmixed_types_columns\u001b[39m\u001b[34m(df)\u001b[39m\n\u001b[32m     16\u001b[39m types = {}\n\u001b[32m     17\u001b[39m \u001b[38;5;28;01mfor\u001b[39;00m val \u001b[38;5;129;01min\u001b[39;00m df[col]:\n\u001b[32m---> \u001b[39m\u001b[32m18\u001b[39m     \u001b[38;5;28mtype\u001b[39m = \u001b[38;5;28;43mtype\u001b[39;49m(val)\n\u001b[32m     19\u001b[39m     types[\u001b[38;5;28mtype\u001b[39m] = types.get(\u001b[38;5;28mtype\u001b[39m, \u001b[32m0\u001b[39m) + \u001b[32m1\u001b[39m\n\u001b[32m     21\u001b[39m \u001b[38;5;28;01mif\u001b[39;00m \u001b[38;5;28mlen\u001b[39m(types) > \u001b[32m1\u001b[39m:\n",
      "\u001b[31mUnboundLocalError\u001b[39m: cannot access local variable 'type' where it is not associated with a value"
     ]
    }
   ],
   "source": [
    "def mixed_types_columns(df):\n",
    "    \"\"\"\n",
    "    Recorre todas las columnas del DataFrame y devuelve un diccionario\n",
    "    con las columnas que contienen más de un tipo de dato.\n",
    "\n",
    "    Args:\n",
    "        df (pd.DataFrame): El DataFrame a analizar.\n",
    "\n",
    "    Returns:\n",
    "        dict: Un diccionario con nombres de columnas como claves,\n",
    "              y otro diccionario con los tipos de datos y sus cantidades como valores.\n",
    "    \"\"\"\n",
    "    mixed_types_columns = {}\n",
    "\n",
    "    for col in df.columns:\n",
    "        types = {}\n",
    "        for val in df[col]:\n",
    "            type = type(val)\n",
    "            types[type] = types.get(type, 0) + 1\n",
    "\n",
    "        if len(types) > 1:\n",
    "            mixed_types_columns[col] = types\n",
    "\n",
    "    return mixed_types_columns\n",
    "\n",
    "df = pd.read_csv('merged_output.csv')\n",
    "mixed_types_columns = mixed_types_columns(df)\n",
    "for col, types in mixed_types_columns.items():\n",
    "    print(f\"Columna: {col}\")\n",
    "    for type, quantity in types.items():\n",
    "        print(f\"  type: {type.__name__}, Cantidad: {quantity}\")\n",
    "    print()"
   ]
  },
  {
   "cell_type": "code",
   "execution_count": null,
   "metadata": {},
   "outputs": [],
   "source": [
    "def comparar_tipos_en_columnas(datasets):\n",
    "    \"\"\"\n",
    "    Compara los tipos de datos presentes en columnas comunes entre varios datasets.\n",
    "\n",
    "    Args:\n",
    "        datasets (list): Lista de rutas a archivos CSV o DataFrames.\n",
    "\n",
    "    Returns:\n",
    "        dict: Un diccionario con nombres de columnas como claves.\n",
    "              Cada valor es una lista con un resumen de los tipos múltiples detectados por dataset.\n",
    "    \"\"\"\n",
    "    columnas_con_tipos_multiples = {}\n",
    "\n",
    "    for i, ds in enumerate(datasets):\n",
    "        # Cargar dataset si es ruta, o usar directamente si es DataFrame\n",
    "        df = pd.read_csv(ds) if isinstance(ds, str) else ds\n",
    "\n",
    "        for columna in df.columns:\n",
    "            tipos = {}\n",
    "            for val in df[columna]:\n",
    "                tipo = type(val)\n",
    "                tipos[tipo] = tipos.get(tipo, 0) + 1\n",
    "\n",
    "            if len(tipos) > 1:\n",
    "                if columna not in columnas_con_tipos_multiples:\n",
    "                    columnas_con_tipos_multiples[columna] = []\n",
    "                columnas_con_tipos_multiples[columna].append({\n",
    "                    'dataset_index': i,\n",
    "                    'tipos': {t.__name__: c for t, c in tipos.items()}\n",
    "                })\n",
    "\n",
    "    return columnas_con_tipos_multiples\n",
    "\n",
    "columnas_multiples = comparar_tipos_en_columnas(DATASETS)\n",
    "for columna, problemas in columnas_multiples.items():\n",
    "    print(f\"Columna: {columna}\")\n",
    "    for problema in problemas:\n",
    "        print(f\"  Dataset #{problema['dataset_index']}:\")\n",
    "        for tipo, cantidad in problema['tipos'].items():\n",
    "            print(f\"    Tipo: {tipo}, Cantidad: {cantidad}\")\n",
    "    print()\n"
   ]
  },
  {
   "cell_type": "code",
   "execution_count": 82,
   "metadata": {},
   "outputs": [
    {
     "name": "stdout",
     "output_type": "stream",
     "text": [
      "79\n",
      "Dst Port int64\n",
      "Protocol int64\n",
      "Timestamp object\n",
      "Flow Duration int64\n",
      "Tot Fwd Pkts int64\n",
      "Tot Bwd Pkts int64\n",
      "TotLen Fwd Pkts int64\n",
      "TotLen Bwd Pkts int64\n",
      "Fwd Pkt Len Max int64\n",
      "Fwd Pkt Len Min int64\n",
      "Fwd Pkt Len Mean float64\n",
      "Fwd Pkt Len Std float64\n",
      "Bwd Pkt Len Max int64\n",
      "Bwd Pkt Len Min int64\n",
      "Bwd Pkt Len Mean int64\n",
      "Bwd Pkt Len Std float64\n",
      "Flow Byts/s float64\n",
      "Flow Pkts/s float64\n",
      "Flow IAT Mean float64\n",
      "Flow IAT Std float64\n",
      "Flow IAT Max int64\n",
      "Flow IAT Min int64\n",
      "Fwd IAT Tot int64\n",
      "Fwd IAT Mean float64\n",
      "Fwd IAT Std float64\n",
      "Fwd IAT Max int64\n",
      "Fwd IAT Min int64\n",
      "Bwd IAT Tot int64\n",
      "Bwd IAT Mean float64\n",
      "Bwd IAT Std float64\n",
      "Bwd IAT Max int64\n",
      "Bwd IAT Min int64\n",
      "Fwd PSH Flags int64\n",
      "Bwd PSH Flags int64\n",
      "Fwd URG Flags int64\n",
      "Bwd URG Flags int64\n",
      "Fwd Header Len int64\n",
      "Bwd Header Len int64\n",
      "Fwd Pkts/s float64\n",
      "Bwd Pkts/s float64\n",
      "Pkt Len Min int64\n",
      "Pkt Len Max int64\n",
      "Pkt Len Mean float64\n",
      "Pkt Len Std float64\n",
      "Pkt Len Var float64\n",
      "FIN Flag Cnt int64\n",
      "SYN Flag Cnt int64\n",
      "RST Flag Cnt int64\n",
      "PSH Flag Cnt int64\n",
      "ACK Flag Cnt int64\n",
      "URG Flag Cnt int64\n",
      "CWE Flag Count int64\n",
      "ECE Flag Cnt int64\n",
      "Down/Up Ratio int64\n",
      "Pkt Size Avg float64\n",
      "Fwd Seg Size Avg float64\n",
      "Bwd Seg Size Avg int64\n",
      "Fwd Byts/b Avg int64\n",
      "Fwd Pkts/b Avg int64\n",
      "Fwd Blk Rate Avg int64\n",
      "Bwd Byts/b Avg int64\n",
      "Bwd Pkts/b Avg int64\n",
      "Bwd Blk Rate Avg int64\n",
      "Subflow Fwd Pkts int64\n",
      "Subflow Fwd Byts int64\n",
      "Subflow Bwd Pkts int64\n",
      "Subflow Bwd Byts int64\n",
      "Init Fwd Win Byts int64\n",
      "Init Bwd Win Byts int64\n",
      "Fwd Act Data Pkts int64\n",
      "Fwd Seg Size Min int64\n",
      "Active Mean int64\n",
      "Active Std int64\n",
      "Active Max int64\n",
      "Active Min int64\n",
      "Idle Mean int64\n",
      "Idle Std int64\n",
      "Idle Max int64\n",
      "Idle Min int64\n"
     ]
    }
   ],
   "source": [
    "columns_lengths = []\n",
    "\n",
    "# Obtener número de columnas por dataset\n",
    "for dataset in DATASETS:\n",
    "    columns_length = len(pd.read_csv(dataset, nrows=1).dtypes)\n",
    "    columns_lengths.append(columns_length)\n",
    "\n",
    "# Obtener grupo de características más largo\n",
    "for dataset in DATASETS:\n",
    "    df = pd.read_csv(dataset, nrows=1)\n",
    "    columns_length = len(df.dtypes)\n",
    "    if (columns_length == max(columns_lengths)):\n",
    "        X_columns = df.dtypes.to_dict()\n",
    "        X_columns.pop('Label')\n",
    "print(len(X_columns))\n",
    "for column, type in X_columns.items():\n",
    "    print(column, type)"
   ]
  },
  {
   "cell_type": "markdown",
   "metadata": {},
   "source": [
    "## Combinar datasets"
   ]
  },
  {
   "cell_type": "markdown",
   "metadata": {},
   "source": [
    "Unimos todos los archivos CSV en un sólo dataframe y lo guardamos en formato CSV (para analizarlo con Tableau) y en formato Parquet (para su tratamiento con Python)."
   ]
  },
  {
   "cell_type": "code",
   "execution_count": 83,
   "metadata": {},
   "outputs": [
    {
     "name": "stdout",
     "output_type": "stream",
     "text": [
      "Dataset c:\\Users\\isard\\Desktop\\AI-for-Traffic-network-classify\\datasets\\02-14-2018.csv procesado: (10000, 80))\n",
      "Dataset c:\\Users\\isard\\Desktop\\AI-for-Traffic-network-classify\\datasets\\02-15-2018.csv procesado: (10000, 80))\n",
      "Dataset c:\\Users\\isard\\Desktop\\AI-for-Traffic-network-classify\\datasets\\02-16-2018.csv procesado: (10000, 80))\n",
      "Dataset c:\\Users\\isard\\Desktop\\AI-for-Traffic-network-classify\\datasets\\02-21-2018.csv procesado: (10000, 80))\n",
      "Dataset c:\\Users\\isard\\Desktop\\AI-for-Traffic-network-classify\\datasets\\02-22-2018.csv procesado: (10000, 80))\n",
      "Dataset c:\\Users\\isard\\Desktop\\AI-for-Traffic-network-classify\\datasets\\02-23-2018.csv procesado: (10000, 80))\n",
      "Dataset c:\\Users\\isard\\Desktop\\AI-for-Traffic-network-classify\\datasets\\02-28-2018.csv procesado: (10000, 80))\n",
      "Dataset c:\\Users\\isard\\Desktop\\AI-for-Traffic-network-classify\\datasets\\03-01-2018.csv procesado: (10000, 80))\n",
      "Dataset c:\\Users\\isard\\Desktop\\AI-for-Traffic-network-classify\\datasets\\03-02-2018.csv procesado: (10000, 80))\n"
     ]
    }
   ],
   "source": [
    "df = pd.DataFrame()\n",
    "for dataset in DATASETS:\n",
    "    # Obtener las 10000 primeras filas del dataset\n",
    "    current_df = pd.read_csv(dataset, nrows=10000, dtype=str) # Leer en formato string\n",
    "    # Añadir columnas faltantes\n",
    "    for column in X_columns.keys():\n",
    "        if column not in current_df.columns:\n",
    "            current_df[column] = 0 # Rellenar columnas con ceros\n",
    "    print(f\"Dataset {dataset} procesado: {current_df.shape})\")\n",
    "    # Concatenar dataframe actual con el dataframe final\n",
    "    df = pd.concat([df, current_df], ignore_index=True, sort=False)"
   ]
  },
  {
   "cell_type": "markdown",
   "metadata": {},
   "source": [
    "## Exportación de archivos JSON"
   ]
  },
  {
   "cell_type": "markdown",
   "metadata": {},
   "source": [
    "Exportar todas las columnas y sus tipos "
   ]
  },
  {
   "cell_type": "code",
   "execution_count": null,
   "metadata": {},
   "outputs": [],
   "source": [
    "\"\"\"X_columns = {col: str(dtype) for col, dtype in X_columns.items()}\n",
    "\n",
    "# Guardar en JSON\n",
    "with open('X_columns.json', 'w') as f:\n",
    "    json.dump(X_columns, f, indent=4)\"\"\""
   ]
  },
  {
   "cell_type": "code",
   "execution_count": 85,
   "metadata": {},
   "outputs": [
    {
     "data": {
      "text/html": [
       "<div>\n",
       "<style scoped>\n",
       "    .dataframe tbody tr th:only-of-type {\n",
       "        vertical-align: middle;\n",
       "    }\n",
       "\n",
       "    .dataframe tbody tr th {\n",
       "        vertical-align: top;\n",
       "    }\n",
       "\n",
       "    .dataframe thead th {\n",
       "        text-align: right;\n",
       "    }\n",
       "</style>\n",
       "<table border=\"1\" class=\"dataframe\">\n",
       "  <thead>\n",
       "    <tr style=\"text-align: right;\">\n",
       "      <th></th>\n",
       "      <th>Dst Port</th>\n",
       "      <th>Protocol</th>\n",
       "      <th>Timestamp</th>\n",
       "      <th>Flow Duration</th>\n",
       "      <th>Tot Fwd Pkts</th>\n",
       "      <th>Tot Bwd Pkts</th>\n",
       "      <th>TotLen Fwd Pkts</th>\n",
       "      <th>TotLen Bwd Pkts</th>\n",
       "      <th>Fwd Pkt Len Max</th>\n",
       "      <th>Fwd Pkt Len Min</th>\n",
       "      <th>...</th>\n",
       "      <th>Fwd Seg Size Min</th>\n",
       "      <th>Active Mean</th>\n",
       "      <th>Active Std</th>\n",
       "      <th>Active Max</th>\n",
       "      <th>Active Min</th>\n",
       "      <th>Idle Mean</th>\n",
       "      <th>Idle Std</th>\n",
       "      <th>Idle Max</th>\n",
       "      <th>Idle Min</th>\n",
       "      <th>Label</th>\n",
       "    </tr>\n",
       "  </thead>\n",
       "  <tbody>\n",
       "    <tr>\n",
       "      <th>0</th>\n",
       "      <td>0</td>\n",
       "      <td>0</td>\n",
       "      <td>14/02/2018 08:31:01</td>\n",
       "      <td>112641719</td>\n",
       "      <td>3</td>\n",
       "      <td>0</td>\n",
       "      <td>0</td>\n",
       "      <td>0</td>\n",
       "      <td>0</td>\n",
       "      <td>0</td>\n",
       "      <td>...</td>\n",
       "      <td>0</td>\n",
       "      <td>0</td>\n",
       "      <td>0</td>\n",
       "      <td>0</td>\n",
       "      <td>0</td>\n",
       "      <td>56320859.5</td>\n",
       "      <td>139.3000358938</td>\n",
       "      <td>56320958</td>\n",
       "      <td>56320761</td>\n",
       "      <td>Benign</td>\n",
       "    </tr>\n",
       "    <tr>\n",
       "      <th>1</th>\n",
       "      <td>0</td>\n",
       "      <td>0</td>\n",
       "      <td>14/02/2018 08:33:50</td>\n",
       "      <td>112641466</td>\n",
       "      <td>3</td>\n",
       "      <td>0</td>\n",
       "      <td>0</td>\n",
       "      <td>0</td>\n",
       "      <td>0</td>\n",
       "      <td>0</td>\n",
       "      <td>...</td>\n",
       "      <td>0</td>\n",
       "      <td>0</td>\n",
       "      <td>0</td>\n",
       "      <td>0</td>\n",
       "      <td>0</td>\n",
       "      <td>56320733</td>\n",
       "      <td>114.5512985522</td>\n",
       "      <td>56320814</td>\n",
       "      <td>56320652</td>\n",
       "      <td>Benign</td>\n",
       "    </tr>\n",
       "    <tr>\n",
       "      <th>2</th>\n",
       "      <td>0</td>\n",
       "      <td>0</td>\n",
       "      <td>14/02/2018 08:36:39</td>\n",
       "      <td>112638623</td>\n",
       "      <td>3</td>\n",
       "      <td>0</td>\n",
       "      <td>0</td>\n",
       "      <td>0</td>\n",
       "      <td>0</td>\n",
       "      <td>0</td>\n",
       "      <td>...</td>\n",
       "      <td>0</td>\n",
       "      <td>0</td>\n",
       "      <td>0</td>\n",
       "      <td>0</td>\n",
       "      <td>0</td>\n",
       "      <td>56319311.5</td>\n",
       "      <td>301.9345955667</td>\n",
       "      <td>56319525</td>\n",
       "      <td>56319098</td>\n",
       "      <td>Benign</td>\n",
       "    </tr>\n",
       "    <tr>\n",
       "      <th>3</th>\n",
       "      <td>22</td>\n",
       "      <td>6</td>\n",
       "      <td>14/02/2018 08:40:13</td>\n",
       "      <td>6453966</td>\n",
       "      <td>15</td>\n",
       "      <td>10</td>\n",
       "      <td>1239</td>\n",
       "      <td>2273</td>\n",
       "      <td>744</td>\n",
       "      <td>0</td>\n",
       "      <td>...</td>\n",
       "      <td>32</td>\n",
       "      <td>0</td>\n",
       "      <td>0</td>\n",
       "      <td>0</td>\n",
       "      <td>0</td>\n",
       "      <td>0</td>\n",
       "      <td>0</td>\n",
       "      <td>0</td>\n",
       "      <td>0</td>\n",
       "      <td>Benign</td>\n",
       "    </tr>\n",
       "    <tr>\n",
       "      <th>4</th>\n",
       "      <td>22</td>\n",
       "      <td>6</td>\n",
       "      <td>14/02/2018 08:40:23</td>\n",
       "      <td>8804066</td>\n",
       "      <td>14</td>\n",
       "      <td>11</td>\n",
       "      <td>1143</td>\n",
       "      <td>2209</td>\n",
       "      <td>744</td>\n",
       "      <td>0</td>\n",
       "      <td>...</td>\n",
       "      <td>32</td>\n",
       "      <td>0</td>\n",
       "      <td>0</td>\n",
       "      <td>0</td>\n",
       "      <td>0</td>\n",
       "      <td>0</td>\n",
       "      <td>0</td>\n",
       "      <td>0</td>\n",
       "      <td>0</td>\n",
       "      <td>Benign</td>\n",
       "    </tr>\n",
       "  </tbody>\n",
       "</table>\n",
       "<p>5 rows × 80 columns</p>\n",
       "</div>"
      ],
      "text/plain": [
       "  Dst Port Protocol            Timestamp Flow Duration Tot Fwd Pkts  \\\n",
       "0        0        0  14/02/2018 08:31:01     112641719            3   \n",
       "1        0        0  14/02/2018 08:33:50     112641466            3   \n",
       "2        0        0  14/02/2018 08:36:39     112638623            3   \n",
       "3       22        6  14/02/2018 08:40:13       6453966           15   \n",
       "4       22        6  14/02/2018 08:40:23       8804066           14   \n",
       "\n",
       "  Tot Bwd Pkts TotLen Fwd Pkts TotLen Bwd Pkts Fwd Pkt Len Max  \\\n",
       "0            0               0               0               0   \n",
       "1            0               0               0               0   \n",
       "2            0               0               0               0   \n",
       "3           10            1239            2273             744   \n",
       "4           11            1143            2209             744   \n",
       "\n",
       "  Fwd Pkt Len Min  ... Fwd Seg Size Min Active Mean Active Std Active Max  \\\n",
       "0               0  ...                0           0          0          0   \n",
       "1               0  ...                0           0          0          0   \n",
       "2               0  ...                0           0          0          0   \n",
       "3               0  ...               32           0          0          0   \n",
       "4               0  ...               32           0          0          0   \n",
       "\n",
       "  Active Min   Idle Mean        Idle Std  Idle Max  Idle Min   Label  \n",
       "0          0  56320859.5  139.3000358938  56320958  56320761  Benign  \n",
       "1          0    56320733  114.5512985522  56320814  56320652  Benign  \n",
       "2          0  56319311.5  301.9345955667  56319525  56319098  Benign  \n",
       "3          0           0               0         0         0  Benign  \n",
       "4          0           0               0         0         0  Benign  \n",
       "\n",
       "[5 rows x 80 columns]"
      ]
     },
     "execution_count": 85,
     "metadata": {},
     "output_type": "execute_result"
    }
   ],
   "source": [
    "df.head()"
   ]
  },
  {
   "cell_type": "code",
   "execution_count": 86,
   "metadata": {},
   "outputs": [
    {
     "name": "stdout",
     "output_type": "stream",
     "text": [
      "['Benign', 'FTP-BruteForce', 'DoS attacks-GoldenEye', 'DoS attacks-SlowHTTPTest', 'DDOS attack-LOIC-UDP', 'DDOS attack-HOIC', 'Brute Force -Web', 'Brute Force -XSS', 'SQL Injection', 'Label', 'Bot']\n"
     ]
    }
   ],
   "source": [
    "# Obtener todas las etiquetas únicas del dataframe\n",
    "\n",
    "labels_list = list(df['Label'].unique())\n",
    "print(labels_list)\n",
    "\n",
    "\n",
    "# Asignar índice a cada etiqueta\n",
    "labels = {}\n",
    "for i, label in enumerate(labels_list):\n",
    "    labels[label] = i\n",
    "\n",
    "# Guardar etiquetas en JSON\n",
    "with open('labels.json', 'w') as f:\n",
    "    json.dump(labels, f, indent=4)"
   ]
  },
  {
   "cell_type": "markdown",
   "metadata": {},
   "source": [
    "## Exportación del dataframe en CSV y Parquet"
   ]
  },
  {
   "cell_type": "code",
   "execution_count": 87,
   "metadata": {},
   "outputs": [
    {
     "name": "stdout",
     "output_type": "stream",
     "text": [
      "Archivo CSV guardado como merged_output.csv\n",
      "Archivo Parquet guardado como merged_output.parquet\n"
     ]
    }
   ],
   "source": [
    "# Guardar en CSV\n",
    "df.to_csv(OUTPUT_CSV, index=False)\n",
    "print(f\"Archivo CSV guardado como {OUTPUT_CSV}\")\n",
    "\n",
    "# Guardar en Parquet\n",
    "df.to_parquet(OUTPUT_PARQUET, index=False)\n",
    "print(f\"Archivo Parquet guardado como {OUTPUT_PARQUET}\")"
   ]
  },
  {
   "cell_type": "code",
   "execution_count": 88,
   "metadata": {},
   "outputs": [],
   "source": [
    "\n",
    "def find_datasets_with_same_header():\n",
    "    headers = {}\n",
    "    same_files = {}\n",
    "\n",
    "    for file in DATASETS:\n",
    "        with open(file, newline='', encoding='utf-8') as f:\n",
    "            header = tuple(next(csv.reader(f), None))\n",
    "            if header:\n",
    "                if header in headers:\n",
    "                    headers[header].append(\"datasets\\\\\"+file)\n",
    "                else:\n",
    "                    headers[header] = [\"datasets\\\\\"+file]\n",
    "    print(\"Archivos con headers distintos:\", tuple(headers.values())[1])\n",
    "    return tuple(headers.values())[0]"
   ]
  }
 ],
 "metadata": {
  "kernelspec": {
   "display_name": "Python 3",
   "language": "python",
   "name": "python3"
  },
  "language_info": {
   "codemirror_mode": {
    "name": "ipython",
    "version": 3
   },
   "file_extension": ".py",
   "mimetype": "text/x-python",
   "name": "python",
   "nbconvert_exporter": "python",
   "pygments_lexer": "ipython3",
   "version": "3.11.9"
  }
 },
 "nbformat": 4,
 "nbformat_minor": 2
}

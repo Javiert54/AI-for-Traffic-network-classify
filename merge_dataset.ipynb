{
 "cells": [
  {
   "cell_type": "markdown",
   "metadata": {},
   "source": [
    "## Importación de librerías"
   ]
  },
  {
   "cell_type": "code",
   "execution_count": 3,
   "metadata": {},
   "outputs": [],
   "source": [
    "import pandas as pd\n",
    "import os\n",
    "import glob\n",
    "import csv\n",
    "import json"
   ]
  },
  {
   "cell_type": "markdown",
   "metadata": {},
   "source": [
    "## Configuración de variables globales"
   ]
  },
  {
   "cell_type": "code",
   "execution_count": 15,
   "metadata": {},
   "outputs": [],
   "source": [
    "with open('setup.json', 'r') as f:\n",
    "    SETUP_JSON = json.load(f)\n",
    "DATASETS_PATH = SETUP_JSON['datasets_path'] # Path to the datasets,\n",
    "DATASETS_FOLDER = os.path.join(os.getcwd(), DATASETS_PATH) # Folder containing the datasets,\n",
    "DATASETS = glob.glob(os.path.join(DATASETS_FOLDER, '*.csv')) # List of datasets\n",
    "OUTPUT_CSV = SETUP_JSON['output_csv'] # Output CSV file\n",
    "OUTPUT_PARQUET = SETUP_JSON['output_parquet'] # Output CSV file"
   ]
  },
  {
   "cell_type": "markdown",
   "metadata": {},
   "source": [
    "## Obtener todas las características diferentes"
   ]
  },
  {
   "cell_type": "code",
   "execution_count": 3,
   "metadata": {},
   "outputs": [],
   "source": [
    "datasets = [f\"{DATASETS_PATH}\\\\02-14-2018.csv\", f\"{DATASETS_PATH}\\\\02-15-2018.csv\", f\"{DATASETS_PATH}\\\\02-16-2018.csv\", f\"{DATASETS_PATH}\\\\02-21-2018.csv\"]"
   ]
  },
  {
   "cell_type": "code",
   "execution_count": 25,
   "metadata": {},
   "outputs": [
    {
     "name": "stdout",
     "output_type": "stream",
     "text": [
      "83\n",
      "Flow ID object\n",
      "Src IP object\n",
      "Src Port int64\n",
      "Dst IP object\n",
      "Dst Port int64\n",
      "Protocol int64\n",
      "Timestamp object\n",
      "Flow Duration int64\n",
      "Tot Fwd Pkts int64\n",
      "Tot Bwd Pkts int64\n",
      "TotLen Fwd Pkts int64\n",
      "TotLen Bwd Pkts int64\n",
      "Fwd Pkt Len Max int64\n",
      "Fwd Pkt Len Min int64\n",
      "Fwd Pkt Len Mean float64\n",
      "Fwd Pkt Len Std float64\n",
      "Bwd Pkt Len Max int64\n",
      "Bwd Pkt Len Min int64\n",
      "Bwd Pkt Len Mean int64\n",
      "Bwd Pkt Len Std float64\n",
      "Flow Byts/s float64\n",
      "Flow Pkts/s float64\n",
      "Flow IAT Mean float64\n",
      "Flow IAT Std float64\n",
      "Flow IAT Max int64\n",
      "Flow IAT Min int64\n",
      "Fwd IAT Tot int64\n",
      "Fwd IAT Mean float64\n",
      "Fwd IAT Std float64\n",
      "Fwd IAT Max int64\n",
      "Fwd IAT Min int64\n",
      "Bwd IAT Tot int64\n",
      "Bwd IAT Mean float64\n",
      "Bwd IAT Std float64\n",
      "Bwd IAT Max int64\n",
      "Bwd IAT Min int64\n",
      "Fwd PSH Flags int64\n",
      "Bwd PSH Flags int64\n",
      "Fwd URG Flags int64\n",
      "Bwd URG Flags int64\n",
      "Fwd Header Len int64\n",
      "Bwd Header Len int64\n",
      "Fwd Pkts/s float64\n",
      "Bwd Pkts/s float64\n",
      "Pkt Len Min int64\n",
      "Pkt Len Max int64\n",
      "Pkt Len Mean float64\n",
      "Pkt Len Std float64\n",
      "Pkt Len Var float64\n",
      "FIN Flag Cnt int64\n",
      "SYN Flag Cnt int64\n",
      "RST Flag Cnt int64\n",
      "PSH Flag Cnt int64\n",
      "ACK Flag Cnt int64\n",
      "URG Flag Cnt int64\n",
      "CWE Flag Count int64\n",
      "ECE Flag Cnt int64\n",
      "Down/Up Ratio int64\n",
      "Pkt Size Avg float64\n",
      "Fwd Seg Size Avg float64\n",
      "Bwd Seg Size Avg int64\n",
      "Fwd Byts/b Avg int64\n",
      "Fwd Pkts/b Avg int64\n",
      "Fwd Blk Rate Avg int64\n",
      "Bwd Byts/b Avg int64\n",
      "Bwd Pkts/b Avg int64\n",
      "Bwd Blk Rate Avg int64\n",
      "Subflow Fwd Pkts int64\n",
      "Subflow Fwd Byts int64\n",
      "Subflow Bwd Pkts int64\n",
      "Subflow Bwd Byts int64\n",
      "Init Fwd Win Byts int64\n",
      "Init Bwd Win Byts int64\n",
      "Fwd Act Data Pkts int64\n",
      "Fwd Seg Size Min int64\n",
      "Active Mean int64\n",
      "Active Std int64\n",
      "Active Max int64\n",
      "Active Min int64\n",
      "Idle Mean int64\n",
      "Idle Std int64\n",
      "Idle Max int64\n",
      "Idle Min int64\n"
     ]
    }
   ],
   "source": [
    "columns_lengths = []\n",
    "\n",
    "# Obtener número de columnas por dataset\n",
    "for dataset in DATASETS:\n",
    "    columns_length = len(pd.read_csv(dataset, nrows=1).dtypes)\n",
    "    columns_lengths.append(columns_length)\n",
    "\n",
    "# Obtener grupo de características más largo\n",
    "for dataset in DATASETS:\n",
    "    df = pd.read_csv(dataset, nrows=1)\n",
    "    columns_length = len(df.dtypes)\n",
    "    if (columns_length == max(columns_lengths)):\n",
    "        X_columns = df.dtypes.to_dict()\n",
    "        X_columns.pop('Label')\n",
    "print(len(X_columns))\n",
    "for column, type in X_columns.items():\n",
    "    print(column, type)"
   ]
  },
  {
   "cell_type": "markdown",
   "metadata": {},
   "source": [
    "## Combinar datasets"
   ]
  },
  {
   "cell_type": "markdown",
   "metadata": {},
   "source": [
    "Unimos todos los archivos CSV en un sólo dataframe y lo guardamos en formato CSV (para analizarlo con Tableau) y en formato Parquet (para su tratamiento con Python)."
   ]
  },
  {
   "cell_type": "code",
   "execution_count": null,
   "metadata": {},
   "outputs": [
    {
     "name": "stdout",
     "output_type": "stream",
     "text": [
      "Dataset c:\\Users\\isard\\Desktop\\AI-for-Traffic-network-classify\\datasets\\02-14-2018.csv procesado: (10000, 84))\n",
      "Dataset c:\\Users\\isard\\Desktop\\AI-for-Traffic-network-classify\\datasets\\02-15-2018.csv procesado: (10000, 84))\n",
      "Dataset c:\\Users\\isard\\Desktop\\AI-for-Traffic-network-classify\\datasets\\02-16-2018.csv procesado: (10000, 84))\n",
      "Dataset c:\\Users\\isard\\Desktop\\AI-for-Traffic-network-classify\\datasets\\02-20-2018.csv procesado: (10000, 84))\n",
      "Dataset c:\\Users\\isard\\Desktop\\AI-for-Traffic-network-classify\\datasets\\02-21-2018.csv procesado: (10000, 84))\n",
      "Dataset c:\\Users\\isard\\Desktop\\AI-for-Traffic-network-classify\\datasets\\02-22-2018.csv procesado: (10000, 84))\n",
      "Dataset c:\\Users\\isard\\Desktop\\AI-for-Traffic-network-classify\\datasets\\02-23-2018.csv procesado: (10000, 84))\n",
      "Dataset c:\\Users\\isard\\Desktop\\AI-for-Traffic-network-classify\\datasets\\02-28-2018.csv procesado: (10000, 84))\n",
      "Dataset c:\\Users\\isard\\Desktop\\AI-for-Traffic-network-classify\\datasets\\03-01-2018.csv procesado: (10000, 84))\n",
      "Dataset c:\\Users\\isard\\Desktop\\AI-for-Traffic-network-classify\\datasets\\03-02-2018.csv procesado: (10000, 84))\n"
     ]
    }
   ],
   "source": [
    "df = pd.DataFrame()\n",
    "for dataset in DATASETS:\n",
    "    # Obtener las 10000 primeras filas del dataset\n",
    "    current_df = pd.read_csv(dataset, nrows=10000, dtype=str) # Leer en formato string\n",
    "    # Añadir columnas faltantes\n",
    "    for column in X_columns.keys():\n",
    "        if column not in current_df.columns:\n",
    "            current_df[column] = \"\" # Rellenar columnas con cadenas vacías\n",
    "    print(f\"Dataset {dataset} procesado: {current_df.shape})\")\n",
    "    # Concatenar dataframe actual con el dataframe final\n",
    "    df = pd.concat([df, current_df], ignore_index=True, sort=False)"
   ]
  },
  {
   "cell_type": "markdown",
   "metadata": {},
   "source": [
    "## Exportación de archivos JSON"
   ]
  },
  {
   "cell_type": "markdown",
   "metadata": {},
   "source": [
    "Exportar todas las columnas y sus tipos "
   ]
  },
  {
   "cell_type": "code",
   "execution_count": 28,
   "metadata": {},
   "outputs": [],
   "source": [
    "X_columns = {col: str(dtype) for col, dtype in X_columns.items()}\n",
    "\n",
    "# Guardar en JSON\n",
    "with open('X_columns.json', 'w') as f:\n",
    "    json.dump(X_columns, f, indent=4)"
   ]
  },
  {
   "cell_type": "code",
   "execution_count": 29,
   "metadata": {},
   "outputs": [],
   "source": [
    "# Obtener todas las etiquetas únicas del dataframe\n",
    "labels_list = list(df['Label'].unique())\n",
    "labels_list.remove('Label')\n",
    "\n",
    "# Asignar índice a cada etiqueta\n",
    "labels = {}\n",
    "for i, label in enumerate(labels_list):\n",
    "    labels[label] = i\n",
    "\n",
    "# Guardar etiquetas en JSON\n",
    "with open('labels.json', 'w') as f:\n",
    "    json.dump(labels, f, indent=4)"
   ]
  },
  {
   "cell_type": "markdown",
   "metadata": {},
   "source": [
    "## Exportación del dataframe en CSV y Parquet"
   ]
  },
  {
   "cell_type": "code",
   "execution_count": 30,
   "metadata": {},
   "outputs": [
    {
     "name": "stdout",
     "output_type": "stream",
     "text": [
      "Archivo CSV guardado como merged_output.csv\n",
      "Archivo Parquet guardado como merged_output.parquet\n"
     ]
    }
   ],
   "source": [
    "# Guardar en CSV\n",
    "df.to_csv(OUTPUT_CSV, index=False)\n",
    "print(f\"Archivo CSV guardado como {OUTPUT_CSV}\")\n",
    "\n",
    "# Guardar en Parquet\n",
    "df.to_parquet(OUTPUT_PARQUET, index=False)\n",
    "print(f\"Archivo Parquet guardado como {OUTPUT_PARQUET}\")"
   ]
  },
  {
   "cell_type": "code",
   "execution_count": 87,
   "metadata": {},
   "outputs": [],
   "source": [
    "\n",
    "def find_datasets_with_same_header():\n",
    "    headers = {}\n",
    "    same_files = {}\n",
    "\n",
    "    for file in DATASETS:\n",
    "        with open(file, newline='', encoding='utf-8') as f:\n",
    "            header = tuple(next(csv.reader(f), None))\n",
    "            if header:\n",
    "                if header in headers:\n",
    "                    headers[header].append(\"datasets\\\\\"+file)\n",
    "                else:\n",
    "                    headers[header] = [\"datasets\\\\\"+file]\n",
    "    print(\"Archivos con headers distintos:\", tuple(headers.values())[1])\n",
    "    return tuple(headers.values())[0]"
   ]
  },
  {
   "cell_type": "code",
   "execution_count": 88,
   "metadata": {},
   "outputs": [
    {
     "name": "stdout",
     "output_type": "stream",
     "text": [
      "Archivos con headers distintos: ['datasets\\\\c:\\\\Users\\\\isard\\\\Desktop\\\\AI-for-Traffic-network-classify\\\\datasets\\\\02-20-2018.csv']\n",
      "Archivos con el mismo encabezado: ['datasets\\\\c:\\\\Users\\\\isard\\\\Desktop\\\\AI-for-Traffic-network-classify\\\\datasets\\\\02-14-2018.csv', 'datasets\\\\c:\\\\Users\\\\isard\\\\Desktop\\\\AI-for-Traffic-network-classify\\\\datasets\\\\02-15-2018.csv', 'datasets\\\\c:\\\\Users\\\\isard\\\\Desktop\\\\AI-for-Traffic-network-classify\\\\datasets\\\\02-16-2018.csv', 'datasets\\\\c:\\\\Users\\\\isard\\\\Desktop\\\\AI-for-Traffic-network-classify\\\\datasets\\\\02-21-2018.csv', 'datasets\\\\c:\\\\Users\\\\isard\\\\Desktop\\\\AI-for-Traffic-network-classify\\\\datasets\\\\02-22-2018.csv', 'datasets\\\\c:\\\\Users\\\\isard\\\\Desktop\\\\AI-for-Traffic-network-classify\\\\datasets\\\\02-23-2018.csv', 'datasets\\\\c:\\\\Users\\\\isard\\\\Desktop\\\\AI-for-Traffic-network-classify\\\\datasets\\\\02-28-2018.csv', 'datasets\\\\c:\\\\Users\\\\isard\\\\Desktop\\\\AI-for-Traffic-network-classify\\\\datasets\\\\03-01-2018.csv', 'datasets\\\\c:\\\\Users\\\\isard\\\\Desktop\\\\AI-for-Traffic-network-classify\\\\datasets\\\\03-02-2018.csv']\n"
     ]
    }
   ],
   "source": [
    "csv_files = find_datasets_with_same_header()\n",
    "print(\"Archivos con el mismo encabezado:\", csv_files)"
   ]
  }
 ],
 "metadata": {
  "kernelspec": {
   "display_name": "Python 3",
   "language": "python",
   "name": "python3"
  },
  "language_info": {
   "codemirror_mode": {
    "name": "ipython",
    "version": 3
   },
   "file_extension": ".py",
   "mimetype": "text/x-python",
   "name": "python",
   "nbconvert_exporter": "python",
   "pygments_lexer": "ipython3",
   "version": "3.11.9"
  }
 },
 "nbformat": 4,
 "nbformat_minor": 2
}

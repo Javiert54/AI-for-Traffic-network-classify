{
 "cells": [
  {
   "cell_type": "markdown",
   "metadata": {},
   "source": [
    "## Importación de librerías"
   ]
  },
  {
   "cell_type": "code",
   "execution_count": 1,
   "metadata": {},
   "outputs": [],
   "source": [
    "import pandas as pd\n",
    "import os\n",
    "import glob\n",
    "import csv\n",
    "import json"
   ]
  },
  {
   "cell_type": "markdown",
   "metadata": {},
   "source": [
    "## Configuración de variables globales"
   ]
  },
  {
   "cell_type": "code",
   "execution_count": 2,
   "metadata": {},
   "outputs": [],
   "source": [
    "with open('setup.json', 'r') as f:\n",
    "    SETUP_JSON = json.load(f)\n",
    "DATASETS_PATH = SETUP_JSON['datasets_path'] # Path to the datasets,\n",
    "DATASETS_FOLDER = os.path.join(os.getcwd(), DATASETS_PATH) # Folder containing the datasets,\n",
    "DATASETS = glob.glob(os.path.join(DATASETS_FOLDER, '*.csv')) # List of datasets\n",
    "OUTPUT_CSV = SETUP_JSON['output_csv'] # Output CSV file\n",
    "OUTPUT_PARQUET = SETUP_JSON['output_parquet'] # Output CSV file"
   ]
  },
  {
   "cell_type": "markdown",
   "metadata": {},
   "source": [
    "## Combinar datasets"
   ]
  },
  {
   "cell_type": "markdown",
   "metadata": {},
   "source": [
    "Unimos todos los archivos CSV y guardamos el dataset en formato CSV (para analizarlo con Tableau) y en formato Parquet (para su tratamiento con Python)."
   ]
  },
  {
   "cell_type": "code",
   "execution_count": 10,
   "metadata": {},
   "outputs": [
    {
     "name": "stdout",
     "output_type": "stream",
     "text": [
      "datasets\\02-14-2018.csv\n",
      "datasets\\02-15-2018.csv\n",
      "datasets\\02-16-2018.csv\n",
      "datasets\\02-21-2018.csv\n",
      "datasets\\02-22-2018.csv\n"
     ]
    }
   ],
   "source": [
    "datasets = [f\"{DATASETS_PATH}\\\\02-14-2018.csv\", f\"{DATASETS_PATH}\\\\02-15-2018.csv\", f\"{DATASETS_PATH}\\\\02-16-2018.csv\", f\"{DATASETS_PATH}\\\\02-21-2018.csv\", f\"{DATASETS_PATH}\\\\02-22-2018.csv\"]\n",
    "for dataset in datasets:\n",
    "    print(dataset)"
   ]
  },
  {
   "cell_type": "code",
   "execution_count": 24,
   "metadata": {},
   "outputs": [
    {
     "name": "stdout",
     "output_type": "stream",
     "text": [
      "Todas las columnas únicas: 84\n"
     ]
    }
   ],
   "source": [
    "# Detectar todas las columnas únicas\n",
    "all_columns = set()\n",
    "for file in DATASETS:\n",
    "    df_sample = pd.read_csv(file, nrows=1000)\n",
    "    all_columns.update(df_sample.columns)\n",
    "print(f\"Todas las columnas únicas: {len(all_columns)}\")"
   ]
  },
  {
   "cell_type": "code",
   "execution_count": 37,
   "metadata": {},
   "outputs": [],
   "source": [
    "# Añadir columnas faltantes a los datasets\n",
    "def add_missing_columns(dataset):\n",
    "    df = pd.read_csv(dataset, dtype=str)\n",
    "    for col in all_columns:\n",
    "        if col not in df.columns:\n",
    "            df.insert(loc=df.shape[1] - 1, column=col, value=pd.NA)\n",
    "    return df"
   ]
  },
  {
   "cell_type": "code",
   "execution_count": 38,
   "metadata": {},
   "outputs": [],
   "source": [
    "# Cargar los datasets\n",
    "df = pd.DataFrame()\n",
    "for dataset in DATASETS:\n",
    "    df_temp = add_missing_columns(dataset)\n",
    "    df = pd.concat([df, df_temp], ignore_index=True, sort=False)"
   ]
  },
  {
   "cell_type": "code",
   "execution_count": 39,
   "metadata": {},
   "outputs": [
    {
     "data": {
      "text/plain": [
       "(16233002, 84)"
      ]
     },
     "execution_count": 39,
     "metadata": {},
     "output_type": "execute_result"
    }
   ],
   "source": [
    "df.shape"
   ]
  },
  {
   "cell_type": "code",
   "execution_count": 40,
   "metadata": {},
   "outputs": [
    {
     "data": {
      "text/plain": [
       "array([dtype('O')], dtype=object)"
      ]
     },
     "execution_count": 40,
     "metadata": {},
     "output_type": "execute_result"
    }
   ],
   "source": [
    "df.dtypes.unique()"
   ]
  },
  {
   "cell_type": "code",
   "execution_count": 41,
   "metadata": {},
   "outputs": [
    {
     "data": {
      "text/html": [
       "<div>\n",
       "<style scoped>\n",
       "    .dataframe tbody tr th:only-of-type {\n",
       "        vertical-align: middle;\n",
       "    }\n",
       "\n",
       "    .dataframe tbody tr th {\n",
       "        vertical-align: top;\n",
       "    }\n",
       "\n",
       "    .dataframe thead th {\n",
       "        text-align: right;\n",
       "    }\n",
       "</style>\n",
       "<table border=\"1\" class=\"dataframe\">\n",
       "  <thead>\n",
       "    <tr style=\"text-align: right;\">\n",
       "      <th></th>\n",
       "      <th>Dst Port</th>\n",
       "      <th>Protocol</th>\n",
       "      <th>Timestamp</th>\n",
       "      <th>Flow Duration</th>\n",
       "      <th>Tot Fwd Pkts</th>\n",
       "      <th>Tot Bwd Pkts</th>\n",
       "      <th>TotLen Fwd Pkts</th>\n",
       "      <th>TotLen Bwd Pkts</th>\n",
       "      <th>Fwd Pkt Len Max</th>\n",
       "      <th>Fwd Pkt Len Min</th>\n",
       "      <th>...</th>\n",
       "      <th>Active Min</th>\n",
       "      <th>Idle Mean</th>\n",
       "      <th>Idle Std</th>\n",
       "      <th>Idle Max</th>\n",
       "      <th>Idle Min</th>\n",
       "      <th>Dst IP</th>\n",
       "      <th>Src IP</th>\n",
       "      <th>Flow ID</th>\n",
       "      <th>Src Port</th>\n",
       "      <th>Label</th>\n",
       "    </tr>\n",
       "  </thead>\n",
       "  <tbody>\n",
       "    <tr>\n",
       "      <th>0</th>\n",
       "      <td>0</td>\n",
       "      <td>0</td>\n",
       "      <td>14/02/2018 08:31:01</td>\n",
       "      <td>112641719</td>\n",
       "      <td>3</td>\n",
       "      <td>0</td>\n",
       "      <td>0</td>\n",
       "      <td>0</td>\n",
       "      <td>0</td>\n",
       "      <td>0</td>\n",
       "      <td>...</td>\n",
       "      <td>0</td>\n",
       "      <td>56320859.5</td>\n",
       "      <td>139.3000358938</td>\n",
       "      <td>56320958</td>\n",
       "      <td>56320761</td>\n",
       "      <td>NaN</td>\n",
       "      <td>NaN</td>\n",
       "      <td>NaN</td>\n",
       "      <td>NaN</td>\n",
       "      <td>Benign</td>\n",
       "    </tr>\n",
       "    <tr>\n",
       "      <th>1</th>\n",
       "      <td>0</td>\n",
       "      <td>0</td>\n",
       "      <td>14/02/2018 08:33:50</td>\n",
       "      <td>112641466</td>\n",
       "      <td>3</td>\n",
       "      <td>0</td>\n",
       "      <td>0</td>\n",
       "      <td>0</td>\n",
       "      <td>0</td>\n",
       "      <td>0</td>\n",
       "      <td>...</td>\n",
       "      <td>0</td>\n",
       "      <td>56320733</td>\n",
       "      <td>114.5512985522</td>\n",
       "      <td>56320814</td>\n",
       "      <td>56320652</td>\n",
       "      <td>NaN</td>\n",
       "      <td>NaN</td>\n",
       "      <td>NaN</td>\n",
       "      <td>NaN</td>\n",
       "      <td>Benign</td>\n",
       "    </tr>\n",
       "    <tr>\n",
       "      <th>2</th>\n",
       "      <td>0</td>\n",
       "      <td>0</td>\n",
       "      <td>14/02/2018 08:36:39</td>\n",
       "      <td>112638623</td>\n",
       "      <td>3</td>\n",
       "      <td>0</td>\n",
       "      <td>0</td>\n",
       "      <td>0</td>\n",
       "      <td>0</td>\n",
       "      <td>0</td>\n",
       "      <td>...</td>\n",
       "      <td>0</td>\n",
       "      <td>56319311.5</td>\n",
       "      <td>301.9345955667</td>\n",
       "      <td>56319525</td>\n",
       "      <td>56319098</td>\n",
       "      <td>NaN</td>\n",
       "      <td>NaN</td>\n",
       "      <td>NaN</td>\n",
       "      <td>NaN</td>\n",
       "      <td>Benign</td>\n",
       "    </tr>\n",
       "    <tr>\n",
       "      <th>3</th>\n",
       "      <td>22</td>\n",
       "      <td>6</td>\n",
       "      <td>14/02/2018 08:40:13</td>\n",
       "      <td>6453966</td>\n",
       "      <td>15</td>\n",
       "      <td>10</td>\n",
       "      <td>1239</td>\n",
       "      <td>2273</td>\n",
       "      <td>744</td>\n",
       "      <td>0</td>\n",
       "      <td>...</td>\n",
       "      <td>0</td>\n",
       "      <td>0</td>\n",
       "      <td>0</td>\n",
       "      <td>0</td>\n",
       "      <td>0</td>\n",
       "      <td>NaN</td>\n",
       "      <td>NaN</td>\n",
       "      <td>NaN</td>\n",
       "      <td>NaN</td>\n",
       "      <td>Benign</td>\n",
       "    </tr>\n",
       "    <tr>\n",
       "      <th>4</th>\n",
       "      <td>22</td>\n",
       "      <td>6</td>\n",
       "      <td>14/02/2018 08:40:23</td>\n",
       "      <td>8804066</td>\n",
       "      <td>14</td>\n",
       "      <td>11</td>\n",
       "      <td>1143</td>\n",
       "      <td>2209</td>\n",
       "      <td>744</td>\n",
       "      <td>0</td>\n",
       "      <td>...</td>\n",
       "      <td>0</td>\n",
       "      <td>0</td>\n",
       "      <td>0</td>\n",
       "      <td>0</td>\n",
       "      <td>0</td>\n",
       "      <td>NaN</td>\n",
       "      <td>NaN</td>\n",
       "      <td>NaN</td>\n",
       "      <td>NaN</td>\n",
       "      <td>Benign</td>\n",
       "    </tr>\n",
       "  </tbody>\n",
       "</table>\n",
       "<p>5 rows × 84 columns</p>\n",
       "</div>"
      ],
      "text/plain": [
       "  Dst Port Protocol            Timestamp Flow Duration Tot Fwd Pkts  \\\n",
       "0        0        0  14/02/2018 08:31:01     112641719            3   \n",
       "1        0        0  14/02/2018 08:33:50     112641466            3   \n",
       "2        0        0  14/02/2018 08:36:39     112638623            3   \n",
       "3       22        6  14/02/2018 08:40:13       6453966           15   \n",
       "4       22        6  14/02/2018 08:40:23       8804066           14   \n",
       "\n",
       "  Tot Bwd Pkts TotLen Fwd Pkts TotLen Bwd Pkts Fwd Pkt Len Max  \\\n",
       "0            0               0               0               0   \n",
       "1            0               0               0               0   \n",
       "2            0               0               0               0   \n",
       "3           10            1239            2273             744   \n",
       "4           11            1143            2209             744   \n",
       "\n",
       "  Fwd Pkt Len Min  ... Active Min   Idle Mean        Idle Std  Idle Max  \\\n",
       "0               0  ...          0  56320859.5  139.3000358938  56320958   \n",
       "1               0  ...          0    56320733  114.5512985522  56320814   \n",
       "2               0  ...          0  56319311.5  301.9345955667  56319525   \n",
       "3               0  ...          0           0               0         0   \n",
       "4               0  ...          0           0               0         0   \n",
       "\n",
       "   Idle Min Dst IP Src IP Flow ID Src Port   Label  \n",
       "0  56320761    NaN    NaN     NaN      NaN  Benign  \n",
       "1  56320652    NaN    NaN     NaN      NaN  Benign  \n",
       "2  56319098    NaN    NaN     NaN      NaN  Benign  \n",
       "3         0    NaN    NaN     NaN      NaN  Benign  \n",
       "4         0    NaN    NaN     NaN      NaN  Benign  \n",
       "\n",
       "[5 rows x 84 columns]"
      ]
     },
     "execution_count": 41,
     "metadata": {},
     "output_type": "execute_result"
    }
   ],
   "source": [
    "df.head()"
   ]
  },
  {
   "cell_type": "code",
   "execution_count": 42,
   "metadata": {},
   "outputs": [
    {
     "data": {
      "text/html": [
       "<div>\n",
       "<style scoped>\n",
       "    .dataframe tbody tr th:only-of-type {\n",
       "        vertical-align: middle;\n",
       "    }\n",
       "\n",
       "    .dataframe tbody tr th {\n",
       "        vertical-align: top;\n",
       "    }\n",
       "\n",
       "    .dataframe thead th {\n",
       "        text-align: right;\n",
       "    }\n",
       "</style>\n",
       "<table border=\"1\" class=\"dataframe\">\n",
       "  <thead>\n",
       "    <tr style=\"text-align: right;\">\n",
       "      <th></th>\n",
       "      <th>Dst Port</th>\n",
       "      <th>Protocol</th>\n",
       "      <th>Timestamp</th>\n",
       "      <th>Flow Duration</th>\n",
       "      <th>Tot Fwd Pkts</th>\n",
       "      <th>Tot Bwd Pkts</th>\n",
       "      <th>TotLen Fwd Pkts</th>\n",
       "      <th>TotLen Bwd Pkts</th>\n",
       "      <th>Fwd Pkt Len Max</th>\n",
       "      <th>Fwd Pkt Len Min</th>\n",
       "      <th>...</th>\n",
       "      <th>Active Min</th>\n",
       "      <th>Idle Mean</th>\n",
       "      <th>Idle Std</th>\n",
       "      <th>Idle Max</th>\n",
       "      <th>Idle Min</th>\n",
       "      <th>Dst IP</th>\n",
       "      <th>Src IP</th>\n",
       "      <th>Flow ID</th>\n",
       "      <th>Src Port</th>\n",
       "      <th>Label</th>\n",
       "    </tr>\n",
       "  </thead>\n",
       "  <tbody>\n",
       "    <tr>\n",
       "      <th>16232997</th>\n",
       "      <td>3389</td>\n",
       "      <td>6</td>\n",
       "      <td>02/03/2018 02:08:18</td>\n",
       "      <td>3982183</td>\n",
       "      <td>14</td>\n",
       "      <td>8</td>\n",
       "      <td>1442</td>\n",
       "      <td>1731</td>\n",
       "      <td>725</td>\n",
       "      <td>0</td>\n",
       "      <td>...</td>\n",
       "      <td>0</td>\n",
       "      <td>0</td>\n",
       "      <td>0</td>\n",
       "      <td>0</td>\n",
       "      <td>0</td>\n",
       "      <td>NaN</td>\n",
       "      <td>NaN</td>\n",
       "      <td>NaN</td>\n",
       "      <td>NaN</td>\n",
       "      <td>Benign</td>\n",
       "    </tr>\n",
       "    <tr>\n",
       "      <th>16232998</th>\n",
       "      <td>3389</td>\n",
       "      <td>6</td>\n",
       "      <td>02/03/2018 02:08:22</td>\n",
       "      <td>3802316</td>\n",
       "      <td>14</td>\n",
       "      <td>8</td>\n",
       "      <td>1440</td>\n",
       "      <td>1731</td>\n",
       "      <td>725</td>\n",
       "      <td>0</td>\n",
       "      <td>...</td>\n",
       "      <td>0</td>\n",
       "      <td>0</td>\n",
       "      <td>0</td>\n",
       "      <td>0</td>\n",
       "      <td>0</td>\n",
       "      <td>NaN</td>\n",
       "      <td>NaN</td>\n",
       "      <td>NaN</td>\n",
       "      <td>NaN</td>\n",
       "      <td>Benign</td>\n",
       "    </tr>\n",
       "    <tr>\n",
       "      <th>16232999</th>\n",
       "      <td>3389</td>\n",
       "      <td>6</td>\n",
       "      <td>02/03/2018 02:08:25</td>\n",
       "      <td>4004239</td>\n",
       "      <td>14</td>\n",
       "      <td>8</td>\n",
       "      <td>1459</td>\n",
       "      <td>1731</td>\n",
       "      <td>741</td>\n",
       "      <td>0</td>\n",
       "      <td>...</td>\n",
       "      <td>0</td>\n",
       "      <td>0</td>\n",
       "      <td>0</td>\n",
       "      <td>0</td>\n",
       "      <td>0</td>\n",
       "      <td>NaN</td>\n",
       "      <td>NaN</td>\n",
       "      <td>NaN</td>\n",
       "      <td>NaN</td>\n",
       "      <td>Benign</td>\n",
       "    </tr>\n",
       "    <tr>\n",
       "      <th>16233000</th>\n",
       "      <td>3389</td>\n",
       "      <td>6</td>\n",
       "      <td>02/03/2018 02:08:29</td>\n",
       "      <td>3998435</td>\n",
       "      <td>14</td>\n",
       "      <td>8</td>\n",
       "      <td>1459</td>\n",
       "      <td>1731</td>\n",
       "      <td>741</td>\n",
       "      <td>0</td>\n",
       "      <td>...</td>\n",
       "      <td>0</td>\n",
       "      <td>0</td>\n",
       "      <td>0</td>\n",
       "      <td>0</td>\n",
       "      <td>0</td>\n",
       "      <td>NaN</td>\n",
       "      <td>NaN</td>\n",
       "      <td>NaN</td>\n",
       "      <td>NaN</td>\n",
       "      <td>Benign</td>\n",
       "    </tr>\n",
       "    <tr>\n",
       "      <th>16233001</th>\n",
       "      <td>3389</td>\n",
       "      <td>6</td>\n",
       "      <td>02/03/2018 02:08:33</td>\n",
       "      <td>3972651</td>\n",
       "      <td>14</td>\n",
       "      <td>8</td>\n",
       "      <td>1439</td>\n",
       "      <td>1731</td>\n",
       "      <td>725</td>\n",
       "      <td>0</td>\n",
       "      <td>...</td>\n",
       "      <td>0</td>\n",
       "      <td>0</td>\n",
       "      <td>0</td>\n",
       "      <td>0</td>\n",
       "      <td>0</td>\n",
       "      <td>NaN</td>\n",
       "      <td>NaN</td>\n",
       "      <td>NaN</td>\n",
       "      <td>NaN</td>\n",
       "      <td>Benign</td>\n",
       "    </tr>\n",
       "  </tbody>\n",
       "</table>\n",
       "<p>5 rows × 84 columns</p>\n",
       "</div>"
      ],
      "text/plain": [
       "         Dst Port Protocol            Timestamp Flow Duration Tot Fwd Pkts  \\\n",
       "16232997     3389        6  02/03/2018 02:08:18       3982183           14   \n",
       "16232998     3389        6  02/03/2018 02:08:22       3802316           14   \n",
       "16232999     3389        6  02/03/2018 02:08:25       4004239           14   \n",
       "16233000     3389        6  02/03/2018 02:08:29       3998435           14   \n",
       "16233001     3389        6  02/03/2018 02:08:33       3972651           14   \n",
       "\n",
       "         Tot Bwd Pkts TotLen Fwd Pkts TotLen Bwd Pkts Fwd Pkt Len Max  \\\n",
       "16232997            8            1442            1731             725   \n",
       "16232998            8            1440            1731             725   \n",
       "16232999            8            1459            1731             741   \n",
       "16233000            8            1459            1731             741   \n",
       "16233001            8            1439            1731             725   \n",
       "\n",
       "         Fwd Pkt Len Min  ... Active Min Idle Mean Idle Std Idle Max Idle Min  \\\n",
       "16232997               0  ...          0         0        0        0        0   \n",
       "16232998               0  ...          0         0        0        0        0   \n",
       "16232999               0  ...          0         0        0        0        0   \n",
       "16233000               0  ...          0         0        0        0        0   \n",
       "16233001               0  ...          0         0        0        0        0   \n",
       "\n",
       "         Dst IP Src IP Flow ID Src Port   Label  \n",
       "16232997    NaN    NaN     NaN      NaN  Benign  \n",
       "16232998    NaN    NaN     NaN      NaN  Benign  \n",
       "16232999    NaN    NaN     NaN      NaN  Benign  \n",
       "16233000    NaN    NaN     NaN      NaN  Benign  \n",
       "16233001    NaN    NaN     NaN      NaN  Benign  \n",
       "\n",
       "[5 rows x 84 columns]"
      ]
     },
     "execution_count": 42,
     "metadata": {},
     "output_type": "execute_result"
    }
   ],
   "source": [
    "df.tail()"
   ]
  },
  {
   "cell_type": "code",
   "execution_count": 43,
   "metadata": {},
   "outputs": [],
   "source": [
    "label = df.columns[-1]  # La última columna es la etiqueta de la secuencia\n",
    "labels = df[label].unique() # Obtener etiquetas únicas del dataframe\n",
    "\n",
    "# Crear un diccionario para almacenar las etiquetas y sus índices\n",
    "labels_dict = {label: i for i, label in enumerate(labels)}"
   ]
  },
  {
   "cell_type": "code",
   "execution_count": 45,
   "metadata": {},
   "outputs": [],
   "source": [
    "df[label] = df[label].map(labels_dict) # Mapear etiquetas a índices"
   ]
  },
  {
   "cell_type": "code",
   "execution_count": null,
   "metadata": {},
   "outputs": [],
   "source": [
    "df.head()"
   ]
  },
  {
   "cell_type": "code",
   "execution_count": 47,
   "metadata": {},
   "outputs": [],
   "source": [
    "# Guardar el diccionario de etiquetas en un archivo JSON\n",
    "with open('labels.json', 'w') as f:\n",
    "    json.dump(labels_dict, f, indent=4)"
   ]
  },
  {
   "cell_type": "code",
   "execution_count": 66,
   "metadata": {},
   "outputs": [
    {
     "name": "stdout",
     "output_type": "stream",
     "text": [
      "Archivo CSV guardado como merged_output.csv\n",
      "Archivo Parquet guardado como merged_output.parquet\n"
     ]
    }
   ],
   "source": [
    "# Guardar en CSV\n",
    "df.to_csv(OUTPUT_CSV, index=False)\n",
    "print(f\"Archivo CSV guardado como {OUTPUT_CSV}\")\n",
    "\n",
    "# Guardar en Parquet\n",
    "df.to_parquet(OUTPUT_PARQUET, index=False)\n",
    "print(f\"Archivo Parquet guardado como {OUTPUT_PARQUET}\")"
   ]
  },
  {
   "cell_type": "code",
   "execution_count": 87,
   "metadata": {},
   "outputs": [],
   "source": [
    "\n",
    "def find_datasets_with_same_header():\n",
    "    headers = {}\n",
    "    same_files = {}\n",
    "\n",
    "    for file in DATASETS:\n",
    "        with open(file, newline='', encoding='utf-8') as f:\n",
    "            header = tuple(next(csv.reader(f), None))\n",
    "            if header:\n",
    "                if header in headers:\n",
    "                    headers[header].append(\"datasets\\\\\"+file)\n",
    "                else:\n",
    "                    headers[header] = [\"datasets\\\\\"+file]\n",
    "    print(\"Archivos con headers distintos:\", tuple(headers.values())[1])\n",
    "    return tuple(headers.values())[0]"
   ]
  },
  {
   "cell_type": "code",
   "execution_count": 88,
   "metadata": {},
   "outputs": [
    {
     "name": "stdout",
     "output_type": "stream",
     "text": [
      "Archivos con headers distintos: ['datasets\\\\c:\\\\Users\\\\isard\\\\Desktop\\\\AI-for-Traffic-network-classify\\\\datasets\\\\02-20-2018.csv']\n",
      "Archivos con el mismo encabezado: ['datasets\\\\c:\\\\Users\\\\isard\\\\Desktop\\\\AI-for-Traffic-network-classify\\\\datasets\\\\02-14-2018.csv', 'datasets\\\\c:\\\\Users\\\\isard\\\\Desktop\\\\AI-for-Traffic-network-classify\\\\datasets\\\\02-15-2018.csv', 'datasets\\\\c:\\\\Users\\\\isard\\\\Desktop\\\\AI-for-Traffic-network-classify\\\\datasets\\\\02-16-2018.csv', 'datasets\\\\c:\\\\Users\\\\isard\\\\Desktop\\\\AI-for-Traffic-network-classify\\\\datasets\\\\02-21-2018.csv', 'datasets\\\\c:\\\\Users\\\\isard\\\\Desktop\\\\AI-for-Traffic-network-classify\\\\datasets\\\\02-22-2018.csv', 'datasets\\\\c:\\\\Users\\\\isard\\\\Desktop\\\\AI-for-Traffic-network-classify\\\\datasets\\\\02-23-2018.csv', 'datasets\\\\c:\\\\Users\\\\isard\\\\Desktop\\\\AI-for-Traffic-network-classify\\\\datasets\\\\02-28-2018.csv', 'datasets\\\\c:\\\\Users\\\\isard\\\\Desktop\\\\AI-for-Traffic-network-classify\\\\datasets\\\\03-01-2018.csv', 'datasets\\\\c:\\\\Users\\\\isard\\\\Desktop\\\\AI-for-Traffic-network-classify\\\\datasets\\\\03-02-2018.csv']\n"
     ]
    }
   ],
   "source": [
    "csv_files = find_datasets_with_same_header()\n",
    "print(\"Archivos con el mismo encabezado:\", csv_files)"
   ]
  }
 ],
 "metadata": {
  "kernelspec": {
   "display_name": "Python 3",
   "language": "python",
   "name": "python3"
  },
  "language_info": {
   "codemirror_mode": {
    "name": "ipython",
    "version": 3
   },
   "file_extension": ".py",
   "mimetype": "text/x-python",
   "name": "python",
   "nbconvert_exporter": "python",
   "pygments_lexer": "ipython3",
   "version": "3.11.9"
  }
 },
 "nbformat": 4,
 "nbformat_minor": 2
}

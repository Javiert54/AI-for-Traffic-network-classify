version https://git-lfs.github.com/spec/v1
oid sha256:9e87fa1bb63cede027cd332d24174f9b795d58604d1700d6784eba9ae3021ac1
size 24082
